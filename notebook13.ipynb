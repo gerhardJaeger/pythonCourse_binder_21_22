{
 "cells": [
  {
   "cell_type": "markdown",
   "metadata": {
    "slideshow": {
     "slide_type": "slide"
    }
   },
   "source": [
    "# Methods I: Programming and Data Analysis\n",
    "\n",
    "## Session 13: Recursion; Jupyter notebooks; NumPy\n",
    "\n",
    "### Gerhard Jäger\n",
    "\n",
    "#### (based on Johannes Dellert's slides)\n",
    "\n",
    "February 1, 2022"
   ]
  },
  {
   "cell_type": "markdown",
   "metadata": {
    "slideshow": {
     "slide_type": "slide"
    }
   },
   "source": [
    "# Recursion\n",
    "\n",
    "A central concept of programming: **recursion**\n",
    "\n",
    "-   informally: a definition or function which refers to itself\n",
    "\n",
    "-   can be used whenever a problem (e.g. finding all sources of a river)\n",
    "    can be reduced to subproblems of the same type (e.g. finding the sources of a tributary)\n",
    "\n",
    "-   All loops can be implemented using recursion!\n",
    "\n",
    "-   Every recursive function can be implemented using iteration!\n",
    "\n",
    "-   BUT: there are many problems for which either iteration or recursion\n",
    "    is more efficient, or easier to implement"
   ]
  },
  {
   "cell_type": "markdown",
   "metadata": {
    "slideshow": {
     "slide_type": "slide"
    }
   },
   "source": [
    "### Base Case and Recursive Cases\n",
    "\n",
    "In computing, recursive definitions need to consist of two parts:\n",
    "\n",
    "-   the **base case** covers the simplest instances of a problem, and\n",
    "    does not refer to the concept being defined (ensures termination)\n",
    "\n",
    "-   the **recursive case** refers to the concept being defined when\n",
    "    describing substructures (expansion to structures of arbitrary size)\n",
    "\n",
    "There is a close relationship between recursion and mathematical\n",
    "induction!\n",
    "\n",
    "-   In induction, you prove that a theorem holds e.g. for $n = 1$ (the\n",
    "    base case), and that it holds for $n = k + 1$ if it already holds\n",
    "    for $n = k$ (recursive case).\n",
    "\n",
    "-   If you want to prove that a recursive algorithm gives the correct\n",
    "    result, you need induction as a proof technique!"
   ]
  },
  {
   "cell_type": "markdown",
   "metadata": {
    "slideshow": {
     "slide_type": "slide"
    }
   },
   "source": [
    "### Recursive Definitions\n",
    "\n",
    "Using recursion in definitions:\n",
    "\n",
    "-   **recursive definition**: a definition which uses the term it\n",
    "    defines\n",
    "\n",
    "-   Example: defining (a subset of) boolean expressions in Python\n",
    "\n",
    "    -   the expressions `True` and `False` are boolean expressions (base\n",
    "        case)\n",
    "\n",
    "    -   an expression of the form `a == b` is a boolean expression (base\n",
    "        case)\n",
    "\n",
    "    -   two boolean expressions conjoined by `and` form a boolean\n",
    "        expression (recursive case)\n",
    "\n",
    "    -   two boolean expressions conjoined by `or` form a boolean\n",
    "        expression (recursive case)\n",
    "\n",
    "    -   a boolean expression preceded by `not` is a boolean expression (recursive case)\n",
    "\n",
    "-   you have probably seen recursive definitions in logic!"
   ]
  },
  {
   "cell_type": "markdown",
   "metadata": {
    "slideshow": {
     "slide_type": "slide"
    }
   },
   "source": [
    "### Recursive Functions\n",
    "\n",
    "Using recursion in function definitions:\n",
    "\n",
    "-   **recursive function**: a function which calls itself\n",
    "\n",
    "-   if the function calls itself on every input, we get **infinite\n",
    "    recursion**\n",
    "\n",
    "-   in all useful recursive functions, each nested call differs in its\n",
    "    arguments (e.g. execution on subproblems)\n",
    "\n",
    "-   for recursive functions to terminate, we need base cases!"
   ]
  },
  {
   "cell_type": "markdown",
   "metadata": {
    "slideshow": {
     "slide_type": "slide"
    }
   },
   "source": [
    "### Recursion vs. Iteration\n",
    "\n",
    "-   in principle, recursion and iteration are equally powerful\\\n",
    "    (one can be used to emulate the other)\n",
    "\n",
    "-   however, there are many definitions and algorithms which are much\n",
    "    easier to write using recursion\n",
    "\n",
    "-   this is especially the case for processing data structures which\n",
    "    contain substructures of varying size (i.e. data that is not tabular\n",
    "    in shape)\n",
    "\n",
    "-   Examples:\n",
    "\n",
    "    -   processing syntax trees for programming languages (in a\n",
    "        compiler) and natural languages (in a parser)\n",
    "\n",
    "    -   processing more general graph structures like networks\n",
    "\n",
    "    -   sorting and searching in structures that are more complex than\n",
    "        lists or dictionaries (e.g. 3-D models)\n",
    "\n",
    "-   We are going to use navigation through trees as our main example!"
   ]
  },
  {
   "cell_type": "markdown",
   "metadata": {
    "slideshow": {
     "slide_type": "slide"
    }
   },
   "source": [
    "# Implementing Trees\n",
    "---------------\n",
    "\n",
    "### Tree Structures in Linguistics\n",
    "\n",
    "Trees are ubiquitous in linguistics:\n",
    "\n",
    "-   syllable structure trees\n",
    "\n",
    "-   word structure trees\n",
    "\n",
    "-   phrase structure trees\n",
    "\n",
    "-   dependency trees\n",
    "\n",
    "-   derivation trees\n",
    "\n",
    "-   formula structure trees"
   ]
  },
  {
   "cell_type": "markdown",
   "metadata": {
    "slideshow": {
     "slide_type": "slide"
    }
   },
   "source": [
    "### Tree Structures in Programming\n",
    "\n",
    "Trees are one of the most important data structures in computer science:\n",
    "\n",
    "-   the best way to maintain sorted records\n",
    "\n",
    "-   efficient retrieval and insertion of elements\n",
    "\n",
    "Important application areas where trees arise:\n",
    "\n",
    "-   directory structure on a file system\n",
    "\n",
    "-   program execution gives rise to call trees\n",
    "\n",
    "-   software packages depend on each other in a tree shape\n",
    "\n",
    "-   the search space of many algorithms is tree-shaped"
   ]
  },
  {
   "cell_type": "markdown",
   "metadata": {
    "slideshow": {
     "slide_type": "slide"
    }
   },
   "source": [
    "### Modeling Nodes\n",
    "\n",
    "Developing a simple tree class:\n",
    "\n",
    "-   each tree node should be the instance of a class `Node`\n",
    "\n",
    "-   the contents of a node (e.g. the category label in a syntax tree)\n",
    "    should be stored as an instance variable\n",
    "\n",
    "-   references to the children of the current node are stored in an\n",
    "    additional instance variable as a list (order matters!)\n",
    "\n",
    "-   a leaf node is modeled by empty children list\n",
    "\n",
    "-   the result is an example of a **recursive data structure**\n",
    "\n",
    "Actually, each `Node` corresponds to the `Tree` of which it forms the\n",
    "root!"
   ]
  },
  {
   "cell_type": "markdown",
   "metadata": {
    "slideshow": {
     "slide_type": "slide"
    }
   },
   "source": [
    "###  Modeling A Tree"
   ]
  },
  {
   "cell_type": "code",
   "execution_count": 1,
   "metadata": {},
   "outputs": [],
   "source": [
    "class Tree(object):\n",
    "    def __init__(self, name='root', children=None):\n",
    "        self.name = name\n",
    "        self.children = []\n",
    "        self.parent = None\n",
    "        if children is not None:\n",
    "            for child in children:\n",
    "                self.add_child(child)\n",
    "                child.parent = self\n",
    "\n",
    "    def add_child(self, node):\n",
    "        assert isinstance(node, Tree)\n",
    "        self.children.append(node)"
   ]
  },
  {
   "cell_type": "markdown",
   "metadata": {},
   "source": [
    "Notes:\n",
    "\n",
    "-   additional parent pointer makes upward navigation easier\n",
    "\n",
    "-   the trivial `Tree` does not have children,\\\n",
    "    representing a single node with the label `\"root\"`"
   ]
  },
  {
   "cell_type": "markdown",
   "metadata": {
    "slideshow": {
     "slide_type": "slide"
    }
   },
   "source": [
    "### Tree Traversal\n",
    "\n",
    "Traversals are an important part of processing trees:\n",
    "\n",
    "-   a **traversal** defines the order in which the nodes of a tree are\n",
    "    processed\n",
    "\n",
    "-   three logical possibilities:\n",
    "\n",
    "    -   **in-order** traversal (left child first, parent, then other\n",
    "        children)\n",
    "\n",
    "    -   **pre-order** traversal (parent first, then children from left\n",
    "        to right)\n",
    "\n",
    "    -   **post-order** traversal (children from left to right, then\n",
    "        parent)\n",
    "\n",
    "-   all three variants are easiest to implement as recursive functions\n",
    "\n",
    "\n"
   ]
  },
  {
   "cell_type": "markdown",
   "metadata": {
    "slideshow": {
     "slide_type": "slide"
    }
   },
   "source": [
    "### In-Order Traversal\n",
    "\n",
    "![image.png](_img/tree1.svg)\n",
    "\n",
    "In which order are nodes visited by an in-order traversal?"
   ]
  },
  {
   "cell_type": "markdown",
   "metadata": {
    "slideshow": {
     "slide_type": "slide"
    }
   },
   "source": [
    "### In-Order Traversal: Solution\n",
    "\n",
    "![image.png](_img/tree1.svg)\n",
    "\n",
    "\n",
    "Solution: B, A, F, D, G, H, C, E"
   ]
  },
  {
   "cell_type": "markdown",
   "metadata": {
    "slideshow": {
     "slide_type": "slide"
    }
   },
   "source": [
    "### In-Order Traversal: Code\n",
    "\n",
    "Implementation within the `Tree` class:"
   ]
  },
  {
   "cell_type": "code",
   "execution_count": 2,
   "metadata": {},
   "outputs": [],
   "source": [
    "def inorder(self):\n",
    "    \"\"\"In-order traversal:\n",
    "    First recurse into left child, then visit the node itself, \n",
    "    then recurse into other children in order.\n",
    "    \n",
    "    :return: A list of tree nodes in in-order.\"\"\"\n",
    "    result = []\n",
    "    if len(self.children) > 0:\n",
    "        result += self.children[0].inorder()\n",
    "    result.append(self)\n",
    "    for i in range(1,len(self.children)):\n",
    "        result += self.children[i].inorder()\n",
    "    return result"
   ]
  },
  {
   "cell_type": "markdown",
   "metadata": {
    "slideshow": {
     "slide_type": "slide"
    }
   },
   "source": [
    "### Pre-Order Traversal\n",
    "\n",
    "![image.png](_img/tree1.svg)\n",
    "\n",
    "In which order are nodes visited by a pre-order traversal?"
   ]
  },
  {
   "cell_type": "markdown",
   "metadata": {
    "slideshow": {
     "slide_type": "slide"
    }
   },
   "source": [
    "### Pre-Order Traversal: Solution\n",
    "![image.png](_img/tree1.svg)\n",
    "\n",
    "Solution: A, B, C, D, F, G, H, E\n"
   ]
  },
  {
   "cell_type": "markdown",
   "metadata": {
    "slideshow": {
     "slide_type": "slide"
    }
   },
   "source": [
    "### Post-Order Traversal\n",
    "\n",
    "![image.png](_img/tree1.svg)\n",
    "\n",
    "In which order are nodes visited by a pre-order traversal?"
   ]
  },
  {
   "cell_type": "markdown",
   "metadata": {
    "slideshow": {
     "slide_type": "slide"
    }
   },
   "source": [
    "### Post-Order Traversal: Solution\n",
    "\n",
    "![image.png](_img/tree1.svg)\n",
    "\n",
    "Solution: B, F, G, H, D, E, C, A"
   ]
  },
  {
   "cell_type": "markdown",
   "metadata": {
    "slideshow": {
     "slide_type": "slide"
    }
   },
   "source": [
    "### Jupyter notebooks\n",
    "\n",
    "-   browser-based environment for interactive computation\n",
    "\n",
    "-   relies on a *kernel* for the programming language you want to use\n",
    "\n",
    "-   there are kernels for Python, R, Julia etc.\n",
    "\n"
   ]
  },
  {
   "cell_type": "markdown",
   "metadata": {
    "slideshow": {
     "slide_type": "slide"
    }
   },
   "source": [
    "-   at the command prompt, type `jupyter notebook`\n",
    "\n",
    "-   a browser window will open\n",
    "\n",
    "-   select **new**, and then **Python 3**\n",
    "\n",
    "-   the text window acts like a Python console, but you can enter\n",
    "    multiple lines"
   ]
  },
  {
   "cell_type": "markdown",
   "metadata": {
    "slideshow": {
     "slide_type": "slide"
    }
   },
   "source": [
    "-   Jupyter notebooks are great for data analysis\n",
    "\n",
    "-   for actual programming, it is better to use Spyder or something\n",
    "    similar"
   ]
  },
  {
   "cell_type": "markdown",
   "metadata": {
    "slideshow": {
     "slide_type": "slide"
    }
   },
   "source": [
    "# The NumPy library\n",
    "\n",
    "(see http://cs231n.github.io/python-numpy-tutorial/ and https://docs.scipy.org/doc/numpy/user/quickstart.html)\n",
    "\n",
    "<sub>Numpy is the core library for scientific computing in Python. It provides a high-performance multidimensional array object, and tools for working with these arrays. \n",
    "\n",
    "## Arrays\n",
    "\n",
    "<sub>A numpy array is a grid of values, all of the same type, and is indexed by a tuple of nonnegative integers. The number of dimensions is the rank of the array; the shape of an array is a tuple of integers giving the size of the array along each dimension."
   ]
  },
  {
   "cell_type": "markdown",
   "metadata": {
    "slideshow": {
     "slide_type": "slide"
    }
   },
   "source": [
    "We can initialize numpy arrays from nested Python lists, and access elements using square brackets:"
   ]
  },
  {
   "cell_type": "code",
   "execution_count": 3,
   "metadata": {},
   "outputs": [],
   "source": [
    "import numpy as np"
   ]
  },
  {
   "cell_type": "code",
   "execution_count": 4,
   "metadata": {},
   "outputs": [
    {
     "name": "stdout",
     "output_type": "stream",
     "text": [
      "(3,)\n"
     ]
    }
   ],
   "source": [
    "a = np.array([1, 2, 3])   # Create a rank 1 array\n",
    "print(a.shape)"
   ]
  },
  {
   "cell_type": "code",
   "execution_count": 5,
   "metadata": {},
   "outputs": [
    {
     "name": "stdout",
     "output_type": "stream",
     "text": [
      "1 2 3\n"
     ]
    }
   ],
   "source": [
    "print(a[0], a[1], a[2])   "
   ]
  },
  {
   "cell_type": "code",
   "execution_count": 6,
   "metadata": {},
   "outputs": [
    {
     "name": "stdout",
     "output_type": "stream",
     "text": [
      "[5 2 3]\n"
     ]
    }
   ],
   "source": [
    "a[0] = 5                  # Change an element of the array\n",
    "print(a)                 "
   ]
  },
  {
   "cell_type": "code",
   "execution_count": 7,
   "metadata": {},
   "outputs": [],
   "source": [
    "b = np.array([[1,2,3],[4,5,6]])    # Create a rank 2 array# Prints \"(2, 3)\"\n"
   ]
  },
  {
   "cell_type": "code",
   "execution_count": 8,
   "metadata": {},
   "outputs": [
    {
     "name": "stdout",
     "output_type": "stream",
     "text": [
      "1 2 4\n"
     ]
    }
   ],
   "source": [
    "print(b[0, 0], b[0, 1], b[1, 0])  "
   ]
  },
  {
   "cell_type": "markdown",
   "metadata": {
    "slideshow": {
     "slide_type": "slide"
    }
   },
   "source": [
    "## An example"
   ]
  },
  {
   "cell_type": "code",
   "execution_count": 9,
   "metadata": {},
   "outputs": [
    {
     "data": {
      "text/plain": [
       "array([[ 0,  1,  2,  3,  4],\n",
       "       [ 5,  6,  7,  8,  9],\n",
       "       [10, 11, 12, 13, 14]])"
      ]
     },
     "execution_count": 9,
     "metadata": {},
     "output_type": "execute_result"
    }
   ],
   "source": [
    "a = np.arange(15).reshape(3, 5)\n",
    "a"
   ]
  },
  {
   "cell_type": "code",
   "execution_count": 10,
   "metadata": {},
   "outputs": [
    {
     "data": {
      "text/plain": [
       "(3, 5)"
      ]
     },
     "execution_count": 10,
     "metadata": {},
     "output_type": "execute_result"
    }
   ],
   "source": [
    "a.shape"
   ]
  },
  {
   "cell_type": "code",
   "execution_count": 11,
   "metadata": {},
   "outputs": [
    {
     "data": {
      "text/plain": [
       "2"
      ]
     },
     "execution_count": 11,
     "metadata": {},
     "output_type": "execute_result"
    }
   ],
   "source": [
    "a.ndim"
   ]
  },
  {
   "cell_type": "code",
   "execution_count": 12,
   "metadata": {},
   "outputs": [
    {
     "data": {
      "text/plain": [
       "'int64'"
      ]
     },
     "execution_count": 12,
     "metadata": {},
     "output_type": "execute_result"
    }
   ],
   "source": [
    "a.dtype.name"
   ]
  },
  {
   "cell_type": "code",
   "execution_count": 13,
   "metadata": {},
   "outputs": [
    {
     "data": {
      "text/plain": [
       "8"
      ]
     },
     "execution_count": 13,
     "metadata": {},
     "output_type": "execute_result"
    }
   ],
   "source": [
    "a.itemsize"
   ]
  },
  {
   "cell_type": "code",
   "execution_count": 14,
   "metadata": {
    "slideshow": {
     "slide_type": "slide"
    }
   },
   "outputs": [
    {
     "data": {
      "text/plain": [
       "15"
      ]
     },
     "execution_count": 14,
     "metadata": {},
     "output_type": "execute_result"
    }
   ],
   "source": [
    "a.size"
   ]
  },
  {
   "cell_type": "code",
   "execution_count": 15,
   "metadata": {},
   "outputs": [
    {
     "data": {
      "text/plain": [
       "numpy.ndarray"
      ]
     },
     "execution_count": 15,
     "metadata": {},
     "output_type": "execute_result"
    }
   ],
   "source": [
    "type(a)"
   ]
  },
  {
   "cell_type": "code",
   "execution_count": 16,
   "metadata": {},
   "outputs": [
    {
     "data": {
      "text/plain": [
       "array([6, 7, 8])"
      ]
     },
     "execution_count": 16,
     "metadata": {},
     "output_type": "execute_result"
    }
   ],
   "source": [
    "b = np.array([6, 7, 8])\n",
    "b"
   ]
  },
  {
   "cell_type": "code",
   "execution_count": 17,
   "metadata": {},
   "outputs": [
    {
     "data": {
      "text/plain": [
       "numpy.ndarray"
      ]
     },
     "execution_count": 17,
     "metadata": {},
     "output_type": "execute_result"
    }
   ],
   "source": [
    "type(b)"
   ]
  },
  {
   "cell_type": "markdown",
   "metadata": {
    "slideshow": {
     "slide_type": "slide"
    }
   },
   "source": [
    "## Creating arrays\n",
    "\n",
    "There are several ways to create arrays.\n",
    "\n",
    "For example, you can create an array from a regular Python list or tuple using the array function. The type of the resulting array is deduced from the type of the elements in the sequences."
   ]
  },
  {
   "cell_type": "code",
   "execution_count": 18,
   "metadata": {},
   "outputs": [
    {
     "name": "stdout",
     "output_type": "stream",
     "text": [
      "[2 3 4]\n"
     ]
    }
   ],
   "source": [
    "a = np.array([2, 3, 4])\n",
    "print(a)"
   ]
  },
  {
   "cell_type": "code",
   "execution_count": 19,
   "metadata": {},
   "outputs": [
    {
     "data": {
      "text/plain": [
       "dtype('int64')"
      ]
     },
     "execution_count": 19,
     "metadata": {},
     "output_type": "execute_result"
    }
   ],
   "source": [
    "a.dtype"
   ]
  },
  {
   "cell_type": "code",
   "execution_count": 20,
   "metadata": {},
   "outputs": [
    {
     "data": {
      "text/plain": [
       "dtype('float64')"
      ]
     },
     "execution_count": 20,
     "metadata": {},
     "output_type": "execute_result"
    }
   ],
   "source": [
    "b = np.array([1.2, 3.5, 5.1])\n",
    "b.dtype"
   ]
  },
  {
   "cell_type": "markdown",
   "metadata": {
    "slideshow": {
     "slide_type": "slide"
    }
   },
   "source": [
    "`array` transforms sequences of sequences into two-dimensional arrays, sequences of sequences of sequences into three-dimensional arrays, and so on."
   ]
  },
  {
   "cell_type": "code",
   "execution_count": 21,
   "metadata": {},
   "outputs": [
    {
     "name": "stdout",
     "output_type": "stream",
     "text": [
      "[[1.5 2.  3. ]\n",
      " [4.  5.  6. ]]\n"
     ]
    }
   ],
   "source": [
    "b = np.array([(1.5, 2, 3), (4, 5, 6)])\n",
    "print(b)"
   ]
  },
  {
   "cell_type": "markdown",
   "metadata": {},
   "source": [
    "The type of the array can also be explicitly specified at creation time:"
   ]
  },
  {
   "cell_type": "code",
   "execution_count": 22,
   "metadata": {},
   "outputs": [
    {
     "name": "stdout",
     "output_type": "stream",
     "text": [
      "[[1.+0.j 2.+0.j]\n",
      " [3.+0.j 4.+0.j]]\n"
     ]
    }
   ],
   "source": [
    "c = np.array( [ [1,2], [3,4] ], dtype=complex )\n",
    "print(c)"
   ]
  },
  {
   "cell_type": "markdown",
   "metadata": {
    "slideshow": {
     "slide_type": "slide"
    }
   },
   "source": [
    "Often, the elements of an array are originally unknown, but its size is known. Hence, NumPy offers several functions to create arrays with initial placeholder content. These minimize the necessity of growing arrays, an expensive operation.\n",
    "\n",
    "The function `zeros` creates an array full of zeros, the function `ones` creates an array full of ones, and the function empty creates an array whose initial content is random and depends on the state of the memory. By default, the dtype of the created array is `float64`."
   ]
  },
  {
   "cell_type": "code",
   "execution_count": 23,
   "metadata": {},
   "outputs": [
    {
     "data": {
      "text/plain": [
       "array([[0., 0., 0., 0.],\n",
       "       [0., 0., 0., 0.],\n",
       "       [0., 0., 0., 0.]])"
      ]
     },
     "execution_count": 23,
     "metadata": {},
     "output_type": "execute_result"
    }
   ],
   "source": [
    "np.zeros((3,4))"
   ]
  },
  {
   "cell_type": "code",
   "execution_count": 24,
   "metadata": {
    "slideshow": {
     "slide_type": "slide"
    }
   },
   "outputs": [
    {
     "data": {
      "text/plain": [
       "array([[[1, 1, 1, 1],\n",
       "        [1, 1, 1, 1],\n",
       "        [1, 1, 1, 1]],\n",
       "\n",
       "       [[1, 1, 1, 1],\n",
       "        [1, 1, 1, 1],\n",
       "        [1, 1, 1, 1]]], dtype=int16)"
      ]
     },
     "execution_count": 24,
     "metadata": {},
     "output_type": "execute_result"
    }
   ],
   "source": [
    "np.ones((2,3,4), dtype=np.int16)"
   ]
  },
  {
   "cell_type": "code",
   "execution_count": 25,
   "metadata": {},
   "outputs": [
    {
     "data": {
      "text/plain": [
       "array([[1.5, 2. , 3. ],\n",
       "       [4. , 5. , 6. ]])"
      ]
     },
     "execution_count": 25,
     "metadata": {},
     "output_type": "execute_result"
    }
   ],
   "source": [
    "np.empty((2,3))"
   ]
  },
  {
   "cell_type": "markdown",
   "metadata": {},
   "source": [
    "To create sequences of numbers, NumPy provides a function analogous to `range` that returns arrays instead of lists."
   ]
  },
  {
   "cell_type": "code",
   "execution_count": 26,
   "metadata": {},
   "outputs": [
    {
     "data": {
      "text/plain": [
       "array([10, 15, 20, 25])"
      ]
     },
     "execution_count": 26,
     "metadata": {},
     "output_type": "execute_result"
    }
   ],
   "source": [
    "np.arange( 10, 30, 5 )"
   ]
  },
  {
   "cell_type": "code",
   "execution_count": 27,
   "metadata": {
    "slideshow": {
     "slide_type": "slide"
    }
   },
   "outputs": [
    {
     "data": {
      "text/plain": [
       "array([0. , 0.3, 0.6, 0.9, 1.2, 1.5, 1.8])"
      ]
     },
     "execution_count": 27,
     "metadata": {},
     "output_type": "execute_result"
    }
   ],
   "source": [
    "np.arange( 0, 2, 0.3 )  "
   ]
  }
 ],
 "metadata": {
  "@webio": {
   "lastCommId": null,
   "lastKernelId": null
  },
  "celltoolbar": "Slideshow",
  "kernelspec": {
   "display_name": "Python 3 (ipykernel)",
   "language": "python",
   "name": "python3"
  },
  "language_info": {
   "codemirror_mode": {
    "name": "ipython",
    "version": 3
   },
   "file_extension": ".py",
   "mimetype": "text/x-python",
   "name": "python",
   "nbconvert_exporter": "python",
   "pygments_lexer": "ipython3",
   "version": "3.9.7"
  },
  "latex_envs": {
   "LaTeX_envs_menu_present": true,
   "autoclose": false,
   "autocomplete": true,
   "bibliofile": "biblio.bib",
   "cite_by": "apalike",
   "current_citInitial": 1,
   "eqLabelWithNumbers": true,
   "eqNumInitial": 1,
   "hotkeys": {
    "equation": "Ctrl-E",
    "itemize": "Ctrl-I"
   },
   "labels_anchors": false,
   "latex_user_defs": false,
   "report_style_numbering": false,
   "user_envs_cfg": false
  },
  "rise": {
   "enable_chalkboard": true
  }
 },
 "nbformat": 4,
 "nbformat_minor": 4
}
