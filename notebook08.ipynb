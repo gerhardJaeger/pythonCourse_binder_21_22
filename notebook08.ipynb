{
 "cells": [
  {
   "cell_type": "markdown",
   "metadata": {},
   "source": [
    "# Methods I: Programming and Data Analysis\n",
    "\n",
    "## Session 08: Advanced Formatting; File Formats; Finishing the Basics\n",
    "\n",
    "### Gerhard Jäger\n",
    "\n",
    "#### (based on Johannes Dellert's slides)\n",
    "\n",
    "December 14, 2021"
   ]
  },
  {
   "cell_type": "markdown",
   "metadata": {
    "slideshow": {
     "slide_type": "slide"
    }
   },
   "source": [
    "Advanced formatting using `format()`:\n",
    "\n",
    "-   **formatting templates** are stored in a specialized string format\n",
    "\n",
    "-   basic principles:\n",
    "\n",
    "    -   every object to be rendered is repesented by a block in curly\n",
    "        brackets\n",
    "\n",
    "    -   symbols outside curly brackets are copied into the output\n",
    "\n",
    "-   useful basic features:\n",
    "\n",
    "    -   **padding** to a desired length $k$ using\n",
    "        `:k` (left alignment), `:^k` (center alignment), or `:>k` (right\n",
    "        alignment)\n",
    "\n",
    "    -   **truncating** to a desired length $k$ using `.k` (combines with\n",
    "        padding)\n",
    "\n",
    "    -   **integer format** `:d` which allows padding\n",
    "\n",
    "    -   **float format** `:f` which allows padding and specifying a\n",
    "        precision,\n",
    "        e.g. `{:06.2f}` to output 3.245 as `\"003.42\"`\n",
    "\n",
    "-   more information on `https://pyformat.info`"
   ]
  },
  {
   "cell_type": "markdown",
   "metadata": {
    "slideshow": {
     "slide_type": "slide"
    }
   },
   "source": [
    "### Advanced Formatting\n",
    "\n",
    "Example of `format()` usage:\n",
    "\n",
    "- to format a sequence of objects, apply the `format()` method on the\n",
    "template string with the objects as arguments:"
   ]
  },
  {
   "cell_type": "markdown",
   "metadata": {},
   "source": [
    "## base case"
   ]
  },
  {
   "cell_type": "code",
   "execution_count": 1,
   "metadata": {},
   "outputs": [
    {
     "data": {
      "text/plain": [
       "'one two'"
      ]
     },
     "execution_count": 1,
     "metadata": {},
     "output_type": "execute_result"
    }
   ],
   "source": [
    "'{} {}'.format('one', 'two')\n"
   ]
  },
  {
   "cell_type": "code",
   "execution_count": 2,
   "metadata": {},
   "outputs": [
    {
     "data": {
      "text/plain": [
       "'1 2'"
      ]
     },
     "execution_count": 2,
     "metadata": {},
     "output_type": "execute_result"
    }
   ],
   "source": [
    "'{} {}'.format(1, 2)\n"
   ]
  },
  {
   "cell_type": "markdown",
   "metadata": {},
   "source": [
    "## numbered placeholders"
   ]
  },
  {
   "cell_type": "code",
   "execution_count": 3,
   "metadata": {},
   "outputs": [
    {
     "data": {
      "text/plain": [
       "'two one'"
      ]
     },
     "execution_count": 3,
     "metadata": {},
     "output_type": "execute_result"
    }
   ],
   "source": [
    "'{1} {0}'.format('one', 'two')"
   ]
  },
  {
   "cell_type": "markdown",
   "metadata": {
    "slideshow": {
     "slide_type": "slide"
    }
   },
   "source": [
    "## padding"
   ]
  },
  {
   "cell_type": "code",
   "execution_count": 4,
   "metadata": {},
   "outputs": [
    {
     "data": {
      "text/plain": [
       "'test      '"
      ]
     },
     "execution_count": 4,
     "metadata": {},
     "output_type": "execute_result"
    }
   ],
   "source": [
    "'{:10}'.format('test')\n"
   ]
  },
  {
   "cell_type": "code",
   "execution_count": 5,
   "metadata": {},
   "outputs": [
    {
     "data": {
      "text/plain": [
       "'   test   '"
      ]
     },
     "execution_count": 5,
     "metadata": {},
     "output_type": "execute_result"
    }
   ],
   "source": [
    "'{:^10}'.format('test')\n"
   ]
  },
  {
   "cell_type": "code",
   "execution_count": 6,
   "metadata": {},
   "outputs": [
    {
     "data": {
      "text/plain": [
       "'      test'"
      ]
     },
     "execution_count": 6,
     "metadata": {},
     "output_type": "execute_result"
    }
   ],
   "source": [
    "'{:>10}'.format('test')\n"
   ]
  },
  {
   "cell_type": "code",
   "execution_count": 7,
   "metadata": {},
   "outputs": [
    {
     "data": {
      "text/plain": [
       "'test______'"
      ]
     },
     "execution_count": 7,
     "metadata": {},
     "output_type": "execute_result"
    }
   ],
   "source": [
    "'{:_<10}'.format('test')\n"
   ]
  },
  {
   "cell_type": "markdown",
   "metadata": {
    "slideshow": {
     "slide_type": "slide"
    }
   },
   "source": [
    "## specifying data type"
   ]
  },
  {
   "cell_type": "code",
   "execution_count": 8,
   "metadata": {},
   "outputs": [
    {
     "data": {
      "text/plain": [
       "'42'"
      ]
     },
     "execution_count": 8,
     "metadata": {},
     "output_type": "execute_result"
    }
   ],
   "source": [
    "'{:d}'.format(42)"
   ]
  },
  {
   "cell_type": "code",
   "execution_count": 9,
   "metadata": {},
   "outputs": [
    {
     "data": {
      "text/plain": [
       "'42.000000'"
      ]
     },
     "execution_count": 9,
     "metadata": {},
     "output_type": "execute_result"
    }
   ],
   "source": [
    "'{:f}'.format(42)"
   ]
  },
  {
   "cell_type": "code",
   "execution_count": 10,
   "metadata": {},
   "outputs": [
    {
     "ename": "ValueError",
     "evalue": "Unknown format code 'd' for object of type 'str'",
     "output_type": "error",
     "traceback": [
      "\u001b[0;31m---------------------------------------------------------------------------\u001b[0m",
      "\u001b[0;31mValueError\u001b[0m                                Traceback (most recent call last)",
      "\u001b[0;32m/tmp/ipykernel_30128/2948143914.py\u001b[0m in \u001b[0;36m<module>\u001b[0;34m\u001b[0m\n\u001b[0;32m----> 1\u001b[0;31m \u001b[0;34m'{:d}'\u001b[0m\u001b[0;34m.\u001b[0m\u001b[0mformat\u001b[0m\u001b[0;34m(\u001b[0m\u001b[0;34m\"test\"\u001b[0m\u001b[0;34m)\u001b[0m\u001b[0;34m\u001b[0m\u001b[0;34m\u001b[0m\u001b[0m\n\u001b[0m",
      "\u001b[0;31mValueError\u001b[0m: Unknown format code 'd' for object of type 'str'"
     ]
    }
   ],
   "source": [
    "'{:d}'.format(\"test\")"
   ]
  },
  {
   "cell_type": "code",
   "execution_count": 11,
   "metadata": {},
   "outputs": [
    {
     "data": {
      "text/plain": [
       "'test'"
      ]
     },
     "execution_count": 11,
     "metadata": {},
     "output_type": "execute_result"
    }
   ],
   "source": [
    "'{:s}'.format(\"test\")"
   ]
  },
  {
   "cell_type": "markdown",
   "metadata": {
    "slideshow": {
     "slide_type": "slide"
    }
   },
   "source": [
    "## precision for floats"
   ]
  },
  {
   "cell_type": "code",
   "execution_count": 12,
   "metadata": {},
   "outputs": [
    {
     "data": {
      "text/plain": [
       "'  3.14'"
      ]
     },
     "execution_count": 12,
     "metadata": {},
     "output_type": "execute_result"
    }
   ],
   "source": [
    "'{:6.2f}'.format(3.141592653589793)\n"
   ]
  },
  {
   "cell_type": "code",
   "execution_count": 13,
   "metadata": {},
   "outputs": [
    {
     "data": {
      "text/plain": [
       "'003.14'"
      ]
     },
     "execution_count": 13,
     "metadata": {},
     "output_type": "execute_result"
    }
   ],
   "source": [
    "'{:06.2f}'.format(3.141592653589793)\n"
   ]
  },
  {
   "cell_type": "markdown",
   "metadata": {
    "slideshow": {
     "slide_type": "slide"
    }
   },
   "source": [
    "- templates can be stored in a variable\n"
   ]
  },
  {
   "cell_type": "code",
   "execution_count": 14,
   "metadata": {},
   "outputs": [],
   "source": [
    "result_template = \"{:20s}: {:6.2f} {:6.2f}\""
   ]
  },
  {
   "cell_type": "code",
   "execution_count": 15,
   "metadata": {},
   "outputs": [
    {
     "data": {
      "text/plain": [
       "'Pruta Govvom        :   2.50   4.70'"
      ]
     },
     "execution_count": 15,
     "metadata": {},
     "output_type": "execute_result"
    }
   ],
   "source": [
    "result_template.format(\"Pruta Govvom\", 2.5, 4.7)"
   ]
  },
  {
   "cell_type": "markdown",
   "metadata": {
    "slideshow": {
     "slide_type": "-"
    }
   },
   "source": [
    "- format() expects parts as separate arguments, which requires **unpacking** using `*` when applied to sequence objects:"
   ]
  },
  {
   "cell_type": "code",
   "execution_count": 16,
   "metadata": {},
   "outputs": [],
   "source": [
    "results = [(\"Pruta Govvom\", 2.5, 4.7), (\"Prokanayardan Tum\", 0.4, 3), (\"Mara Tsirpalandani\", 1.15, 0.01)]"
   ]
  },
  {
   "cell_type": "code",
   "execution_count": 17,
   "metadata": {},
   "outputs": [
    {
     "name": "stdout",
     "output_type": "stream",
     "text": [
      "Pruta Govvom        :   2.50   4.70\n",
      "Prokanayardan Tum   :   0.40   3.00\n",
      "Mara Tsirpalandani  :   1.15   0.01\n"
     ]
    }
   ],
   "source": [
    "for result in results:\n",
    "    print(result_template.format(*result))"
   ]
  },
  {
   "cell_type": "markdown",
   "metadata": {
    "slideshow": {
     "slide_type": "slide"
    }
   },
   "source": [
    "### Exception Handling\n",
    "\n",
    "File I/O is where **exception handling** becomes important:\n",
    "\n",
    "-   files might not exist (`FileNotFoundError`)\n",
    "\n",
    "-   files might not have the correct permissions (`PermissionError`)\n",
    "\n",
    "-   the storage device might run out of space (`IOError`)\n",
    "\n",
    "A good program will catch all of these **exceptions**, and fail\n",
    "graciously!"
   ]
  },
  {
   "cell_type": "markdown",
   "metadata": {
    "slideshow": {
     "slide_type": "slide"
    }
   },
   "source": [
    "### Exception Handling: The `try` construct\n",
    "\n",
    "Syntax of the `try` construct:\n",
    "\n",
    "-   all the statements which could raise exceptions are wrapped in a\n",
    "    `try` block, which prevents crashes when an exception occurs\n",
    "\n",
    "-   following `except` blocks can catch different pre-defined error\n",
    "    types, and define how each type of error is handled\n",
    "\n",
    "-   a `finally` block contains the statements which will be executed in\n",
    "    any case, whether the `try` block was exited via an exception or not\n"
   ]
  },
  {
   "cell_type": "markdown",
   "metadata": {
    "slideshow": {
     "slide_type": "slide"
    }
   },
   "source": [
    "-   Example: (from https://www.geeksforgeeks.org/try-except-else-and-finally-in-python/)"
   ]
  },
  {
   "cell_type": "code",
   "execution_count": 18,
   "metadata": {},
   "outputs": [],
   "source": [
    "def divide(x, y):  \n",
    "    try:  \n",
    "        # Floor Division : Gives only Fractional  \n",
    "        # Part as Answer  \n",
    "        result = x // y  \n",
    "    except ZeroDivisionError:  \n",
    "        print(\"Sorry! You are dividing by zero\")  \n",
    "    else: \n",
    "        print(\"Yeah! Your answer is:\", result)  \n",
    "    finally:   \n",
    "        # this block is always executed    \n",
    "        # regardless of exception generation.   \n",
    "        print('This is always executed')    "
   ]
  },
  {
   "cell_type": "code",
   "execution_count": 19,
   "metadata": {},
   "outputs": [
    {
     "name": "stdout",
     "output_type": "stream",
     "text": [
      "Yeah! Your answer is: 0\n",
      "This is always executed\n"
     ]
    }
   ],
   "source": [
    "divide(1,10)"
   ]
  },
  {
   "cell_type": "code",
   "execution_count": 20,
   "metadata": {},
   "outputs": [
    {
     "name": "stdout",
     "output_type": "stream",
     "text": [
      "Sorry! You are dividing by zero\n",
      "This is always executed\n"
     ]
    }
   ],
   "source": [
    "divide(1, 0)"
   ]
  },
  {
   "cell_type": "markdown",
   "metadata": {
    "slideshow": {
     "slide_type": "slide"
    }
   },
   "source": [
    "- Exception handling is important in connection with file operations. \n",
    "- Whenever you open a file, you need to close it no matter what!\n",
    "- a `try`-`except`-`finally` construction with unspecified exception type can guarantee that"
   ]
  },
  {
   "cell_type": "code",
   "execution_count": 24,
   "metadata": {},
   "outputs": [
    {
     "name": "stdout",
     "output_type": "stream",
     "text": [
      "something bad happened\n",
      "this is executed regardless\n"
     ]
    }
   ],
   "source": [
    "try:\n",
    "    f = open(\"some_text.txt\")\n",
    "    text = f.write(\"whatever\")\n",
    "except:\n",
    "    print(\"something bad happened\")\n",
    "#    1/0\n",
    "finally:\n",
    "    print(\"this is executed regardless\")\n",
    "    f.close()"
   ]
  },
  {
   "cell_type": "markdown",
   "metadata": {
    "slideshow": {
     "slide_type": "slide"
    }
   },
   "source": [
    "### Exception Handling: The `with` construct\n",
    "\n",
    "Another option is to open files in a `with` block:\n",
    "\n",
    "-   the clean-up procedure of the object (e.g. a file handle) will be\n",
    "    executed whether an exception is raised or not\n",
    "\n",
    "-   in the case of a file handle, the clean-up procedure includes\n",
    "    `close()`\n",
    "\n",
    "-   exceptions will not be handled, but percolated up to any surrounding\n",
    "    `try` blocks (terminating the program in absence of matching\n",
    "    `except`)\n",
    "\n",
    "-   example:"
   ]
  },
  {
   "cell_type": "code",
   "execution_count": 25,
   "metadata": {},
   "outputs": [
    {
     "ename": "UnsupportedOperation",
     "evalue": "not writable",
     "output_type": "error",
     "traceback": [
      "\u001b[0;31m---------------------------------------------------------------------------\u001b[0m",
      "\u001b[0;31mUnsupportedOperation\u001b[0m                      Traceback (most recent call last)",
      "\u001b[0;32m/tmp/ipykernel_30128/753846448.py\u001b[0m in \u001b[0;36m<module>\u001b[0;34m\u001b[0m\n\u001b[1;32m      1\u001b[0m \u001b[0;32mwith\u001b[0m \u001b[0mopen\u001b[0m\u001b[0;34m(\u001b[0m\u001b[0;34m\"some_text.txt\"\u001b[0m\u001b[0;34m)\u001b[0m \u001b[0;32mas\u001b[0m \u001b[0mf\u001b[0m\u001b[0;34m:\u001b[0m\u001b[0;34m\u001b[0m\u001b[0;34m\u001b[0m\u001b[0m\n\u001b[0;32m----> 2\u001b[0;31m     \u001b[0mf\u001b[0m\u001b[0;34m.\u001b[0m\u001b[0mwrite\u001b[0m\u001b[0;34m(\u001b[0m\u001b[0;34m\"more text\"\u001b[0m\u001b[0;34m)\u001b[0m\u001b[0;34m\u001b[0m\u001b[0;34m\u001b[0m\u001b[0m\n\u001b[0m\u001b[1;32m      3\u001b[0m \u001b[0mprint\u001b[0m\u001b[0;34m(\u001b[0m\u001b[0mfile_contents\u001b[0m\u001b[0;34m)\u001b[0m\u001b[0;34m\u001b[0m\u001b[0;34m\u001b[0m\u001b[0m\n",
      "\u001b[0;31mUnsupportedOperation\u001b[0m: not writable"
     ]
    }
   ],
   "source": [
    "with open(\"some_text.txt\") as f:\n",
    "    f.write(\"more text\")\n",
    "print(file_contents)"
   ]
  },
  {
   "cell_type": "markdown",
   "metadata": {
    "slideshow": {
     "slide_type": "slide"
    }
   },
   "source": [
    "### File Formats: Introduction\n",
    "\n",
    "A range of file formats is commonly used for data exchange:\n",
    "\n",
    "-   Tab-Separated Values (TSV) or Comma-Separated Values (CSV) for\n",
    "    tabular data (i.e. for datapoints consisting of values for\n",
    "    predefined fields)\n",
    "\n",
    "-   Extensible Markup Language (XML) for hierarchically structured data\n",
    "    where format checking is necessary\n",
    "\n",
    "-   JavaScript Object Notation (JSON) for uncomplicated data exchange\n",
    "    between programs\n",
    "\n",
    "-   various binary formats (database files, matrices)\n",
    "\n",
    "\n",
    "-----------------"
   ]
  },
  {
   "cell_type": "markdown",
   "metadata": {
    "slideshow": {
     "slide_type": "slide"
    }
   },
   "source": [
    "### File Formats: CSV and TSV\n",
    "\n",
    "Basics of CSV and TSV formats:\n",
    "\n",
    "-   first line (the **header**): field names\n",
    "\n",
    "-   one entry per line\n",
    "\n",
    "-   field values separated by one designated delimiter, common choices:\n",
    "\n",
    "    -   the tab character (TSV format, ending .tsv)\n",
    "\n",
    "    -   the comma (CSV format, ending .csv)\n",
    "\n",
    "    -   the space (many formats)\n",
    "\n",
    "-   if the delimiter occurs inside a field value, the value needs to be\n",
    "    surrounded by double quotes; tools automatically handle this\n",
    "\n",
    "-   parsing can be done via `split()`, but more safely via the `csv`\n",
    "    module"
   ]
  },
  {
   "cell_type": "markdown",
   "metadata": {
    "slideshow": {
     "slide_type": "slide"
    }
   },
   "source": [
    "### File Formats: CSV Example\n",
    "\n",
    "    Country,Demonym,Internet TLD,Capital\n",
    "    Afghanistan,Afghan,.af,Kabul\n",
    "    Albania,Albanian,.al,Tirana\n",
    "    Algeria,Algerian,.dz,Algier\n",
    "    Andorra,Andorran,.ad,Andorra la Vella\n",
    "    Angola,Angolan,.ao,Luanda\n",
    "    Antigua and Barbuda,\"Antiguan, Barbudan\",.ag,St John's\n",
    "    Argentina,Argentine,.ar,Buenos Aires\n",
    "    Armenia,Armenian,.am,Yerevan"
   ]
  },
  {
   "cell_type": "markdown",
   "metadata": {
    "slideshow": {
     "slide_type": "slide"
    }
   },
   "source": [
    "### File Formats: XML\n",
    "\n",
    "Basics of the **Extensible Markup Language (XML)**:\n",
    "\n",
    "-   data is structured by user-defined **tags** like `<country>`\n",
    "\n",
    "-   textual data is stored in **elements**: `<tag>`*text*`</tag>`\n",
    "\n",
    "-   elements can have **attributes**: `<country id=\"AF\">`\n",
    "\n",
    "-   elements can contain other elements (nested structure)\n",
    "\n",
    "XML processing:\n",
    "\n",
    "-   very complex, do not try this on your own!\n",
    "\n",
    "-   `xml.dom` module for representing the entire document in memory\n",
    "    (good for manipulating and saving again as XML)\n",
    "\n",
    "-   `xml.sax` for sequential processing (good for summarizing huge\n",
    "    files)"
   ]
  },
  {
   "cell_type": "markdown",
   "metadata": {
    "slideshow": {
     "slide_type": "slide"
    }
   },
   "source": [
    "### File Formats: XML Example\n",
    "\n",
    "    <?xml version=\"1.0\" encoding=\"UTF-8\" standalone=\"yes\"?>\n",
    "    <countryDatabase>\n",
    "      <country id=\"AF\">\n",
    "        <name>Afghanistan</name>\n",
    "        <province id=\"BDS\">\n",
    "          <name>Badakhshan</name>\n",
    "          <capital>Fayzabad</capital>\n",
    "        </province>\n",
    "        <province id=\"BDG\">\n",
    "          <name>Badghis</name>\n",
    "          <capital>Qala i Naw</capital>\n",
    "        </province>\n",
    "        ...\n",
    "      </country>\n",
    "      ...\n",
    "    </countryDatabase>\n",
    "\n",
    "\n",
    "----"
   ]
  },
  {
   "cell_type": "markdown",
   "metadata": {
    "slideshow": {
     "slide_type": "slide"
    }
   },
   "source": [
    "### File Formats: JSON\n",
    "\n",
    "Basics of the **JavaScript Object Notation (JSON)**:\n",
    "\n",
    "-   structured data represented using arrays and key-value pairs\n",
    "\n",
    "-   syntax is virtually identical to Python literals!\n",
    "\n",
    "-   whitespace is irrelevant\n",
    "\n",
    "JSON processing:\n",
    "\n",
    "-   some subtle differences mean that not every Python literal can\n",
    "    directly be interpreted as JSON, and vice versa\\\n",
    "    (e.g. no support for tuples, both correspond to arrays)\n",
    "\n",
    "-   `json` module can dump any nested data structure to a JSON file, and\n",
    "    load such a structure from a file"
   ]
  },
  {
   "cell_type": "markdown",
   "metadata": {
    "slideshow": {
     "slide_type": "slide"
    }
   },
   "source": [
    "### File Formats: JSON Example\n",
    "\n",
    "    [{\"ID\": \"AF\",\n",
    "      \"Name\": \"Afghanistan\",\n",
    "      \"Provinces\":\n",
    "      [{\"ID\": \"BDS\", \"Name\": \"Badakshan\", \"Capital\": \"Fayzabad\"},\n",
    "       {\"ID\": \"BDG\", \"Name\": \"Badghis\", \"Capital\": \"Qala i Naw\"},\n",
    "       ...\n",
    "      ]\n",
    "     },\n",
    "     {\"ID\": \"AL\",\n",
    "      \"Name\": \"Albania\",\n",
    "       ...\n",
    "     },\n",
    "     ...\n",
    "    ]\n"
   ]
  },
  {
   "cell_type": "markdown",
   "metadata": {
    "slideshow": {
     "slide_type": "slide"
    }
   },
   "source": [
    "### File Formats: Binary Formats\n",
    "\n",
    "Many proprietary programs use **binary formats**:\n",
    "\n",
    "-   free-form byte sequences of any shape\n",
    "\n",
    "-   more efficient, especially for non-string data\n",
    "\n",
    "-   difficult to process\n",
    "\n",
    "-   example 1: encrypted files\n",
    "\n",
    "-   example 2: compressed files (e.g. DOCX and ODT formats)\n",
    "\n",
    "-   example 3: media files (PDF, MP3, \\...)"
   ]
  },
  {
   "cell_type": "markdown",
   "metadata": {
    "slideshow": {
     "slide_type": "slide"
    }
   },
   "source": [
    "### Encodings: Overview\n",
    "\n",
    "What is an **encoding**?\n",
    "\n",
    "-   intuitively: a mapping from characters to bit sequences\n",
    "\n",
    "-   example: `\"A\"` is `01000001`, `\"B\"` is `01000010`\n",
    "\n",
    "-   every text file encodes characters according to an encoding\n",
    "\n",
    "Most relevant encodings today:\n",
    "\n",
    "-   ASCII 7-Bit encoding (English only)\n",
    "\n",
    "-   ISO 8-Bit encodings (alphabets only)\n",
    "\n",
    "-   UTF-8 Unicode (all writing systems)\n",
    "\n"
   ]
  },
  {
   "cell_type": "markdown",
   "metadata": {
    "slideshow": {
     "slide_type": "slide"
    }
   },
   "source": [
    "Encodings in Python 3:\n",
    "\n",
    "-   by default, strings in Python are encoded in UTF-8\n",
    "\n",
    "-   if you work with files in UTF-8, you should not run into problems"
   ]
  },
  {
   "cell_type": "markdown",
   "metadata": {
    "slideshow": {
     "slide_type": "slide"
    }
   },
   "source": [
    "ASCII Encoding\n",
    "--------------\n",
    "\n",
    "ASCIIBasics Basic facts about **ASCII** encoding:\n",
    "\n",
    "-   arose from need for standardized encoding in late 1960s\n",
    "\n",
    "-   defined by ASA (American Standard Association) in multiple revisions\n",
    "\n",
    "-   ASCII: **American Standard Code for Information Interchange**\n",
    "\n",
    "-   wide range of control characters\n",
    "\n",
    "-   limited to uppercase and lowercase English alphabet\n",
    "\n",
    "-   basis for most of today's encodings"
   ]
  },
  {
   "cell_type": "markdown",
   "metadata": {
    "slideshow": {
     "slide_type": "slide"
    }
   },
   "source": [
    "### ASCII Basics \n",
    "\n",
    "\n",
    "7-bit encoding:\n",
    "\n",
    "-   decimal: 0 to 127\n",
    "\n",
    "-   binary: 0000000 to 1111111\n",
    "\n",
    "-   hexadecimal: 0x00 to 0x7F\n",
    "\n",
    "-   maximum capacity of 128 characters, all of which are used\n",
    "\n"
   ]
  },
  {
   "cell_type": "markdown",
   "metadata": {
    "slideshow": {
     "slide_type": "slide"
    }
   },
   "source": [
    "### ASCII Line breaks \n",
    "\n",
    "Line breaks:\n",
    "\n",
    "-   LF: **line feed** (`\\n`)\\\n",
    "    0001010 = 0x0A (decimal: 10)\\\n",
    "    \"move to next line\\\"\n",
    "\n",
    "-   CR: **carriage return** (`\\r`)\\\n",
    "    0001101 = 0x0D (decimal: 13)\\\n",
    "    \"move back to beginning of line, allow overprinting\"\n",
    "\n",
    "Line breaks differ between operating systems:\n",
    "\n",
    "-   Unix-based systems: `\\n`\\\n",
    "\n",
    "-   Windows: `\\r\\n`"
   ]
  },
  {
   "cell_type": "markdown",
   "metadata": {
    "slideshow": {
     "slide_type": "slide"
    }
   },
   "source": [
    "### ASCII Limitations\n",
    "ASCII has severe limitations for non-US usage:\n",
    "\n",
    "-   no umlauts\n",
    "\n",
    "-   no accents or other diacritics\n",
    "\n",
    "-   no symbols for currencies other than dollar\n",
    "\n",
    "Result:\n",
    "\n",
    "-   different modifications were established in different countries,\n",
    "    replacing different characters by symbols of local significance\n",
    "\n",
    "-   examples: ISCII (Indian scripts), TSCII (Tamil), VSCII (Vietnamese)\n",
    "\n",
    "-   sometimes changes are small, e.g. JIS C-6220 in Japan, replacing the\n",
    "    backslash with a Yen sign"
   ]
  },
  {
   "cell_type": "markdown",
   "metadata": {
    "slideshow": {
     "slide_type": "slide"
    }
   },
   "source": [
    "ISO 8-Bit Encodings\n",
    "-------------------\n",
    "\n",
    "ISO 8-Bit Encodings Step forward taken by **ISO/IEC 8859**:\n",
    "\n",
    "-   standardized extensions of ASCII\n",
    "\n",
    "-   first two variants defined in 1987\\\n",
    "    by ISO (International Organization for Standardization)\n",
    "\n",
    "-   additional variants added until 2001\n",
    "\n",
    "-   8-bit system: leading 0 bit for 7-bit ASCII characters\n",
    "\n",
    "-   e.g. 1010101 (ASCII) becomes **0**1010101 (ISO-8859)\n",
    "\n",
    "-   upper range of 128 characters used for localized graphical\n",
    "    characters\n",
    "\n",
    "-   different ISO-8859 standards tailored for different regions"
   ]
  },
  {
   "cell_type": "markdown",
   "metadata": {
    "slideshow": {
     "slide_type": "slide"
    }
   },
   "source": [
    "### ISO/IEC 8859\n",
    "\n",
    "ISO 8859-1\n",
    "\n",
    "<img src=\"iso-8859-1.png\" width=250/>"
   ]
  },
  {
   "cell_type": "markdown",
   "metadata": {
    "slideshow": {
     "slide_type": "slide"
    }
   },
   "source": [
    "## ISO/IEC 8859\n",
    "\n",
    "Overview List of all ISO-8859 standards:\n",
    "\n",
    "-   ISO-8859-1: Western European\n",
    "\n",
    "-   ISO-8859-2: Central European\n",
    "\n",
    "-   ISO-8859-3: South European and Esperanto\n",
    "\n",
    "-   ISO-8859-4: Baltic, old\n",
    "\n",
    "-   ISO-8859-5: Cyrillic\n",
    "\n",
    "-   ISO-8859-6: Arabic\n",
    "\n",
    "-   ISO-8859-7: Greek\n",
    "\n"
   ]
  },
  {
   "cell_type": "markdown",
   "metadata": {
    "slideshow": {
     "slide_type": "slide"
    }
   },
   "source": [
    "-   ISO-8859-8: Hebrew\n",
    "\n",
    "-   ISO-8859-9: Turkish\n",
    "\n",
    "-   ISO-8859-10: Nordic\n",
    "\n",
    "-   ISO-8859-11: Thai (unofficial)\n",
    "\n",
    "-   ISO-8859-12: (does not exist)\n",
    "\n",
    "-   ISO-8859-13: Baltic, new\n",
    "\n",
    "-   ISO-8859-14: Celtic\n",
    "\n",
    "-   ISO-8859-15: Revised Eastern European\n",
    "\n",
    "-   ISO-8869-16: South-Eastern European"
   ]
  },
  {
   "cell_type": "markdown",
   "metadata": {
    "slideshow": {
     "slide_type": "slide"
    }
   },
   "source": [
    "**Unicode** is the predominant encoding standard in modern computing\n",
    "\n",
    "-   idea: provide one **universal encoding** for all languages,\\\n",
    "    both current and historic writing systems, symbols, ...\n",
    "\n",
    "-   first version of Unicode released in 1991 (2019: release of v. 12.0)\n",
    "\n",
    "-   Unicode code range can be encoded by **21 bits**\n",
    "\n",
    "-   multi-byte encoding with enough room for all current and many future\n",
    "    symbols ($1\\ 114\\ 111$, of which $136\\ 690$ are currently used)\n",
    "\n",
    "-   virtually universal coverage (139 scripts) with a single standard\n",
    "\n",
    "-   fonts are large and require advanced rendering techniques\n",
    "\n",
    "-   different fonts will be used for different parts of the range"
   ]
  },
  {
   "cell_type": "markdown",
   "metadata": {
    "slideshow": {
     "slide_type": "slide"
    }
   },
   "source": [
    "### Unicode\n",
    "\n",
    "In Python3, strings are represented internally in **UTF-8**:\n",
    "\n",
    "-   if the Unicode codepoint is $< 128$, a single byte is used (ASCII)\n",
    "\n",
    "-   otherwise, the codepoint is turned into a sequence of 2-4 bytes\n",
    "\n",
    "-   all characters used in official languages fit in 3 bytes or less\n",
    "\n",
    "Specifying non-unicode encodings in Python (will be converted):\n",
    "\n",
    "``` {language=\"python\"}\n",
    "ascii_file = open(file_name, encoding=\"ascii\", \"r\")\n",
    "latin1_file = open(file_name, encoding=\"latin-1\", \"w\")\n",
    "```\n",
    "\n"
   ]
  },
  {
   "cell_type": "markdown",
   "metadata": {
    "slideshow": {
     "slide_type": "slide"
    }
   },
   "source": [
    "# More on Functions\n",
    "\n",
    "### Using Return values (Recap)\n",
    "\n",
    "- a function call is an expression, i.e. it will evaluate to an object\n",
    "\n",
    "- ``` {language=\"python\"}\n",
    "  tuple(sorted(some_list)[0:3])\n",
    "  ```\n",
    "\n",
    "- if you use the result of a function call only once, it is not\n",
    "  necessary to assign it to a variable before using it!\n",
    "\n",
    "  ``` {language=\"python\"}\n",
    "  sorted_list = sorted(some_list) #this is unnecessary!\n",
    "  for item in sorted_list:\n",
    "    print(item)\n",
    "  ```\n",
    "\n",
    "---------------------------"
   ]
  },
  {
   "cell_type": "markdown",
   "metadata": {
    "slideshow": {
     "slide_type": "slide"
    }
   },
   "source": [
    "\n",
    "- some functions and methods are **fruitless** (return `None`), but\n",
    "  modify one of the objects handed over as arguments\n",
    "\n",
    "  ``` {language=\"python\"}\n",
    "  some_list.sort()\n",
    "  ```\n",
    "\n",
    "- some functions only have side effects, i.e. they only return `None`,\n",
    "  and do not modify any of the arguments, but still do have an effect\n",
    "\n",
    "  ``` {language=\"python\"}\n",
    "  print(\"This string will not be changed.\")\n",
    "  ```\n",
    "\n"
   ]
  },
  {
   "cell_type": "markdown",
   "metadata": {
    "slideshow": {
     "slide_type": "slide"
    }
   },
   "source": [
    "### More on Functions: Functions Calling Functions\n",
    "\n",
    "Reminder: functions can call each other!\n",
    "\n",
    "-   Example of a program consisting of functions which call each other:\n",
    "\n",
    "- \n",
    "\n",
    "  ``` {language=\"python\"}\n",
    "  def dict_lookup(eng_word, tokens)\n",
    "    return inflect(eng_deu_dict[eng_word], tokens)\n",
    "  \n",
    "  def translate(sentence)\n",
    "    tokens = tokenize(sentence)\n",
    "    translated_tokens = list()\n",
    "    for token in tokens:\n",
    "      translated_tokens.append(dict_lookup(token, tokens))\n",
    "    return \" \".join(translated_tokens)\n",
    "  \n",
    "  if __name__ == \"__main__\":\n",
    "    example_sentence = \"I know him\"\n",
    "    result = translate(example_sentence)\n",
    "    print(result)\n",
    "  ```\n",
    "\n"
   ]
  },
  {
   "cell_type": "markdown",
   "metadata": {
    "slideshow": {
     "slide_type": "slide"
    }
   },
   "source": [
    "### More on Functions: The Call Stack\n",
    "\n",
    "Helpful concept: the **call stack**\n",
    "\n",
    "- each point during the program's execution can be defined by the\n",
    "  positions in which the function calls that have not terminated yet\n",
    "  have occurred; for our program, one state of the stack looks like\n",
    "  this:\n",
    "\n",
    "      2: inflect(\"kennen\", [\"I\", \"know\", \"him\"])\n",
    "      8: dict_lookup(\"know\", [\"I\", \"know\", \"him\"])\n",
    "      8: translated_tokens.append(...)\n",
    "      13: translate(\"I know him\")\n",
    "      __main__  \n",
    "\n",
    "- after termination of a function call, it is removed from the stack,\n",
    "  and control flow **reverts back to the new highest element on the\n",
    "  stack**"
   ]
  },
  {
   "cell_type": "markdown",
   "metadata": {
    "slideshow": {
     "slide_type": "slide"
    }
   },
   "source": [
    "# More on Loops\n",
    "\n",
    "### Looping over a Range\n",
    "\n",
    "Recap: one of the most basic iterables is the **range**!\n",
    "\n",
    "-   very often, we want our variable in a for loop to take every value\n",
    "    from a certain range of integers, e.g. all house numbers in a street\n",
    "\n",
    "-   example: modifying the values in part of a list"
   ]
  },
  {
   "cell_type": "code",
   "execution_count": 26,
   "metadata": {},
   "outputs": [
    {
     "name": "stdout",
     "output_type": "stream",
     "text": [
      "[60, 60, 70, 96, 96, 108, 100, 170, 150, 70, 60, 80]\n"
     ]
    }
   ],
   "source": [
    "price_per_month = [60,60,70,80,80,90,100,170,150,70,60,80]\n",
    "for month in range(3,6):\n",
    "    old_price = price_per_month[month]\n",
    "    new_price = int(old_price * 1.2)\n",
    "    price_per_month[month] = new_price\n",
    "print(price_per_month)"
   ]
  },
  {
   "cell_type": "markdown",
   "metadata": {
    "slideshow": {
     "slide_type": "slide"
    }
   },
   "source": [
    "### More on Loops: Looping over Lines in a File\n",
    "\n",
    "Addition to file I/O: opened **file handles are iterables**!\n",
    "\n",
    "- example file `\"lines.txt\"`, and a loop over it:\n",
    "\n",
    "  ``` {language=\"python\"}\n",
    "  First line here.\n",
    "  Second line there.\n",
    "  ```\n"
   ]
  },
  {
   "cell_type": "code",
   "execution_count": 28,
   "metadata": {},
   "outputs": [
    {
     "name": "stdout",
     "output_type": "stream",
     "text": [
      "First line here.\n",
      "Second line there.\n"
     ]
    }
   ],
   "source": [
    "for line in open(\"lines.txt\", 'r'):\n",
    "    print(line.strip())"
   ]
  },
  {
   "cell_type": "markdown",
   "metadata": {
    "slideshow": {
     "slide_type": "slide"
    }
   },
   "source": [
    "- but a file handle has state (\"remembers where it is\"):"
   ]
  },
  {
   "cell_type": "code",
   "execution_count": 29,
   "metadata": {},
   "outputs": [
    {
     "name": "stdout",
     "output_type": "stream",
     "text": [
      "1st loop: First line here.\n",
      "1st loop: Second line there.\n"
     ]
    }
   ],
   "source": [
    "lines = open(\"lines.txt\", 'r')\n",
    "for line in lines:\n",
    "    print(\"1st loop: \" + line.strip())\n",
    "for line in lines:\n",
    "    print(\"2nd loop: \" + line.strip())"
   ]
  },
  {
   "cell_type": "markdown",
   "metadata": {},
   "source": [
    "- solution: reset file handle via `lines.seek(0)`"
   ]
  },
  {
   "cell_type": "markdown",
   "metadata": {
    "slideshow": {
     "slide_type": "slide"
    }
   },
   "source": [
    "### Usage of `while` Loops\n",
    "\n",
    "Question 1: What might this while loop be doing?\n",
    "\n",
    "``` {language=\"python\"}\n",
    "while command != \"quit\":\n",
    "  if command == \"left\":\n",
    "    player.direction.turn(-5)\n",
    "  elif command == \"right\":\n",
    "    player.direction.turn(+5)\n",
    "  elif command == \"accelerate\":\n",
    "    player.speed += 3\n",
    "  elif command == \"stop\":\n",
    "    player.speed -= 5\n",
    "    if player.speed < 0:\n",
    "      player.speed = 0\n",
    "  for obj in objects:\n",
    "    obj.continue_movement(1)\n",
    "  graphics.draw_scene()\n",
    "  command = get_next_command()\n",
    "```\n",
    "\n",
    "### "
   ]
  },
  {
   "cell_type": "markdown",
   "metadata": {
    "slideshow": {
     "slide_type": "slide"
    }
   },
   "source": [
    "### Usage of `while` Loops\n",
    "\n",
    "Question 2: What might this while loop be doing?\n",
    "\n",
    "``` {language=\"python\"}\n",
    "agenda = get_new_tasks()\n",
    "done = set()\n",
    "while len(agenda) > 0:\n",
    "  task = agenda.pop(0)\n",
    "  if is_simple(task):\n",
    "    task.carry_out()\n",
    "    done.add(task)\n",
    "  else:\n",
    "    subtasks = break_into_subtasks(task)\n",
    "    agenda.extend(subtasks)\n",
    "  new_tasks = get_new_tasks()\n",
    "  for task in new_tasks:\n",
    "    if task not in done:\n",
    "      agenda.append(task)\n",
    "```\n"
   ]
  },
  {
   "cell_type": "markdown",
   "metadata": {
    "slideshow": {
     "slide_type": "slide"
    }
   },
   "source": [
    "### More on Sorting: Reverse Order\n",
    "\n",
    "Default sorting order can be reverted:\n",
    "\n",
    "-   sorting is in ascending order by default (1 before 10, A before B)\n",
    "\n",
    "-   what if we want to compute e.g. a ranking,\\\n",
    "    where the highest score is best, and should be listed first?\n",
    "\n",
    "-   both `sort()` and `sorted()` support the named argument `reverse`\n",
    "    which takes a boolean value:"
   ]
  },
  {
   "cell_type": "code",
   "execution_count": 30,
   "metadata": {},
   "outputs": [
    {
     "name": "stdout",
     "output_type": "stream",
     "text": [
      "[-4, -3, 1, 2, 3, 3, 5, 5, 7, 8, 9, 12, 14]\n"
     ]
    }
   ],
   "source": [
    "test_list = [5,3,14,5,1,2,3,7,8,9,12,-3,-4]\n",
    "print(sorted(test_list))"
   ]
  },
  {
   "cell_type": "code",
   "execution_count": 33,
   "metadata": {},
   "outputs": [
    {
     "name": "stdout",
     "output_type": "stream",
     "text": [
      "[14, 12, 9, 8, 7, 5, 5, 3, 3, 2, 1, -3, -4]\n"
     ]
    }
   ],
   "source": [
    "print(sorted(test_list, reverse=True))"
   ]
  },
  {
   "cell_type": "code",
   "execution_count": 34,
   "metadata": {},
   "outputs": [
    {
     "data": {
      "text/plain": [
       "[5, 3, 14, 5, 1, 2, 3, 7, 8, 9, 12, -3, -4]"
      ]
     },
     "execution_count": 34,
     "metadata": {},
     "output_type": "execute_result"
    }
   ],
   "source": [
    "test_list"
   ]
  },
  {
   "cell_type": "code",
   "execution_count": 35,
   "metadata": {
    "slideshow": {
     "slide_type": "slide"
    }
   },
   "outputs": [],
   "source": [
    "test_list.sort(reverse=True)"
   ]
  },
  {
   "cell_type": "code",
   "execution_count": 36,
   "metadata": {},
   "outputs": [
    {
     "data": {
      "text/plain": [
       "[14, 12, 9, 8, 7, 5, 5, 3, 3, 2, 1, -3, -4]"
      ]
     },
     "execution_count": 36,
     "metadata": {},
     "output_type": "execute_result"
    }
   ],
   "source": [
    "test_list"
   ]
  },
  {
   "cell_type": "markdown",
   "metadata": {
    "slideshow": {
     "slide_type": "slide"
    }
   },
   "source": [
    "### Sorting a Dictionary by Value\n",
    "\n",
    "Sorting entries in a dictionary by their values:\n",
    "\n",
    "-   by default, sorting a dictionary will sort it by key\n",
    "\n",
    "-   a function value for the named argument `key` can override this\n",
    "\n",
    "-   for sorting a dict by value, one commonly used option is to use the\n",
    "    `itemgetter()` function from the `operator` module:"
   ]
  },
  {
   "cell_type": "code",
   "execution_count": 37,
   "metadata": {},
   "outputs": [
    {
     "name": "stdout",
     "output_type": "stream",
     "text": [
      "1456345: A\n",
      "1334521: C\n",
      "1717345: D\n"
     ]
    }
   ],
   "source": [
    "import operator\n",
    "f = operator.itemgetter(1)\n",
    "grades = {1717345 : \"D\", 1456345 : \"A\", 1334521: \"C\"}\n",
    "for (student_ID, grade) in sorted(grades.items(), key=f):\n",
    "    print(str(student_ID) + \": \" + grade)"
   ]
  },
  {
   "cell_type": "markdown",
   "metadata": {},
   "source": [
    "- also works with the in-place `sort()` method, e.g. on a list of\n",
    "tuples!"
   ]
  },
  {
   "cell_type": "markdown",
   "metadata": {
    "slideshow": {
     "slide_type": "slide"
    }
   },
   "source": [
    "### More on Optimization\n",
    "\n",
    "Some basic facts about **optimization**:\n",
    "\n",
    "-   for every computable problem or task, there are infinitely many\n",
    "    programs which solve it; they will differ in memory and time usage!\n",
    "\n",
    "-   differences in speed can be huge, even if you might not notice it on\n",
    "    toy data (prefixes from a full frequency list takes minutes!)\n",
    "\n",
    "-   some **principles of optimization**:\n",
    "\n",
    "    -   avoid running costly computations (File I/O, search) multiple\n",
    "        times\n",
    "\n",
    "    -   avoid computing the same thing twice\n",
    "\n",
    "    -   avoid creating unnecessary objects\n",
    "\n",
    "-   get used to writing reasonably efficient code now,\\\n",
    "    it will be much harder later when you have formed habits!\n",
    "\n",
    "-   if you want to be extremely efficient,\\\n",
    "    learn more programming languages (C, Java)"
   ]
  },
  {
   "cell_type": "markdown",
   "metadata": {
    "slideshow": {
     "slide_type": "slide"
    }
   },
   "source": [
    "### Quiz: Efficient or Not? (1)\n",
    "\n",
    "- Is there any obvious way to optimize this code?\n",
    "\n",
    "  ``` {language=\"python\"}\n",
    "  older_student_ids = set()\n",
    "  newer_student_ids = set()\n",
    "  for line in open(\"participants.tsv\",\"r\"):\n",
    "    student_id = int(line.split(\"\\t\")[0])\n",
    "    if student_id < 3000000:\n",
    "      older_student_ids.add(student_id)\n",
    "    else:\n",
    "      newer_student_ids.add(student_id)\n",
    "  with open(\"older_student_ids.txt\",\"w\") as output:\n",
    "    for student_id in sorted(older_student_ids):\n",
    "      output.write(str(student_id) + \"\\n\")\n",
    "  with open(\"newer_student_ids.txt\",\"w\") as output:\n",
    "    for student_id in sorted(newer_student_ids):\n",
    "      output.write(str(student_id) + \"\\n\")\n",
    "  ```\n"
   ]
  },
  {
   "cell_type": "markdown",
   "metadata": {
    "slideshow": {
     "slide_type": "slide"
    }
   },
   "source": [
    "### Quiz: Efficient or Not? (2)\n",
    "\n",
    "- Is there any obvious way to optimize this code?\n",
    "\n",
    "  ``` {language=\"python\"}\n",
    "  students_by_id = dict()\n",
    "  for line in open(\"participants.tsv\",\"r\"):\n",
    "    student_id = line.split(\"\\t\")[0]\n",
    "    first_name = line.split(\"\\t\")[1]\n",
    "    last_name = line.split(\"\\t\")[2]\n",
    "    student_name = (first_name, last_name)\n",
    "    students_by_id[student_id] = student_name\n",
    "  for student_id in students_by_id.keys():\n",
    "    print(last_name + \", \" + first_name + \": \" + student_id)\n",
    "  ```\n"
   ]
  },
  {
   "cell_type": "markdown",
   "metadata": {
    "slideshow": {
     "slide_type": "slide"
    }
   },
   "source": [
    "### Quiz: Efficient or Not? (3)\n",
    "\n",
    "- Is there any obvious way to optimize this code?\n",
    "\n",
    "  ``` {language=\"python\"}\n",
    "  student_names = list()\n",
    "  for line in open(\"participants.tsv\",\"r\"):\n",
    "    first_name, last_name = line.split(\"\\t\")[1:3]\n",
    "    student_names.append((last_name, first_name))\n",
    "  for i in range(len(student_names)):\n",
    "    print(sorted(student_names)[i])\n",
    "  ```\n"
   ]
  },
  {
   "cell_type": "markdown",
   "metadata": {
    "slideshow": {
     "slide_type": "slide"
    }
   },
   "source": [
    "### Hints on Maintainability\n",
    "\n",
    "What is **maintainability** about?\n",
    "\n",
    "-   being able to quickly change the behavior of a program\\\n",
    "    by editing the code in as few places as possible\n",
    "\n",
    "-   being able to revisit a program years from now, and still understand\n",
    "    it\n",
    "\n",
    "-   being able to quickly add or change some functionality as\n",
    "    requirements change\n",
    "\n",
    "How can one ensure maintainability?\n",
    "\n",
    "-   if you use identical literals everywhere, store them in a global\n",
    "    variable!\n",
    "\n",
    "-   do not copy-and-paste code! (that's what functions and loops are\n",
    "    for!)\n",
    "\n",
    "-   comment your code!\n",
    "\n",
    "    -   informative variable names\n",
    "\n",
    "    -   block comments describing function behavior\n"
   ]
  },
  {
   "cell_type": "markdown",
   "metadata": {
    "slideshow": {
     "slide_type": "slide"
    }
   },
   "source": [
    "### Maintainability: Example\n",
    "\n",
    "How can the maintainability of this function be increased?\n",
    "\n",
    "``` {language=\"python\"}\n",
    "def print_matrix(mtx):\n",
    "  for row in mtx:\n",
    "    if row == mtx[0]:\n",
    "      continue\n",
    "    entry1 = str(row[1])[:6]\n",
    "    if len(entry1) < 6:\n",
    "      entry1 += (6 - len(entry1)) * \" \"\n",
    "    entry2 = str(row[2])[:6]\n",
    "    if len(entry2) < 6:\n",
    "      entry2 += (6 - len(entry2)) * \" \"\n",
    "    entry3 = str(row[3])[:6]\n",
    "    if len(entry3) < 6:\n",
    "      entry3 += (6 - len(entry3)) * \" \"\n",
    "    print(entry1 + \" \" + entry2 + \" \" + entry3)\n",
    "```\n",
    "\n",
    "\n",
    "\n"
   ]
  }
 ],
 "metadata": {
  "@webio": {
   "lastCommId": null,
   "lastKernelId": null
  },
  "celltoolbar": "Slideshow",
  "kernelspec": {
   "display_name": "Python 3 (ipykernel)",
   "language": "python",
   "name": "python3"
  },
  "language_info": {
   "codemirror_mode": {
    "name": "ipython",
    "version": 3
   },
   "file_extension": ".py",
   "mimetype": "text/x-python",
   "name": "python",
   "nbconvert_exporter": "python",
   "pygments_lexer": "ipython3",
   "version": "3.9.7"
  },
  "latex_envs": {
   "LaTeX_envs_menu_present": true,
   "autoclose": false,
   "autocomplete": true,
   "bibliofile": "biblio.bib",
   "cite_by": "apalike",
   "current_citInitial": 1,
   "eqLabelWithNumbers": true,
   "eqNumInitial": 1,
   "hotkeys": {
    "equation": "Ctrl-E",
    "itemize": "Ctrl-I"
   },
   "labels_anchors": false,
   "latex_user_defs": false,
   "report_style_numbering": false,
   "user_envs_cfg": false
  },
  "rise": {
   "enable_chalkboard": true
  }
 },
 "nbformat": 4,
 "nbformat_minor": 4
}
