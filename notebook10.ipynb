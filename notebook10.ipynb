{
 "cells": [
  {
   "cell_type": "markdown",
   "metadata": {},
   "source": [
    "# Methods I: Programming and Data Analysis\n",
    "\n",
    "## Session 10: Finishing the Basics; Regular Expressions\n",
    "\n",
    "### Gerhard Jäger\n",
    "\n",
    "#### (based on Johannes Dellert's slides)\n",
    "\n",
    "January 11, 2022"
   ]
  },
  {
   "cell_type": "markdown",
   "metadata": {
    "slideshow": {
     "slide_type": "skip"
    }
   },
   "source": [
    "### Usage of `while` Loops\n",
    "\n",
    "\n",
    "\n",
    "Question 1: What might this while loop be doing?\n",
    "\n",
    "```python\n",
    "while command != \"quit\":\n",
    "    if command == \"left\":\n",
    "        player.direction.turn(-5)\n",
    "    elif command == \"right\":\n",
    "        player.direction.turn(+5)\n",
    "    elif command == \"accelerate\":\n",
    "        player.speed += 3\n",
    "    elif command == \"stop\":\n",
    "        player.speed -= 5\n",
    "        if player.speed < 0:\n",
    "              player.speed = 0\n",
    "    for obj in objects:\n",
    "        obj.continue_movement(1)\n",
    "    graphics.draw_scene()\n",
    "    command = get_next_command()\n",
    "```\n",
    "\n"
   ]
  },
  {
   "cell_type": "markdown",
   "metadata": {
    "slideshow": {
     "slide_type": "slide"
    }
   },
   "source": [
    "### Usage of `while` Loops\n",
    "\n",
    "Question 1: What might this while loop be doing?\n",
    "<img src=\"_img/code_01.svg\" width=800>\n",
    "\n"
   ]
  },
  {
   "cell_type": "markdown",
   "metadata": {
    "slideshow": {
     "slide_type": "skip"
    }
   },
   "source": [
    "### Usage of `while` Loops\n",
    "\n",
    "Question 2: What might this while loop be doing?\n",
    "\n",
    "```python\n",
    "agenda = get_new_tasks()\n",
    "done = set()\n",
    "while len(agenda) > 0:\n",
    "    task = agenda.pop(0)\n",
    "    if is_simple(task):\n",
    "        task.carry_out()\n",
    "        done.add(task)\n",
    "    else:\n",
    "        subtasks = break_into_subtasks(task)\n",
    "        agenda.extend(subtasks)\n",
    "    new_tasks = get_new_tasks()\n",
    "    for task in new_tasks:\n",
    "        if task not in done:\n",
    "            agenda.append(task)\n",
    "```\n"
   ]
  },
  {
   "cell_type": "markdown",
   "metadata": {
    "slideshow": {
     "slide_type": "slide"
    }
   },
   "source": [
    "### Usage of `while` Loops\n",
    "\n",
    "Question 2: What might this while loop be doing?\n",
    "\n",
    "<img src=\"_img/code_02.svg\" width=1000>"
   ]
  },
  {
   "cell_type": "markdown",
   "metadata": {
    "slideshow": {
     "slide_type": "slide"
    }
   },
   "source": [
    "### More on Sorting: Reverse Order\n",
    "\n",
    "Default sorting order can be reverted:\n",
    "\n",
    "-   sorting is in ascending order by default (1 before 10, A before B)\n",
    "\n",
    "-   what if we want to compute e.g. a ranking,\\\n",
    "    where the highest score is best, and should be listed first?\n",
    "\n",
    "-   both `sort()` and `sorted()` support the named argument `reverse`\n",
    "    which takes a boolean value:"
   ]
  },
  {
   "cell_type": "code",
   "execution_count": null,
   "metadata": {},
   "outputs": [],
   "source": [
    "test_list = [5,3,14,5,1,2,3,7,8,9,12,-3,-4]\n",
    "print(sorted(test_list))\n"
   ]
  },
  {
   "cell_type": "code",
   "execution_count": null,
   "metadata": {},
   "outputs": [],
   "source": [
    "print(sorted(test_list, reverse=True))\n"
   ]
  },
  {
   "cell_type": "code",
   "execution_count": null,
   "metadata": {},
   "outputs": [],
   "source": [
    "test_list\n"
   ]
  },
  {
   "cell_type": "code",
   "execution_count": null,
   "metadata": {
    "slideshow": {
     "slide_type": "slide"
    }
   },
   "outputs": [],
   "source": [
    "test_list.sort(reverse=True)\n"
   ]
  },
  {
   "cell_type": "code",
   "execution_count": null,
   "metadata": {},
   "outputs": [],
   "source": [
    "test_list\n"
   ]
  },
  {
   "cell_type": "markdown",
   "metadata": {
    "slideshow": {
     "slide_type": "slide"
    }
   },
   "source": [
    "### Sorting a Dictionary by Value\n",
    "\n",
    "Sorting entries in a dictionary by their values:\n",
    "\n",
    "-   by default, sorting a dictionary will sort it by key\n",
    "\n",
    "-   a function value for the named argument `key` can override this\n",
    "\n",
    "-   for sorting a dict by value, one commonly used option is to use the\n",
    "    `itemgetter()` function from the `operator` module:"
   ]
  },
  {
   "cell_type": "code",
   "execution_count": null,
   "metadata": {},
   "outputs": [],
   "source": [
    "import operator\n",
    "f = operator.itemgetter(1)\n",
    "grades = {1717345 : \"D\", 1456345 : \"A\", 1334521: \"C\"}\n",
    "for (student_ID, grade) in sorted(grades.items(), key=f):\n",
    "    print(str(student_ID) + \": \" + grade)\n",
    "    "
   ]
  },
  {
   "cell_type": "markdown",
   "metadata": {},
   "source": [
    "- also works with the in-place `sort()` method, e.g. on a list of\n",
    "tuples!"
   ]
  },
  {
   "cell_type": "markdown",
   "metadata": {
    "slideshow": {
     "slide_type": "slide"
    }
   },
   "source": [
    "### More on Optimization\n",
    "\n",
    "Some basic facts about **optimization**:\n",
    "\n",
    "-   for every computable problem or task, there are infinitely many\n",
    "    programs which solve it; they will differ in memory and time usage!\n",
    "\n",
    "-   differences in speed can be huge, even if you might not notice it on\n",
    "    toy data (prefixes from a full frequency list takes minutes!)\n",
    "\n",
    "-   some **principles of optimization**:\n",
    "\n",
    "    -   avoid running costly computations (File I/O, search) multiple\n",
    "        times\n",
    "\n",
    "    -   avoid computing the same thing twice\n",
    "\n",
    "    -   avoid creating unnecessary objects\n",
    "\n",
    "-   get used to writing reasonably efficient code now,\\\n",
    "    it will be much harder later when you have formed habits!\n",
    "\n",
    "-   if you want to be extremely efficient,\\\n",
    "    learn more programming languages (C, Java)"
   ]
  },
  {
   "cell_type": "markdown",
   "metadata": {
    "slideshow": {
     "slide_type": "skip"
    }
   },
   "source": [
    "### Quiz: Efficient or Not? (1)\n",
    "\n",
    "- Is there any obvious way to optimize this code?\n",
    "\n",
    "```python\n",
    "older_student_ids = set()\n",
    "newer_student_ids = set()\n",
    "for line in open(\"participants.tsv\",\"r\"):\n",
    "    student_id = int(line.split(\"\\t\")[0])\n",
    "    if student_id < 3000000:\n",
    "        older_student_ids.add(student_id)\n",
    "    else:\n",
    "        newer_student_ids.add(student_id)\n",
    "with open(\"older_student_ids.txt\",\"w\") as output:\n",
    "    for student_id in sorted(older_student_ids):\n",
    "        output.write(str(student_id) + \"\\n\")\n",
    "with open(\"newer_student_ids.txt\",\"w\") as output:\n",
    "    for student_id in sorted(newer_student_ids):\n",
    "        output.write(str(student_id) + \"\\n\")\n",
    "```\n"
   ]
  },
  {
   "cell_type": "markdown",
   "metadata": {
    "slideshow": {
     "slide_type": "slide"
    }
   },
   "source": [
    "### Quiz: Efficient or Not? (1)\n",
    "\n",
    "- Is there any obvious way to optimize this code?\n",
    "\n",
    "<img src=\"_img/code_03.svg\" width=1000>\n",
    "\n",
    "\n"
   ]
  },
  {
   "cell_type": "markdown",
   "metadata": {
    "slideshow": {
     "slide_type": "skip"
    }
   },
   "source": [
    "### Quiz: Efficient or Not? (2)\n",
    "\n",
    "- Is there any obvious way to optimize this code?\n",
    "\n",
    "```python\n",
    "students_by_id = dict()\n",
    "for line in open(\"participants.tsv\",\"r\"):\n",
    "    student_id = line.split(\"\\t\")[0]\n",
    "    first_name = line.split(\"\\t\")[1]\n",
    "    last_name = line.split(\"\\t\")[2]\n",
    "    student_name = (first_name, last_name)\n",
    "    students_by_id[student_id] = student_name\n",
    "for student_id in students_by_id.keys():\n",
    "    print(last_name + \", \" + first_name + \": \" + student_id)\n",
    "```\n"
   ]
  },
  {
   "cell_type": "markdown",
   "metadata": {
    "slideshow": {
     "slide_type": "slide"
    }
   },
   "source": [
    "### Quiz: Efficient or Not? (2)\n",
    "\n",
    "- Is there any obvious way to optimize this code?\n",
    "\n",
    "\n",
    "<img src=\"_img/code_04.svg\" width=1000>"
   ]
  },
  {
   "cell_type": "markdown",
   "metadata": {
    "slideshow": {
     "slide_type": "slide"
    }
   },
   "source": [
    "### Quiz: Efficient or Not? (3)\n",
    "\n",
    "- Is there any obvious way to optimize this code?\n",
    "\n",
    "```python\n",
    "student_names = list()\n",
    "for line in open(\"participants.tsv\",\"r\"):\n",
    "    first_name, last_name = line.split(\"\\t\")[1:3]\n",
    "    student_names.append((last_name, first_name))\n",
    "for i in range(len(student_names)):\n",
    "    print(sorted(student_names)[i])\n",
    "```\n"
   ]
  },
  {
   "cell_type": "markdown",
   "metadata": {
    "slideshow": {
     "slide_type": "slide"
    }
   },
   "source": [
    "### Hints on Maintainability\n",
    "\n",
    "What is **maintainability** about?\n",
    "\n",
    "-   being able to quickly change the behavior of a program\\\n",
    "    by editing the code in as few places as possible\n",
    "\n",
    "-   being able to revisit a program years from now, and still understand\n",
    "    it\n",
    "\n",
    "-   being able to quickly add or change some functionality as\n",
    "    requirements change\n",
    "\n",
    "How can one ensure maintainability?\n",
    "\n",
    "-   if you use identical literals everywhere, store them in a global\n",
    "    variable!\n",
    "\n",
    "-   do not copy-and-paste code! (That's what functions and loops are\n",
    "    for!)\n",
    "\n",
    "-   comment your code!\n",
    "\n",
    "    -   informative variable names\n",
    "\n",
    "    -   block comments describing function behavior\n"
   ]
  },
  {
   "cell_type": "markdown",
   "metadata": {
    "slideshow": {
     "slide_type": "skip"
    }
   },
   "source": [
    "### Maintainability: Example\n",
    "\n",
    "How can the maintainability of this function be increased?\n",
    "\n",
    "```python\n",
    "def print_matrix(mtx):\n",
    "    for row in mtx:\n",
    "        if row == mtx[0]:\n",
    "            continue\n",
    "        entry1 = str(row[1])[:6]\n",
    "        if len(entry1) < 6:\n",
    "            entry1 += (6 - len(entry1)) * \" \"\n",
    "        entry2 = str(row[2])[:6]\n",
    "        if len(entry2) < 6:\n",
    "            entry2 += (6 - len(entry2)) * \" \"\n",
    "        entry3 = str(row[3])[:6]\n",
    "        if len(entry3) < 6:\n",
    "            entry3 += (6 - len(entry3)) * \" \"\n",
    "        print(entry1 + \" \" + entry2 + \" \" + entry3)\n",
    "```\n",
    "\n",
    "\n",
    "\n"
   ]
  },
  {
   "cell_type": "markdown",
   "metadata": {
    "slideshow": {
     "slide_type": "slide"
    }
   },
   "source": [
    "### Maintainability: Example\n",
    "\n",
    "How can the maintainability of this function be increased?\n",
    "<img src=\"_img/code_05.svg\" width=1000>\n",
    "\n",
    "\n",
    "\n",
    "\n"
   ]
  },
  {
   "cell_type": "markdown",
   "metadata": {
    "slideshow": {
     "slide_type": "slide"
    }
   },
   "source": [
    "### Structured Programs: Modules\n",
    "\n",
    "Python code (in `.py` files) can be used in two ways:\n",
    "\n",
    "-   as a standalone program (e.g. using \"Run\" in PyCharm)\n",
    "\n",
    "-   as a module that is imported and used from inside another program\n",
    "\n",
    "For larger projects, this difference should be made use of:\n",
    "\n",
    "-   package the main functionality in different Python files\n",
    "\n",
    "-   import these files as modules from a main file where the execution\n",
    "    code resides, adding the imported names to the namespace\n",
    "\n",
    "-   this main code should only be executed when the code is run as a\n",
    "    standalone program"
   ]
  },
  {
   "cell_type": "markdown",
   "metadata": {
    "slideshow": {
     "slide_type": "slide"
    }
   },
   "source": [
    "### Structured Programs: The `main` block\n",
    "\n",
    "Revisiting the `main` block:\n",
    "\n",
    "- the line `if __name__ == \"__main__\"` checks whether the current\n",
    "  Python file is being executed as the main program\n",
    "\n",
    "- this is an important pattern to separate functionality (the function\n",
    "  definitions) from function (the executable program code)\n",
    "\n",
    "```python\n",
    "def calculation_step_1():\n",
    "    #some code here\n",
    "  \n",
    "def calculation_step_2():\n",
    "    #some code here\n",
    "\n",
    "if __name__ = \"__main__\":\n",
    "    calculation_step_1()\n",
    "    calculation_step_2()\n",
    "  \n",
    "```\n",
    "\n",
    "- you have already used this pattern during development!"
   ]
  },
  {
   "cell_type": "markdown",
   "metadata": {
    "slideshow": {
     "slide_type": "skip"
    }
   },
   "source": [
    "### Structured Programs: Example\n",
    "\n",
    "- this program packages its functionality well:\n",
    "\n",
    "```python\n",
    "def sum_lists(list1, list2):\n",
    "    return sum(list1) + sum(list2)\n",
    "\n",
    "def read_floats_from_file(filename):\n",
    "    with open(filename, \"r\") as in_file:\n",
    "        lines = in_file.readlines()\n",
    "    float_list = []\n",
    "    for line in lines:\n",
    "        float_list.append(float(line.strip()))\n",
    "    return float_list\n",
    "\n",
    "if __name__ = \"__main__\":\n",
    "    l1 = read_floats_from_file(\"costs-2017-1.txt\")\n",
    "    l2 = read_floats_from_file(\"costs-2017-2.txt\")\n",
    "    print(\"Sum of both lists: \" + str(sum_lists(l1,l2)))\n",
    "```\n",
    "\n",
    "\n"
   ]
  },
  {
   "cell_type": "markdown",
   "metadata": {
    "slideshow": {
     "slide_type": "slide"
    }
   },
   "source": [
    "### Structured Programs: Example\n",
    "\n",
    "- this program packages its functionality well:\n",
    "\n",
    "<img src=./_img/code_06.svg width=1000>\n"
   ]
  },
  {
   "cell_type": "markdown",
   "metadata": {
    "slideshow": {
     "slide_type": "slide"
    }
   },
   "source": [
    "### Packages: Motivation\n",
    "\n",
    "-   some functionality is needed by many different programs, but are neither part of the core language (like `sorted()` or `str.lower()`), nor the built-in libraries (like `math` or  `itertools`)\n",
    "\n",
    "-   examples:\n",
    "    -   visualization of objects likes trees and graphs\n",
    "    -   conversion between different text formats\n",
    "    -   efficient algorithms for parsing\n",
    "\n",
    "-   programmers like to share code for such common tasks via package management systems, where they can search for relevant packages, and install them using automated tools which ensure compatibility\n",
    "\n",
    "-   as a novice programmer, you\n",
    "    -   do not need to reinvent the wheel\n",
    "    -   can focus on the functionality of your program that is actually new\n",
    "    -   can rely on stable code used (and tested) by many others\n",
    "\n",
    "-   later, you can contribute your own code to the community\n",
    "\n"
   ]
  },
  {
   "cell_type": "markdown",
   "metadata": {
    "slideshow": {
     "slide_type": "slide"
    }
   },
   "source": [
    "### Installing Packages\n",
    "\n",
    "How to install a new package:\n",
    "\n",
    "- google for packages that might provide the functionality you want\n",
    "\n",
    "- you will end up with some names of packages that look like they\n",
    "  might work (`the-package` will be our dummy name)\n",
    "\n",
    "- with the recommended configuration, try using **conda** first:\n",
    "\n",
    "  ``` {style=\"console\"}\n",
    "    $ conda install the-package\n",
    "  ```\n",
    "\n",
    "- package not found $\\rightarrow$ access Python Package Index\n",
    "  (**PyPI**) via **pip**:\n",
    "\n",
    "  ``` {style=\"console\"}\n",
    "    $ pip install the-package\n",
    "  ```\n",
    "\n",
    "- for the latter option, you might need to install pip first:\n",
    "\n",
    "  ``` {style=\"console\"}\n",
    "    $ conda install pip\n",
    "  ```\n"
   ]
  },
  {
   "cell_type": "markdown",
   "metadata": {
    "slideshow": {
     "slide_type": "slide"
    }
   },
   "source": [
    "### Using Packages\n",
    "\n",
    "How to use a package:\n",
    "\n",
    "-   installing a package makes a set of modules available (often only\n",
    "    one)\n",
    "\n",
    "-   take a look at the examples on the package's website\n",
    "\n",
    "-   try out the code from the first of the examples on an interactive\n",
    "    console to see whether everything works as expected\n",
    "\n",
    "-   slowly expand your usage of the new tool, trying out various\n",
    "    functions until you have what you want\n",
    "\n",
    "-   not sure about what one of the functions or variables in the\n",
    "    module's namespace does? Many packages provide good documentation\n",
    "    online!"
   ]
  },
  {
   "cell_type": "markdown",
   "metadata": {
    "slideshow": {
     "slide_type": "slide"
    }
   },
   "source": [
    "Trying out the `transliterate` package to convert between alphabets:\n",
    "\n",
    "- installing `transliterate`:\n",
    "\n",
    "  ``` {style=\"console\"}\n",
    "  $ conda install pip\n",
    "  $ pip install transliterate\n",
    "  ```\n",
    "\n",
    "- loading the `translit` function from the newly available package:\n",
    "\n",
    "  ``` {style=\"console\"}\n",
    "  >>> from transliterate import translit\n",
    "  ```\n",
    "\n",
    "- using translit to transliterate from Greek:\n",
    "\n",
    "  ```python\n",
    "  >>> translit(\"Βικιπαίδεια%)\", \"el\", reversed=True)\n",
    "  'Vikipaideia'\n",
    "  ```\n",
    "\n",
    "- transliterating into Russian Cyrillic (will not work for\n",
    "  everything!):\n",
    "\n",
    "  ```python\n",
    "  >>> transliterate.translit(\"Dortmund + Dresden\", 'ru')\n",
    "  'Дортмунд + Дресден)'\n",
    "  ```\n",
    "\n",
    "- more information: <https://pypi.org/project/transliterate/>"
   ]
  },
  {
   "cell_type": "markdown",
   "metadata": {
    "slideshow": {
     "slide_type": "slide"
    }
   },
   "source": [
    "### Using Classes\n",
    "\n",
    "Many packages define their own **classes** (datatypes):\n",
    "\n",
    "- class names are conventionally written with an uppercase letter\n",
    "  (dummy example: `Thing`)\n",
    "\n",
    "- classes are similar to the built-in complex datatypes like lists and\n",
    "  dictionaries: they define the behavior of objects of their type\n",
    "\n",
    "- creating an **instance** of a class (an object of its type) works by\n",
    "  calling its **constructor**, like you used `dict()` to create a new\n",
    "  dictionary:\n",
    "\n",
    "  ``` {style=\"console\"}\n",
    "  >>> my_thing = Thing()\n",
    "  ```\n",
    "\n",
    "- classes provide **methods**, i.e. functions which take an instance\n",
    "  of the class as their first argument, and calls to which are written\n",
    "  `instance.method(additional, arguments)`\n",
    "\n",
    "  ``` {style=\"console\"}\n",
    "  >>> my_thing.do_something()\n",
    "  >>> my_thing.process_this(some_other_object)\n",
    "  ```\n"
   ]
  },
  {
   "cell_type": "markdown",
   "metadata": {
    "slideshow": {
     "slide_type": "slide"
    }
   },
   "source": [
    "### Example: Processing Video Data\n",
    "\n",
    "Basic usage of MoviePy (after installation):\n",
    "\n",
    "- load classes and functions from the `editor` subpackage:\n",
    "\n",
    "  ``` {style=\"console\"}\n",
    "  >>> from moviepy.editor import VideoFileClip\n",
    "  ```\n",
    "\n",
    "- load a video clip from a file into a new instance of a classes\n",
    "  provided by MoviePy, handing filename as argument:\n",
    "\n",
    "  ``` {style=\"console\"}\n",
    "  >>> clip = VideoFileClip(\"yourvideo.mp4\")\n",
    "  ```\n",
    "\n",
    "\n"
   ]
  },
  {
   "cell_type": "markdown",
   "metadata": {
    "slideshow": {
     "slide_type": "slide"
    }
   },
   "source": [
    "- shorten the video to a ten-second fragment:\n",
    "\n",
    "  ```python\n",
    "  >>> shortened_clip = clip.subclip(50,60)\n",
    "  ```\n",
    "\n",
    "- rotate the clip by 180 degrees:\n",
    "\n",
    "  ```python\n",
    "  >>> final_clip = shortened_clip.rotate(180)\n",
    "  ```\n",
    "\n",
    "- save the result to a new file:\n",
    "  ```python\n",
    "  >>> final_clip.write_videofile(\"processed.webm\", fps=25)\n",
    "  ```"
   ]
  },
  {
   "cell_type": "markdown",
   "metadata": {
    "slideshow": {
     "slide_type": "slide"
    }
   },
   "source": [
    "### Pattern Detection in Strings\n",
    "\n",
    "In many applications, we need to **find strings matching a pattern**:\n",
    "\n",
    "-   find all documents containing a given name\n",
    "\n",
    "-   find example sentences for the usage of some word in a corpus\n",
    "\n",
    "-   find the places in your code where you used some variable\n",
    "\n",
    "Also, we often need to **extract parts of a string** matching a pattern:\n",
    "\n",
    "-   extract addresses from a text\n",
    "\n",
    "-   extract everything that is formatted like a name\\\n",
    "    (e.g. a sequence of several tokens starting with uppercase letters)\n",
    "\n",
    "-   extract the words which can occur as arguments to a specific verb\n",
    "    from a corpus (e.g. to determine selectional restrictions)"
   ]
  },
  {
   "cell_type": "markdown",
   "metadata": {
    "slideshow": {
     "slide_type": "slide"
    }
   },
   "source": [
    "### Regular Expressions: Basics\n",
    "\n",
    "What are **regular expressions** (short: **regex**)?\n",
    "\n",
    "-   a language of patterns which define sets of strings\n",
    "\n",
    "-   **literal characters** (mostly letters of the alphabet) represent\n",
    "    themselves in a pattern\n",
    "\n",
    "-   **special characters** (mostly punctuation) do not represent\n",
    "    themselves, but modify the meaning of surrounding patterns:\n",
    "\n"
   ]
  },
  {
   "cell_type": "markdown",
   "metadata": {
    "slideshow": {
     "slide_type": "slide"
    }
   },
   "source": [
    "\n",
    "-   first examples of special characters:\n",
    "\n",
    "    -   plus `+` designates one or more instances of the previous\n",
    "        character:\\\n",
    "        `\"ba+\"` represents `{\"ba\", \"baa\", \"baaa\", ...}`\n",
    "\n",
    "    -   square brackets `[]` represent character sets:\\\n",
    "        `\"ba[tr]\"` represents `{\"bat\", \"bar\"}`\n",
    "\n",
    "    -   both can be combined: `\"ba[tr]+\"` represents\\\n",
    "        `{\"bat\", \"bar\", \"batt\", \"batr\", \"bart\", \"barr\", \"battt\", \"battr\", \"batrt\", \"batrr\", \"bartt\", \"bartr\", \"barrt\", \"barrr\", \"batttt\", \"batttr\", \"battrt\", \"battrr\", ...}`"
   ]
  },
  {
   "cell_type": "markdown",
   "metadata": {
    "slideshow": {
     "slide_type": "slide"
    }
   },
   "source": [
    "### Regular Expressions: Quantifiers\n",
    "\n",
    "**Quantifiers** range over the preceding item and decide how many times\n",
    "it can or must be repeated to be matched:\n",
    "\n",
    "-   `*` for zero or more repetitions\n",
    "\n",
    "-   `+` for at least one repetition\n",
    "\n",
    "-   `?` for optional items (zero repetitions or one repetition)\n",
    "\n",
    "More general quantification can be achieved by `{min, max}`, where `min`\n",
    "and `max` must be positive integers:\n",
    "\n",
    "-   `\"a{4,6}\"` matches the strings `\"aaaa\"`, `\"aaaaa\"`, and `\"aaaaaa\"`\n",
    "\n",
    "-   `\"[01]{8}\"` matches bitstrings of length 8 (byte representations)\n",
    "\n",
    "-   `\"0{2,}\"` matches sequences of at least 2 zeroes"
   ]
  },
  {
   "cell_type": "markdown",
   "metadata": {
    "slideshow": {
     "slide_type": "slide"
    }
   },
   "source": [
    "### Regular Expressions: The Wildcard\n",
    "\n",
    "The **wildcard symbol** `.` (the dot) matches any character except the\n",
    "new-line character, e.g.\n",
    "\n",
    "-   `\"h.t\"` matches `hat`, `hot`, and `hit`, but not `heat`\n",
    "\n",
    "-   `\".a.a.a\"` matches `banana` and `papaya`, but not `kaaba`\n",
    "\n",
    "-   `\"9.00\"` matches `9a00`, `9100`, `9y00`, and `9c00`, not only\n",
    "    `9.00`\\\n",
    "    (you need to **escape** the dot for that: `\"9\\.00\"`)\n",
    "\n",
    "-   `\" .{3} \"` matches any three-character word\n",
    "\n",
    "Special symbols match the beginning and the end of the line:\n",
    "\n",
    "-   `\"^\"` matches the beginning of the line\n",
    "\n",
    "-   `\"$\"` matches the end of the line"
   ]
  },
  {
   "cell_type": "markdown",
   "metadata": {
    "slideshow": {
     "slide_type": "slide"
    }
   },
   "source": [
    "### Regular Expressions: Character Sets and Ranges\n",
    "\n",
    "Brackets `[ ]` define **character sets** matching a single character,\n",
    "and can be **negated** using a caret (`^`) after the opening bracket:\n",
    "\n",
    "-   `[aeiou]` matches one (Latin) vowel\n",
    "\n",
    "-   `[^aeiou]` matches everything except Latin vowels\n",
    "\n",
    "Some character sets can conveniently be defined using **character\n",
    "ranges**:\n",
    "\n",
    "-   `[A-Z]` is the same as `[ABCDEFGHIJKLMNOPQRSTUVWXYZ]`\n",
    "\n",
    "-   `[0-9]` is the same as `[0123456789]`\n",
    "\n",
    "Several escaped characters serve as convenient shorthands:\n",
    "\n",
    "-   `\\d` for digits (= `[0-9]`)\n",
    "\n",
    "-   `\\w` for word characters (= `[a-zA-Z0-9_]`)\n",
    "\n",
    "-   `\\s` for whitespace (= `[ \\t\\r\\n]`)"
   ]
  },
  {
   "cell_type": "markdown",
   "metadata": {
    "slideshow": {
     "slide_type": "slide"
    }
   },
   "source": [
    "### Regular Expressions: Grouping\n",
    "\n",
    "The **grouping metacharacters** `( )` serve to\n",
    "\n",
    "-   apply repetition operators to a sequence of literal characters\n",
    "\n",
    "-   make expressions easier to read\n",
    "\n",
    "-   define groups for use in matching and replacing\n",
    "\n",
    "Examples:\n",
    "\n",
    "-   `\"(abc)+\"` matches e.g. `\"abc\"` and `\"abcababc\"`\n",
    "\n",
    "-   `\"(in)?dependent\"` matches `\"independent\"` and `\"dependent\"`"
   ]
  },
  {
   "cell_type": "markdown",
   "metadata": {
    "slideshow": {
     "slide_type": "slide"
    }
   },
   "source": [
    "### Regular Expressions: Referencing Groups\n",
    "\n",
    "-   a group can be *referenced* later in the same string\n",
    "-   \"`\\\\1`\" matches *exactly the same string* that matched the first preceding group\n",
    "-   \"`\\\\2`\" matches the second preceding group etc.\n",
    "-   \"`A (rose|tulip) is a \\\\1 is a \\\\1`\":\n",
    "    - \"A rose is a rose is a rose\" ✔\n",
    "    - \"A tulip is a tulip is a tulip\" ✔\n",
    "    - \"A rose is a rose is a tulip\" ❌\n",
    "    - \"A tulip is a rose is a rose\" ❌\n",
    "-   \"`(.).*\\\\1`\" matches any string where the first and the last character are identical and non-overlapping:\n",
    "    -   \"aa\" ✔\n",
    "    -   \"axyzdefa\" ✔\n",
    "    -   \"axyzdefb\" ❌\n",
    "    -   \"a\" ❌"
   ]
  },
  {
   "cell_type": "markdown",
   "metadata": {
    "slideshow": {
     "slide_type": "slide"
    }
   },
   "source": [
    "### Regular Expressions: Alternation\n",
    "\n",
    "The **alternation metacharacter** `|` matches either the previous or the\n",
    "next expression:\n",
    "\n",
    "-   `\"apple|orange\"` matches `\"apple\"` and `\"orange\"`\n",
    "\n",
    "-   Q: what does `\"apple(juice|sauce)\"` match?\n",
    "\n",
    "-   Q: what does `\"w(ei|ie)rd\"` match?\n",
    "\n",
    "Multiple alternatives can be used as well:\n",
    "\n",
    "-   `\"apple|orange|banana\"`\n",
    "\n",
    "-   `\"(AA|BB|CC){6}\"` matches e.g. `\"AABBAACCAABB\"`"
   ]
  },
  {
   "cell_type": "markdown",
   "metadata": {
    "slideshow": {
     "slide_type": "slide"
    }
   },
   "source": [
    "### Regular Expressions: The `re` module\n",
    "\n",
    "Basic usage of the built-in `re` module:\n",
    "\n",
    "- import the module to make the namespace available:"
   ]
  },
  {
   "cell_type": "code",
   "execution_count": null,
   "metadata": {},
   "outputs": [],
   "source": [
    "import re"
   ]
  },
  {
   "cell_type": "markdown",
   "metadata": {},
   "source": [
    "- compile your regular expression string into a **regular expression\n",
    "object** which can be used to very efficiently match against the\n",
    "regex"
   ]
  },
  {
   "cell_type": "code",
   "execution_count": null,
   "metadata": {},
   "outputs": [],
   "source": [
    "matcher = re.compile(\"(.)([aeiou]{2}n)\")"
   ]
  },
  {
   "cell_type": "markdown",
   "metadata": {},
   "source": [
    "- use the `match()` method to test the entire string:"
   ]
  },
  {
   "cell_type": "code",
   "execution_count": null,
   "metadata": {},
   "outputs": [],
   "source": [
    "matcher.match(\"moon\")"
   ]
  },
  {
   "cell_type": "code",
   "execution_count": null,
   "metadata": {},
   "outputs": [],
   "source": [
    "matcher.match(\"I have been to the moon.\")"
   ]
  },
  {
   "cell_type": "markdown",
   "metadata": {
    "slideshow": {
     "slide_type": "slide"
    }
   },
   "source": [
    "### Regular Expressions: The `re` module\n",
    "\n",
    "-   `search()` looks for matching substrings instead:"
   ]
  },
  {
   "cell_type": "code",
   "execution_count": null,
   "metadata": {},
   "outputs": [],
   "source": [
    "matcher.search(\"I have been to the moon.\")"
   ]
  },
  {
   "cell_type": "markdown",
   "metadata": {},
   "source": [
    "- using a match result object:"
   ]
  },
  {
   "cell_type": "code",
   "execution_count": null,
   "metadata": {},
   "outputs": [],
   "source": [
    "match = matcher.search(\"I have been to the moon.\")"
   ]
  },
  {
   "cell_type": "code",
   "execution_count": null,
   "metadata": {},
   "outputs": [],
   "source": [
    "match.start(), match.end(), match.groups()"
   ]
  },
  {
   "cell_type": "code",
   "execution_count": null,
   "metadata": {},
   "outputs": [],
   "source": [
    "matcher.search(\"I have been to the moon.\", 8).groups()"
   ]
  },
  {
   "cell_type": "markdown",
   "metadata": {},
   "source": [
    "`findall()` lists all groupings in matched substrings:"
   ]
  },
  {
   "cell_type": "code",
   "execution_count": null,
   "metadata": {},
   "outputs": [],
   "source": [
    "matcher.findall(\"I have been to the moon.\")"
   ]
  },
  {
   "cell_type": "markdown",
   "metadata": {
    "slideshow": {
     "slide_type": "slide"
    }
   },
   "source": [
    "Alternative third-party implementation: the `regex` package\n",
    "\n",
    "-   all the functionality is available under the same names as in `re`\n",
    "\n",
    "-   advantage: support for Unicode is much better"
   ]
  },
  {
   "cell_type": "markdown",
   "metadata": {
    "slideshow": {
     "slide_type": "slide"
    }
   },
   "source": [
    "### Regular Expressions: The `re` module\n",
    "\n",
    "-   `sub(repl, string)` replaces each each matching substring in\n",
    "    `string` with `repl`\n",
    "\n",
    "-   `repl` can contain references to groups"
   ]
  },
  {
   "cell_type": "code",
   "execution_count": null,
   "metadata": {},
   "outputs": [],
   "source": [
    "matcher = re.compile(\"[0-9]\")"
   ]
  },
  {
   "cell_type": "code",
   "execution_count": null,
   "metadata": {},
   "outputs": [],
   "source": [
    "matcher.sub(\"?\", \"UFKc17X\")"
   ]
  },
  {
   "cell_type": "code",
   "execution_count": null,
   "metadata": {},
   "outputs": [],
   "source": [
    "matcher = re.compile(\"(.+)\")\n",
    "matcher.sub(\"A \\\\1 is a \\\\1 is a \\\\1\", \"rose\")"
   ]
  },
  {
   "cell_type": "code",
   "execution_count": null,
   "metadata": {},
   "outputs": [],
   "source": [
    "matcher = re.compile(\"(.+)\")\n",
    "matcher.sub(\"A \\\\1 is a \\\\1 is a \\\\1\", \"tulip\")"
   ]
  }
 ],
 "metadata": {
  "@webio": {
   "lastCommId": null,
   "lastKernelId": null
  },
  "celltoolbar": "Slideshow",
  "kernelspec": {
   "display_name": "Python 3 (ipykernel)",
   "language": "python",
   "name": "python3"
  },
  "language_info": {
   "codemirror_mode": {
    "name": "ipython",
    "version": 3
   },
   "file_extension": ".py",
   "mimetype": "text/x-python",
   "name": "python",
   "nbconvert_exporter": "python",
   "pygments_lexer": "ipython3",
   "version": "3.9.7"
  },
  "latex_envs": {
   "LaTeX_envs_menu_present": true,
   "autoclose": false,
   "autocomplete": true,
   "bibliofile": "biblio.bib",
   "cite_by": "apalike",
   "current_citInitial": 1,
   "eqLabelWithNumbers": true,
   "eqNumInitial": 1,
   "hotkeys": {
    "equation": "Ctrl-E",
    "itemize": "Ctrl-I"
   },
   "labels_anchors": false,
   "latex_user_defs": false,
   "report_style_numbering": false,
   "user_envs_cfg": false
  },
  "rise": {
   "enable_chalkboard": true
  }
 },
 "nbformat": 4,
 "nbformat_minor": 4
}
