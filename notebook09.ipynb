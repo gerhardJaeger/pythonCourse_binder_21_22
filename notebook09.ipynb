{
 "cells": [
  {
   "cell_type": "markdown",
   "metadata": {},
   "source": [
    "# Methods I: Programming and Data Analysis\n",
    "\n",
    "## Session 09: File Formats; Finishing the Basics\n",
    "\n",
    "### Gerhard Jäger\n",
    "\n",
    "#### (based on Johannes Dellert's slides)\n",
    "\n",
    "December 21, 2021"
   ]
  },
  {
   "cell_type": "markdown",
   "metadata": {
    "slideshow": {
     "slide_type": "slide"
    }
   },
   "source": [
    "### Exception Handling: The `with` construct\n",
    "\n",
    "Another option is to open files in a `with` block:\n",
    "\n",
    "-   the clean-up procedure of the object (e.g. a file handle) will be\n",
    "    executed whether an exception is raised or not\n",
    "\n",
    "-   in the case of a file handle, the clean-up procedure includes\n",
    "    `close()`\n",
    "\n",
    "-   exceptions will not be handled, but percolated up to any surrounding\n",
    "    `try` blocks (terminating the program in absence of matching\n",
    "    `except`)\n",
    "\n",
    "-   example:"
   ]
  },
  {
   "cell_type": "code",
   "execution_count": null,
   "metadata": {},
   "outputs": [],
   "source": [
    "with open(\"some_text.txt\") as f:\n",
    "    f.write(\"more text\")\n",
    "print(file_contents)\n"
   ]
  },
  {
   "cell_type": "markdown",
   "metadata": {
    "slideshow": {
     "slide_type": "slide"
    }
   },
   "source": [
    "### File Formats: Introduction\n",
    "\n",
    "A range of file formats is commonly used for data exchange:\n",
    "\n",
    "-   Tab-Separated Values (TSV) or Comma-Separated Values (CSV) for\n",
    "    tabular data (i.e. for datapoints consisting of values for\n",
    "    predefined fields)\n",
    "\n",
    "-   Extensible Markup Language (XML) for hierarchically structured data\n",
    "    where format checking is necessary\n",
    "\n",
    "-   JavaScript Object Notation (JSON) for uncomplicated data exchange\n",
    "    between programs\n",
    "\n",
    "-   various binary formats (database files, matrices)\n",
    "\n",
    "\n",
    "-----------------"
   ]
  },
  {
   "cell_type": "markdown",
   "metadata": {
    "slideshow": {
     "slide_type": "slide"
    }
   },
   "source": [
    "### File Formats: CSV and TSV\n",
    "\n",
    "Basics of CSV and TSV formats:\n",
    "\n",
    "-   first line (the **header**): field names\n",
    "\n",
    "-   one entry per line\n",
    "\n",
    "-   field values separated by one designated delimiter, common choices:\n",
    "\n",
    "    -   the tab character (TSV format, ending .tsv)\n",
    "\n",
    "    -   the comma (CSV format, ending .csv)\n",
    "\n",
    "    -   the space (many formats)\n",
    "\n",
    "-   if the delimiter occurs inside a field value, the value needs to be\n",
    "    surrounded by double quotes; tools automatically handle this\n",
    "\n",
    "-   parsing can be done via `split()`, but more safely via the `csv`\n",
    "    module or the `pandas` module"
   ]
  },
  {
   "cell_type": "markdown",
   "metadata": {
    "slideshow": {
     "slide_type": "slide"
    }
   },
   "source": [
    "### File Formats: CSV Example\n",
    "\n",
    "    Country,Demonym,Internet TLD,Capital\n",
    "    Afghanistan,Afghan,.af,Kabul\n",
    "    Albania,Albanian,.al,Tirana\n",
    "    Algeria,Algerian,.dz,Algier\n",
    "    Andorra,Andorran,.ad,Andorra la Vella\n",
    "    Angola,Angolan,.ao,Luanda\n",
    "    Antigua and Barbuda,\"Antiguan, Barbudan\",.ag,St John's\n",
    "    Argentina,Argentine,.ar,Buenos Aires\n",
    "    Armenia,Armenian,.am,Yerevan"
   ]
  },
  {
   "cell_type": "markdown",
   "metadata": {
    "slideshow": {
     "slide_type": "slide"
    }
   },
   "source": [
    "### File Formats: XML\n",
    "\n",
    "Basics of the **Extensible Markup Language (XML)**:\n",
    "\n",
    "-   data is structured by user-defined **tags** like `<country>`\n",
    "\n",
    "-   textual data is stored in **elements**: `<tag>`*text*`</tag>`\n",
    "\n",
    "-   elements can have **attributes**: `<country id=\"AF\">`\n",
    "\n",
    "-   elements can contain other elements (nested structure)\n",
    "\n",
    "XML processing:\n",
    "\n",
    "-   very complex, do not try this on your own!\n",
    "\n",
    "-   `xml.dom` module for representing the entire document in memory\n",
    "    (good for manipulating and saving again as XML)\n",
    "\n",
    "-   `xml.sax` for sequential processing (good for summarizing huge\n",
    "    files)"
   ]
  },
  {
   "cell_type": "markdown",
   "metadata": {
    "slideshow": {
     "slide_type": "slide"
    }
   },
   "source": [
    "### File Formats: XML Example\n",
    "\n",
    "    <?xml version=\"1.0\" encoding=\"UTF-8\" standalone=\"yes\"?>\n",
    "    <countryDatabase>\n",
    "      <country id=\"AF\">\n",
    "        <name>Afghanistan</name>\n",
    "        <province id=\"BDS\">\n",
    "          <name>Badakhshan</name>\n",
    "          <capital>Fayzabad</capital>\n",
    "        </province>\n",
    "        <province id=\"BDG\">\n",
    "          <name>Badghis</name>\n",
    "          <capital>Qala i Naw</capital>\n",
    "        </province>\n",
    "        ...\n",
    "      </country>\n",
    "      ...\n",
    "    </countryDatabase>\n",
    "\n",
    "\n",
    "----"
   ]
  },
  {
   "cell_type": "markdown",
   "metadata": {
    "slideshow": {
     "slide_type": "slide"
    }
   },
   "source": [
    "### File Formats: JSON\n",
    "\n",
    "Basics of the **JavaScript Object Notation (JSON)**:\n",
    "\n",
    "-   structured data represented using arrays and key-value pairs\n",
    "\n",
    "-   syntax is virtually identical to Python literals!\n",
    "\n",
    "-   whitespace is irrelevant\n",
    "\n",
    "JSON processing:\n",
    "\n",
    "-   some subtle differences mean that not every Python literal can\n",
    "    directly be interpreted as JSON, and vice versa\\\n",
    "    (e.g. no support for tuples, both correspond to arrays)\n",
    "\n",
    "-   `json` module can dump any nested data structure to a JSON file, and\n",
    "    load such a structure from a file"
   ]
  },
  {
   "cell_type": "markdown",
   "metadata": {
    "slideshow": {
     "slide_type": "slide"
    }
   },
   "source": [
    "### File Formats: JSON Example\n",
    "\n",
    "    [{\"ID\": \"AF\",\n",
    "      \"Name\": \"Afghanistan\",\n",
    "      \"Provinces\":\n",
    "      [{\"ID\": \"BDS\", \"Name\": \"Badakshan\", \"Capital\": \"Fayzabad\"},\n",
    "       {\"ID\": \"BDG\", \"Name\": \"Badghis\", \"Capital\": \"Qala i Naw\"},\n",
    "       ...\n",
    "      ]\n",
    "     },\n",
    "     {\"ID\": \"AL\",\n",
    "      \"Name\": \"Albania\",\n",
    "       ...\n",
    "     },\n",
    "     ...\n",
    "    ]\n"
   ]
  },
  {
   "cell_type": "markdown",
   "metadata": {
    "slideshow": {
     "slide_type": "slide"
    }
   },
   "source": [
    "### File Formats: Binary Formats\n",
    "\n",
    "Many proprietary programs use **binary formats**:\n",
    "\n",
    "-   free-form byte sequences of any shape\n",
    "\n",
    "-   more efficient, especially for non-string data\n",
    "\n",
    "-   difficult to process\n",
    "\n",
    "-   example 1: encrypted files\n",
    "\n",
    "-   example 2: compressed files (e.g. DOCX and ODT formats)\n",
    "\n",
    "-   example 3: media files (PDF, MP3, \\...)"
   ]
  },
  {
   "cell_type": "markdown",
   "metadata": {
    "slideshow": {
     "slide_type": "slide"
    }
   },
   "source": [
    "### Encodings: Overview\n",
    "\n",
    "What is an **encoding**?\n",
    "\n",
    "-   intuitively: a mapping from characters to bit sequences\n",
    "\n",
    "-   example: `\"A\"` is `01000001`, `\"B\"` is `01000010`\n",
    "\n",
    "-   every text file encodes characters according to an encoding\n",
    "\n",
    "Most relevant encodings today:\n",
    "\n",
    "-   ASCII 7-Bit encoding (English only)\n",
    "\n",
    "-   ISO 8-Bit encodings (alphabets only)\n",
    "\n",
    "-   UTF-8 Unicode (all writing systems)\n",
    "\n"
   ]
  },
  {
   "cell_type": "markdown",
   "metadata": {
    "slideshow": {
     "slide_type": "slide"
    }
   },
   "source": [
    "Encodings in Python 3:\n",
    "\n",
    "-   by default, strings in Python are encoded in UTF-8\n",
    "\n",
    "-   if you work with files in UTF-8, you should not run into problems"
   ]
  },
  {
   "cell_type": "markdown",
   "metadata": {
    "slideshow": {
     "slide_type": "slide"
    }
   },
   "source": [
    "ASCII Encoding\n",
    "--------------\n",
    "\n",
    "Basic facts about **ASCII** encoding:\n",
    "\n",
    "-   arose from need for standardized encoding in late 1960s\n",
    "\n",
    "-   defined by ASA (American Standard Association) in multiple revisions\n",
    "\n",
    "-   ASCII: **American Standard Code for Information Interchange**\n",
    "\n",
    "-   wide range of control characters\n",
    "\n",
    "-   limited to uppercase and lowercase English alphabet\n",
    "\n",
    "-   basis for most of today's encodings"
   ]
  },
  {
   "cell_type": "markdown",
   "metadata": {
    "slideshow": {
     "slide_type": "slide"
    }
   },
   "source": [
    "### ASCII Basics \n",
    "\n",
    "\n",
    "7-bit encoding:\n",
    "\n",
    "-   decimal: 0 to 127\n",
    "\n",
    "-   binary: 0000000 to 1111111\n",
    "\n",
    "-   hexadecimal: 0x00 to 0x7F\n",
    "\n",
    "-   maximum capacity of 128 characters, all of which are used\n",
    "\n"
   ]
  },
  {
   "cell_type": "markdown",
   "metadata": {
    "slideshow": {
     "slide_type": "slide"
    }
   },
   "source": [
    "### ASCII Line breaks \n",
    "\n",
    "Line breaks:\n",
    "\n",
    "-   LF: **line feed** (`\\n`)\\\n",
    "    0001010 = 0x0A (decimal: 10)\\\n",
    "    \"move to next line\\\"\n",
    "\n",
    "-   CR: **carriage return** (`\\r`)\\\n",
    "    0001101 = 0x0D (decimal: 13)\\\n",
    "    \"move back to beginning of line, allow overprinting\"\n",
    "\n",
    "Line breaks differ between operating systems:\n",
    "\n",
    "-   Unix-based systems: `\\n`\\\n",
    "\n",
    "-   Windows: `\\r\\n`"
   ]
  },
  {
   "cell_type": "markdown",
   "metadata": {
    "slideshow": {
     "slide_type": "slide"
    }
   },
   "source": [
    "### ASCII Limitations\n",
    "ASCII has severe limitations for non-US usage:\n",
    "\n",
    "-   no umlauts\n",
    "\n",
    "-   no accents or other diacritics\n",
    "\n",
    "-   no symbols for currencies other than dollar\n",
    "\n",
    "Result:\n",
    "\n",
    "-   different modifications were established in different countries,\n",
    "    replacing different characters by symbols of local significance\n",
    "\n",
    "-   examples: ISCII (Indian scripts), TSCII (Tamil), VSCII (Vietnamese)\n",
    "\n",
    "-   sometimes changes are small, e.g. JIS C-6220 in Japan, replacing the\n",
    "    backslash with a Yen sign"
   ]
  },
  {
   "cell_type": "markdown",
   "metadata": {
    "slideshow": {
     "slide_type": "slide"
    }
   },
   "source": [
    "ISO 8-Bit Encodings\n",
    "-------------------\n",
    "\n",
    "ISO 8-Bit Encodings Step forward taken by **ISO/IEC 8859**:\n",
    "\n",
    "-   standardized extensions of ASCII\n",
    "\n",
    "-   first two variants defined in 1987\\\n",
    "    by ISO (International Organization for Standardization)\n",
    "\n",
    "-   additional variants added until 2001\n",
    "\n",
    "-   8-bit system: leading 0 bit for 7-bit ASCII characters\n",
    "\n",
    "-   e.g. 1010101 (ASCII) becomes **0**1010101 (ISO-8859)\n",
    "\n",
    "-   upper range of 128 characters used for localized graphical\n",
    "    characters\n",
    "\n",
    "-   different ISO-8859 standards tailored for different regions"
   ]
  },
  {
   "cell_type": "markdown",
   "metadata": {
    "slideshow": {
     "slide_type": "slide"
    }
   },
   "source": [
    "### ISO/IEC 8859\n",
    "\n",
    "ISO 8859-1\n",
    "\n",
    "<img src=\"iso-8859-1.png\" width=1000/>"
   ]
  },
  {
   "cell_type": "markdown",
   "metadata": {
    "slideshow": {
     "slide_type": "slide"
    }
   },
   "source": [
    "## ISO/IEC 8859\n",
    "\n",
    "Overview List of all ISO-8859 standards:\n",
    "\n",
    "-   ISO-8859-1: Western European\n",
    "\n",
    "-   ISO-8859-2: Central European\n",
    "\n",
    "-   ISO-8859-3: South European and Esperanto\n",
    "\n",
    "-   ISO-8859-4: Baltic, old\n",
    "\n",
    "-   ISO-8859-5: Cyrillic\n",
    "\n",
    "-   ISO-8859-6: Arabic\n",
    "\n",
    "-   ISO-8859-7: Greek\n",
    "\n"
   ]
  },
  {
   "cell_type": "markdown",
   "metadata": {
    "slideshow": {
     "slide_type": "slide"
    }
   },
   "source": [
    "-   ISO-8859-8: Hebrew\n",
    "\n",
    "-   ISO-8859-9: Turkish\n",
    "\n",
    "-   ISO-8859-10: Nordic\n",
    "\n",
    "-   ISO-8859-11: Thai (unofficial)\n",
    "\n",
    "-   ISO-8859-12: (does not exist)\n",
    "\n",
    "-   ISO-8859-13: Baltic, new\n",
    "\n",
    "-   ISO-8859-14: Celtic\n",
    "\n",
    "-   ISO-8859-15: Revised Eastern European\n",
    "\n",
    "-   ISO-8869-16: South-Eastern European"
   ]
  },
  {
   "cell_type": "markdown",
   "metadata": {
    "slideshow": {
     "slide_type": "slide"
    }
   },
   "source": [
    "**Unicode** is the predominant encoding standard in modern computing\n",
    "\n",
    "-   idea: provide one **universal encoding** for all languages,\\\n",
    "    both current and historic writing systems, symbols, ...\n",
    "\n",
    "-   first version of Unicode released in 1991 (2021: release of v. 14.0)\n",
    "\n",
    "-   Unicode code range can be encoded by **21 bits**\n",
    "\n",
    "-   multi-byte encoding with enough room for all current and many future\n",
    "    symbols ($1\\ 114\\ 111$, of which $136\\ 690$ are currently used)\n",
    "\n",
    "-   virtually universal coverage (139 scripts) with a single standard\n",
    "\n",
    "-   fonts are large and require advanced rendering techniques\n",
    "\n",
    "-   different fonts will be used for different parts of the range"
   ]
  },
  {
   "cell_type": "markdown",
   "metadata": {
    "slideshow": {
     "slide_type": "slide"
    }
   },
   "source": [
    "### Unicode\n",
    "\n",
    "In Python3, strings are represented internally in **UTF-8**:\n",
    "\n",
    "-   if the Unicode codepoint is $< 128$, a single byte is used (ASCII)\n",
    "\n",
    "-   otherwise, the codepoint is turned into a sequence of 2-4 bytes\n",
    "\n",
    "-   all characters used in official languages fit in 3 bytes or less\n",
    "\n",
    "Specifying non-unicode encodings in Python (will be converted):\n",
    "\n",
    "``` {language=\"python\"}\n",
    "ascii_file = open(file_name, encoding=\"ascii\", \"r\")\n",
    "latin1_file = open(file_name, encoding=\"latin-1\", \"w\")\n",
    "```\n",
    "\n"
   ]
  },
  {
   "cell_type": "markdown",
   "metadata": {
    "slideshow": {
     "slide_type": "slide"
    }
   },
   "source": [
    "# More on Functions\n",
    "\n",
    "### Using Return values (Recap)\n",
    "\n",
    "- a function call is an expression, i.e. it will evaluate to an object\n",
    "\n",
    "  ``` {language=\"python\"}\n",
    "  tuple(sorted(some_list)[0:3])\n",
    "  ```\n",
    "\n",
    "- if you use the result of a function call only once, it is not\n",
    "  necessary to assign it to a variable before using it!\n",
    "\n",
    "  ``` {language=\"python\"}\n",
    "  sorted_list = sorted(some_list) #this is unnecessary!\n",
    "  for item in sorted_list:\n",
    "    print(item)\n",
    "  ```\n",
    "\n",
    "---------------------------"
   ]
  },
  {
   "cell_type": "markdown",
   "metadata": {
    "slideshow": {
     "slide_type": "slide"
    }
   },
   "source": [
    "\n",
    "- some functions and methods are **fruitless** (return `None`), but\n",
    "  modify one of the objects handed over as arguments\n",
    "\n",
    "  ``` {language=\"python\"}\n",
    "  some_list.sort()\n",
    "  ```\n",
    "\n",
    "- some functions only have side effects, i.e. they only return `None`,\n",
    "  and do not modify any of the arguments, but still do have an effect\n",
    "\n",
    "  ``` {language=\"python\"}\n",
    "  print(\"This string will not be changed.\")\n",
    "  ```\n",
    "\n"
   ]
  },
  {
   "cell_type": "markdown",
   "metadata": {
    "slideshow": {
     "slide_type": "slide"
    }
   },
   "source": [
    "### More on Functions: Functions Calling Functions\n",
    "\n",
    "Reminder: functions can call each other!\n",
    "\n",
    "-   Example of a program consisting of functions which call each other:\n",
    "\n",
    " \n",
    "\n",
    "  ``` {language=\"python\"}\n",
    "  def dict_lookup(eng_word, tokens)\n",
    "    return inflect(eng_deu_dict[eng_word], tokens)\n",
    "  \n",
    "  def translate(sentence)\n",
    "    tokens = tokenize(sentence)\n",
    "    translated_tokens = list()\n",
    "    for token in tokens:\n",
    "      translated_tokens.append(dict_lookup(token, tokens))\n",
    "    return \" \".join(translated_tokens)\n",
    "  \n",
    "  if __name__ == \"__main__\":\n",
    "    example_sentence = \"I know him\"\n",
    "    result = translate(example_sentence)\n",
    "    print(result)\n",
    "  ```\n",
    "\n"
   ]
  },
  {
   "cell_type": "markdown",
   "metadata": {
    "slideshow": {
     "slide_type": "slide"
    }
   },
   "source": [
    "### More on Functions: The Call Stack\n",
    "\n",
    "Helpful concept: the **call stack**\n",
    "\n",
    "- each point during the program's execution can be defined by the\n",
    "  positions in which the function calls that have not terminated yet\n",
    "  have occurred; for our program, one state of the stack looks like\n",
    "  this:\n",
    "\n",
    "      2: inflect(\"kennen\", [\"I\", \"know\", \"him\"])\n",
    "      8: dict_lookup(\"know\", [\"I\", \"know\", \"him\"])\n",
    "      8: translated_tokens.append(...)\n",
    "      13: translate(\"I know him\")\n",
    "      __main__  \n",
    "\n",
    "- after termination of a function call, it is removed from the stack,\n",
    "  and control flow **reverts back to the new highest element on the\n",
    "  stack**"
   ]
  },
  {
   "cell_type": "markdown",
   "metadata": {
    "slideshow": {
     "slide_type": "slide"
    }
   },
   "source": [
    "# More on Loops\n",
    "\n",
    "### Looping over a Range\n",
    "\n",
    "Recap: one of the most basic iterables is the **range**!\n",
    "\n",
    "-   very often, we want our variable in a for loop to take every value\n",
    "    from a certain range of integers, e.g. all house numbers in a street\n",
    "\n",
    "-   example: modifying the values in part of a list"
   ]
  },
  {
   "cell_type": "code",
   "execution_count": null,
   "metadata": {},
   "outputs": [],
   "source": [
    "price_per_month = [60,60,70,80,80,90,100,170,150,70,60,80]\n",
    "for month in range(3,6):\n",
    "    old_price = price_per_month[month]\n",
    "    new_price = int(old_price * 1.2)\n",
    "    price_per_month[month] = new_price\n",
    "print(price_per_month)\n"
   ]
  },
  {
   "cell_type": "markdown",
   "metadata": {
    "slideshow": {
     "slide_type": "slide"
    }
   },
   "source": [
    "### More on Loops: Looping over Lines in a File\n",
    "\n",
    "Addition to file I/O: opened **file handles are iterables**!\n",
    "\n",
    "- example file `\"lines.txt\"`, and a loop over it:\n",
    "\n",
    "  ``` {language=\"python\"}\n",
    "  First line here.\n",
    "  Second line there.\n",
    "  ```\n"
   ]
  },
  {
   "cell_type": "code",
   "execution_count": null,
   "metadata": {},
   "outputs": [],
   "source": [
    "for line in open(\"lines.txt\", 'r'):\n",
    "    print(line.strip())\n",
    "    "
   ]
  },
  {
   "cell_type": "markdown",
   "metadata": {
    "slideshow": {
     "slide_type": "slide"
    }
   },
   "source": [
    "- but a file handle has state (\"remembers where it is\"):"
   ]
  },
  {
   "cell_type": "code",
   "execution_count": null,
   "metadata": {},
   "outputs": [],
   "source": [
    "lines = open(\"lines.txt\", 'r')\n",
    "for line in lines:\n",
    "    print(\"1st loop: \" + line.strip())\n",
    "for line in lines:\n",
    "    print(\"2nd loop: \" + line.strip())\n",
    "    "
   ]
  },
  {
   "cell_type": "markdown",
   "metadata": {},
   "source": [
    "- solution: reset file handle via `lines.seek(0)`"
   ]
  },
  {
   "cell_type": "markdown",
   "metadata": {
    "slideshow": {
     "slide_type": "slide"
    }
   },
   "source": [
    "### Usage of `while` Loops\n",
    "\n",
    "Question 1: What might this while loop be doing?\n",
    "\n",
    "``` {language=\"python\"}\n",
    "while command != \"quit\":\n",
    "  if command == \"left\":\n",
    "    player.direction.turn(-5)\n",
    "  elif command == \"right\":\n",
    "    player.direction.turn(+5)\n",
    "  elif command == \"accelerate\":\n",
    "    player.speed += 3\n",
    "  elif command == \"stop\":\n",
    "    player.speed -= 5\n",
    "    if player.speed < 0:\n",
    "      player.speed = 0\n",
    "  for obj in objects:\n",
    "    obj.continue_movement(1)\n",
    "  graphics.draw_scene()\n",
    "  command = get_next_command()\n",
    "```\n",
    "\n",
    "### "
   ]
  },
  {
   "cell_type": "markdown",
   "metadata": {
    "slideshow": {
     "slide_type": "slide"
    }
   },
   "source": [
    "### Usage of `while` Loops\n",
    "\n",
    "Question 2: What might this while loop be doing?\n",
    "\n",
    "``` {language=\"python\"}\n",
    "agenda = get_new_tasks()\n",
    "done = set()\n",
    "while len(agenda) > 0:\n",
    "  task = agenda.pop(0)\n",
    "  if is_simple(task):\n",
    "    task.carry_out()\n",
    "    done.add(task)\n",
    "  else:\n",
    "    subtasks = break_into_subtasks(task)\n",
    "    agenda.extend(subtasks)\n",
    "  new_tasks = get_new_tasks()\n",
    "  for task in new_tasks:\n",
    "    if task not in done:\n",
    "      agenda.append(task)\n",
    "```\n"
   ]
  },
  {
   "cell_type": "markdown",
   "metadata": {
    "slideshow": {
     "slide_type": "slide"
    }
   },
   "source": [
    "### More on Sorting: Reverse Order\n",
    "\n",
    "Default sorting order can be reverted:\n",
    "\n",
    "-   sorting is in ascending order by default (1 before 10, A before B)\n",
    "\n",
    "-   what if we want to compute e.g. a ranking,\\\n",
    "    where the highest score is best, and should be listed first?\n",
    "\n",
    "-   both `sort()` and `sorted()` support the named argument `reverse`\n",
    "    which takes a boolean value:"
   ]
  },
  {
   "cell_type": "code",
   "execution_count": null,
   "metadata": {},
   "outputs": [],
   "source": [
    "test_list = [5,3,14,5,1,2,3,7,8,9,12,-3,-4]\n",
    "print(sorted(test_list))\n"
   ]
  },
  {
   "cell_type": "code",
   "execution_count": null,
   "metadata": {},
   "outputs": [],
   "source": [
    "print(sorted(test_list, reverse=True))\n"
   ]
  },
  {
   "cell_type": "code",
   "execution_count": null,
   "metadata": {},
   "outputs": [],
   "source": [
    "test_list\n"
   ]
  },
  {
   "cell_type": "code",
   "execution_count": null,
   "metadata": {
    "slideshow": {
     "slide_type": "slide"
    }
   },
   "outputs": [],
   "source": [
    "test_list.sort(reverse=True)\n"
   ]
  },
  {
   "cell_type": "code",
   "execution_count": null,
   "metadata": {},
   "outputs": [],
   "source": [
    "test_list\n"
   ]
  },
  {
   "cell_type": "markdown",
   "metadata": {
    "slideshow": {
     "slide_type": "slide"
    }
   },
   "source": [
    "### Sorting a Dictionary by Value\n",
    "\n",
    "Sorting entries in a dictionary by their values:\n",
    "\n",
    "-   by default, sorting a dictionary will sort it by key\n",
    "\n",
    "-   a function value for the named argument `key` can override this\n",
    "\n",
    "-   for sorting a dict by value, one commonly used option is to use the\n",
    "    `itemgetter()` function from the `operator` module:"
   ]
  },
  {
   "cell_type": "code",
   "execution_count": null,
   "metadata": {},
   "outputs": [],
   "source": [
    "import operator\n",
    "f = operator.itemgetter(1)\n",
    "grades = {1717345 : \"D\", 1456345 : \"A\", 1334521: \"C\"}\n",
    "for (student_ID, grade) in sorted(grades.items(), key=f):\n",
    "    print(str(student_ID) + \": \" + grade)\n",
    "    "
   ]
  },
  {
   "cell_type": "markdown",
   "metadata": {},
   "source": [
    "- also works with the in-place `sort()` method, e.g. on a list of\n",
    "tuples!"
   ]
  },
  {
   "cell_type": "markdown",
   "metadata": {
    "slideshow": {
     "slide_type": "slide"
    }
   },
   "source": [
    "### More on Optimization\n",
    "\n",
    "Some basic facts about **optimization**:\n",
    "\n",
    "-   for every computable problem or task, there are infinitely many\n",
    "    programs which solve it; they will differ in memory and time usage!\n",
    "\n",
    "-   differences in speed can be huge, even if you might not notice it on\n",
    "    toy data (prefixes from a full frequency list takes minutes!)\n",
    "\n",
    "-   some **principles of optimization**:\n",
    "\n",
    "    -   avoid running costly computations (File I/O, search) multiple\n",
    "        times\n",
    "\n",
    "    -   avoid computing the same thing twice\n",
    "\n",
    "    -   avoid creating unnecessary objects\n",
    "\n",
    "-   get used to writing reasonably efficient code now,\\\n",
    "    it will be much harder later when you have formed habits!\n",
    "\n",
    "-   if you want to be extremely efficient,\\\n",
    "    learn more programming languages (C, Java)"
   ]
  },
  {
   "cell_type": "markdown",
   "metadata": {
    "slideshow": {
     "slide_type": "slide"
    }
   },
   "source": [
    "### Quiz: Efficient or Not? (1)\n",
    "\n",
    "- Is there any obvious way to optimize this code?\n",
    "\n",
    "  ``` {language=\"python\"}\n",
    "  older_student_ids = set()\n",
    "  newer_student_ids = set()\n",
    "  for line in open(\"participants.tsv\",\"r\"):\n",
    "    student_id = int(line.split(\"\\t\")[0])\n",
    "    if student_id < 3000000:\n",
    "      older_student_ids.add(student_id)\n",
    "    else:\n",
    "      newer_student_ids.add(student_id)\n",
    "  with open(\"older_student_ids.txt\",\"w\") as output:\n",
    "    for student_id in sorted(older_student_ids):\n",
    "      output.write(str(student_id) + \"\\n\")\n",
    "  with open(\"newer_student_ids.txt\",\"w\") as output:\n",
    "    for student_id in sorted(newer_student_ids):\n",
    "      output.write(str(student_id) + \"\\n\")\n",
    "  ```\n"
   ]
  },
  {
   "cell_type": "markdown",
   "metadata": {
    "slideshow": {
     "slide_type": "slide"
    }
   },
   "source": [
    "### Quiz: Efficient or Not? (2)\n",
    "\n",
    "- Is there any obvious way to optimize this code?\n",
    "\n",
    "  ``` {language=\"python\"}\n",
    "  students_by_id = dict()\n",
    "  for line in open(\"participants.tsv\",\"r\"):\n",
    "    student_id = line.split(\"\\t\")[0]\n",
    "    first_name = line.split(\"\\t\")[1]\n",
    "    last_name = line.split(\"\\t\")[2]\n",
    "    student_name = (first_name, last_name)\n",
    "    students_by_id[student_id] = student_name\n",
    "  for student_id in students_by_id.keys():\n",
    "    print(last_name + \", \" + first_name + \": \" + student_id)\n",
    "  ```\n"
   ]
  },
  {
   "cell_type": "markdown",
   "metadata": {
    "slideshow": {
     "slide_type": "slide"
    }
   },
   "source": [
    "### Quiz: Efficient or Not? (3)\n",
    "\n",
    "- Is there any obvious way to optimize this code?\n",
    "\n",
    "  ``` {language=\"python\"}\n",
    "  student_names = list()\n",
    "  for line in open(\"participants.tsv\",\"r\"):\n",
    "    first_name, last_name = line.split(\"\\t\")[1:3]\n",
    "    student_names.append((last_name, first_name))\n",
    "  for i in range(len(student_names)):\n",
    "    print(sorted(student_names)[i])\n",
    "  ```\n"
   ]
  },
  {
   "cell_type": "markdown",
   "metadata": {
    "slideshow": {
     "slide_type": "slide"
    }
   },
   "source": [
    "### Hints on Maintainability\n",
    "\n",
    "What is **maintainability** about?\n",
    "\n",
    "-   being able to quickly change the behavior of a program\\\n",
    "    by editing the code in as few places as possible\n",
    "\n",
    "-   being able to revisit a program years from now, and still understand\n",
    "    it\n",
    "\n",
    "-   being able to quickly add or change some functionality as\n",
    "    requirements change\n",
    "\n",
    "How can one ensure maintainability?\n",
    "\n",
    "-   if you use identical literals everywhere, store them in a global\n",
    "    variable!\n",
    "\n",
    "-   do not copy-and-paste code! (that's what functions and loops are\n",
    "    for!)\n",
    "\n",
    "-   comment your code!\n",
    "\n",
    "    -   informative variable names\n",
    "\n",
    "    -   block comments describing function behavior\n"
   ]
  },
  {
   "cell_type": "markdown",
   "metadata": {
    "slideshow": {
     "slide_type": "slide"
    }
   },
   "source": [
    "### Maintainability: Example\n",
    "\n",
    "How can the maintainability of this function be increased?\n",
    "\n",
    "``` {language=\"python\"}\n",
    "def print_matrix(mtx):\n",
    "  for row in mtx:\n",
    "    if row == mtx[0]:\n",
    "      continue\n",
    "    entry1 = str(row[1])[:6]\n",
    "    if len(entry1) < 6:\n",
    "      entry1 += (6 - len(entry1)) * \" \"\n",
    "    entry2 = str(row[2])[:6]\n",
    "    if len(entry2) < 6:\n",
    "      entry2 += (6 - len(entry2)) * \" \"\n",
    "    entry3 = str(row[3])[:6]\n",
    "    if len(entry3) < 6:\n",
    "      entry3 += (6 - len(entry3)) * \" \"\n",
    "    print(entry1 + \" \" + entry2 + \" \" + entry3)\n",
    "```\n",
    "\n",
    "\n",
    "\n"
   ]
  },
  {
   "cell_type": "markdown",
   "metadata": {
    "slideshow": {
     "slide_type": "slide"
    }
   },
   "source": [
    "### More on Optimization\n",
    "\n",
    "Some basic facts about **optimization**:\n",
    "\n",
    "-   for every computable problem or task, there are infinitely many\n",
    "    programs which solve it; they will differ in memory and time usage!\n",
    "\n",
    "-   differences in speed can be huge, even if you might not notice it on\n",
    "    toy data (prefixes from a full frequency list takes minutes!)\n",
    "\n",
    "-   some **principles of optimization**:\n",
    "\n",
    "    -   avoid running costly computations (File I/O, search) multiple\n",
    "        times\n",
    "\n",
    "    -   avoid computing the same thing twice\n",
    "\n",
    "    -   avoid creating unnecessary objects\n",
    "\n",
    "-   get used to writing reasonably efficient code now,\\\n",
    "    it will be much harder later when you have formed habits!\n",
    "\n",
    "-   if you want to be extremely efficient,\\\n",
    "    learn more programming languages (C, Java)"
   ]
  },
  {
   "cell_type": "markdown",
   "metadata": {
    "slideshow": {
     "slide_type": "slide"
    }
   },
   "source": [
    "### Quiz: Efficient or Not? (1)\n",
    "\n",
    "- Is there any obvious way to optimize this code?\n",
    "\n",
    "  ``` {language=\"python\"}\n",
    "  older_student_ids = set()\n",
    "  newer_student_ids = set()\n",
    "  for line in open(\"participants.tsv\",\"r\"):\n",
    "      student_id = int(line.split(\"\\t\")[0])\n",
    "      if student_id < 3000000:\n",
    "          older_student_ids.add(student_id)\n",
    "      else:\n",
    "          newer_student_ids.add(student_id)\n",
    "  with open(\"older_student_ids.txt\",\"w\") as output:\n",
    "      for student_id in sorted(older_student_ids):\n",
    "          output.write(str(student_id) + \"\\n\")\n",
    "  with open(\"newer_student_ids.txt\",\"w\") as output:\n",
    "      for student_id in sorted(newer_student_ids):\n",
    "          output.write(str(student_id) + \"\\n\")\n",
    "  ```\n"
   ]
  },
  {
   "cell_type": "markdown",
   "metadata": {
    "slideshow": {
     "slide_type": "slide"
    }
   },
   "source": [
    "### Quiz: Efficient or Not? (2)\n",
    "\n",
    "- Is there any obvious way to optimize this code?\n",
    "\n",
    "  ``` {language=\"python\"}\n",
    "  students_by_id = dict()\n",
    "  for line in open(\"participants.tsv\",\"r\"):\n",
    "      student_id = line.split(\"\\t\")[0]\n",
    "      first_name = line.split(\"\\t\")[1]\n",
    "      last_name = line.split(\"\\t\")[2]\n",
    "      student_name = (first_name, last_name)\n",
    "      students_by_id[student_id] = student_name\n",
    "  for student_id in students_by_id.keys():\n",
    "      print(last_name + \", \" + first_name + \": \" + student_id)\n",
    "  ```\n"
   ]
  },
  {
   "cell_type": "markdown",
   "metadata": {
    "slideshow": {
     "slide_type": "slide"
    }
   },
   "source": [
    "### Quiz: Efficient or Not? (3)\n",
    "\n",
    "- Is there any obvious way to optimize this code?\n",
    "\n",
    "  ``` {language=\"python\"}\n",
    "  student_names = list()\n",
    "  for line in open(\"participants.tsv\",\"r\"):\n",
    "      first_name, last_name = line.split(\"\\t\")[1:3]\n",
    "      student_names.append((last_name, first_name))\n",
    "  for i in range(len(student_names)):\n",
    "      print(sorted(student_names)[i])\n",
    "  ```\n"
   ]
  },
  {
   "cell_type": "markdown",
   "metadata": {
    "slideshow": {
     "slide_type": "slide"
    }
   },
   "source": [
    "### Hints on Maintainability\n",
    "\n",
    "What is **maintainability** about?\n",
    "\n",
    "-   being able to quickly change the behavior of a program\\\n",
    "    by editing the code in as few places as possible\n",
    "\n",
    "-   being able to revisit a program years from now, and still understand\n",
    "    it\n",
    "\n",
    "-   being able to quickly add or change some functionality as\n",
    "    requirements change\n",
    "\n",
    "How can one ensure maintainability?\n",
    "\n",
    "-   if you use identical literals everywhere, store them in a global\n",
    "    variable!\n",
    "\n",
    "-   do not copy-and-paste code! (that's what functions and loops are\n",
    "    for!)\n",
    "\n",
    "-   comment your code!\n",
    "\n",
    "    -   informative variable names\n",
    "\n",
    "    -   block comments describing function behavior\n"
   ]
  },
  {
   "cell_type": "markdown",
   "metadata": {
    "slideshow": {
     "slide_type": "slide"
    }
   },
   "source": [
    "### Maintainability: Example\n",
    "\n",
    "How can the maintainability of this function be increased?\n",
    "\n",
    "``` {language=\"python\"}\n",
    "def print_matrix(mtx):\n",
    "    for row in mtx:\n",
    "        if row == mtx[0]:\n",
    "            continue\n",
    "        entry1 = str(row[1])[:6]\n",
    "        if len(entry1) < 6:\n",
    "            entry1 += (6 - len(entry1)) * \" \"\n",
    "        entry2 = str(row[2])[:6]\n",
    "        if len(entry2) < 6:\n",
    "            entry2 += (6 - len(entry2)) * \" \"\n",
    "        entry3 = str(row[3])[:6]\n",
    "        if len(entry3) < 6:\n",
    "            entry3 += (6 - len(entry3)) * \" \"\n",
    "        print(entry1 + \" \" + entry2 + \" \" + entry3)\n",
    "```\n",
    "\n",
    "\n",
    "\n"
   ]
  },
  {
   "cell_type": "markdown",
   "metadata": {
    "slideshow": {
     "slide_type": "slide"
    }
   },
   "source": [
    "### Structured Programs: Modules\n",
    "\n",
    "Python code (in `.py` files) can be used in two ways:\n",
    "\n",
    "-   as a standalone program (e.g. using \"Run\" in PyCharm)\n",
    "\n",
    "-   as a module that is imported and used from inside another program\n",
    "\n",
    "For larger projects, this difference should be made use of:\n",
    "\n",
    "-   package the main functionality in different Python files\n",
    "\n",
    "-   import these files as modules from a main file where the execution\n",
    "    code resides, adding the imported names to the namespace\n",
    "\n",
    "-   this main code should only be executed when the code is run as a\n",
    "    standalone program"
   ]
  },
  {
   "cell_type": "markdown",
   "metadata": {
    "slideshow": {
     "slide_type": "slide"
    }
   },
   "source": [
    "### Structured Programs: The `main` block\n",
    "\n",
    "Revisiting the `main` block:\n",
    "\n",
    "- the line `if __name__ == \"__main__\"` checks whether the current\n",
    "  Python file is being executed as the main program\n",
    "\n",
    "- this is an important pattern to separate functionality (the function\n",
    "  definitions) from function (the executable program code)\n",
    "\n",
    "  ``` {language=\"python\"}\n",
    "  def calculation_step_1():\n",
    "      #some code here\n",
    "    \n",
    "  def calculation_step_2():\n",
    "      #some code here\n",
    "  \n",
    "  if __name__ = \"__main__\":\n",
    "      calculation_step_1()\n",
    "      calculation_step_2()\n",
    "    \n",
    "  ```\n",
    "\n",
    "- you have already used this pattern during development!"
   ]
  },
  {
   "cell_type": "markdown",
   "metadata": {
    "slideshow": {
     "slide_type": "slide"
    }
   },
   "source": [
    "### Structured Programs: Example\n",
    "\n",
    "- this program packages its functionality well:\n",
    "\n",
    "  ``` {language=\"python\"}\n",
    "  def sum_lists(list1, list2):\n",
    "      return sum(list1) + sum(list2)\n",
    "  \n",
    "  def read_floats_from_file(filename):\n",
    "      with open(filename, \"r\") as in_file:\n",
    "          lines = in_file.readlines()\n",
    "      float_list = []\n",
    "      for line in lines:\n",
    "          float_list.append(float(line.strip()))\n",
    "    return float_list\n",
    "  \n",
    "  if __name__ = \"__main__\":\n",
    "      l1 = read_floats_from_file(\"costs-2017-1.txt\")\n",
    "      l2 = read_floats_from_file(\"costs-2017-2.txt\")\n",
    "      print(\"Sum of both lists: \" + str(sum_lists(l1,l2)))\n",
    "  ```\n",
    "\n",
    "\n"
   ]
  },
  {
   "cell_type": "markdown",
   "metadata": {
    "slideshow": {
     "slide_type": "slide"
    }
   },
   "source": [
    "### Packages: Motivation\n",
    "\n",
    "-   some functionality is needed by many different programs, but are neither part of the core language (like `sorted()` or `str.lower()`), nor the built-in libraries (like `math` or  `itertools`)\n",
    "\n",
    "-   examples:\n",
    "    -   visualization of objects likes trees and graphs\n",
    "    -   conversion between different text formats\n",
    "    -   efficient algorithms for parsing\n",
    "\n",
    "-   programmers like to share code for such common tasks via package management systems, where they can search for relevant packages, and install them using automated tools which ensure compatibility\n",
    "\n",
    "-   as a novice programmer, you\n",
    "    -   do not need to reinvent the wheel\n",
    "    -   can focus on the functionality of your program that is actually new\n",
    "    -   can rely on stable code used (and tested) by many others\n",
    "\n",
    "-   later, you can contribute your own code to the community\n",
    "\n"
   ]
  },
  {
   "cell_type": "markdown",
   "metadata": {
    "slideshow": {
     "slide_type": "slide"
    }
   },
   "source": [
    "### Installing Packages\n",
    "\n",
    "How to install a new package:\n",
    "\n",
    "- google for packages that might provide the functionality you want\n",
    "\n",
    "- you will end up with some names of packages that look like they\n",
    "  might work (`the-package` will be our dummy name)\n",
    "\n",
    "- with the recommended configuration, try using **conda** first:\n",
    "\n",
    "  ``` {style=\"console\"}\n",
    "    $ conda install the-package\n",
    "  ```\n",
    "\n",
    "- package not found $\\rightarrow$ access Python Package Index\n",
    "  (**PyPI**) via **pip**:\n",
    "\n",
    "  ``` {style=\"console\"}\n",
    "    $ pip install the-package\n",
    "  ```\n",
    "\n",
    "- for the latter option, you might need to install pip first:\n",
    "\n",
    "  ``` {style=\"console\"}\n",
    "    $ conda install pip\n",
    "  ```\n"
   ]
  },
  {
   "cell_type": "markdown",
   "metadata": {
    "slideshow": {
     "slide_type": "slide"
    }
   },
   "source": [
    "### Using Packages\n",
    "\n",
    "How to use a package:\n",
    "\n",
    "-   installing a package makes a set of modules available (often only\n",
    "    one)\n",
    "\n",
    "-   take a look at the examples on the package's website\n",
    "\n",
    "-   try out the code from the first of the examples on an interactive\n",
    "    console to see whether everything works as expected\n",
    "\n",
    "-   slowly expand your usage of the new tool, trying out various\n",
    "    functions until you have what you want\n",
    "\n",
    "-   not sure about what one of the functions or variables in the\n",
    "    module's namespace does? Many packages provide good documentation\n",
    "    online!"
   ]
  },
  {
   "cell_type": "markdown",
   "metadata": {
    "slideshow": {
     "slide_type": "slide"
    }
   },
   "source": [
    "Trying out the `transliterate` package to convert between alphabets:\n",
    "\n",
    "- installing `transliterate`:\n",
    "\n",
    "  ``` {style=\"console\"}\n",
    "  $ conda install pip\n",
    "  $ pip install transliterate\n",
    "  ```\n",
    "\n",
    "- loading the `translit` function from the newly available package:\n",
    "\n",
    "  ``` {style=\"console\"}\n",
    "  >>> from transliterate import translit\n",
    "  ```\n",
    "\n",
    "- using translit to transliterate from Greek:\n",
    "\n",
    "  ``` {style=\"console\"}\n",
    "  >>> translit(\"Βικιπαίδεια%)\", \"el\", reversed=True)\n",
    "  'Vikipaideia'\n",
    "  ```\n",
    "\n",
    "- transliterating into Russian Cyrillic (will not work for\n",
    "  everything!):\n",
    "\n",
    "  ``` {style=\"console\"}\n",
    "  >>> transliterate.translit(\"Dortmund + Dresden\", 'ru')\n",
    "  'Дортмунд + Дресден)'\n",
    "  ```\n",
    "\n",
    "- more information: <https://pypi.org/project/transliterate/>"
   ]
  },
  {
   "cell_type": "markdown",
   "metadata": {
    "slideshow": {
     "slide_type": "slide"
    }
   },
   "source": [
    "### Using Classes\n",
    "\n",
    "Many packages define their own **classes** (datatypes):\n",
    "\n",
    "- class names are conventionally written with an uppercase letter\n",
    "  (dummy example: `Thing`)\n",
    "\n",
    "- classes are similar to the built-in complex datatypes like lists and\n",
    "  dictionaries: they define the behavior of objects of their type\n",
    "\n",
    "- creating an **instance** of a class (an object of its type) works by\n",
    "  calling its **constructor**, like you used `dict()` to create a new\n",
    "  dictionary:\n",
    "\n",
    "  ``` {style=\"console\"}\n",
    "  >>> my_thing = Thing()\n",
    "  ```\n",
    "\n",
    "- classes provide **methods**, i.e. functions which take an instance\n",
    "  of the class as their first argument, and calls to which are written\n",
    "  `instance.method(additional, arguments)`\n",
    "\n",
    "  ``` {style=\"console\"}\n",
    "  >>> my_thing.do_something()\n",
    "  >>> my_thing.process_this(some_other_object)\n",
    "  ```\n"
   ]
  },
  {
   "cell_type": "markdown",
   "metadata": {
    "slideshow": {
     "slide_type": "slide"
    }
   },
   "source": [
    "### Example: Processing Video Data\n",
    "\n",
    "Basic usage of MoviePy (after installation):\n",
    "\n",
    "- load classes and functions from the `editor` subpackage:\n",
    "\n",
    "  ``` {style=\"console\"}\n",
    "  >>> from moviepy.editor import VideoFileClip\n",
    "  ```\n",
    "\n",
    "- load a video clip from a file into a new instance of a classes\n",
    "  provided by MoviePy, handing filename as argument:\n",
    "\n",
    "  ``` {style=\"console\"}\n",
    "  >>> clip = VideoFileClip(\"yourvideo.mp4\")\n",
    "  ```\n",
    "\n",
    "\n"
   ]
  },
  {
   "cell_type": "markdown",
   "metadata": {
    "slideshow": {
     "slide_type": "slide"
    }
   },
   "source": [
    "- shorten the video to a ten-second fragment:\n",
    "\n",
    "  ``` {style=\"console\"}\n",
    "  >>> shortened_clip = clip.subclip(50,60)\n",
    "  ```\n",
    "\n",
    "- rotate the clip by 180 degrees:\n",
    "\n",
    "  ``` {style=\"console\"}\n",
    "  >>> final_clip = shortened_clip.rotate(180)\n",
    "  ```\n",
    "\n",
    "- save the result to a new file:\n",
    "\n",
    "  ``` {style=\"console\"}\n",
    "  >>> final_clip.write_videofile(\"processed.webm\", fps=25)\n",
    "  ```"
   ]
  },
  {
   "cell_type": "markdown",
   "metadata": {
    "slideshow": {
     "slide_type": "slide"
    }
   },
   "source": [
    "### Pattern Detection in Strings\n",
    "\n",
    "In many applications, we need to **find strings matching a pattern**:\n",
    "\n",
    "-   find all documents containing a given name\n",
    "\n",
    "-   find example sentences for the usage of some word in a corpus\n",
    "\n",
    "-   find the places in your code where you used some variable\n",
    "\n",
    "Also, we often need to **extract parts of a string** matching a pattern:\n",
    "\n",
    "-   extract addresses from a text\n",
    "\n",
    "-   extract everything that is formatted like a name\\\n",
    "    (e.g. a sequence of several tokens starting with uppercase letters)\n",
    "\n",
    "-   extract the words which can occur as arguments to a specific verb\n",
    "    from a corpus (e.g. to determine selectional restrictions)"
   ]
  },
  {
   "cell_type": "markdown",
   "metadata": {
    "slideshow": {
     "slide_type": "slide"
    }
   },
   "source": [
    "### Regular Expressions: Basics\n",
    "\n",
    " What are **regular expressions** (short: **regex**)?\n",
    "\n",
    "-   a language of patterns which define sets of strings\n",
    "\n",
    "-   **literal characters** (mostly letters of the alphabet) represent\n",
    "    themselves in a pattern\n",
    "\n",
    "-   **special characters** (mostly punctuation) do not represent\n",
    "    themselves, but modify the meaning of surrounding patterns:\n",
    "\n"
   ]
  },
  {
   "cell_type": "markdown",
   "metadata": {
    "slideshow": {
     "slide_type": "slide"
    }
   },
   "source": [
    "-   first examples of special characters:\n",
    "\n",
    "    -   plus `+` designates one or more instances of the previous\n",
    "        character:\n",
    "        \n",
    "        `\"ba+\"` represents `{\"ba\", \"baa\", \"baaa\", ...}`\n",
    "\n",
    "    -   square brackets `[]` represent character sets:\n",
    "    \n",
    "        `\"ba[tr]\"` represents `{\"bat\", \"bar\"}`\n",
    "\n",
    "    -   both can be combined: `\"ba[tr]+\"` represents\\\n",
    "        `{\"bat\", \"bar\", \"batt\", \"batr\", \"bart\", \"barr\", \"battt\", \"battr\", \"batrt\", \"batrr\", \"bartt\", \"bartr\", \"barrt\", \"barrr\", \"batttt\", \"batttr\", \"battrt\", \"battrr\", ...}`\n"
   ]
  },
  {
   "cell_type": "markdown",
   "metadata": {
    "slideshow": {
     "slide_type": "slide"
    }
   },
   "source": [
    "### Regular Expressions: Quantifiers\n",
    "\n",
    "**Quantifiers** range over the preceding item and decide how many times\n",
    "it can or must be repeated to be matched:\n",
    "\n",
    "-   `*` for zero or more repetitions\n",
    "\n",
    "-   `+` for at least one repetition\n",
    "\n",
    "-   `?` for optional items (zero repetitions or one repetition)\n",
    "\n",
    "More general quantification can be achieved by `{min, max}`, where `min`\n",
    "and `max` must be positive integers:\n",
    "\n",
    "-   `\"a{4,6}\"` matches the strings `\"aaaa\"`, `\"aaaaa\"`, and `\"aaaaaa\"`\n",
    "\n",
    "-   `\"[01]{8}\"` matches bitstrings of length 8 (byte representations)\n",
    "\n",
    "-   `\"0{2,}\"` matches sequences of at least 2 zeroes"
   ]
  },
  {
   "cell_type": "markdown",
   "metadata": {
    "slideshow": {
     "slide_type": "slide"
    }
   },
   "source": [
    "### Regular Expressions: The Wildcard\n",
    "\n",
    "The **wildcard symbol** `.` (the dot) matches any character except the\n",
    "new-line character, e.g.\n",
    "\n",
    "-   `\"h.t\"` matches `hat`, `hot`, and `hit`, but not `heat`\n",
    "\n",
    "-   `\".a.a.a\"` matches `banana` and `papaya`, but not `kaaba`\n",
    "\n",
    "-   `\"9.00\"` matches `9a00`, `9100`, `9y00`, and `9c00`, not only\n",
    "    `9.00`\\\n",
    "    (you need to **escape** the dot for that: `\"9\\.00\"`)\n",
    "\n",
    "-   `\" .{3} \"` matches any three-character word\n",
    "\n",
    "Special symbols match the beginning and the end of the line:\n",
    "\n",
    "-   `\"^\"` matches the beginning of the line\n",
    "\n",
    "-   `\"$\"` matches the end of the line"
   ]
  },
  {
   "cell_type": "markdown",
   "metadata": {
    "slideshow": {
     "slide_type": "slide"
    }
   },
   "source": [
    "### Regular Expressions: Character Sets and Ranges\n",
    "\n",
    "Brackets `[ ]` define **character sets** matching a single character,\n",
    "and can be **negated** using a caret (`^`) after the opening bracket:\n",
    "\n",
    "-   `[aeiou]` matches one (Latin) vowel\n",
    "\n",
    "-   `[^aeiou]` matches everything except Latin vowels\n",
    "\n",
    "Some character sets can conveniently be defined using **character\n",
    "ranges**:\n",
    "\n",
    "-   `[A-Z]` is the same as `[ABCDEFGHIJKLMNOPQRSTUVWXYZ]`\n",
    "\n",
    "-   `[0-9]` is the same as `[0123456789]`\n",
    "\n",
    "Several escaped characters serve as convenient shorthands:\n",
    "\n",
    "-   `\\d` for digits (= `[0-9]`)\n",
    "\n",
    "-   `\\w` for word characters (= `[a-zA-Z0-9_]`)\n",
    "\n",
    "-   `\\s` for whitespace (= `[ \\t\\r\\n]`)"
   ]
  }
 ],
 "metadata": {
  "@webio": {
   "lastCommId": null,
   "lastKernelId": null
  },
  "celltoolbar": "Slideshow",
  "kernelspec": {
   "display_name": "Python 3 (ipykernel)",
   "language": "python",
   "name": "python3"
  },
  "language_info": {
   "codemirror_mode": {
    "name": "ipython",
    "version": 3
   },
   "file_extension": ".py",
   "mimetype": "text/x-python",
   "name": "python",
   "nbconvert_exporter": "python",
   "pygments_lexer": "ipython3",
   "version": "3.9.7"
  },
  "latex_envs": {
   "LaTeX_envs_menu_present": true,
   "autoclose": false,
   "autocomplete": true,
   "bibliofile": "biblio.bib",
   "cite_by": "apalike",
   "current_citInitial": 1,
   "eqLabelWithNumbers": true,
   "eqNumInitial": 1,
   "hotkeys": {
    "equation": "Ctrl-E",
    "itemize": "Ctrl-I"
   },
   "labels_anchors": false,
   "latex_user_defs": false,
   "report_style_numbering": false,
   "user_envs_cfg": false
  },
  "rise": {
   "enable_chalkboard": true
  }
 },
 "nbformat": 4,
 "nbformat_minor": 4
}
