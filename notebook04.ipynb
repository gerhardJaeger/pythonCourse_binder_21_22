{
 "cells": [
  {
   "cell_type": "markdown",
   "metadata": {
    "slideshow": {
     "slide_type": "slide"
    }
   },
   "source": [
    "# Methods I: Programming and Data Analysis\n",
    "\n",
    "## Session 04: Functions, Modules, Conditional Execution\n",
    "\n",
    "### Gerhard Jäger\n",
    "\n",
    "#### (based on Johannes Dellert's slides)\n",
    "\n",
    "November 16, 2021"
   ]
  },
  {
   "cell_type": "markdown",
   "metadata": {
    "slideshow": {
     "slide_type": "slide"
    }
   },
   "source": [
    "\n",
    "\n",
    "### Defining Functions\n",
    "\n",
    "- basic syntax for **defining a function** (don't forget the\n",
    "  brackets!):\n",
    "\n",
    "  ``` {language=\"python\"}\n",
    "  def my_function():\n",
    "    <statement1>\n",
    "    <statement2>\n",
    "    ...\n",
    "  ```\n",
    "\n",
    "- Example: a function which prints a block of program information\n"
   ]
  },
  {
   "cell_type": "code",
   "execution_count": 1,
   "metadata": {},
   "outputs": [],
   "source": [
    "def print_program_info():\n",
    "    print(\"SlightlyUselessProgram v. 1.0.2\")\n",
    "    print(\"© Johannes Dellert, 2018\")\n",
    "    print(\"Type \\\"help\\\" for more information.\")"
   ]
  },
  {
   "cell_type": "markdown",
   "metadata": {
    "slideshow": {
     "slide_type": "slide"
    }
   },
   "source": [
    "\n",
    "### Calling Functions\n",
    "\n",
    "-   a function definition is a (multiline) statement, and can be seen as\n",
    "    a variant of variable assignment as it also assigns an object to a\n",
    "    name\n",
    "\n",
    "-   the code inside the function will not be executed after the\n",
    "    definition, not even on the interactive console\n",
    "\n",
    "-   to execute the inner code of a function, one needs to **call** it\n",
    "\n",
    "-   user-defined functions are called like any other, using **`()`**:"
   ]
  },
  {
   "cell_type": "code",
   "execution_count": 2,
   "metadata": {},
   "outputs": [
    {
     "name": "stdout",
     "output_type": "stream",
     "text": [
      "SlightlyUselessProgram v. 1.0.2\n",
      "© Johannes Dellert, 2018\n",
      "Type \"help\" for more information.\n"
     ]
    }
   ],
   "source": [
    "print_program_info()"
   ]
  },
  {
   "cell_type": "markdown",
   "metadata": {
    "slideshow": {
     "slide_type": "slide"
    }
   },
   "source": [
    "- important: the definition must have happened before the call"
   ]
  },
  {
   "cell_type": "code",
   "execution_count": 3,
   "metadata": {},
   "outputs": [
    {
     "ename": "NameError",
     "evalue": "name 'print_additional_info' is not defined",
     "output_type": "error",
     "traceback": [
      "\u001b[1;31m---------------------------------------------------------------------------\u001b[0m",
      "\u001b[1;31mNameError\u001b[0m                                 Traceback (most recent call last)",
      "\u001b[1;32m~\\AppData\\Local\\Temp/ipykernel_12756/3006974198.py\u001b[0m in \u001b[0;36m<module>\u001b[1;34m\u001b[0m\n\u001b[1;32m----> 1\u001b[1;33m \u001b[0mprint_additional_info\u001b[0m\u001b[1;33m(\u001b[0m\u001b[1;33m)\u001b[0m\u001b[1;33m\u001b[0m\u001b[1;33m\u001b[0m\u001b[0m\n\u001b[0m\u001b[0;32m      2\u001b[0m \u001b[1;33m\u001b[0m\u001b[0m\n\u001b[0;32m      3\u001b[0m \u001b[1;32mdef\u001b[0m \u001b[0mprint_additional_info\u001b[0m\u001b[1;33m(\u001b[0m\u001b[1;33m)\u001b[0m\u001b[1;33m:\u001b[0m\u001b[1;33m\u001b[0m\u001b[1;33m\u001b[0m\u001b[0m\n\u001b[0;32m      4\u001b[0m     \u001b[0mprint\u001b[0m\u001b[1;33m(\u001b[0m\u001b[1;34m\"developed for Python 3.9\"\u001b[0m\u001b[1;33m)\u001b[0m\u001b[1;33m\u001b[0m\u001b[1;33m\u001b[0m\u001b[0m\n",
      "\u001b[1;31mNameError\u001b[0m: name 'print_additional_info' is not defined"
     ]
    }
   ],
   "source": [
    "print_additional_info()\n",
    "\n",
    "def print_additional_info():\n",
    "    print(\"developed for Python 3.9\")"
   ]
  },
  {
   "cell_type": "code",
   "execution_count": 4,
   "metadata": {},
   "outputs": [
    {
     "name": "stdout",
     "output_type": "stream",
     "text": [
      "developed for Python 3.9\n"
     ]
    }
   ],
   "source": [
    "def print_additional_info():\n",
    "    print(\"developed for Python 3.9\")\n",
    "print_additional_info()"
   ]
  },
  {
   "cell_type": "markdown",
   "metadata": {
    "slideshow": {
     "slide_type": "slide"
    }
   },
   "source": [
    "### Calling Functions: Nested Calls\n",
    "\n",
    "Functions can call other functions:\n",
    "\n",
    "-   after a call is finished, execution of the program resumes in the\n",
    "    calling function with the next statement after the call\n",
    "\n",
    "-   Question: What gets printed to standard output?"
   ]
  },
  {
   "cell_type": "code",
   "execution_count": 5,
   "metadata": {},
   "outputs": [
    {
     "name": "stdout",
     "output_type": "stream",
     "text": [
      "Program started.\n",
      "Outer function called.\n",
      "Inner function call.\n",
      "Outer function call complete.\n",
      "Program finished.\n"
     ]
    }
   ],
   "source": [
    "def my_inner_function(): \n",
    "    print(\"Inner function call.\")\n",
    "\n",
    "def my_outer_function():\n",
    "    print(\"Outer function called.\")\n",
    "    my_inner_function()\n",
    "    print(\"Outer function call complete.\")\n",
    "\n",
    "\n",
    "print(\"Program started.\")\n",
    "my_outer_function()\n",
    "print(\"Program finished.\")"
   ]
  },
  {
   "cell_type": "markdown",
   "metadata": {
    "slideshow": {
     "slide_type": "slide"
    }
   },
   "source": [
    "### Parameters\n",
    "\n",
    "Functions can have **parameters**, i.e. local variables which\n",
    "\n",
    "-   are not accessible outside the function\n",
    "\n",
    "-   but receive their initial value from outside as the arguments of the\n",
    "    call\n",
    "\n",
    "-   serve to get information from the outside of the function to the\n",
    "    inside\n",
    "\n",
    "Example:"
   ]
  },
  {
   "cell_type": "code",
   "execution_count": 12,
   "metadata": {},
   "outputs": [
    {
     "name": "stdout",
     "output_type": "stream",
     "text": [
      "we (12%)\n",
      "are (19%)\n"
     ]
    }
   ],
   "source": [
    "def print_word_percentage(word, overall_length):\n",
    "    word_percentage = round(len(word) / overall_length * 100)\n",
    "    print(word + \" (\" + str(word_percentage) + \"%)\")\n",
    "\n",
    "print_word_percentage(\"we\",16) \n",
    "print_word_percentage(\"are\",16)\n",
    "\n"
   ]
  },
  {
   "cell_type": "markdown",
   "metadata": {
    "slideshow": {
     "slide_type": "slide"
    }
   },
   "source": [
    "### Return statements\n",
    "\n",
    "A **`return`** statement\n",
    "\n",
    "-   terminates the function call, causing program flow to revert to the\n",
    "    place where function was called\n",
    "\n",
    "-   defines the object that the function call will evaluate to,\\\n",
    "    which can then be assigned to a variable like any other object\n",
    "\n",
    "-   serves to get information back from the inside of the function\n"
   ]
  },
  {
   "cell_type": "markdown",
   "metadata": {
    "slideshow": {
     "slide_type": "slide"
    }
   },
   "source": [
    "Example:"
   ]
  },
  {
   "cell_type": "code",
   "execution_count": 9,
   "metadata": {
    "slideshow": {
     "slide_type": "-"
    }
   },
   "outputs": [],
   "source": [
    "def get_word_percentage(word, overall_length):\n",
    "    word_percentage = round(len(word) / overall_length * 100)\n",
    "    return word_percentage\n",
    "\n",
    "word1_percentage = get_word_percentage(\"we\", 16)\n",
    "word2_percentage = get_word_percentage(\"are\", 16)"
   ]
  },
  {
   "cell_type": "code",
   "execution_count": 10,
   "metadata": {},
   "outputs": [
    {
     "name": "stdout",
     "output_type": "stream",
     "text": [
      "12\n",
      "19\n"
     ]
    }
   ],
   "source": [
    "print(word1_percentage)\n",
    "print(word2_percentage)\n"
   ]
  },
  {
   "cell_type": "markdown",
   "metadata": {
    "slideshow": {
     "slide_type": "slide"
    }
   },
   "source": [
    "### Multiple return values\n",
    "\n",
    "Unlike other languages, Python supports **multiple return values**:\n",
    "\n",
    "-   multiple return values can be combined with commas\\\n",
    "    (technically, this creates a tuple; see Session 6)\n",
    "\n",
    "-   the result of the function call needs to be assigned to the same\n",
    "    number of variables, also separated by commas\n",
    "\n",
    "Example:"
   ]
  },
  {
   "cell_type": "code",
   "execution_count": 13,
   "metadata": {},
   "outputs": [
    {
     "name": "stdout",
     "output_type": "stream",
     "text": [
      "we (2, 12%)\n"
     ]
    }
   ],
   "source": [
    "def get_word_statistics(word, overall_length):\n",
    "    word_percentage = round(len(word) / overall_length * 100)\n",
    "    return word, len(word), word_percentage\n",
    "\n",
    "w, wlen, wperc = get_word_statistics(\"we\", 16)\n",
    "print(w + \" (\" + str(wlen) + \", \" + str(wperc) + \"%)\")\n"
   ]
  },
  {
   "cell_type": "markdown",
   "metadata": {
    "slideshow": {
     "slide_type": "slide"
    }
   },
   "source": [
    "### Example: Suboptimal Code\n"
   ]
  },
  {
   "cell_type": "code",
   "execution_count": 16,
   "metadata": {},
   "outputs": [],
   "source": [
    "word1, word2, word3 = \"remember\", \"the\", \"milk\"\n"
   ]
  },
  {
   "cell_type": "code",
   "execution_count": 17,
   "metadata": {},
   "outputs": [
    {
     "name": "stdout",
     "output_type": "stream",
     "text": [
      "remember (53%) the (20%) milk (27%)\n"
     ]
    }
   ],
   "source": [
    "overall_length = len(word1) + len(word2) + len(word3)\n",
    "word1_ratio = len(word1) / overall_length\n",
    "word1_percentage = round(word1_ratio * 100)\n",
    "word1_string = word1 + \" \"\n",
    "word1_string += \"(\" + str(word1_percentage) + \"%)\"\n",
    "word2_ratio = len(word2) / overall_length\n",
    "word2_percentage = round(word2_ratio * 100)\n",
    "word2_string = word2 + \" \"\n",
    "word2_string += \"(\" + str(word2_percentage) + \"%)\"\n",
    "word3_ratio = len(word3) / overall_length\n",
    "word3_percentage = round(word3_ratio * 100)\n",
    "word3_string = word3 + \" \"\n",
    "word3_string += \"(\" + str(word3_percentage) + \"%)\"\n",
    "print(word1_string + \" \" + word2_string + \" \" + word3_string)\n"
   ]
  },
  {
   "cell_type": "markdown",
   "metadata": {
    "slideshow": {
     "slide_type": "slide"
    }
   },
   "source": [
    "### Example: Optimized Code\n",
    "\n",
    "Use of functions reduces the number of almost identical fragments:"
   ]
  },
  {
   "cell_type": "code",
   "execution_count": 18,
   "metadata": {},
   "outputs": [
    {
     "name": "stdout",
     "output_type": "stream",
     "text": [
      "remember (53%) the (20%) milk (27%)\n"
     ]
    }
   ],
   "source": [
    "def get_word_string(word, overall_length):\n",
    "    word_ratio = len(word) / overall_length\n",
    "    word_percentage = round(word_ratio * 100)\n",
    "    return word + \" (\" + str(word_percentage) + \"%)\"\n",
    "\n",
    "\n",
    "overall_length = len(word1) + len(word2) + len(word3)\n",
    "word1_string = get_word_string(word1, overall_length)\n",
    "word2_string = get_word_string(word2, overall_length)\n",
    "word3_string = get_word_string(word3, overall_length)\n",
    "print(word1_string + \" \" + word2_string + \" \" + word3_string)\n"
   ]
  },
  {
   "cell_type": "markdown",
   "metadata": {
    "slideshow": {
     "slide_type": "slide"
    }
   },
   "source": [
    "### Testing\n",
    "\n",
    "To build a reliable program, we must do systematic **testing** to ensure\n",
    "it does not have any logic errors (**bugs**):\n",
    "\n",
    "-   **unit testing** (ensuring that each unit, e.g. each function, does\n",
    "    what it should do) can be done automatically\n",
    "\n",
    "-   **integration testing** is still done manually (not relevant in this\n",
    "    course)\n",
    "\n",
    "-   a unit testing framework is included in Python\n",
    "\n",
    "-   we are using this possibility to test your code\n",
    "\n",
    "-   **everything we check will be the behavior of functions**"
   ]
  },
  {
   "cell_type": "markdown",
   "metadata": {
    "slideshow": {
     "slide_type": "slide"
    }
   },
   "source": [
    "### Unit testing\n",
    "\n",
    "Some basic information about our **unit testing** procedure:\n",
    "\n",
    "-   the most basic element is the **assert statement**\n",
    "\n",
    "-   each statement represents a basic fact which should be the case if\n",
    "    the program works correctly (and will typically count one point)\n",
    "\n",
    "-   `assertEquals(value, expression)`, the most important method, checks\n",
    "    whether an expression correctly evaluates to a given value\n",
    "\n",
    "-   you do not yet need to understand everything about the following\n",
    "    code\n",
    "\n",
    "-   but you can (and should) execute it to test your solution\n",
    "\n",
    "-   code on which the test program doesn't run will not be accepted"
   ]
  },
  {
   "attachments": {
    "image.png": {
     "image/png": "[encoded data removed]"
    }
   },
   "cell_type": "markdown",
   "metadata": {
    "slideshow": {
     "slide_type": "slide"
    }
   },
   "source": [
    "### Unit testing: Example\n",
    "\n",
    "![image.png](attachment:image.png)\n"
   ]
  },
  {
   "attachments": {
    "image-2.png": {
     "image/png": "[encoded data removed]"
    }
   },
   "cell_type": "markdown",
   "metadata": {
    "slideshow": {
     "slide_type": "slide"
    }
   },
   "source": [
    "### Unit testing: Example\n",
    "\n",
    "Initial output:\n",
    "![image-2.png](attachment:image-2.png)"
   ]
  },
  {
   "cell_type": "markdown",
   "metadata": {
    "slideshow": {
     "slide_type": "slide"
    }
   },
   "source": [
    "### Unit testing: Example\n",
    "\n",
    "Final output (if you get this, you can submit):\n",
    "\n",
    "``` {style=\"console\"}\n",
    "collected 3 items\n",
    "test_ex_01.py ...                    [100%]\n",
    "\n",
    "======== 3 passed in 0.01 seconds ========\n",
    "Process finished with exit code 0\n",
    "```\n",
    "\n",
    "\n",
    "=========="
   ]
  },
  {
   "cell_type": "markdown",
   "metadata": {
    "slideshow": {
     "slide_type": "slide"
    }
   },
   "source": [
    "### User Input on the Console\n",
    "\n",
    "The **`input()`** function\n",
    "\n",
    "-   causes program execution to pause, displaying the (optional)\n",
    "    argument as a prompt after which the user may type something\n",
    "\n",
    "-   waits until the user has typed a line\n",
    "\n",
    "-   returns what the user typed as a string\n",
    "\n",
    "Example:\n",
    "\n",
    "``` {language=\"python\"}\n",
    "print(\"Welcome to the impolite program.\")\n",
    "name = input(\"Enter your name: \")\n",
    "inverted_name = name.lower()[::-1].title()\n",
    "print(\"I am going to call you \" + inverted_name + \", then.\")\n",
    "```\n",
    "\n",
    "Result:\n",
    "\n",
    "``` {style=\"console\"}\n",
    "Welcome to the impolite program.\n",
    "Enter your name: Johannes Dellert\n",
    "I am going to call you Trelled Sennahoj, then.\n",
    "```\n"
   ]
  },
  {
   "cell_type": "markdown",
   "metadata": {
    "slideshow": {
     "slide_type": "slide"
    }
   },
   "source": [
    "# Errors\n",
    "\n",
    "### Error Types\n",
    "\n",
    "-   errors are not a problem during development, but very helpful\n",
    "    feedback\n",
    "\n",
    "-   errors can occur at three stages which require different strategies:\n",
    "\n",
    "    -   **compile errors**: the program stops at the initial syntax\n",
    "        check because something is broken (it does not follow the\n",
    "        syntactic rules)\n",
    "\n",
    "    -   **runtime errors**: the program executes but stops at some point\n",
    "        because a statement fails to execute (violates some assumption\n",
    "        Python makes)\n",
    "\n",
    "    -   **logic errors**: everything is executed and the program runs\n",
    "        through without problems, but the result is not as expected\n",
    "\n",
    "-   compile errors are the easiest to fix (Python will help you a lot)\n",
    "\n",
    "-   logic errors can be difficult to notice (**testing**),\\\n",
    "    and sometimes extremely tough to fix (**debugging**)"
   ]
  },
  {
   "cell_type": "markdown",
   "metadata": {
    "slideshow": {
     "slide_type": "slide"
    }
   },
   "source": [
    "### Compile Error: Example"
   ]
  },
  {
   "cell_type": "code",
   "execution_count": 30,
   "metadata": {},
   "outputs": [],
   "source": [
    "word1, word2, word3 = \"getting\", \"things\", \"done\"\n"
   ]
  },
  {
   "cell_type": "code",
   "execution_count": 32,
   "metadata": {},
   "outputs": [
    {
     "name": "stdout",
     "output_type": "stream",
     "text": [
      "getting (41%) things (35%) done (24%)\n"
     ]
    }
   ],
   "source": [
    "def get_word_string(word, overall_length):\n",
    "    word_ratio = len(word) / overall_length\n",
    "    word_percentage = round(word_ratio * 100)\n",
    "    return word + \" (\" + str(word_percentage) + \"%)\"\n",
    "\n",
    "overall_length = len(word1) + len(word2) + len(word3)\n",
    "word1_string = get_word_string(word1, overall_length)\n",
    "word2_string = get_word_string(word2, overall_length)\n",
    "word3_string = get_word_string(word3, overall_length)\n",
    "print(word1_string + \" \" + word2_string + \" \" + word3_string)\n"
   ]
  },
  {
   "cell_type": "markdown",
   "metadata": {},
   "source": [
    "Spyder will show you this problem with a red circle at the margin!"
   ]
  },
  {
   "cell_type": "markdown",
   "metadata": {
    "slideshow": {
     "slide_type": "slide"
    }
   },
   "source": [
    "### Runtime Error: Example"
   ]
  },
  {
   "cell_type": "code",
   "execution_count": 36,
   "metadata": {},
   "outputs": [],
   "source": [
    "def get_word_string(word, overall_length):\n",
    "    word_ratio = len(word) / overall_length\n",
    "    word_percentage = round(word_ratio * 100)\n",
    "    return word + \" (\" + word_percentage + \"%)\"\n"
   ]
  },
  {
   "cell_type": "code",
   "execution_count": 37,
   "metadata": {},
   "outputs": [
    {
     "name": "stdout",
     "output_type": "stream",
     "text": [
      "overall length: 17\n"
     ]
    }
   ],
   "source": [
    "\n",
    "overall_length = len(word1) + len(word2) + len(word3)\n",
    "print(\"overall length: \" + str(overall_length))\n",
    "word1_string = get_word_string(word1, overall_length)"
   ]
  },
  {
   "cell_type": "markdown",
   "metadata": {
    "slideshow": {
     "slide_type": "slide"
    }
   },
   "source": [
    "### Logic Error: Example"
   ]
  },
  {
   "cell_type": "code",
   "execution_count": 39,
   "metadata": {},
   "outputs": [
    {
     "name": "stdout",
     "output_type": "stream",
     "text": [
      "getting (41%) things (35%) done (24%)\n"
     ]
    }
   ],
   "source": [
    "def get_word_string(word, overall_length):\n",
    "    word_ratio = len(word) / overall_length\n",
    "    word_percentage = round(word_ratio * 100)\n",
    "    return word + \" (\" + str(word_percentage) + \"%)\"\n",
    "\n",
    "overall_length = len(word1) + len(word2) + len(word3)\n",
    "word1_string = get_word_string(word1, overall_length)\n",
    "word2_string = get_word_string(word2, overall_length)\n",
    "word3_string = get_word_string(word3, overall_length)\n",
    "print(word1_string + \" \" + word2_string + \" \" + word3_string)\n",
    "      "
   ]
  },
  {
   "cell_type": "markdown",
   "metadata": {
    "slideshow": {
     "slide_type": "slide"
    }
   },
   "source": [
    "# Modules\n",
    "\n",
    "### Modules: Basics\n",
    "\n",
    "**Modules**\n",
    "\n",
    "-   are Python's mechanism for distributing code across several files\n",
    "\n",
    "-   each module is stored in a `.py` file\n",
    "\n",
    "-   provide functionality by assigning objects to variables and\n",
    "    functions\n",
    "\n",
    "-   can contain collections of useful functions for reuse\n",
    "\n",
    "-   are typically loaded by `import` statements at the start of a file\n",
    "\n",
    "-   all the statements in the imported file will be executed!"
   ]
  },
  {
   "cell_type": "markdown",
   "metadata": {
    "slideshow": {
     "slide_type": "slide"
    }
   },
   "source": [
    "### Modules: Example\n",
    "\n",
    "Example: the `math` module\n",
    "\n",
    "-   part of the Python Standard Library\\\n",
    "    (see `https://docs.python.org/3/library`)\n",
    "\n",
    "-   provides many standard functions and constants, e.g.\n",
    "\n",
    "    -   `math.exp(x)`, which implements $f(x) = e^x$\n",
    "\n",
    "    -   `math.log(x)`, which implements $f(x) = \\ln x$\n",
    "\n",
    "    -   `math.sqrt(x)`, which implements $f(x) = \\sqrt{x}$\n",
    "\n",
    "    -   `math.sin(x)`, which implements $f(x) = \\sin(x)$\n",
    "\n",
    "    -   `math.cos(x)`, which implements $f(x) = \\cos(x)$\n",
    "\n",
    "    -   `math.pi`, which appoximates $\\pi$\n",
    "\n",
    "    -   `math.e`, which appoximates $e$\n",
    "\n",
    "### "
   ]
  },
  {
   "cell_type": "markdown",
   "metadata": {
    "slideshow": {
     "slide_type": "slide"
    }
   },
   "source": [
    "### Modules: `import` statements\n",
    "\n",
    "**`import`** statements come in three different shapes:\n",
    "\n",
    "-   `import example`\n",
    "    makes all objects available as `example.object`\n",
    "\n",
    "-   `from example import func`\n",
    "    makes `example.func` available as `func`\n",
    "\n",
    "-   `from example import long_function_name as func`\n",
    "    makes `example.long_function_name` available as `func`"
   ]
  },
  {
   "cell_type": "code",
   "execution_count": 40,
   "metadata": {
    "slideshow": {
     "slide_type": "slide"
    }
   },
   "outputs": [
    {
     "ename": "NameError",
     "evalue": "name 'ln' is not defined",
     "output_type": "error",
     "traceback": [
      "\u001b[1;31m---------------------------------------------------------------------------\u001b[0m",
      "\u001b[1;31mNameError\u001b[0m                                 Traceback (most recent call last)",
      "\u001b[1;32m~\\AppData\\Local\\Temp/ipykernel_12756/1661010306.py\u001b[0m in \u001b[0;36m<module>\u001b[1;34m\u001b[0m\n\u001b[1;32m----> 1\u001b[1;33m \u001b[0mln\u001b[0m\u001b[1;33m(\u001b[0m\u001b[1;36m2\u001b[0m\u001b[1;33m)\u001b[0m \u001b[1;33m+\u001b[0m \u001b[1;36m2\u001b[0m \u001b[1;33m*\u001b[0m \u001b[0mln\u001b[0m\u001b[1;33m(\u001b[0m\u001b[1;36m5\u001b[0m\u001b[1;33m)\u001b[0m\u001b[1;33m\u001b[0m\u001b[1;33m\u001b[0m\u001b[0m\n\u001b[0m",
      "\u001b[1;31mNameError\u001b[0m: name 'ln' is not defined"
     ]
    }
   ],
   "source": [
    "ln(2) + 2 * ln(5)\n"
   ]
  },
  {
   "cell_type": "code",
   "execution_count": 41,
   "metadata": {},
   "outputs": [],
   "source": [
    "from math import log as ln\n"
   ]
  },
  {
   "cell_type": "code",
   "execution_count": 42,
   "metadata": {},
   "outputs": [
    {
     "data": {
      "text/plain": [
       "3.912023005428146"
      ]
     },
     "execution_count": 42,
     "metadata": {},
     "output_type": "execute_result"
    }
   ],
   "source": [
    "ln(2) + 2 * ln(5)\n"
   ]
  },
  {
   "cell_type": "code",
   "execution_count": 43,
   "metadata": {},
   "outputs": [
    {
     "ename": "NameError",
     "evalue": "name 'log' is not defined",
     "output_type": "error",
     "traceback": [
      "\u001b[1;31m---------------------------------------------------------------------------\u001b[0m",
      "\u001b[1;31mNameError\u001b[0m                                 Traceback (most recent call last)",
      "\u001b[1;32m~\\AppData\\Local\\Temp/ipykernel_12756/3347929564.py\u001b[0m in \u001b[0;36m<module>\u001b[1;34m\u001b[0m\n\u001b[1;32m----> 1\u001b[1;33m \u001b[0mlog\u001b[0m\u001b[1;33m(\u001b[0m\u001b[1;36m4\u001b[0m\u001b[1;33m)\u001b[0m\u001b[1;33m\u001b[0m\u001b[1;33m\u001b[0m\u001b[0m\n\u001b[0m",
      "\u001b[1;31mNameError\u001b[0m: name 'log' is not defined"
     ]
    }
   ],
   "source": [
    "log(4)"
   ]
  },
  {
   "cell_type": "code",
   "execution_count": 44,
   "metadata": {},
   "outputs": [
    {
     "data": {
      "text/plain": [
       "3.912023005428146"
      ]
     },
     "execution_count": 44,
     "metadata": {},
     "output_type": "execute_result"
    }
   ],
   "source": [
    "ln(50)\n"
   ]
  },
  {
   "cell_type": "code",
   "execution_count": 45,
   "metadata": {
    "slideshow": {
     "slide_type": "slide"
    }
   },
   "outputs": [
    {
     "ename": "NameError",
     "evalue": "name 'e' is not defined",
     "output_type": "error",
     "traceback": [
      "\u001b[1;31m---------------------------------------------------------------------------\u001b[0m",
      "\u001b[1;31mNameError\u001b[0m                                 Traceback (most recent call last)",
      "\u001b[1;32m~\\AppData\\Local\\Temp/ipykernel_12756/853204187.py\u001b[0m in \u001b[0;36m<module>\u001b[1;34m\u001b[0m\n\u001b[1;32m----> 1\u001b[1;33m \u001b[0mln\u001b[0m\u001b[1;33m(\u001b[0m\u001b[0me\u001b[0m\u001b[1;33m)\u001b[0m\u001b[1;33m\u001b[0m\u001b[1;33m\u001b[0m\u001b[0m\n\u001b[0m",
      "\u001b[1;31mNameError\u001b[0m: name 'e' is not defined"
     ]
    }
   ],
   "source": [
    "ln(e)\n"
   ]
  },
  {
   "cell_type": "code",
   "execution_count": 46,
   "metadata": {},
   "outputs": [],
   "source": [
    "from math import e\n"
   ]
  },
  {
   "cell_type": "code",
   "execution_count": 47,
   "metadata": {},
   "outputs": [
    {
     "data": {
      "text/plain": [
       "1.0"
      ]
     },
     "execution_count": 47,
     "metadata": {},
     "output_type": "execute_result"
    }
   ],
   "source": [
    "ln(e)\n"
   ]
  },
  {
   "cell_type": "code",
   "execution_count": 48,
   "metadata": {},
   "outputs": [
    {
     "data": {
      "text/plain": [
       "2.718281828459045"
      ]
     },
     "execution_count": 48,
     "metadata": {},
     "output_type": "execute_result"
    }
   ],
   "source": [
    "e"
   ]
  },
  {
   "cell_type": "code",
   "execution_count": 49,
   "metadata": {},
   "outputs": [],
   "source": [
    "import math"
   ]
  },
  {
   "cell_type": "code",
   "execution_count": 52,
   "metadata": {},
   "outputs": [
    {
     "data": {
      "text/plain": [
       "1.2246467991473532e-16"
      ]
     },
     "execution_count": 52,
     "metadata": {},
     "output_type": "execute_result"
    }
   ],
   "source": [
    "math.sin(math.pi)"
   ]
  },
  {
   "cell_type": "markdown",
   "metadata": {
    "slideshow": {
     "slide_type": "slide"
    }
   },
   "source": [
    "### Modules: Our Testing Framework\n",
    "\n",
    "Our testing framework treats your code as a module:\n",
    "\n",
    "-   your code gets loaded by `import ex_01`\n",
    "    (this is why no other name is allowed!)\n",
    "\n",
    "-   this causes your function definitions to be assigned to the function\n",
    "    names, and the unit tests will be executed on your definitions\n",
    "\n",
    "-   your test code in the main block does not get executed because your\n",
    "    code is loaded as a module, not executed as a main program\n",
    "    (the variable `__name__` contains the name of the module being\n",
    "    executed, which is `\"__main__\"` if you let your code run as a\n",
    "    program)"
   ]
  },
  {
   "cell_type": "markdown",
   "metadata": {
    "slideshow": {
     "slide_type": "slide"
    }
   },
   "source": [
    "Indentation and Block Structure\n",
    "===============================\n",
    "\n",
    "### Block Structure\n",
    "\n",
    "For advanced constructs, we need to pay attention to **block\n",
    "structure**:\n",
    "- some sequences of statements are always executed together in the\n",
    "  same order, and can be seen as **blocks** of statements\n",
    "\n",
    "- Example 1: body of a function definition\n",
    "\n",
    "  ``` {language=\"python\"}\n",
    "  def some_function(arg1, arg2):\n",
    "      first_statement_in_block()\n",
    "      ...\n",
    "      return the_result\n",
    "  ```\n",
    "\n",
    "- Example 2: main block of a program\n",
    "\n",
    "  ``` {language=\"python\"}\n",
    "  if __name__ == \"__main__\":\n",
    "      first_statement_in_main_block()\n",
    "      ...\n",
    "      last_statement_in_main_block()\n",
    "  ```"
   ]
  },
  {
   "cell_type": "markdown",
   "metadata": {
    "slideshow": {
     "slide_type": "slide"
    }
   },
   "source": [
    "### Indentation and Block Structure\n",
    "\n",
    "In Python, block structure is expressed by **indentation**:\n",
    "\n",
    "-   by convention, one level of indentation is created by the tab key\n",
    "\n",
    "-   a block of statements is defined by\n",
    "    **a sequence of lines with identical indentation**\n",
    "\n",
    "-   if you move one indentation layer to the left, you are leaving the\n",
    "    block!\n",
    "\n",
    "-   Question: What is the output of this program?"
   ]
  },
  {
   "cell_type": "code",
   "execution_count": 1,
   "metadata": {
    "slideshow": {
     "slide_type": "slide"
    }
   },
   "outputs": [
    {
     "name": "stdout",
     "output_type": "stream",
     "text": [
      "outside block!\n",
      "in block!\n",
      "in block!\n",
      "still in block!\n"
     ]
    }
   ],
   "source": [
    "def a_function():\n",
    "    print(\"in block!\")\n",
    "    print(\"in block!\")\n",
    "    print(\"still in block!\")\n",
    "\n",
    "print(\"outside block!\")\n",
    "\n",
    "a_function()"
   ]
  },
  {
   "cell_type": "markdown",
   "metadata": {
    "slideshow": {
     "slide_type": "-"
    }
   },
   "source": [
    "Spyder will assist you in maintaining consistent indentation within\n",
    "blocks (this explains many of the small hints you receive)"
   ]
  }
 ],
 "metadata": {
  "@webio": {
   "lastCommId": null,
   "lastKernelId": null
  },
  "celltoolbar": "Slideshow",
  "kernelspec": {
   "display_name": "Python 3 (ipykernel)",
   "language": "python",
   "name": "python3"
  },
  "language_info": {
   "codemirror_mode": {
    "name": "ipython",
    "version": 3
   },
   "file_extension": ".py",
   "mimetype": "text/x-python",
   "name": "python",
   "nbconvert_exporter": "python",
   "pygments_lexer": "ipython3",
   "version": "3.9.7"
  },
  "latex_envs": {
   "LaTeX_envs_menu_present": true,
   "autoclose": false,
   "autocomplete": true,
   "bibliofile": "biblio.bib",
   "cite_by": "apalike",
   "current_citInitial": 1,
   "eqLabelWithNumbers": true,
   "eqNumInitial": 1,
   "hotkeys": {
    "equation": "Ctrl-E",
    "itemize": "Ctrl-I"
   },
   "labels_anchors": false,
   "latex_user_defs": false,
   "report_style_numbering": false,
   "user_envs_cfg": false
  },
  "rise": {
   "enable_chalkboard": true
  }
 },
 "nbformat": 4,
 "nbformat_minor": 4
}
