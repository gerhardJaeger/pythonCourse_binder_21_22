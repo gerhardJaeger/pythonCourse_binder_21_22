{
 "cells": [
  {
   "cell_type": "markdown",
   "metadata": {
    "slideshow": {
     "slide_type": "slide"
    }
   },
   "source": [
    "# Methods I: Programming and Data Analysis\n",
    "\n",
    "## Session 11: Regular Expressions; NLTK; Classes\n",
    "\n",
    "### Gerhard Jäger\n",
    "\n",
    "#### (based on Johannes Dellert's slides)\n",
    "\n",
    "January 18, 2022"
   ]
  },
  {
   "cell_type": "markdown",
   "metadata": {
    "slideshow": {
     "slide_type": "slide"
    }
   },
   "source": [
    "### Pattern Detection in Strings\n",
    "\n",
    "In many applications, we need to **find strings matching a pattern**:\n",
    "\n",
    "-   find all documents containing a given name\n",
    "\n",
    "-   find example sentences for the usage of some word in a corpus\n",
    "\n",
    "-   find the places in your code where you used some variable\n",
    "\n",
    "Also, we often need to **extract parts of a string** matching a pattern:\n",
    "\n",
    "-   extract addresses from a text\n",
    "\n",
    "-   extract everything that is formatted like a name\\\n",
    "    (e.g. a sequence of several tokens starting with uppercase letters)\n",
    "\n",
    "-   extract the words which can occur as arguments to a specific verb\n",
    "    from a corpus (e.g. to determine selectional restrictions)"
   ]
  },
  {
   "cell_type": "markdown",
   "metadata": {
    "slideshow": {
     "slide_type": "slide"
    }
   },
   "source": [
    "### Regular Expressions: Basics\n",
    "\n",
    "What are **regular expressions** (short: **regex**)?\n",
    "\n",
    "-   a language of patterns which define sets of strings\n",
    "\n",
    "-   **literal characters** (mostly letters of the alphabet) represent\n",
    "    themselves in a pattern\\\n",
    "    `r\"b\"` represents `{\"b\"}`\\\n",
    "    `r\"ba\"` represents `{\"ba\"}`\n",
    "\n",
    "-   **special characters** (mostly punctuation) do not represent\n",
    "    themselves, but modify the meaning of surrounding patterns:\n",
    "\n",
    "-   first examples of special characters:\n",
    "\n",
    "    -   plus `+` designates one or more instances of the previous\n",
    "        character:\\\n",
    "        `r\"ba+\"` represents `{\"ba\", \"baa\", \"baaa\", ...}`\n",
    "\n",
    "    -   square brackets `[]` represent character sets:\\\n",
    "        `r\"ba[tr]\"` represents `{\"bat\", \"bar\"}`\n",
    "\n",
    "    -   both can be combined: `r\"ba[tr]+\"` represents\\\n",
    "        `{\"bat\", \"bar\", \"batt\", \"batr\", \"bart\", \"barr\", \"battt\", \"battr\", \"batrt\", \"batrr\", \"bartt\", \"bartr\", \"barrt\", \"barrr\", \"batttt\", \"batttr\", \"battrt\", \"battrr\", ...}`\n"
   ]
  },
  {
   "cell_type": "markdown",
   "metadata": {
    "slideshow": {
     "slide_type": "slide"
    }
   },
   "source": [
    "### Regular Expressions: Quantifiers\n",
    "\n",
    "**Quantifiers** range over the preceding item and decide how many times\n",
    "it can or must be repeated to be matched:\n",
    "\n",
    "-   `*` for zero or more repetitions\n",
    "\n",
    "-   `+` for at least one repetition\n",
    "\n",
    "-   `?` for optional items (zero repetitions or one repetition)\n",
    "\n",
    "More general quantification can be achieved by `{min, max}`, where `min`\n",
    "and `max` must be positive integers:\n",
    "\n",
    "-   `r\"a{4,6}\"` matches the strings `\"aaaa\"`, `\"aaaaa\"`, and `\"aaaaaa\"`\n",
    "\n",
    "-   `r\"[01]{8}\"` matches bitstrings of length 8 (byte representations)\n",
    "\n",
    "-   `r\"0{2,}\"` matches sequences of at least 2 zeroes"
   ]
  },
  {
   "cell_type": "markdown",
   "metadata": {
    "slideshow": {
     "slide_type": "slide"
    }
   },
   "source": [
    "### Regular Expressions: The Wildcard\n",
    "\n",
    "The **wildcard symbol** `.` (the dot) matches any character except the\n",
    "new-line character, e.g.\n",
    "\n",
    "-   `r\"h.t\"` matches `hat`, `hot`, and `hit`, but not `heat`\n",
    "\n",
    "-   `r\".a.a.a\"` matches `banana` and `papaya`, but not `kaaba`\n",
    "\n",
    "-   `r\"9.00\"` matches `9a00`, `9100`, `9y00`, and `9c00`, not only\n",
    "    `9.00`\\\n",
    "    (you need to **escape** the dot for that: `r\"9\\.00\"`)\n",
    "\n",
    "-   `r\".{3}\"` matches any three-character word\n",
    "\n",
    "Special symbols match the beginning and the end of the line:\n",
    "\n",
    "-   `r\"^\"` matches the beginning of the line\n",
    "\n",
    "-   `r\"$\"` matches the end of the line\n",
    "-   `r\"^a.*\"` matches any string starting with `\"a\"`occurring at the beginning of a line"
   ]
  },
  {
   "cell_type": "markdown",
   "metadata": {
    "slideshow": {
     "slide_type": "slide"
    }
   },
   "source": [
    "### Regular Expressions: Character Sets and Ranges\n",
    "\n",
    "Brackets `[ ]` define **character sets** matching a single character,\n",
    "and can be **negated** using a caret (`^`) after the opening bracket:\n",
    "\n",
    "-   `[aeiou]` matches one (Latin) vowel\n",
    "\n",
    "-   `[^aeiou]` matches everything except Latin vowels\n",
    "\n",
    "Some character sets can conveniently be defined using **character\n",
    "ranges**:\n",
    "\n",
    "-   `[A-Z]` is the same as `[ABCDEFGHIJKLMNOPQRSTUVWXYZ]`\n",
    "\n",
    "-   `[0-9]` is the same as `[0123456789]`\n",
    "\n",
    "Several escaped characters serve as convenient shorthands:\n",
    "\n",
    "-   `\\d` for digits (= `[0-9]`)\n",
    "\n",
    "-   `\\w` for word characters (= `[a-zA-Z0-9_]`)\n",
    "\n",
    "-   `\\s` for whitespace (= `[ \\t\\r\\n]`)"
   ]
  },
  {
   "cell_type": "markdown",
   "metadata": {
    "slideshow": {
     "slide_type": "slide"
    }
   },
   "source": [
    "### Regular Expressions: Alternation\n",
    "\n",
    "The **alternation metacharacter** `|` matches either the previous or the\n",
    "next expression:\n",
    "\n",
    "-   `r\"apple|orange\"` matches `\"apple\"` and `\"orange\"`\n",
    "\n",
    "-   Q: what does `r\"apple(juice|sauce)\"` match?\n",
    "\n",
    "-   Q: what does `r\"w(ei|ie)rd\"` match?\n",
    "\n",
    "Multiple alternatives can be used as well:\n",
    "\n",
    "-   `r\"apple|orange|banana\"`\n",
    "\n",
    "-   `r\"(AA|BB|CC){6}\"` matches e.g. `\"AABBAACCAABB\"`"
   ]
  },
  {
   "cell_type": "markdown",
   "metadata": {
    "slideshow": {
     "slide_type": "slide"
    }
   },
   "source": [
    "### Regular Expressions: Grouping\n",
    "\n",
    "The **grouping metacharacters** `( )` serve to\n",
    "\n",
    "-   apply repetition operators to a sequence of literal characters\n",
    "\n",
    "-   make expressions easier to read\n",
    "\n",
    "-   define groups for use in matching and replacing\n",
    "\n",
    "Examples:\n",
    "\n",
    "-   `r\"(abc)+\"` matches e.g. `\"abc\"` and `\"abcababc\"`\n",
    "\n",
    "-   `r\"(in)?dependent\"` matches `\"independent\"` and `\"dependent\"`"
   ]
  },
  {
   "cell_type": "markdown",
   "metadata": {
    "slideshow": {
     "slide_type": "slide"
    }
   },
   "source": [
    "### Regular Expressions: Referencing Groups\n",
    "\n",
    "-   a group can be *referenced* later in the same string\n",
    "-   `r\"\\\\1\"` matches *exactly the same string* that matched the first preceding group\n",
    "-   `r\"\\\\2\"` matches the second preceding group etc.\n",
    "-   `r\"A (rose|tulip) is a \\\\1 is a \\\\1\"`:\n",
    "    - \"A rose is a rose is a rose\" ✔\n",
    "    - \"A tulip is a tulip is a tulip\" ✔\n",
    "    - \"A rose is a rose is a tulip\" ❌\n",
    "    - \"A tulip is a rose is a rose\" ❌\n",
    "-   `r\"(.).*\\\\1\"` matches any string where the first and the last character are identical and non-overlapping:\n",
    "    -   \"aa\" ✔\n",
    "    -   \"axyzdefa\" ✔\n",
    "    -   \"axyzdefb\" ❌\n",
    "    -   \"a\" ❌"
   ]
  },
  {
   "cell_type": "markdown",
   "metadata": {
    "slideshow": {
     "slide_type": "slide"
    }
   },
   "source": [
    "### Regular Expressions: The `re` module\n",
    "\n",
    "Basic usage of the built-in `re` module:\n",
    "\n",
    "- import the module to make the namespace available:"
   ]
  },
  {
   "cell_type": "code",
   "execution_count": 1,
   "metadata": {},
   "outputs": [],
   "source": [
    "import re"
   ]
  },
  {
   "cell_type": "markdown",
   "metadata": {},
   "source": [
    "- compile your regular expression string into a **regular expression\n",
    "object** which can be used to very efficiently match against the\n",
    "regex"
   ]
  },
  {
   "cell_type": "code",
   "execution_count": 2,
   "metadata": {},
   "outputs": [],
   "source": [
    "matcher = re.compile(\"(.)([aeiou]{2}n)\")"
   ]
  },
  {
   "cell_type": "markdown",
   "metadata": {},
   "source": [
    "- use the `match()` method to test the entire string:"
   ]
  },
  {
   "cell_type": "code",
   "execution_count": 3,
   "metadata": {},
   "outputs": [
    {
     "data": {
      "text/plain": [
       "<re.Match object; span=(0, 4), match='moon'>"
      ]
     },
     "execution_count": 3,
     "metadata": {},
     "output_type": "execute_result"
    }
   ],
   "source": [
    "matcher.match(\"moon\")"
   ]
  },
  {
   "cell_type": "code",
   "execution_count": 4,
   "metadata": {},
   "outputs": [
    {
     "name": "stdout",
     "output_type": "stream",
     "text": [
      "None\n"
     ]
    }
   ],
   "source": [
    "print(matcher.match(\"I have been to the moon.\"))"
   ]
  },
  {
   "cell_type": "markdown",
   "metadata": {
    "slideshow": {
     "slide_type": "slide"
    }
   },
   "source": [
    "### Regular Expressions: The `re` module\n",
    "\n",
    "-   `search()` looks for matching substrings instead:"
   ]
  },
  {
   "cell_type": "code",
   "execution_count": 5,
   "metadata": {},
   "outputs": [
    {
     "data": {
      "text/plain": [
       "<re.Match object; span=(7, 11), match='been'>"
      ]
     },
     "execution_count": 5,
     "metadata": {},
     "output_type": "execute_result"
    }
   ],
   "source": [
    "matcher.search(\"I have been to the moon.\")"
   ]
  },
  {
   "cell_type": "code",
   "execution_count": 6,
   "metadata": {},
   "outputs": [
    {
     "data": {
      "text/plain": [
       "'been'"
      ]
     },
     "execution_count": 6,
     "metadata": {},
     "output_type": "execute_result"
    }
   ],
   "source": [
    "\"I have been to the moon.\"[7:11]"
   ]
  },
  {
   "cell_type": "markdown",
   "metadata": {},
   "source": [
    "- using a match result object:"
   ]
  },
  {
   "cell_type": "code",
   "execution_count": 7,
   "metadata": {},
   "outputs": [],
   "source": [
    "match = matcher.search(\"I have been to the moon.\")"
   ]
  },
  {
   "cell_type": "code",
   "execution_count": 8,
   "metadata": {},
   "outputs": [
    {
     "data": {
      "text/plain": [
       "<re.Match object; span=(7, 11), match='been'>"
      ]
     },
     "execution_count": 8,
     "metadata": {},
     "output_type": "execute_result"
    }
   ],
   "source": [
    "match"
   ]
  },
  {
   "cell_type": "code",
   "execution_count": 9,
   "metadata": {},
   "outputs": [
    {
     "data": {
      "text/plain": [
       "(7, 11, ('b', 'een'))"
      ]
     },
     "execution_count": 9,
     "metadata": {},
     "output_type": "execute_result"
    }
   ],
   "source": [
    "match.start(), match.end(), match.groups()"
   ]
  },
  {
   "cell_type": "code",
   "execution_count": 10,
   "metadata": {},
   "outputs": [
    {
     "data": {
      "text/plain": [
       "('m', 'oon')"
      ]
     },
     "execution_count": 10,
     "metadata": {},
     "output_type": "execute_result"
    }
   ],
   "source": [
    "matcher.search(\"I have been to the moon.\", 8).groups()"
   ]
  },
  {
   "cell_type": "markdown",
   "metadata": {},
   "source": [
    "`findall()` lists all groupings in matched substrings:"
   ]
  },
  {
   "cell_type": "code",
   "execution_count": 11,
   "metadata": {},
   "outputs": [
    {
     "data": {
      "text/plain": [
       "[('b', 'een'), ('m', 'oon')]"
      ]
     },
     "execution_count": 11,
     "metadata": {},
     "output_type": "execute_result"
    }
   ],
   "source": [
    "matcher.findall(\"I have been to the moon.\")"
   ]
  },
  {
   "cell_type": "markdown",
   "metadata": {
    "slideshow": {
     "slide_type": "slide"
    }
   },
   "source": [
    "### Regular Expressions: The `re` module\n",
    "\n",
    "-   `sub(repl, string)` replaces each each matching substring in\n",
    "    `string` with `repl`\n",
    "\n",
    "-   `repl` can contain references to groups"
   ]
  },
  {
   "cell_type": "code",
   "execution_count": 12,
   "metadata": {},
   "outputs": [],
   "source": [
    "matcher = re.compile(\"[0-9]\")"
   ]
  },
  {
   "cell_type": "code",
   "execution_count": 13,
   "metadata": {},
   "outputs": [
    {
     "data": {
      "text/plain": [
       "'UFKc??X'"
      ]
     },
     "execution_count": 13,
     "metadata": {},
     "output_type": "execute_result"
    }
   ],
   "source": [
    "matcher.sub(\"?\", \"UFKc17X\")"
   ]
  },
  {
   "cell_type": "code",
   "execution_count": 14,
   "metadata": {},
   "outputs": [
    {
     "data": {
      "text/plain": [
       "'A rose is a rose is a rose'"
      ]
     },
     "execution_count": 14,
     "metadata": {},
     "output_type": "execute_result"
    }
   ],
   "source": [
    "matcher = re.compile(\"(.+)\")\n",
    "matcher.sub(\"A \\\\1 is a \\\\1 is a \\\\1\", \"rose\")"
   ]
  },
  {
   "cell_type": "code",
   "execution_count": 15,
   "metadata": {},
   "outputs": [
    {
     "data": {
      "text/plain": [
       "'A tulip is a tulip is a tulip'"
      ]
     },
     "execution_count": 15,
     "metadata": {},
     "output_type": "execute_result"
    }
   ],
   "source": [
    "matcher = re.compile(\"(.+)\")\n",
    "matcher.sub(\"A \\\\1 is a \\\\1 is a \\\\1\", \"tulip\")"
   ]
  },
  {
   "cell_type": "markdown",
   "metadata": {
    "slideshow": {
     "slide_type": "slide"
    }
   },
   "source": [
    "Natural Language Toolkit (NLTK)\n",
    "===============================\n",
    "\n",
    "### NLTK\n",
    "\n",
    "-   example of a good Python package\n",
    "\n",
    "-   includes implementations of many common algorithms\n",
    "\n",
    "-   sample of the entire Natural Language Processing (NLP) toolchain\n",
    "\n",
    "-   solves many common tasks in satisfactory quality (for English)\n",
    "\n",
    "-   very interesting for linguists interested in computing\n",
    "\n",
    "-   good documentation (an entire book)"
   ]
  },
  {
   "cell_type": "markdown",
   "metadata": {
    "slideshow": {
     "slide_type": "slide"
    }
   },
   "source": [
    "### NLTK: Installation\n",
    "\n",
    "Installing NLTK and the relevant data:\n",
    "\n",
    "-   in a terminal, execute the following command:\n",
    "\n",
    "  ``` {style=\"console\"}\n",
    "     $ conda install nltk\n",
    "  ```\n",
    "\n",
    "- after installation, fire up a Python console (e.g. inside Spyder)\n",
    "\n",
    "- run the following:"
   ]
  },
  {
   "cell_type": "code",
   "execution_count": 17,
   "metadata": {},
   "outputs": [
    {
     "name": "stdout",
     "output_type": "stream",
     "text": [
      "showing info https://raw.githubusercontent.com/nltk/nltk_data/gh-pages/index.xml\n"
     ]
    },
    {
     "data": {
      "text/plain": [
       "True"
      ]
     },
     "execution_count": 17,
     "metadata": {},
     "output_type": "execute_result"
    }
   ],
   "source": [
    "import nltk\n",
    "nltk.download()"
   ]
  },
  {
   "cell_type": "markdown",
   "metadata": {},
   "source": [
    "-   in the window that appears, double-click on `book` and `popular` to\n",
    "    download and install the relevant packages and data\n",
    "\n",
    "-   wait until everything is installed, and close the window"
   ]
  },
  {
   "cell_type": "markdown",
   "metadata": {
    "slideshow": {
     "slide_type": "slide"
    }
   },
   "source": [
    "### NLTK: First Steps\n",
    "\n",
    "First steps in getting to know NLTK:\n",
    "\n",
    "-   go to <https://www.nltk.org/>\n",
    "\n",
    "-   run the examples listed under\\\n",
    "    \"Some simple things you can do with NLTK\":\n",
    "\n",
    "    -   tokenizing and tagging\n",
    "\n",
    "    -   named entity recognition\n",
    "\n",
    "    -   exploring a treebank"
   ]
  },
  {
   "cell_type": "markdown",
   "metadata": {
    "slideshow": {
     "slide_type": "slide"
    }
   },
   "source": [
    "- Tokenize and tag some text"
   ]
  },
  {
   "cell_type": "code",
   "execution_count": 18,
   "metadata": {
    "slideshow": {
     "slide_type": "-"
    }
   },
   "outputs": [],
   "source": [
    "sentence = \"\"\"At eight o'clock on Thursday morning Arthur didn't feel very good.\"\"\"\n"
   ]
  },
  {
   "cell_type": "code",
   "execution_count": 19,
   "metadata": {},
   "outputs": [
    {
     "data": {
      "text/plain": [
       "['At',\n",
       " 'eight',\n",
       " \"o'clock\",\n",
       " 'on',\n",
       " 'Thursday',\n",
       " 'morning',\n",
       " 'Arthur',\n",
       " 'did',\n",
       " \"n't\",\n",
       " 'feel',\n",
       " 'very',\n",
       " 'good',\n",
       " '.']"
      ]
     },
     "execution_count": 19,
     "metadata": {},
     "output_type": "execute_result"
    }
   ],
   "source": [
    "tokens = nltk.word_tokenize(sentence)\n",
    "tokens"
   ]
  },
  {
   "cell_type": "code",
   "execution_count": 20,
   "metadata": {
    "slideshow": {
     "slide_type": "slide"
    }
   },
   "outputs": [
    {
     "data": {
      "text/plain": [
       "[('At', 'IN'),\n",
       " ('eight', 'CD'),\n",
       " (\"o'clock\", 'NN'),\n",
       " ('on', 'IN'),\n",
       " ('Thursday', 'NNP'),\n",
       " ('morning', 'NN'),\n",
       " ('Arthur', 'NNP'),\n",
       " ('did', 'VBD'),\n",
       " (\"n't\", 'RB'),\n",
       " ('feel', 'VB'),\n",
       " ('very', 'RB'),\n",
       " ('good', 'JJ'),\n",
       " ('.', '.')]"
      ]
     },
     "execution_count": 20,
     "metadata": {},
     "output_type": "execute_result"
    }
   ],
   "source": [
    "tagged = nltk.pos_tag(tokens)\n",
    "tagged\n"
   ]
  },
  {
   "cell_type": "markdown",
   "metadata": {
    "slideshow": {
     "slide_type": "slide"
    }
   },
   "source": [
    "- Identify named entitites:"
   ]
  },
  {
   "cell_type": "code",
   "execution_count": 21,
   "metadata": {},
   "outputs": [
    {
     "name": "stdout",
     "output_type": "stream",
     "text": [
      "(S\n",
      "  At/IN\n",
      "  eight/CD\n",
      "  o'clock/NN\n",
      "  on/IN\n",
      "  Thursday/NNP\n",
      "  morning/NN\n",
      "  (PERSON Arthur/NNP)\n",
      "  did/VBD\n",
      "  n't/RB\n",
      "  feel/VB\n",
      "  very/RB\n",
      "  good/JJ\n",
      "  ./.)\n"
     ]
    }
   ],
   "source": [
    "import numpy\n",
    "entities = nltk.chunk.ne_chunk(tagged)\n",
    "print(entities)\n"
   ]
  },
  {
   "cell_type": "markdown",
   "metadata": {
    "slideshow": {
     "slide_type": "slide"
    }
   },
   "source": [
    "- Display a parse tree:"
   ]
  },
  {
   "cell_type": "code",
   "execution_count": 22,
   "metadata": {},
   "outputs": [
    {
     "data": {
      "image/png": "[encoded data removed]",
      "text/plain": [
       "Tree('S', [Tree('NP-SBJ', [Tree('NP', [Tree('NNP', ['Pierre']), Tree('NNP', ['Vinken'])]), Tree(',', [',']), Tree('ADJP', [Tree('NP', [Tree('CD', ['61']), Tree('NNS', ['years'])]), Tree('JJ', ['old'])]), Tree(',', [','])]), Tree('VP', [Tree('MD', ['will']), Tree('VP', [Tree('VB', ['join']), Tree('NP', [Tree('DT', ['the']), Tree('NN', ['board'])]), Tree('PP-CLR', [Tree('IN', ['as']), Tree('NP', [Tree('DT', ['a']), Tree('JJ', ['nonexecutive']), Tree('NN', ['director'])])]), Tree('NP-TMP', [Tree('NNP', ['Nov.']), Tree('CD', ['29'])])])]), Tree('.', ['.'])])"
      ]
     },
     "execution_count": 22,
     "metadata": {},
     "output_type": "execute_result"
    }
   ],
   "source": [
    "from nltk.corpus import treebank\n",
    "t = treebank.parsed_sents('wsj_0001.mrg')[0]\n",
    "t"
   ]
  },
  {
   "cell_type": "markdown",
   "metadata": {
    "slideshow": {
     "slide_type": "slide"
    }
   },
   "source": [
    "### NLTK: Documentation\n",
    "\n",
    "How to find out more:\n",
    "\n",
    "-   open the book at <http://www.nltk.org/book/>\n",
    "\n",
    "-   start reading the chapter you want to learn about\n",
    "\n",
    "-   make sure to try out the examples\\\n",
    "    (interactivity helps you to understand things better)\n",
    "\n",
    "-   take a look at the exercises and try your hand at the ones which\n",
    "    involve skills you might need\n",
    "\n",
    "-   BTW: the book also doubles as an introduction to Python, consider\n",
    "    working through the examples and exercises if you want to brush up\n",
    "    on programming later on!\n"
   ]
  }
 ],
 "metadata": {
  "@webio": {
   "lastCommId": null,
   "lastKernelId": null
  },
  "celltoolbar": "Slideshow",
  "kernelspec": {
   "display_name": "Python 3 (ipykernel)",
   "language": "python",
   "name": "python3"
  },
  "language_info": {
   "codemirror_mode": {
    "name": "ipython",
    "version": 3
   },
   "file_extension": ".py",
   "mimetype": "text/x-python",
   "name": "python",
   "nbconvert_exporter": "python",
   "pygments_lexer": "ipython3",
   "version": "3.9.7"
  },
  "latex_envs": {
   "LaTeX_envs_menu_present": true,
   "autoclose": false,
   "autocomplete": true,
   "bibliofile": "biblio.bib",
   "cite_by": "apalike",
   "current_citInitial": 1,
   "eqLabelWithNumbers": true,
   "eqNumInitial": 1,
   "hotkeys": {
    "equation": "Ctrl-E",
    "itemize": "Ctrl-I"
   },
   "labels_anchors": false,
   "latex_user_defs": false,
   "report_style_numbering": false,
   "user_envs_cfg": false
  },
  "rise": {
   "enable_chalkboard": true
  }
 },
 "nbformat": 4,
 "nbformat_minor": 4
}
