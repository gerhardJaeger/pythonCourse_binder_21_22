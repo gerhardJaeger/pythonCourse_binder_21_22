{
 "cells": [
  {
   "cell_type": "markdown",
   "metadata": {},
   "source": [
    "# Methods I: Programming and Data Analysis\n",
    "\n",
    "## Session 07: Tuples, Dictionaries, Formatting, File-IO\n",
    "\n",
    "### Gerhard Jäger\n",
    "\n",
    "#### (based on Johannes Dellert's slides)\n",
    "\n",
    "December 7, 2022"
   ]
  },
  {
   "cell_type": "markdown",
   "metadata": {
    "slideshow": {
     "slide_type": "slide"
    }
   },
   "source": [
    "## Tuples: Overview\n",
    "\n",
    "Tuples are best described by their differences from lists:\n",
    "\n",
    "-   written with parentheses `( )` instead of square brackets `[ ]`,\n",
    "    and are what pure comma notation defaults to:"
   ]
  },
  {
   "cell_type": "code",
   "execution_count": 1,
   "metadata": {},
   "outputs": [],
   "source": [
    "tuple1 = (1,2,\"a\")"
   ]
  },
  {
   "cell_type": "code",
   "execution_count": 2,
   "metadata": {},
   "outputs": [],
   "source": [
    "tuple2 = 4, 5, 6"
   ]
  },
  {
   "cell_type": "code",
   "execution_count": 3,
   "metadata": {},
   "outputs": [
    {
     "data": {
      "text/plain": [
       "(1, 2, 'a')"
      ]
     },
     "execution_count": 3,
     "metadata": {},
     "output_type": "execute_result"
    }
   ],
   "source": [
    "tuple1"
   ]
  },
  {
   "cell_type": "code",
   "execution_count": 6,
   "metadata": {},
   "outputs": [
    {
     "data": {
      "text/plain": [
       "(5, 6)"
      ]
     },
     "execution_count": 6,
     "metadata": {},
     "output_type": "execute_result"
    }
   ],
   "source": [
    "tuple2[1:3]"
   ]
  },
  {
   "cell_type": "markdown",
   "metadata": {
    "slideshow": {
     "slide_type": "slide"
    }
   },
   "source": [
    "- unlike lists, they are **immutable**:"
   ]
  },
  {
   "cell_type": "code",
   "execution_count": 7,
   "metadata": {},
   "outputs": [
    {
     "ename": "TypeError",
     "evalue": "'tuple' object does not support item assignment",
     "output_type": "error",
     "traceback": [
      "\u001b[0;31m---------------------------------------------------------------------------\u001b[0m",
      "\u001b[0;31mTypeError\u001b[0m                                 Traceback (most recent call last)",
      "\u001b[0;32m/tmp/ipykernel_30624/1439319431.py\u001b[0m in \u001b[0;36m<module>\u001b[0;34m\u001b[0m\n\u001b[0;32m----> 1\u001b[0;31m \u001b[0mtuple1\u001b[0m\u001b[0;34m[\u001b[0m\u001b[0;36m2\u001b[0m\u001b[0;34m]\u001b[0m \u001b[0;34m=\u001b[0m \u001b[0;34m\"c\"\u001b[0m\u001b[0;34m\u001b[0m\u001b[0;34m\u001b[0m\u001b[0m\n\u001b[0m",
      "\u001b[0;31mTypeError\u001b[0m: 'tuple' object does not support item assignment"
     ]
    }
   ],
   "source": [
    "tuple1[2] = \"c\""
   ]
  },
  {
   "cell_type": "markdown",
   "metadata": {},
   "source": [
    "Main uses of tuples:\n",
    "\n",
    "-   returning multiple values from a function\n",
    "\n",
    "-   assigning multiple objects to variables"
   ]
  },
  {
   "cell_type": "markdown",
   "metadata": {
    "slideshow": {
     "slide_type": "slide"
    }
   },
   "source": [
    "The `zip()` and `map()` Functions\n",
    "---------------------------------\n",
    "\n",
    "### Tuples: The `zip()` Function\n",
    "\n",
    "We have already seen the `zip()` function in Session 05:\n",
    "\n",
    "-   Example: Creating tuples from three-part names"
   ]
  },
  {
   "cell_type": "code",
   "execution_count": 8,
   "metadata": {},
   "outputs": [
    {
     "data": {
      "text/plain": [
       "[('Franklin', 'D.', 'Roosevelt'),\n",
       " ('Harry', 'S.', 'Truman'),\n",
       " ('Dwight', 'D.', 'Eisenhower')]"
      ]
     },
     "execution_count": 8,
     "metadata": {},
     "output_type": "execute_result"
    }
   ],
   "source": [
    "first_names = [\"Franklin\", \"Harry\", \"Dwight\"]\n",
    "middle_initials = [\"D.\", \"S.\", \"D.\"]\n",
    "last_names = [\"Roosevelt\", \"Truman\", \"Eisenhower\"]\n",
    "list(zip(first_names, middle_initials, last_names))"
   ]
  },
  {
   "cell_type": "markdown",
   "metadata": {
    "slideshow": {
     "slide_type": "slide"
    }
   },
   "source": [
    "- the last command is equivalent to the following `for` loop:"
   ]
  },
  {
   "cell_type": "code",
   "execution_count": 9,
   "metadata": {},
   "outputs": [
    {
     "data": {
      "text/plain": [
       "[('Franklin', 'D.', 'Roosevelt'),\n",
       " ('Harry', 'S.', 'Truman'),\n",
       " ('Dwight', 'D.', 'Eisenhower')]"
      ]
     },
     "execution_count": 9,
     "metadata": {},
     "output_type": "execute_result"
    }
   ],
   "source": [
    "president_names = list()\n",
    "min_length = min(len(first_names), len(middle_initials), len(last_names))\n",
    "for i in range(min_length):\n",
    "    president_names.append (\n",
    "    (first_names[i], middle_initials[i], last_names [i]))\n",
    "\n",
    "president_names"
   ]
  },
  {
   "cell_type": "markdown",
   "metadata": {
    "slideshow": {
     "slide_type": "slide"
    }
   },
   "source": [
    "### Tuples: The `map()` Function\n",
    "\n",
    "The `map()` function serves to apply a function to all elements of a\n",
    "sequence, and returns an iterator over the results:\n",
    "\n",
    "-   Example: Computing the lengths of all words in a sentence"
   ]
  },
  {
   "cell_type": "code",
   "execution_count": 10,
   "metadata": {},
   "outputs": [
    {
     "data": {
      "text/plain": [
       "[3, 2, 5, 7, 5, 7, 8]"
      ]
     },
     "execution_count": 10,
     "metadata": {},
     "output_type": "execute_result"
    }
   ],
   "source": [
    "words_in_sentence = [\"let\", \"us\", \"build\", \"another\", \"short\", \"example\", \"sentence\"]\n",
    "word_lengths = list(map(len, words_in_sentence))\n",
    "word_lengths"
   ]
  },
  {
   "cell_type": "markdown",
   "metadata": {},
   "source": [
    "- the second command is equivalent to the following `for` loop:"
   ]
  },
  {
   "cell_type": "code",
   "execution_count": 11,
   "metadata": {},
   "outputs": [
    {
     "data": {
      "text/plain": [
       "[3, 2, 5, 7, 5, 7, 8]"
      ]
     },
     "execution_count": 11,
     "metadata": {},
     "output_type": "execute_result"
    }
   ],
   "source": [
    "word_lengths = list()\n",
    "for word in words_in_sentence:\n",
    "    word_lengths.append(len(word))\n",
    "\n",
    "word_lengths"
   ]
  },
  {
   "cell_type": "markdown",
   "metadata": {
    "slideshow": {
     "slide_type": "slide"
    }
   },
   "source": [
    "Sets\n",
    "====\n",
    "\n",
    "### Sets: Overview\n",
    "\n",
    "Sets are the third basic collection type:\n",
    "\n",
    "-   unordered, every object only occurs once\n",
    "\n",
    "-   notation with curly brackets (like in mathematics):"
   ]
  },
  {
   "cell_type": "code",
   "execution_count": 12,
   "metadata": {},
   "outputs": [],
   "source": [
    "english_pronouns = {\"I\", \"you\"}"
   ]
  },
  {
   "cell_type": "code",
   "execution_count": 13,
   "metadata": {},
   "outputs": [],
   "source": [
    "english_pronouns.add(\"we\")\n",
    "english_pronouns.add(\"you\")\n",
    "english_pronouns.add(\"they\")"
   ]
  },
  {
   "cell_type": "markdown",
   "metadata": {},
   "source": [
    "- multiple elements are added using `update()`"
   ]
  },
  {
   "cell_type": "code",
   "execution_count": 14,
   "metadata": {},
   "outputs": [],
   "source": [
    "english_pronouns.update([\"he\", \"she\", \"it\"])"
   ]
  },
  {
   "cell_type": "markdown",
   "metadata": {},
   "source": [
    "- Question: what will `len(english_pronouns)` return?"
   ]
  },
  {
   "cell_type": "markdown",
   "metadata": {
    "slideshow": {
     "slide_type": "slide"
    }
   },
   "source": [
    "### Set: Membership\n",
    "\n",
    "Basic functionality around set membership:\n",
    "\n",
    "-   checking for membership via the `in` operator:"
   ]
  },
  {
   "cell_type": "code",
   "execution_count": 15,
   "metadata": {},
   "outputs": [
    {
     "data": {
      "text/plain": [
       "True"
      ]
     },
     "execution_count": 15,
     "metadata": {},
     "output_type": "execute_result"
    }
   ],
   "source": [
    "\"we\" in english_pronouns"
   ]
  },
  {
   "cell_type": "code",
   "execution_count": 16,
   "metadata": {},
   "outputs": [
    {
     "data": {
      "text/plain": [
       "False"
      ]
     },
     "execution_count": 16,
     "metadata": {},
     "output_type": "execute_result"
    }
   ],
   "source": [
    "\"thou\" in english_pronouns"
   ]
  },
  {
   "cell_type": "markdown",
   "metadata": {
    "slideshow": {
     "slide_type": "slide"
    }
   },
   "source": [
    "- the `remove()` method deletes an element from the set:"
   ]
  },
  {
   "cell_type": "code",
   "execution_count": 17,
   "metadata": {},
   "outputs": [
    {
     "ename": "KeyError",
     "evalue": "'thou'",
     "output_type": "error",
     "traceback": [
      "\u001b[0;31m---------------------------------------------------------------------------\u001b[0m",
      "\u001b[0;31mKeyError\u001b[0m                                  Traceback (most recent call last)",
      "\u001b[0;32m/tmp/ipykernel_30624/3904618395.py\u001b[0m in \u001b[0;36m<module>\u001b[0;34m\u001b[0m\n\u001b[0;32m----> 1\u001b[0;31m \u001b[0menglish_pronouns\u001b[0m\u001b[0;34m.\u001b[0m\u001b[0mremove\u001b[0m\u001b[0;34m(\u001b[0m\u001b[0;34m\"thou\"\u001b[0m\u001b[0;34m)\u001b[0m\u001b[0;34m\u001b[0m\u001b[0;34m\u001b[0m\u001b[0m\n\u001b[0m",
      "\u001b[0;31mKeyError\u001b[0m: 'thou'"
     ]
    }
   ],
   "source": [
    "english_pronouns.remove(\"thou\")"
   ]
  },
  {
   "cell_type": "markdown",
   "metadata": {},
   "source": [
    "- `discard()` is like `remove()`, but does not throw exceptions:"
   ]
  },
  {
   "cell_type": "code",
   "execution_count": 18,
   "metadata": {},
   "outputs": [],
   "source": [
    "english_pronouns.discard(\"thou\")\n"
   ]
  },
  {
   "cell_type": "markdown",
   "metadata": {
    "slideshow": {
     "slide_type": "slide"
    }
   },
   "source": [
    "### Set: Operations\n",
    "\n",
    "Elementary set operations are written analogously to boolean operators:\n",
    "\n",
    "-   **intersection** $A \\cap B$ is written `A & B`"
   ]
  },
  {
   "cell_type": "code",
   "execution_count": 19,
   "metadata": {},
   "outputs": [
    {
     "data": {
      "text/plain": [
       "{'I', 'he'}"
      ]
     },
     "execution_count": 19,
     "metadata": {},
     "output_type": "execute_result"
    }
   ],
   "source": [
    "english_pronouns & {\"I\", \"thou\", \"he\"}"
   ]
  },
  {
   "cell_type": "markdown",
   "metadata": {},
   "source": [
    "- **union** $A \\cup B$ is written `A | B`"
   ]
  },
  {
   "cell_type": "code",
   "execution_count": 20,
   "metadata": {},
   "outputs": [
    {
     "data": {
      "text/plain": [
       "{'I', 'he', 'it', 'she', 'they', 'thou', 'we', 'you'}"
      ]
     },
     "execution_count": 20,
     "metadata": {},
     "output_type": "execute_result"
    }
   ],
   "source": [
    "english_pronouns | {\"I\", \"thou\", \"he\"}\n"
   ]
  },
  {
   "cell_type": "markdown",
   "metadata": {},
   "source": [
    "- **difference** $A\\backslash B$ is written `A - B`"
   ]
  },
  {
   "cell_type": "code",
   "execution_count": 21,
   "metadata": {},
   "outputs": [
    {
     "data": {
      "text/plain": [
       "{'it', 'she', 'they', 'we', 'you'}"
      ]
     },
     "execution_count": 21,
     "metadata": {},
     "output_type": "execute_result"
    }
   ],
   "source": [
    "english_pronouns - {\"I\", \"thou\", \"he\"}\n"
   ]
  },
  {
   "cell_type": "markdown",
   "metadata": {
    "slideshow": {
     "slide_type": "slide"
    }
   },
   "source": [
    "### Dictionaries: Overview\n",
    "\n",
    "Basic features of a **dictionary**:\n",
    "\n",
    "-   conceptually, an unordered set of key/value pairs\n",
    "\n",
    "-   used for storing objects under keys and looking them up again\n",
    "    (hence the name \"dictionary\")\n",
    "\n",
    "-   universal data structure that can be used to represent any\n",
    "    **mapping**\n",
    "\n",
    "-   Example 1: store the capital of each country:\n",
    "    { $\\dots$, Georgia $\\rightarrow$ Tbilisi, Germany $\\rightarrow$\n",
    "    Berlin, Ghana $\\rightarrow$ Accra, $\\dots$ }\n",
    "\n",
    "-   Example 2: store postal codes of each German town or village:\n",
    "\n",
    "    { $\\dots$, Tübingen $\\rightarrow$ {72070, 72072, 72074, 72076},\n",
    "    Tuchenbach $\\rightarrow$ {90587}, Tülau $\\rightarrow$ {38474}, Tunau\n",
    "    $\\rightarrow$ {79677}, $\\dots$}\n",
    "\n",
    "-   any immutable type can be a key\n",
    "    (strings, numbers, tuples, but not lists or sets)\n",
    "\n",
    "-   any object can be a value (even lists or sets)"
   ]
  },
  {
   "cell_type": "markdown",
   "metadata": {
    "slideshow": {
     "slide_type": "slide"
    }
   },
   "source": [
    "### Dictionaries: Overview\n",
    "\n",
    "Basic features of a **dictionary**:\n",
    "\n",
    "-   conceptually, an unordered set of key/value pairs\n",
    "\n",
    "-   used for storing objects under keys and looking them up again\n",
    "    (hence the name \"dictionary\")\n",
    "\n",
    "-   universal data structure that can be used to represent any\n",
    "    **mapping**\n",
    "\n",
    "-   Example 1: store the capital of each country:\n",
    "    { $\\dots$, Georgia $\\rightarrow$ Tbilisi, Germany $\\rightarrow$\n",
    "    Berlin, Ghana $\\rightarrow$ Accra, $\\dots$ }\n",
    "\n",
    "-   Example 2: store postal codes of each German town or village:\n",
    "\n",
    "    { $\\dots$, Tübingen $\\rightarrow$ {72070, 72072, 72074, 72076},\n",
    "    Tuchenbach $\\rightarrow$ {90587}, Tülau $\\rightarrow$ {38474}, Tunau\n",
    "    $\\rightarrow$ {79677}, $\\dots$}\n",
    "\n",
    "-   any immutable type can be a key\n",
    "    (strings, numbers, tuples, but not lists or sets)\n",
    "\n",
    "-   any object can be a value (even lists or sets)"
   ]
  },
  {
   "cell_type": "markdown",
   "metadata": {
    "slideshow": {
     "slide_type": "slide"
    }
   },
   "source": [
    "Basic features of dictionaries:\n",
    "\n",
    "-   initialization using `{}` or `dict()`:"
   ]
  },
  {
   "cell_type": "code",
   "execution_count": 22,
   "metadata": {},
   "outputs": [],
   "source": [
    "eng_deu_dict = {}"
   ]
  },
  {
   "cell_type": "markdown",
   "metadata": {},
   "source": [
    "- storing a key/value pair via assignment (`dict[key] = value`)"
   ]
  },
  {
   "cell_type": "code",
   "execution_count": 23,
   "metadata": {},
   "outputs": [],
   "source": [
    "eng_deu_dict[\"table\"] = \"Tisch\"\n",
    "eng_deu_dict[\"tablecloth\"] = \"Tischdecke\""
   ]
  },
  {
   "cell_type": "markdown",
   "metadata": {},
   "source": [
    "- value retrieval via `dict[key]`:"
   ]
  },
  {
   "cell_type": "code",
   "execution_count": 24,
   "metadata": {
    "slideshow": {
     "slide_type": "slide"
    }
   },
   "outputs": [
    {
     "data": {
      "text/plain": [
       "'Tisch'"
      ]
     },
     "execution_count": 24,
     "metadata": {},
     "output_type": "execute_result"
    }
   ],
   "source": [
    "eng_deu_dict[\"table\"]"
   ]
  },
  {
   "cell_type": "markdown",
   "metadata": {},
   "source": [
    "- using a non-existing key yields an error:"
   ]
  },
  {
   "cell_type": "code",
   "execution_count": 25,
   "metadata": {},
   "outputs": [
    {
     "ename": "KeyError",
     "evalue": "'chair'",
     "output_type": "error",
     "traceback": [
      "\u001b[0;31m---------------------------------------------------------------------------\u001b[0m",
      "\u001b[0;31mKeyError\u001b[0m                                  Traceback (most recent call last)",
      "\u001b[0;32m/tmp/ipykernel_30624/2101357084.py\u001b[0m in \u001b[0;36m<module>\u001b[0;34m\u001b[0m\n\u001b[0;32m----> 1\u001b[0;31m \u001b[0mtranslation\u001b[0m \u001b[0;34m=\u001b[0m \u001b[0meng_deu_dict\u001b[0m\u001b[0;34m[\u001b[0m\u001b[0;34m\"chair\"\u001b[0m\u001b[0;34m]\u001b[0m\u001b[0;34m\u001b[0m\u001b[0;34m\u001b[0m\u001b[0m\n\u001b[0m",
      "\u001b[0;31mKeyError\u001b[0m: 'chair'"
     ]
    }
   ],
   "source": [
    "translation = eng_deu_dict[\"chair\"]"
   ]
  },
  {
   "cell_type": "markdown",
   "metadata": {
    "slideshow": {
     "slide_type": "slide"
    }
   },
   "source": [
    "### Dictionaries: Construction\n",
    "\n",
    "There are many elegant ways to create dictionary objects:\n",
    "\n",
    "-   via a **dictionary literal** using colons as separators:"
   ]
  },
  {
   "cell_type": "code",
   "execution_count": 26,
   "metadata": {},
   "outputs": [],
   "source": [
    "eng_fra_dict = {\"table\": \"table\", \"tablecloth\": \"nappe\"}"
   ]
  },
  {
   "cell_type": "markdown",
   "metadata": {},
   "source": [
    "- via a list comprehension creating a list of pairs:"
   ]
  },
  {
   "cell_type": "code",
   "execution_count": 27,
   "metadata": {},
   "outputs": [],
   "source": [
    "to_upper_dict = dict([(l.lower(),l) for l in \"ABCDEFGHIJKLMNOPQRSTUVWXYZ\"])"
   ]
  },
  {
   "cell_type": "markdown",
   "metadata": {},
   "source": [
    "- or using two zipped sequences in the constructor:"
   ]
  },
  {
   "cell_type": "code",
   "execution_count": 28,
   "metadata": {},
   "outputs": [],
   "source": [
    "eng_words = [\"table\", \"tablecloth\", \"tablespoon\", \"tablet\", \"tabloid\", \"taboo\", \"tacit\", \"tack\"]\n",
    "deu_words = [\"Tisch\", \"Tischtuch\", \"Esslöffel\", \"Tablette\", \"Boulevardzeitung\", \"Tabu\", \n",
    "             \"stillschweigend\", \"Heftzwecke\"]\n",
    "eng_deu_dict = dict(zip(eng_words,deu_words))"
   ]
  },
  {
   "cell_type": "code",
   "execution_count": 29,
   "metadata": {},
   "outputs": [
    {
     "data": {
      "text/plain": [
       "'stillschweigender Esslöffel'"
      ]
     },
     "execution_count": 29,
     "metadata": {},
     "output_type": "execute_result"
    }
   ],
   "source": [
    "eng_deu_dict[\"tacit\"] + \"er \" + eng_deu_dict[\"tablespoon\"]"
   ]
  },
  {
   "cell_type": "markdown",
   "metadata": {
    "slideshow": {
     "slide_type": "slide"
    }
   },
   "source": [
    "### Dictionaries: Modification\n",
    "\n",
    "Functionality for modifying dictionaries:\n",
    "\n",
    "-   `len()` on a dictionary evaluates to the number of key/value pairs:"
   ]
  },
  {
   "cell_type": "code",
   "execution_count": 30,
   "metadata": {},
   "outputs": [
    {
     "data": {
      "text/plain": [
       "8"
      ]
     },
     "execution_count": 30,
     "metadata": {},
     "output_type": "execute_result"
    }
   ],
   "source": [
    "len(eng_deu_dict)"
   ]
  },
  {
   "cell_type": "markdown",
   "metadata": {},
   "source": [
    "- checking for presence for a key works via `in`:"
   ]
  },
  {
   "cell_type": "code",
   "execution_count": 31,
   "metadata": {},
   "outputs": [
    {
     "data": {
      "text/plain": [
       "True"
      ]
     },
     "execution_count": 31,
     "metadata": {},
     "output_type": "execute_result"
    }
   ],
   "source": [
    "\"table\" in eng_deu_dict"
   ]
  },
  {
   "cell_type": "code",
   "execution_count": 32,
   "metadata": {},
   "outputs": [
    {
     "data": {
      "text/plain": [
       "False"
      ]
     },
     "execution_count": 32,
     "metadata": {},
     "output_type": "execute_result"
    }
   ],
   "source": [
    "\"Tisch\" in eng_deu_dict"
   ]
  },
  {
   "cell_type": "markdown",
   "metadata": {
    "slideshow": {
     "slide_type": "slide"
    }
   },
   "source": [
    "- **keys are unique**, i.e. values for the same key are overwritten:"
   ]
  },
  {
   "cell_type": "code",
   "execution_count": 33,
   "metadata": {},
   "outputs": [],
   "source": [
    "eng_deu_dict[\"tack\"] = \"heften\""
   ]
  },
  {
   "cell_type": "code",
   "execution_count": 34,
   "metadata": {},
   "outputs": [
    {
     "data": {
      "text/plain": [
       "8"
      ]
     },
     "execution_count": 34,
     "metadata": {},
     "output_type": "execute_result"
    }
   ],
   "source": [
    "len(eng_deu_dict)"
   ]
  },
  {
   "cell_type": "markdown",
   "metadata": {},
   "source": [
    "- deleting a key/value pair is done using the keyword `del`:"
   ]
  },
  {
   "cell_type": "code",
   "execution_count": 35,
   "metadata": {},
   "outputs": [
    {
     "data": {
      "text/plain": [
       "7"
      ]
     },
     "execution_count": 35,
     "metadata": {},
     "output_type": "execute_result"
    }
   ],
   "source": [
    "del eng_deu_dict[\"tack\"]\n",
    "len(eng_deu_dict)"
   ]
  },
  {
   "cell_type": "markdown",
   "metadata": {
    "slideshow": {
     "slide_type": "slide"
    }
   },
   "source": [
    "### Dictionaries: Iteration\n",
    "\n",
    "Iterating over the entries in a dictionary:\n",
    "\n",
    "-   the `values()` method creates an iterator over the values:"
   ]
  },
  {
   "cell_type": "code",
   "execution_count": 36,
   "metadata": {},
   "outputs": [
    {
     "data": {
      "text/plain": [
       "['Boulevardzeitung', 'Esslöffel', 'Tablette']"
      ]
     },
     "execution_count": 36,
     "metadata": {},
     "output_type": "execute_result"
    }
   ],
   "source": [
    "sorted(eng_deu_dict.values())[:3]"
   ]
  },
  {
   "cell_type": "markdown",
   "metadata": {},
   "source": [
    "- the `keys()` method creates an iterator over the keys:"
   ]
  },
  {
   "cell_type": "code",
   "execution_count": 37,
   "metadata": {},
   "outputs": [
    {
     "data": {
      "text/plain": [
       "['table', 'tablecloth', 'tablespoon']"
      ]
     },
     "execution_count": 37,
     "metadata": {},
     "output_type": "execute_result"
    }
   ],
   "source": [
    "list(eng_deu_dict.keys())[:3]"
   ]
  },
  {
   "cell_type": "markdown",
   "metadata": {
    "slideshow": {
     "slide_type": "slide"
    }
   },
   "source": [
    "- both can be used in `for` loops to process the contents of a\n",
    "dictionary:"
   ]
  },
  {
   "cell_type": "code",
   "execution_count": 38,
   "metadata": {
    "collapsed": true
   },
   "outputs": [
    {
     "name": "stdout",
     "output_type": "stream",
     "text": [
      "Vocabulary test prototype\n",
      "table: table\n",
      "Wrong, it's Tisch!\n"
     ]
    },
    {
     "ename": "KeyboardInterrupt",
     "evalue": "Interrupted by user",
     "output_type": "error",
     "traceback": [
      "\u001b[0;31m---------------------------------------------------------------------------\u001b[0m",
      "\u001b[0;31mKeyboardInterrupt\u001b[0m                         Traceback (most recent call last)",
      "\u001b[0;32m/tmp/ipykernel_30624/2592149727.py\u001b[0m in \u001b[0;36m<module>\u001b[0;34m\u001b[0m\n\u001b[1;32m      1\u001b[0m \u001b[0mprint\u001b[0m\u001b[0;34m(\u001b[0m\u001b[0;34m\"Vocabulary test prototype\"\u001b[0m\u001b[0;34m)\u001b[0m\u001b[0;34m\u001b[0m\u001b[0;34m\u001b[0m\u001b[0m\n\u001b[1;32m      2\u001b[0m \u001b[0;32mfor\u001b[0m \u001b[0meng_word\u001b[0m \u001b[0;32min\u001b[0m \u001b[0msorted\u001b[0m\u001b[0;34m(\u001b[0m\u001b[0meng_deu_dict\u001b[0m\u001b[0;34m.\u001b[0m\u001b[0mkeys\u001b[0m\u001b[0;34m(\u001b[0m\u001b[0;34m)\u001b[0m\u001b[0;34m)\u001b[0m\u001b[0;34m:\u001b[0m\u001b[0;34m\u001b[0m\u001b[0;34m\u001b[0m\u001b[0m\n\u001b[0;32m----> 3\u001b[0;31m     \u001b[0manswer\u001b[0m \u001b[0;34m=\u001b[0m \u001b[0minput\u001b[0m\u001b[0;34m(\u001b[0m\u001b[0meng_word\u001b[0m \u001b[0;34m+\u001b[0m \u001b[0;34m\": \"\u001b[0m\u001b[0;34m)\u001b[0m\u001b[0;34m\u001b[0m\u001b[0;34m\u001b[0m\u001b[0m\n\u001b[0m\u001b[1;32m      4\u001b[0m     \u001b[0;32mif\u001b[0m \u001b[0manswer\u001b[0m \u001b[0;34m==\u001b[0m \u001b[0meng_deu_dict\u001b[0m\u001b[0;34m[\u001b[0m\u001b[0meng_word\u001b[0m\u001b[0;34m]\u001b[0m\u001b[0;34m:\u001b[0m\u001b[0;34m\u001b[0m\u001b[0;34m\u001b[0m\u001b[0m\n\u001b[1;32m      5\u001b[0m         \u001b[0mprint\u001b[0m\u001b[0;34m(\u001b[0m\u001b[0;34m\"Correct!\"\u001b[0m\u001b[0;34m)\u001b[0m\u001b[0;34m\u001b[0m\u001b[0;34m\u001b[0m\u001b[0m\n",
      "\u001b[0;32m~/anaconda3/envs/pythonCourse/lib/python3.9/site-packages/ipykernel/kernelbase.py\u001b[0m in \u001b[0;36mraw_input\u001b[0;34m(self, prompt)\u001b[0m\n\u001b[1;32m   1004\u001b[0m                 \u001b[0;34m\"raw_input was called, but this frontend does not support input requests.\"\u001b[0m\u001b[0;34m\u001b[0m\u001b[0;34m\u001b[0m\u001b[0m\n\u001b[1;32m   1005\u001b[0m             )\n\u001b[0;32m-> 1006\u001b[0;31m         return self._input_request(\n\u001b[0m\u001b[1;32m   1007\u001b[0m             \u001b[0mstr\u001b[0m\u001b[0;34m(\u001b[0m\u001b[0mprompt\u001b[0m\u001b[0;34m)\u001b[0m\u001b[0;34m,\u001b[0m\u001b[0;34m\u001b[0m\u001b[0;34m\u001b[0m\u001b[0m\n\u001b[1;32m   1008\u001b[0m             \u001b[0mself\u001b[0m\u001b[0;34m.\u001b[0m\u001b[0m_parent_ident\u001b[0m\u001b[0;34m[\u001b[0m\u001b[0;34m\"shell\"\u001b[0m\u001b[0;34m]\u001b[0m\u001b[0;34m,\u001b[0m\u001b[0;34m\u001b[0m\u001b[0;34m\u001b[0m\u001b[0m\n",
      "\u001b[0;32m~/anaconda3/envs/pythonCourse/lib/python3.9/site-packages/ipykernel/kernelbase.py\u001b[0m in \u001b[0;36m_input_request\u001b[0;34m(self, prompt, ident, parent, password)\u001b[0m\n\u001b[1;32m   1049\u001b[0m             \u001b[0;32mexcept\u001b[0m \u001b[0mKeyboardInterrupt\u001b[0m\u001b[0;34m:\u001b[0m\u001b[0;34m\u001b[0m\u001b[0;34m\u001b[0m\u001b[0m\n\u001b[1;32m   1050\u001b[0m                 \u001b[0;31m# re-raise KeyboardInterrupt, to truncate traceback\u001b[0m\u001b[0;34m\u001b[0m\u001b[0;34m\u001b[0m\u001b[0m\n\u001b[0;32m-> 1051\u001b[0;31m                 \u001b[0;32mraise\u001b[0m \u001b[0mKeyboardInterrupt\u001b[0m\u001b[0;34m(\u001b[0m\u001b[0;34m\"Interrupted by user\"\u001b[0m\u001b[0;34m)\u001b[0m \u001b[0;32mfrom\u001b[0m \u001b[0;32mNone\u001b[0m\u001b[0;34m\u001b[0m\u001b[0;34m\u001b[0m\u001b[0m\n\u001b[0m\u001b[1;32m   1052\u001b[0m             \u001b[0;32mexcept\u001b[0m \u001b[0mException\u001b[0m\u001b[0;34m:\u001b[0m\u001b[0;34m\u001b[0m\u001b[0;34m\u001b[0m\u001b[0m\n\u001b[1;32m   1053\u001b[0m                 \u001b[0mself\u001b[0m\u001b[0;34m.\u001b[0m\u001b[0mlog\u001b[0m\u001b[0;34m.\u001b[0m\u001b[0mwarning\u001b[0m\u001b[0;34m(\u001b[0m\u001b[0;34m\"Invalid Message:\"\u001b[0m\u001b[0;34m,\u001b[0m \u001b[0mexc_info\u001b[0m\u001b[0;34m=\u001b[0m\u001b[0;32mTrue\u001b[0m\u001b[0;34m)\u001b[0m\u001b[0;34m\u001b[0m\u001b[0;34m\u001b[0m\u001b[0m\n",
      "\u001b[0;31mKeyboardInterrupt\u001b[0m: Interrupted by user"
     ]
    }
   ],
   "source": [
    "print(\"Vocabulary test prototype\")\n",
    "for eng_word in sorted(eng_deu_dict.keys()):\n",
    "    answer = input(eng_word + \": \")\n",
    "    if answer == eng_deu_dict[eng_word]:\n",
    "        print(\"Correct!\")\n",
    "    else:\n",
    "        print(\"Wrong, it's \" + eng_deu_dict[eng_word] + \"!\")"
   ]
  },
  {
   "cell_type": "markdown",
   "metadata": {
    "slideshow": {
     "slide_type": "slide"
    }
   },
   "source": [
    "### Nested Data Structures\n",
    "\n",
    "All container structures (lists, tuples, sets, dicts) can be **nested**!\n",
    "\n",
    "-   storing a complex dictionary with morphological information:"
   ]
  },
  {
   "cell_type": "code",
   "execution_count": 39,
   "metadata": {},
   "outputs": [
    {
     "name": "stdout",
     "output_type": "stream",
     "text": [
      "{'ache': ({'cat': 'N', 'meaning': 'Schmerz'}, {'cat': 'VI', 'meaning': 'schmerzen'}), 'acid': ({'cat': 'A', 'meaning': 'sauer[Chemie]'}, {'cat': 'N', 'meaning': 'Säure'})}\n"
     ]
    }
   ],
   "source": [
    "en_de_dict = dict()\n",
    "ache_sense1 = {\"cat\": \"N\", \"meaning\": \"Schmerz\"}\n",
    "ache_sense2 = {\"cat\": \"VI\", \"meaning\": \"schmerzen\"}\n",
    "en_de_dict[\"ache\"] = (ache_sense1, ache_sense2)\n",
    "acid_sense1 = {\"cat\": \"A\", \"meaning\": \"sauer[Chemie]\"}\n",
    "acid_sense2 = {\"cat\": \"N\", \"meaning\": \"Säure\"}\n",
    "en_de_dict[\"acid\"] = (acid_sense1, acid_sense2)\n",
    "print(en_de_dict)"
   ]
  },
  {
   "cell_type": "markdown",
   "metadata": {
    "slideshow": {
     "slide_type": "slide"
    }
   },
   "source": [
    "### Representing Matrices as Nested Lists\n",
    "\n",
    "Nested lists allow a natural representation of **matrices**:\n",
    "\n",
    "- a very useful data structure e.g. for representing distributions\n",
    "\n",
    "$$\n",
    "\\begin{array}{|c|c|c|c|c|c|}\n",
    "\\hline\n",
    "0.02 &  0.50 &  0.18 &  0.10 &  0.12 &  0.08\\\\\\hline\n",
    "0.04 &  0.48 &  0.08 &  0.15 &  0.17  & 0.08\\\\\\hline\n",
    "\\end{array}\n",
    "$$\n",
    "- initializing a matrix with $m$ rows and $n$ columns:"
   ]
  },
  {
   "cell_type": "code",
   "execution_count": 40,
   "metadata": {},
   "outputs": [
    {
     "data": {
      "text/plain": [
       "[[0.2, 0.2, 0.2, 0.2, 0.2], [0.2, 0.2, 0.2, 0.2, 0.2]]"
      ]
     },
     "execution_count": 40,
     "metadata": {},
     "output_type": "execute_result"
    }
   ],
   "source": [
    "m, n = 2, 5\n",
    "mtx = [[1/n] * n for i in range(m)]\n",
    "mtx"
   ]
  },
  {
   "cell_type": "markdown",
   "metadata": {},
   "source": [
    "- modifying the values in row $2$ and columns $3$ and $4$:"
   ]
  },
  {
   "cell_type": "code",
   "execution_count": 41,
   "metadata": {},
   "outputs": [
    {
     "data": {
      "text/plain": [
       "[0.2, 0.2, 0.3, 0.1, 0.2]"
      ]
     },
     "execution_count": 41,
     "metadata": {},
     "output_type": "execute_result"
    }
   ],
   "source": [
    "mtx[1][2] = 0.3; mtx[1][3] = 0.1\n",
    "mtx[1]"
   ]
  },
  {
   "cell_type": "code",
   "execution_count": 42,
   "metadata": {},
   "outputs": [
    {
     "data": {
      "text/plain": [
       "[1.0, 1.0]"
      ]
     },
     "execution_count": 42,
     "metadata": {},
     "output_type": "execute_result"
    }
   ],
   "source": [
    "list(map(sum, mtx))"
   ]
  },
  {
   "cell_type": "markdown",
   "metadata": {
    "slideshow": {
     "slide_type": "slide"
    }
   },
   "source": [
    "Advanced formatting using `format()`:\n",
    "\n",
    "-   **formatting templates** are stored in a specialized string format\n",
    "\n",
    "-   basic principles:\n",
    "\n",
    "    -   every object to be rendered is repesented by a block in curly\n",
    "        brackets\n",
    "\n",
    "    -   symbols outside curly brackets are copied into the output\n",
    "\n",
    "-   useful basic features:\n",
    "\n",
    "    -   **padding** to a desired length $k$ using\n",
    "        `:k` (left alignment), `:^k` (center alignment), or `:>k` (right\n",
    "        alignment)\n",
    "\n",
    "    -   **truncating** to a desired length $k$ using `.k` (combines with\n",
    "        padding)\n",
    "\n",
    "    -   **integer format** `:d` which allows padding\n",
    "\n",
    "    -   **float format** `:f` which allows padding and specifying a\n",
    "        precision,\n",
    "        e.g. `{:06.2f}` to output 3.245 as `\"003.42\"`\n",
    "\n",
    "-   more information on `https://pyformat.info`"
   ]
  },
  {
   "cell_type": "markdown",
   "metadata": {
    "slideshow": {
     "slide_type": "slide"
    }
   },
   "source": [
    "### Advanced Formatting\n",
    "\n",
    "Example of `format()` usage:\n",
    "\n",
    "- to format a sequence of objects, apply the `format()` method on the\n",
    "template string with the objects as arguments:"
   ]
  },
  {
   "cell_type": "code",
   "execution_count": 43,
   "metadata": {},
   "outputs": [],
   "source": [
    "result_template = \"{:20s}: {:6.2f} {:6.2f}\""
   ]
  },
  {
   "cell_type": "code",
   "execution_count": 44,
   "metadata": {},
   "outputs": [
    {
     "data": {
      "text/plain": [
       "'Pruta Govvom        :   2.50   4.70'"
      ]
     },
     "execution_count": 44,
     "metadata": {},
     "output_type": "execute_result"
    }
   ],
   "source": [
    "result_template.format(\"Pruta Govvom\", 2.5, 4.7)"
   ]
  },
  {
   "cell_type": "markdown",
   "metadata": {},
   "source": [
    "- format() expects parts as separate arguments, which requires **unpacking** using `*` when applied to sequence objects:"
   ]
  },
  {
   "cell_type": "code",
   "execution_count": 45,
   "metadata": {},
   "outputs": [],
   "source": [
    "results = [(\"Pruta Govvom\", 2.5, 4.7), (\"Prokanayardan Tum\", 0.4, 3), (\"Mara Tsirpalandani\", 1.15, 0.01)]"
   ]
  },
  {
   "cell_type": "code",
   "execution_count": 46,
   "metadata": {},
   "outputs": [
    {
     "name": "stdout",
     "output_type": "stream",
     "text": [
      "Pruta Govvom        :   2.50   4.70\n",
      "Prokanayardan Tum   :   0.40   3.00\n",
      "Mara Tsirpalandani  :   1.15   0.01\n"
     ]
    }
   ],
   "source": [
    "for result in results:\n",
    "    print(result_template.format(*result))"
   ]
  },
  {
   "cell_type": "markdown",
   "metadata": {
    "slideshow": {
     "slide_type": "slide"
    }
   },
   "source": [
    "### File Input and Output: Motivation\n",
    "\n",
    "Why we need to deal with files:\n",
    "\n",
    "-   processing large amounts of data is the main application of\n",
    "    programming, and the true source of its usefulness\n",
    "\n",
    "-   permanent data storage in files (byte sequences on a storage medium)\n",
    "\n",
    "-   for processing, we need to get the data from files into memory\n",
    "    (Python objects), and write the results back into a different file\n",
    "\n",
    "-   to work with a file, we need to open and navigate inside it\n",
    "\n",
    "-   opening a file creates a **file handle**\n",
    "\n",
    "-   a file handle contains a pointer that indicates a particular place\n",
    "    in the file (it \"remembers\" where in the file we are)\n",
    "\n",
    "-   initial placement of the pointer depends on the mode in which the\n",
    "    file is opened (e.g. at the start or the end of the file)"
   ]
  },
  {
   "cell_type": "markdown",
   "metadata": {
    "slideshow": {
     "slide_type": "slide"
    }
   },
   "source": [
    "### File I/O: Structure of Text Files\n",
    "\n",
    "Basic facts about text files:\n",
    "\n",
    "-   text files consist of lines of text\n",
    "\n",
    "-   at the end of each line there is a **newline** symbol\n",
    "\n",
    "-   in Python strings, a newline is represented by `\"\\n\"`\n",
    "\n",
    "-   different operating systems use slightly different ways of\n",
    "    representing linebreaks:\n",
    "\n",
    "    -   Windows: 00001101 00001010 (\"carriage return\" + \"linefeed\")\n",
    "\n",
    "    -   Unix derivates (includes Mac OS and Linux): 00001010\n",
    "\n",
    "-   within Python, the difference is abstracted away (the implementation\n",
    "    of the functions for reading from and writing to a file will handle\n",
    "    this)"
   ]
  },
  {
   "cell_type": "markdown",
   "metadata": {
    "slideshow": {
     "slide_type": "slide"
    }
   },
   "source": [
    "### File Input: Syntax\n",
    "\n",
    "Basic elements of file input:\n",
    "-   the function `open()` creates and returns a file handle\n",
    "    -   obligatory argument: a file name (or a complete path)\n",
    "    -   optional: a string representing the **mode** in which the file is opened\n",
    "    -   default mode if none is specified: `\"r\"` (\"reading\")\n",
    "-   core functionality of a file handle in reading mode:\n",
    "    -   the `read()` method returns the whole document in a single string\n",
    "    -   the `readline()` method returns the next unprocessed line of the file opened by the handle (or `None`) if the end of the file was reached\n",
    "    -   the `readlines()` method returns a list of strings, containing each line of the file as a string in the original order\n",
    "    -   the `close()` method cancels or finishes the processing of the file, ensuring that the file is closed correctly, and returning control to the operating system"
   ]
  },
  {
   "cell_type": "markdown",
   "metadata": {
    "slideshow": {
     "slide_type": "slide"
    }
   },
   "source": [
    "### File Input: Example\n",
    "\n"
   ]
  },
  {
   "cell_type": "code",
   "execution_count": 47,
   "metadata": {
    "slideshow": {
     "slide_type": "-"
    }
   },
   "outputs": [
    {
     "ename": "FileNotFoundError",
     "evalue": "[Errno 2] No such file or directory: 'some_text.txt'",
     "output_type": "error",
     "traceback": [
      "\u001b[0;31m---------------------------------------------------------------------------\u001b[0m",
      "\u001b[0;31mFileNotFoundError\u001b[0m                         Traceback (most recent call last)",
      "\u001b[0;32m/tmp/ipykernel_30624/1755147484.py\u001b[0m in \u001b[0;36m<module>\u001b[0;34m\u001b[0m\n\u001b[0;32m----> 1\u001b[0;31m \u001b[0mfr\u001b[0m \u001b[0;34m=\u001b[0m \u001b[0mopen\u001b[0m\u001b[0;34m(\u001b[0m\u001b[0;34m\"some_text.txt\"\u001b[0m\u001b[0;34m,\u001b[0m \u001b[0;34m\"r\"\u001b[0m\u001b[0;34m)\u001b[0m\u001b[0;34m\u001b[0m\u001b[0;34m\u001b[0m\u001b[0m\n\u001b[0m\u001b[1;32m      2\u001b[0m \u001b[0mheader\u001b[0m \u001b[0;34m=\u001b[0m \u001b[0mfr\u001b[0m\u001b[0;34m.\u001b[0m\u001b[0mreadline\u001b[0m\u001b[0;34m(\u001b[0m\u001b[0;34m)\u001b[0m\u001b[0;34m.\u001b[0m\u001b[0mstrip\u001b[0m\u001b[0;34m(\u001b[0m\u001b[0;34m)\u001b[0m\u001b[0;34m\u001b[0m\u001b[0;34m\u001b[0m\u001b[0m\n\u001b[1;32m      3\u001b[0m \u001b[0mprint\u001b[0m\u001b[0;34m(\u001b[0m\u001b[0;34m\"Loading text \\\"\"\u001b[0m \u001b[0;34m+\u001b[0m \u001b[0mheader\u001b[0m \u001b[0;34m+\u001b[0m \u001b[0;34m\"\\\"...\"\u001b[0m\u001b[0;34m)\u001b[0m\u001b[0;34m\u001b[0m\u001b[0;34m\u001b[0m\u001b[0m\n\u001b[1;32m      4\u001b[0m \u001b[0mthe_text\u001b[0m \u001b[0;34m=\u001b[0m \u001b[0mfr\u001b[0m\u001b[0;34m.\u001b[0m\u001b[0mread\u001b[0m\u001b[0;34m(\u001b[0m\u001b[0;34m)\u001b[0m\u001b[0;34m\u001b[0m\u001b[0;34m\u001b[0m\u001b[0m\n\u001b[1;32m      5\u001b[0m \u001b[0mfr\u001b[0m\u001b[0;34m.\u001b[0m\u001b[0mclose\u001b[0m\u001b[0;34m(\u001b[0m\u001b[0;34m)\u001b[0m\u001b[0;34m\u001b[0m\u001b[0;34m\u001b[0m\u001b[0m\n",
      "\u001b[0;31mFileNotFoundError\u001b[0m: [Errno 2] No such file or directory: 'some_text.txt'"
     ]
    }
   ],
   "source": [
    "fr = open(\"some_text.txt\", \"r\")\n",
    "header = fr.readline().strip()\n",
    "print(\"Loading text \\\"\" + header + \"\\\"...\")\n",
    "the_text = fr.read()\n",
    "fr.close()\n",
    "print(\"Done.\")"
   ]
  },
  {
   "cell_type": "markdown",
   "metadata": {
    "slideshow": {
     "slide_type": "slide"
    }
   },
   "source": [
    "### File Output: Syntax\n",
    "\n",
    "Basic elements of file output:\n",
    "\n",
    "-   use `open(file_name,\"w\")` to create file handle in writing mode\n",
    "\n",
    "-   core functionality of a file handle in writing mode:\n",
    "\n",
    "    -   the `write()` method writes a string to the file, and returns\n",
    "        the number of characters written\n",
    "\n",
    "    -   the `writelines()` method takes a list of strings, and writes\n",
    "        each of them into a new line of the file\n",
    "\n",
    "    -   the `flush()` forces the buffer to be flushed (see next slide)\n",
    "\n",
    "    -   the `close()` method finishes the creation of the file, and\n",
    "        ensures that the file is closed correctly"
   ]
  },
  {
   "cell_type": "markdown",
   "metadata": {
    "slideshow": {
     "slide_type": "slide"
    }
   },
   "source": [
    "### File Output: Buffering\n",
    "\n",
    "Basic facts about buffering and flushing:\n",
    "\n",
    "-   changes made to a file a not stored immediately\n",
    "\n",
    "-   the operating system **buffers** the changes in order to make file\n",
    "    operations more efficient (important because hard drive access is\n",
    "    much more limited in bandwidth)\n",
    "\n",
    "-   by default, buffers are only **flushed** to the file when needed\n",
    "\n",
    "-   both `flush()` and `close()` cause a flush\n",
    "\n",
    "-   buffers are always flushed when a Python program ends normally\n",
    "\n",
    "-   but if the program crashes, buffers might not be flushed\\\n",
    "    ($\\Rightarrow$ not all the output up to the crash will end up in the\n",
    "    file)"
   ]
  },
  {
   "cell_type": "markdown",
   "metadata": {
    "slideshow": {
     "slide_type": "slide"
    }
   },
   "source": [
    "### File Input and Output: Example\n"
   ]
  },
  {
   "cell_type": "code",
   "execution_count": 48,
   "metadata": {},
   "outputs": [
    {
     "ename": "KeyboardInterrupt",
     "evalue": "Interrupted by user",
     "output_type": "error",
     "traceback": [
      "\u001b[0;31m---------------------------------------------------------------------------\u001b[0m",
      "\u001b[0;31mKeyboardInterrupt\u001b[0m                         Traceback (most recent call last)",
      "\u001b[0;32m/tmp/ipykernel_30624/711317770.py\u001b[0m in \u001b[0;36m<module>\u001b[0;34m\u001b[0m\n\u001b[1;32m      1\u001b[0m \u001b[0mfp\u001b[0m \u001b[0;34m=\u001b[0m \u001b[0mopen\u001b[0m\u001b[0;34m(\u001b[0m\u001b[0;34m\"pc_writetest.txt\"\u001b[0m\u001b[0;34m,\u001b[0m \u001b[0;34m\"w\"\u001b[0m\u001b[0;34m)\u001b[0m\u001b[0;34m\u001b[0m\u001b[0;34m\u001b[0m\u001b[0m\n\u001b[1;32m      2\u001b[0m \u001b[0;32mwhile\u001b[0m \u001b[0;32mTrue\u001b[0m\u001b[0;34m:\u001b[0m\u001b[0;34m\u001b[0m\u001b[0;34m\u001b[0m\u001b[0m\n\u001b[0;32m----> 3\u001b[0;31m     \u001b[0mtext\u001b[0m \u001b[0;34m=\u001b[0m \u001b[0minput\u001b[0m\u001b[0;34m(\u001b[0m\u001b[0;34m\"Enter a line to write to the file, or press ENTER to quit! \"\u001b[0m\u001b[0;34m)\u001b[0m\u001b[0;34m\u001b[0m\u001b[0;34m\u001b[0m\u001b[0m\n\u001b[0m\u001b[1;32m      4\u001b[0m     \u001b[0;32mif\u001b[0m \u001b[0mtext\u001b[0m \u001b[0;34m==\u001b[0m \u001b[0;34m\"\"\u001b[0m\u001b[0;34m:\u001b[0m\u001b[0;34m\u001b[0m\u001b[0;34m\u001b[0m\u001b[0m\n\u001b[1;32m      5\u001b[0m         \u001b[0;32mbreak\u001b[0m\u001b[0;34m\u001b[0m\u001b[0;34m\u001b[0m\u001b[0m\n",
      "\u001b[0;32m~/anaconda3/envs/pythonCourse/lib/python3.9/site-packages/ipykernel/kernelbase.py\u001b[0m in \u001b[0;36mraw_input\u001b[0;34m(self, prompt)\u001b[0m\n\u001b[1;32m   1004\u001b[0m                 \u001b[0;34m\"raw_input was called, but this frontend does not support input requests.\"\u001b[0m\u001b[0;34m\u001b[0m\u001b[0;34m\u001b[0m\u001b[0m\n\u001b[1;32m   1005\u001b[0m             )\n\u001b[0;32m-> 1006\u001b[0;31m         return self._input_request(\n\u001b[0m\u001b[1;32m   1007\u001b[0m             \u001b[0mstr\u001b[0m\u001b[0;34m(\u001b[0m\u001b[0mprompt\u001b[0m\u001b[0;34m)\u001b[0m\u001b[0;34m,\u001b[0m\u001b[0;34m\u001b[0m\u001b[0;34m\u001b[0m\u001b[0m\n\u001b[1;32m   1008\u001b[0m             \u001b[0mself\u001b[0m\u001b[0;34m.\u001b[0m\u001b[0m_parent_ident\u001b[0m\u001b[0;34m[\u001b[0m\u001b[0;34m\"shell\"\u001b[0m\u001b[0;34m]\u001b[0m\u001b[0;34m,\u001b[0m\u001b[0;34m\u001b[0m\u001b[0;34m\u001b[0m\u001b[0m\n",
      "\u001b[0;32m~/anaconda3/envs/pythonCourse/lib/python3.9/site-packages/ipykernel/kernelbase.py\u001b[0m in \u001b[0;36m_input_request\u001b[0;34m(self, prompt, ident, parent, password)\u001b[0m\n\u001b[1;32m   1049\u001b[0m             \u001b[0;32mexcept\u001b[0m \u001b[0mKeyboardInterrupt\u001b[0m\u001b[0;34m:\u001b[0m\u001b[0;34m\u001b[0m\u001b[0;34m\u001b[0m\u001b[0m\n\u001b[1;32m   1050\u001b[0m                 \u001b[0;31m# re-raise KeyboardInterrupt, to truncate traceback\u001b[0m\u001b[0;34m\u001b[0m\u001b[0;34m\u001b[0m\u001b[0m\n\u001b[0;32m-> 1051\u001b[0;31m                 \u001b[0;32mraise\u001b[0m \u001b[0mKeyboardInterrupt\u001b[0m\u001b[0;34m(\u001b[0m\u001b[0;34m\"Interrupted by user\"\u001b[0m\u001b[0;34m)\u001b[0m \u001b[0;32mfrom\u001b[0m \u001b[0;32mNone\u001b[0m\u001b[0;34m\u001b[0m\u001b[0;34m\u001b[0m\u001b[0m\n\u001b[0m\u001b[1;32m   1052\u001b[0m             \u001b[0;32mexcept\u001b[0m \u001b[0mException\u001b[0m\u001b[0;34m:\u001b[0m\u001b[0;34m\u001b[0m\u001b[0;34m\u001b[0m\u001b[0m\n\u001b[1;32m   1053\u001b[0m                 \u001b[0mself\u001b[0m\u001b[0;34m.\u001b[0m\u001b[0mlog\u001b[0m\u001b[0;34m.\u001b[0m\u001b[0mwarning\u001b[0m\u001b[0;34m(\u001b[0m\u001b[0;34m\"Invalid Message:\"\u001b[0m\u001b[0;34m,\u001b[0m \u001b[0mexc_info\u001b[0m\u001b[0;34m=\u001b[0m\u001b[0;32mTrue\u001b[0m\u001b[0;34m)\u001b[0m\u001b[0;34m\u001b[0m\u001b[0;34m\u001b[0m\u001b[0m\n",
      "\u001b[0;31mKeyboardInterrupt\u001b[0m: Interrupted by user"
     ]
    }
   ],
   "source": [
    "fp = open(\"pc_writetest.txt\", \"w\")\n",
    "while True:\n",
    "    text = input(\"Enter a line to write to the file, or press ENTER to quit! \")\n",
    "    if text == \"\":\n",
    "        break\n",
    "    fp.write(text)\n",
    "    fp.close()\n",
    "\n",
    "print(\"Here is what was written into the file:\")\n",
    "print(\"---------------------------------------\")\n",
    "fp = open(\"pc_writetest.txt\")\n",
    "content = fp.read()\n",
    "fp.close()\n",
    "print(content)"
   ]
  },
  {
   "cell_type": "markdown",
   "metadata": {
    "slideshow": {
     "slide_type": "slide"
    }
   },
   "source": [
    "### File Input and Output: Modes\n",
    "\n",
    "List of all possibilities for the second argument of `open()`,\n",
    "configuring the mode in which a file is opened:\n",
    "\n",
    "-   `\"r\"` for reading (default in absence of second argument)\n",
    "\n",
    "-   `\"w\"` for writing (will replace the content of the file if it\n",
    "    exists!)\n",
    "\n",
    "-   `\"a\"` for appending at the end of an existing file\n",
    "\n",
    "-   `\"x\"` for creating a new file with that name\n",
    "\n",
    "-   `\"r+\"` for updating (reading and writing, difficult!)\n",
    "\n",
    "The default mode assumes you are writing and reading text, the letter\n",
    "`\"b\"` is used for binary files, e.g. `\"wb\"` mode to write to a binary\n",
    "file (beyond scope of this course)."
   ]
  }
 ],
 "metadata": {
  "@webio": {
   "lastCommId": null,
   "lastKernelId": null
  },
  "celltoolbar": "Slideshow",
  "kernelspec": {
   "display_name": "Python 3 (ipykernel)",
   "language": "python",
   "name": "python3"
  },
  "language_info": {
   "codemirror_mode": {
    "name": "ipython",
    "version": 3
   },
   "file_extension": ".py",
   "mimetype": "text/x-python",
   "name": "python",
   "nbconvert_exporter": "python",
   "pygments_lexer": "ipython3",
   "version": "3.9.7"
  },
  "latex_envs": {
   "LaTeX_envs_menu_present": true,
   "autoclose": false,
   "autocomplete": true,
   "bibliofile": "biblio.bib",
   "cite_by": "apalike",
   "current_citInitial": 1,
   "eqLabelWithNumbers": true,
   "eqNumInitial": 1,
   "hotkeys": {
    "equation": "Ctrl-E",
    "itemize": "Ctrl-I"
   },
   "labels_anchors": false,
   "latex_user_defs": false,
   "report_style_numbering": false,
   "user_envs_cfg": false
  },
  "rise": {
   "enable_chalkboard": true
    "livereveal": {
        "autolaunch": true
        }
  }
 },
 "nbformat": 4,
 "nbformat_minor": 4
}
