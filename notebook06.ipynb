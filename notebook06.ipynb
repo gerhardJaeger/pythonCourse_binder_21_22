{
 "cells": [
  {
   "cell_type": "markdown",
   "metadata": {
    "slideshow": {
     "slide_type": "slide"
    }
   },
   "source": [
    "# Methods I: Programming and Data Analysis\n",
    "\n",
    "## Session 06: Loops, Lists, Iterators, Tuples etc.\n",
    "\n",
    "### Gerhard Jäger\n",
    "\n",
    "#### (based on Johannes Dellert's slides)\n",
    "\n",
    "November 30, 2021"
   ]
  },
  {
   "cell_type": "markdown",
   "metadata": {
    "slideshow": {
     "slide_type": "slide"
    }
   },
   "source": [
    "### The `while` loop: Exiting the Loop\n",
    "\n",
    "There are two basic statements for exiting a loop:\n",
    "\n",
    "-   `break` exits the loop without completing the current iteration:"
   ]
  },
  {
   "cell_type": "code",
   "execution_count": 1,
   "metadata": {},
   "outputs": [],
   "source": [
    "def get_next_word():\n",
    "    pass\n"
   ]
  },
  {
   "cell_type": "code",
   "execution_count": 2,
   "metadata": {},
   "outputs": [
    {
     "name": "stdout",
     "output_type": "stream",
     "text": [
      "None\n"
     ]
    }
   ],
   "source": [
    "print(get_next_word())\n"
   ]
  },
  {
   "cell_type": "code",
   "execution_count": 3,
   "metadata": {},
   "outputs": [],
   "source": [
    "output = \"\"\n",
    "while len(output) < 80:\n",
    "    word = get_next_word()\n",
    "    if word != None:\n",
    "        output += word + \" \"\n",
    "    else:\n",
    "        break\n"
   ]
  },
  {
   "cell_type": "markdown",
   "metadata": {
    "slideshow": {
     "slide_type": "slide"
    }
   },
   "source": [
    "- `continue` cancels the current iteration of the loop and causes it\n",
    "to repeat from the top; this is useful to e.g. ignore comment lines:"
   ]
  },
  {
   "cell_type": "code",
   "execution_count": 4,
   "metadata": {},
   "outputs": [
    {
     "name": "stdout",
     "output_type": "stream",
     "text": [
      "Next line: Line\n",
      "1: Line\n",
      "Next line: # Comment\n",
      "Next line: Line\n",
      "2: Line\n"
     ]
    },
    {
     "ename": "KeyboardInterrupt",
     "evalue": "Interrupted by user",
     "output_type": "error",
     "traceback": [
      "\u001b[0;31m---------------------------------------------------------------------------\u001b[0m",
      "\u001b[0;31mKeyboardInterrupt\u001b[0m                         Traceback (most recent call last)",
      "\u001b[0;32m/tmp/ipykernel_5287/1063898123.py\u001b[0m in \u001b[0;36m<module>\u001b[0;34m\u001b[0m\n\u001b[1;32m      6\u001b[0m \u001b[0mline\u001b[0m \u001b[0;34m=\u001b[0m \u001b[0;34m\"\"\u001b[0m\u001b[0;34m\u001b[0m\u001b[0;34m\u001b[0m\u001b[0m\n\u001b[1;32m      7\u001b[0m \u001b[0;32mwhile\u001b[0m \u001b[0mline\u001b[0m \u001b[0;34m!=\u001b[0m \u001b[0;32mNone\u001b[0m\u001b[0;34m:\u001b[0m\u001b[0;34m\u001b[0m\u001b[0;34m\u001b[0m\u001b[0m\n\u001b[0;32m----> 8\u001b[0;31m     \u001b[0mline\u001b[0m \u001b[0;34m=\u001b[0m \u001b[0mget_next_line\u001b[0m\u001b[0;34m(\u001b[0m\u001b[0;34m)\u001b[0m\u001b[0;34m\u001b[0m\u001b[0;34m\u001b[0m\u001b[0m\n\u001b[0m\u001b[1;32m      9\u001b[0m     \u001b[0;32mif\u001b[0m \u001b[0mline\u001b[0m\u001b[0;34m.\u001b[0m\u001b[0mstartswith\u001b[0m\u001b[0;34m(\u001b[0m\u001b[0;34m\"#\"\u001b[0m\u001b[0;34m)\u001b[0m\u001b[0;34m:\u001b[0m\u001b[0;34m\u001b[0m\u001b[0;34m\u001b[0m\u001b[0m\n\u001b[1;32m     10\u001b[0m         \u001b[0;32mcontinue\u001b[0m\u001b[0;34m\u001b[0m\u001b[0;34m\u001b[0m\u001b[0m\n",
      "\u001b[0;32m/tmp/ipykernel_5287/1063898123.py\u001b[0m in \u001b[0;36mget_next_line\u001b[0;34m()\u001b[0m\n\u001b[1;32m      1\u001b[0m \u001b[0;32mdef\u001b[0m \u001b[0mget_next_line\u001b[0m\u001b[0;34m(\u001b[0m\u001b[0;34m)\u001b[0m\u001b[0;34m:\u001b[0m\u001b[0;34m\u001b[0m\u001b[0;34m\u001b[0m\u001b[0m\n\u001b[0;32m----> 2\u001b[0;31m     \u001b[0;32mreturn\u001b[0m \u001b[0minput\u001b[0m\u001b[0;34m(\u001b[0m\u001b[0;34m\"Next line: \"\u001b[0m\u001b[0;34m)\u001b[0m\u001b[0;34m\u001b[0m\u001b[0;34m\u001b[0m\u001b[0m\n\u001b[0m\u001b[1;32m      3\u001b[0m \u001b[0;34m\u001b[0m\u001b[0m\n\u001b[1;32m      4\u001b[0m \u001b[0;34m\u001b[0m\u001b[0m\n\u001b[1;32m      5\u001b[0m \u001b[0mnum_lines\u001b[0m \u001b[0;34m=\u001b[0m \u001b[0;36m0\u001b[0m\u001b[0;34m\u001b[0m\u001b[0;34m\u001b[0m\u001b[0m\n",
      "\u001b[0;32m~/anaconda3/envs/pythonCourse/lib/python3.9/site-packages/ipykernel/kernelbase.py\u001b[0m in \u001b[0;36mraw_input\u001b[0;34m(self, prompt)\u001b[0m\n\u001b[1;32m   1004\u001b[0m                 \u001b[0;34m\"raw_input was called, but this frontend does not support input requests.\"\u001b[0m\u001b[0;34m\u001b[0m\u001b[0;34m\u001b[0m\u001b[0m\n\u001b[1;32m   1005\u001b[0m             )\n\u001b[0;32m-> 1006\u001b[0;31m         return self._input_request(\n\u001b[0m\u001b[1;32m   1007\u001b[0m             \u001b[0mstr\u001b[0m\u001b[0;34m(\u001b[0m\u001b[0mprompt\u001b[0m\u001b[0;34m)\u001b[0m\u001b[0;34m,\u001b[0m\u001b[0;34m\u001b[0m\u001b[0;34m\u001b[0m\u001b[0m\n\u001b[1;32m   1008\u001b[0m             \u001b[0mself\u001b[0m\u001b[0;34m.\u001b[0m\u001b[0m_parent_ident\u001b[0m\u001b[0;34m[\u001b[0m\u001b[0;34m\"shell\"\u001b[0m\u001b[0;34m]\u001b[0m\u001b[0;34m,\u001b[0m\u001b[0;34m\u001b[0m\u001b[0;34m\u001b[0m\u001b[0m\n",
      "\u001b[0;32m~/anaconda3/envs/pythonCourse/lib/python3.9/site-packages/ipykernel/kernelbase.py\u001b[0m in \u001b[0;36m_input_request\u001b[0;34m(self, prompt, ident, parent, password)\u001b[0m\n\u001b[1;32m   1049\u001b[0m             \u001b[0;32mexcept\u001b[0m \u001b[0mKeyboardInterrupt\u001b[0m\u001b[0;34m:\u001b[0m\u001b[0;34m\u001b[0m\u001b[0;34m\u001b[0m\u001b[0m\n\u001b[1;32m   1050\u001b[0m                 \u001b[0;31m# re-raise KeyboardInterrupt, to truncate traceback\u001b[0m\u001b[0;34m\u001b[0m\u001b[0;34m\u001b[0m\u001b[0m\n\u001b[0;32m-> 1051\u001b[0;31m                 \u001b[0;32mraise\u001b[0m \u001b[0mKeyboardInterrupt\u001b[0m\u001b[0;34m(\u001b[0m\u001b[0;34m\"Interrupted by user\"\u001b[0m\u001b[0;34m)\u001b[0m \u001b[0;32mfrom\u001b[0m \u001b[0;32mNone\u001b[0m\u001b[0;34m\u001b[0m\u001b[0;34m\u001b[0m\u001b[0m\n\u001b[0m\u001b[1;32m   1052\u001b[0m             \u001b[0;32mexcept\u001b[0m \u001b[0mException\u001b[0m\u001b[0;34m:\u001b[0m\u001b[0;34m\u001b[0m\u001b[0;34m\u001b[0m\u001b[0m\n\u001b[1;32m   1053\u001b[0m                 \u001b[0mself\u001b[0m\u001b[0;34m.\u001b[0m\u001b[0mlog\u001b[0m\u001b[0;34m.\u001b[0m\u001b[0mwarning\u001b[0m\u001b[0;34m(\u001b[0m\u001b[0;34m\"Invalid Message:\"\u001b[0m\u001b[0;34m,\u001b[0m \u001b[0mexc_info\u001b[0m\u001b[0;34m=\u001b[0m\u001b[0;32mTrue\u001b[0m\u001b[0;34m)\u001b[0m\u001b[0;34m\u001b[0m\u001b[0;34m\u001b[0m\u001b[0m\n",
      "\u001b[0;31mKeyboardInterrupt\u001b[0m: Interrupted by user"
     ]
    }
   ],
   "source": [
    "def get_next_line():\n",
    "    return input(\"Next line: \")\n",
    "\n",
    "\n",
    "num_lines = 0\n",
    "line = \"\"\n",
    "while line != None:\n",
    "    line = get_next_line() \n",
    "    if line.startswith(\"#\"):\n",
    "        continue\n",
    "    num_lines += 1\n",
    "    print(str(num_lines) + \": \" + line)\n",
    "    \n",
    "\n",
    "    "
   ]
  },
  {
   "cell_type": "markdown",
   "metadata": {
    "slideshow": {
     "slide_type": "slide"
    }
   },
   "source": [
    "### The `for` loop\n",
    "\n",
    "The **for loop** provides a compact way to define a common type of loop:\n",
    "\n",
    "- causes some variable to take all of a range of predefined values\n",
    "\n",
    "- executes the same code with different values of the variable\n",
    "\n",
    "- in natural language: \"with all of these objects, do this\"\n",
    "\n",
    "- syntax in Python:\n",
    "\n",
    "  ``` {language=\"python\"}\n",
    "     for variable in iterable_collection:\n",
    "       statement1\n",
    "       statement2\n",
    "  ```\n",
    "\n",
    "- the variable gets set to each value in the iterable collection in\n",
    "  turn\n",
    "\n",
    "- most important types of iterable collections (**iterable**):\n",
    "\n",
    "  -   strings: the variable will be assigned to each character in turn\n",
    "\n",
    "  -   ranges: generated by the `range()` function (see next slide)\n",
    "\n",
    "  -   lists: general ordered collections (in a minute)"
   ]
  },
  {
   "cell_type": "markdown",
   "metadata": {
    "slideshow": {
     "slide_type": "slide"
    }
   },
   "source": [
    "### Generating iterables via the `range()` function\n",
    "\n",
    "The `range()` function\n",
    "\n",
    "-   generates iterable sequences of numbers\n",
    "\n",
    "-   `range(n)` generates integers from $0$ to $n - 1$\n",
    "\n",
    "-   `range(i,n)` generates integers from $i$ to $n - 1$\n",
    "\n",
    "-   `range(i,n,k)` generates every $k$th integer $j$ with $i \\leq j < n$\n",
    "\n",
    "Example:"
   ]
  },
  {
   "cell_type": "code",
   "execution_count": 5,
   "metadata": {},
   "outputs": [
    {
     "name": "stdout",
     "output_type": "stream",
     "text": [
      "10\n",
      "15\n",
      "20\n",
      "25\n"
     ]
    }
   ],
   "source": [
    "for j in range(10,30,5):\n",
    "    print(j)\n"
   ]
  },
  {
   "cell_type": "markdown",
   "metadata": {
    "slideshow": {
     "slide_type": "slide"
    }
   },
   "source": [
    "### The `for` loop: Examples\n",
    "\n",
    "-   reimplementing the multiplication table:"
   ]
  },
  {
   "cell_type": "code",
   "execution_count": 6,
   "metadata": {},
   "outputs": [
    {
     "name": "stdout",
     "output_type": "stream",
     "text": [
      "1\t2\t3\t4\t5\t6\t7\t8\t9\t10\t\n",
      "2\t4\t6\t8\t10\t12\t14\t16\t18\t20\t\n",
      "3\t6\t9\t12\t15\t18\t21\t24\t27\t30\t\n",
      "4\t8\t12\t16\t20\t24\t28\t32\t36\t40\t\n",
      "5\t10\t15\t20\t25\t30\t35\t40\t45\t50\t\n",
      "6\t12\t18\t24\t30\t36\t42\t48\t54\t60\t\n",
      "7\t14\t21\t28\t35\t42\t49\t56\t63\t70\t\n",
      "8\t16\t24\t32\t40\t48\t56\t64\t72\t80\t\n",
      "9\t18\t27\t36\t45\t54\t63\t72\t81\t90\t\n",
      "10\t20\t30\t40\t50\t60\t70\t80\t90\t100\t\n"
     ]
    }
   ],
   "source": [
    "for x in range(1,11):\n",
    "    line = \"\"\n",
    "    for y in range (1,11):\n",
    "        line += str(x * y) + \"\\t\"\n",
    "    print(line)\n"
   ]
  },
  {
   "cell_type": "markdown",
   "metadata": {
    "slideshow": {
     "slide_type": "slide"
    }
   },
   "source": [
    "- numbering the characters in a string:\n"
   ]
  },
  {
   "cell_type": "code",
   "execution_count": 7,
   "metadata": {},
   "outputs": [
    {
     "name": "stdout",
     "output_type": "stream",
     "text": [
      "1:\te\n",
      "2:\tx\n",
      "3:\ta\n",
      "4:\tm\n",
      "5:\tp\n",
      "6:\tl\n",
      "7:\te\n",
      "8:\t \n",
      "9:\ts\n",
      "10:\tt\n",
      "11:\tr\n",
      "12:\ti\n",
      "13:\tn\n",
      "14:\tg\n"
     ]
    }
   ],
   "source": [
    "char_num = 1\n",
    "for l in \"example string\":\n",
    "    print(str(char_num) + \":\\t\" + l)\n",
    "    char_num += 1\n"
   ]
  },
  {
   "cell_type": "markdown",
   "metadata": {
    "slideshow": {
     "slide_type": "slide"
    }
   },
   "source": [
    "Lists\n",
    "=====\n",
    "\n",
    "Basic Usage\n",
    "-----------\n",
    "\n",
    "### Lists: Basics\n",
    "\n",
    "**Lists** are the most elementary data structure:\n",
    "\n",
    "-   a collection of objects (of any types) in a defined order\n",
    "\n",
    "-   objects can occur multiple times (unlike in sets)\n",
    "\n",
    "-   example: \n"
   ]
  },
  {
   "cell_type": "code",
   "execution_count": 8,
   "metadata": {},
   "outputs": [],
   "source": [
    "example = [\"several\",\"objects\",\"contained\"]\n"
   ]
  },
  {
   "cell_type": "markdown",
   "metadata": {},
   "source": [
    "-   lists are **mutable**, i.e. they can be changed in place (unlike\n",
    "    strings)"
   ]
  },
  {
   "cell_type": "markdown",
   "metadata": {
    "slideshow": {
     "slide_type": "slide"
    }
   },
   "source": [
    "## mutable and non-mutable objects"
   ]
  },
  {
   "cell_type": "code",
   "execution_count": 9,
   "metadata": {},
   "outputs": [],
   "source": [
    "x = \"This is a string\""
   ]
  },
  {
   "cell_type": "code",
   "execution_count": 10,
   "metadata": {},
   "outputs": [
    {
     "data": {
      "text/plain": [
       "'This is a string'"
      ]
     },
     "execution_count": 10,
     "metadata": {},
     "output_type": "execute_result"
    }
   ],
   "source": [
    "x"
   ]
  },
  {
   "cell_type": "code",
   "execution_count": 11,
   "metadata": {},
   "outputs": [
    {
     "ename": "TypeError",
     "evalue": "'str' object does not support item assignment",
     "output_type": "error",
     "traceback": [
      "\u001b[0;31m---------------------------------------------------------------------------\u001b[0m",
      "\u001b[0;31mTypeError\u001b[0m                                 Traceback (most recent call last)",
      "\u001b[0;32m/tmp/ipykernel_5287/1460720781.py\u001b[0m in \u001b[0;36m<module>\u001b[0;34m\u001b[0m\n\u001b[0;32m----> 1\u001b[0;31m \u001b[0mx\u001b[0m\u001b[0;34m[\u001b[0m\u001b[0;36m0\u001b[0m\u001b[0;34m]\u001b[0m \u001b[0;34m=\u001b[0m \u001b[0;34m't'\u001b[0m\u001b[0;34m\u001b[0m\u001b[0;34m\u001b[0m\u001b[0m\n\u001b[0m",
      "\u001b[0;31mTypeError\u001b[0m: 'str' object does not support item assignment"
     ]
    }
   ],
   "source": [
    "x[0] = 't'"
   ]
  },
  {
   "cell_type": "code",
   "execution_count": 12,
   "metadata": {},
   "outputs": [],
   "source": [
    "x = x.lower()"
   ]
  },
  {
   "cell_type": "code",
   "execution_count": 13,
   "metadata": {},
   "outputs": [],
   "source": [
    "l = [\"This\", \"is\", \"a\", \"list\"]"
   ]
  },
  {
   "cell_type": "code",
   "execution_count": 14,
   "metadata": {},
   "outputs": [],
   "source": [
    "l[2] = \"the\""
   ]
  },
  {
   "cell_type": "code",
   "execution_count": 15,
   "metadata": {},
   "outputs": [
    {
     "data": {
      "text/plain": [
       "['This', 'is', 'the', 'list']"
      ]
     },
     "execution_count": 15,
     "metadata": {},
     "output_type": "execute_result"
    }
   ],
   "source": [
    "l"
   ]
  },
  {
   "cell_type": "markdown",
   "metadata": {
    "slideshow": {
     "slide_type": "slide"
    }
   },
   "source": [
    "### Lists: Known Features\n",
    "\n",
    "Many features of lists are already known from strings:\n",
    "\n",
    "-   `list[k]` for access to the k-th element:"
   ]
  },
  {
   "cell_type": "code",
   "execution_count": 16,
   "metadata": {},
   "outputs": [
    {
     "data": {
      "text/plain": [
       "'contained'"
      ]
     },
     "execution_count": 16,
     "metadata": {},
     "output_type": "execute_result"
    }
   ],
   "source": [
    "example[2]\n"
   ]
  },
  {
   "cell_type": "markdown",
   "metadata": {},
   "source": [
    "`len(list)` to determine the length of a list:\n"
   ]
  },
  {
   "cell_type": "code",
   "execution_count": 17,
   "metadata": {},
   "outputs": [
    {
     "data": {
      "text/plain": [
       "3"
      ]
     },
     "execution_count": 17,
     "metadata": {},
     "output_type": "execute_result"
    }
   ],
   "source": [
    "len(example)\n"
   ]
  },
  {
   "cell_type": "markdown",
   "metadata": {},
   "source": [
    "slicing (`list[m:n]`) to extract (and modify) sublists:"
   ]
  },
  {
   "cell_type": "code",
   "execution_count": 18,
   "metadata": {},
   "outputs": [
    {
     "data": {
      "text/plain": [
       "['objects', 'contained']"
      ]
     },
     "execution_count": 18,
     "metadata": {},
     "output_type": "execute_result"
    }
   ],
   "source": [
    "example[1:]\n"
   ]
  },
  {
   "cell_type": "markdown",
   "metadata": {
    "slideshow": {
     "slide_type": "slide"
    }
   },
   "source": [
    "concatenating lists using the `+` operator:"
   ]
  },
  {
   "cell_type": "code",
   "execution_count": 19,
   "metadata": {},
   "outputs": [
    {
     "data": {
      "text/plain": [
       "['several', 'objects', 'contained', 'here']"
      ]
     },
     "execution_count": 19,
     "metadata": {},
     "output_type": "execute_result"
    }
   ],
   "source": [
    "example + ['here']\n"
   ]
  },
  {
   "cell_type": "markdown",
   "metadata": {
    "slideshow": {
     "slide_type": "slide"
    }
   },
   "source": [
    "Some important methods we have not seen before:\n",
    "\n",
    "-   `in`: a boolean operator testing for list membership (similar to $\\in$)"
   ]
  },
  {
   "cell_type": "code",
   "execution_count": 20,
   "metadata": {},
   "outputs": [
    {
     "data": {
      "text/plain": [
       "True"
      ]
     },
     "execution_count": 20,
     "metadata": {},
     "output_type": "execute_result"
    }
   ],
   "source": [
    "\"objects\" in example\n"
   ]
  },
  {
   "cell_type": "markdown",
   "metadata": {
    "slideshow": {
     "slide_type": "slide"
    }
   },
   "source": [
    "-   `list.append(obj)` adds `obj` to the end of the list\n",
    "\n",
    "-   `list.insert(k,obj)` adds `obj` in front of the $k+1$-th element\n",
    "\n",
    "-   `list.index(obj)` returns the index of `obj` on the list\n",
    "\n",
    "-   `list.pop()` deletes and returns the rightmost element\n",
    "\n",
    "-   `list.pop(k)` deletes and returns the $k+1$-th element\n",
    "\n",
    "-   `list.remove(obj)` removes the first instance of `obj` from the list\n",
    "\n",
    "-   `list.reverse()` reverses the list in place\n",
    "\n",
    "-   `list.sort()` sorts the list in place:"
   ]
  },
  {
   "cell_type": "code",
   "execution_count": 21,
   "metadata": {},
   "outputs": [
    {
     "name": "stdout",
     "output_type": "stream",
     "text": [
      "['contained', 'objects', 'several']\n"
     ]
    }
   ],
   "source": [
    "example.sort()\n",
    "print(example)\n"
   ]
  },
  {
   "cell_type": "markdown",
   "metadata": {
    "slideshow": {
     "slide_type": "slide"
    }
   },
   "source": [
    "### Lists: Examples\n",
    "\n",
    "-   manipulating an agenda of items:"
   ]
  },
  {
   "cell_type": "code",
   "execution_count": 22,
   "metadata": {},
   "outputs": [
    {
     "name": "stdout",
     "output_type": "stream",
     "text": [
      "get up\n",
      "exercise\n",
      "have shower\n",
      "brush teeth\n"
     ]
    }
   ],
   "source": [
    "agenda = [\"get up\", \"drink coffee\", \"have shower\"]\n",
    "agenda.remove(\"drink coffee\")\n",
    "agenda.insert(agenda.index(\"have shower\"),\"exercise\")\n",
    "agenda.append(\"brush teeth\")\n",
    "while len(agenda) > 0:\n",
    "    print(agenda.pop(0))"
   ]
  },
  {
   "cell_type": "markdown",
   "metadata": {},
   "source": [
    "- developing more sensible German numerals:\n"
   ]
  },
  {
   "cell_type": "code",
   "execution_count": 24,
   "metadata": {},
   "outputs": [
    {
     "name": "stdout",
     "output_type": "stream",
     "text": [
      "dreizehnsieben\n"
     ]
    }
   ],
   "source": [
    "units = [\"\", \"eins\", \"zwei\", \"drei\", \"vier\", \"fünf\"]\n",
    "units += [\"sechs\", \"sieben\", \"acht\", \"neun\"]\n",
    "\n",
    "better_numerals = units[0:10]\n",
    "for num in range(10,100):\n",
    "    better = units[num // 10] + \"zehn\" + units[num % 10]\n",
    "    better_numerals.append(better)\n",
    "print(better_numerals[37])\n",
    "\n"
   ]
  },
  {
   "cell_type": "markdown",
   "metadata": {
    "slideshow": {
     "slide_type": "slide"
    }
   },
   "source": [
    "### Lists: Generating Lists\n",
    "\n",
    "There are multiple ways to generate lists:\n",
    "\n",
    "-   empty list: `list = []`\n",
    "\n",
    "-   direct initialization: `list = [\"a\", \"b\", \"c\", \"d\", 1, 2, 3]`\n",
    "\n",
    "-   the `split()` method (in a minute)\n",
    "\n",
    "-   list comprehensions (in two minutes)"
   ]
  },
  {
   "cell_type": "markdown",
   "metadata": {
    "slideshow": {
     "slide_type": "slide"
    }
   },
   "source": [
    "### Lists: The `split()` method\n",
    "\n",
    "The `split()` method splits a string into a list of its parts:\n",
    "\n",
    "-   by default, `split()` splits at whitespaces:"
   ]
  },
  {
   "cell_type": "code",
   "execution_count": 25,
   "metadata": {},
   "outputs": [
    {
     "data": {
      "text/plain": [
       "[\"let's\", 'use', 'different', 'types', 'of', 'whitespace']"
      ]
     },
     "execution_count": 25,
     "metadata": {},
     "output_type": "execute_result"
    }
   ],
   "source": [
    "\"let's use   different\\t\\t types\\tof  whitespace\".split()"
   ]
  },
  {
   "cell_type": "markdown",
   "metadata": {},
   "source": [
    "- an optional first argument sets the string at which to split:\n"
   ]
  },
  {
   "cell_type": "code",
   "execution_count": 26,
   "metadata": {},
   "outputs": [
    {
     "data": {
      "text/plain": [
       "[\"let's use   different\", '', ' types', 'of  whitespace']"
      ]
     },
     "execution_count": 26,
     "metadata": {},
     "output_type": "execute_result"
    }
   ],
   "source": [
    "\"let's use   different\\t\\t types\\tof  whitespace\".split(\"\\t\")"
   ]
  },
  {
   "cell_type": "markdown",
   "metadata": {},
   "source": [
    "- an optional second argument limits the number of splits:\n"
   ]
  },
  {
   "cell_type": "code",
   "execution_count": 27,
   "metadata": {},
   "outputs": [
    {
     "data": {
      "text/plain": [
       "[\"let's\", 'use', '', ' different\\t\\t types\\tof  whitespace']"
      ]
     },
     "execution_count": 27,
     "metadata": {},
     "output_type": "execute_result"
    }
   ],
   "source": [
    "\"let's use   different\\t\\t types\\tof  whitespace\".split(\" \",3)"
   ]
  },
  {
   "cell_type": "markdown",
   "metadata": {
    "slideshow": {
     "slide_type": "slide"
    }
   },
   "source": [
    "### Lists Comprehensions\n",
    "\n",
    "A very compact way to create lists is provided by **list\n",
    "comprehensions**:\n",
    "\n",
    "-   general syntax:\n",
    "    `[expression(i) for i in iterable (if condition)]`\n",
    "\n",
    "-   Example 1: Square Numbers"
   ]
  },
  {
   "cell_type": "code",
   "execution_count": 28,
   "metadata": {},
   "outputs": [
    {
     "data": {
      "text/plain": [
       "[1, 4, 9, 16, 25, 36, 49, 64, 81]"
      ]
     },
     "execution_count": 28,
     "metadata": {},
     "output_type": "execute_result"
    }
   ],
   "source": [
    "[x*x for x in range(1,10)]"
   ]
  },
  {
   "cell_type": "markdown",
   "metadata": {},
   "source": [
    "- Example 2: Turkish Noun Forms\n",
    "\n",
    "  ``` {style=\"console\"}\n",
    "  >>> cases = [\"ACC\",\"DAT\",\"LOC\",\"ABL\",\"GEN\"]\n",
    "  >>> [inflect_noun(\"kar\",case,\"singular\") for case in cases]\n",
    "  ['karı', 'kara', 'karda', 'kardan', 'karın']\n",
    "  >>> [inflect_noun(\"kar\",case,\"plural\") for case in cases]\n",
    "  ['karları', 'karlara', 'karlarda', 'karlardan', 'karların']\n",
    "  ```\n",
    "\n",
    "\n",
    "----------------"
   ]
  },
  {
   "cell_type": "markdown",
   "metadata": {
    "slideshow": {
     "slide_type": "slide"
    }
   },
   "source": [
    "### Processing Lists: Iterators\n",
    "\n",
    "-   **lists are iterables**, i.e. they can be processed element by\n",
    "    element using a `for` loop\n",
    "\n",
    "-   Example: iterating through a list of words"
   ]
  },
  {
   "cell_type": "code",
   "execution_count": 29,
   "metadata": {},
   "outputs": [
    {
     "name": "stdout",
     "output_type": "stream",
     "text": [
      "behold (length: 6)\n",
      "the (length: 3)\n",
      "usual (length: 5)\n",
      "example (length: 7)\n"
     ]
    }
   ],
   "source": [
    "sentence = [\"behold\", \"the\", \"usual\", \"example\"]\n",
    "for word in sentence:\n",
    "    print(word + \" (length: \" + str(len(word)) + \")\")"
   ]
  },
  {
   "cell_type": "markdown",
   "metadata": {
    "slideshow": {
     "slide_type": "slide"
    }
   },
   "source": [
    "### Processing Lists: the `join()` function\n",
    "\n",
    "The `join()` method is the inverse of `split()`:\n",
    "\n",
    "-   it is applied to the boundary string, with an iterable as its\n",
    "    argument:"
   ]
  },
  {
   "cell_type": "code",
   "execution_count": 30,
   "metadata": {},
   "outputs": [
    {
     "data": {
      "text/plain": [
       "'behold.the.usual.example'"
      ]
     },
     "execution_count": 30,
     "metadata": {},
     "output_type": "execute_result"
    }
   ],
   "source": [
    "\".\".join(sentence)"
   ]
  },
  {
   "cell_type": "markdown",
   "metadata": {},
   "source": [
    "-   it only works on string iterables, not on numbers\n",
    "\n",
    "-   avoid confusing the order of arguments!"
   ]
  },
  {
   "cell_type": "code",
   "execution_count": 31,
   "metadata": {},
   "outputs": [
    {
     "data": {
      "text/plain": [
       "'-abc>'"
      ]
     },
     "execution_count": 31,
     "metadata": {},
     "output_type": "execute_result"
    }
   ],
   "source": [
    "\"abc\".join(\"->\")"
   ]
  },
  {
   "cell_type": "code",
   "execution_count": 32,
   "metadata": {},
   "outputs": [
    {
     "data": {
      "text/plain": [
       "'a->b->c'"
      ]
     },
     "execution_count": 32,
     "metadata": {},
     "output_type": "execute_result"
    }
   ],
   "source": [
    "\n",
    "\n",
    "\"->\".join(\"abc\")"
   ]
  },
  {
   "cell_type": "markdown",
   "metadata": {
    "slideshow": {
     "slide_type": "slide"
    }
   },
   "source": [
    "### Processing Lists: `max()`, `min()`, and `sum()`\n",
    "\n",
    "Some simple and frequently used aggregation functions:\n",
    "\n",
    "-   `sum()` on a list of numbers returns the sum:"
   ]
  },
  {
   "cell_type": "code",
   "execution_count": 33,
   "metadata": {},
   "outputs": [
    {
     "data": {
      "text/plain": [
       "74.0"
      ]
     },
     "execution_count": 33,
     "metadata": {},
     "output_type": "execute_result"
    }
   ],
   "source": [
    "number_list = [4, 8, 17, 3, 34, 5.6, 2.4]\n",
    "sum(number_list)"
   ]
  },
  {
   "cell_type": "markdown",
   "metadata": {},
   "source": [
    "- `min()` and `max()` on a list of numbers return the minimum and the\n",
    "maximum value, respectively:"
   ]
  },
  {
   "cell_type": "code",
   "execution_count": 34,
   "metadata": {},
   "outputs": [
    {
     "data": {
      "text/plain": [
       "'2.4, 34'"
      ]
     },
     "execution_count": 34,
     "metadata": {},
     "output_type": "execute_result"
    }
   ],
   "source": [
    "str(min(number_list)) + \", \" + str(max(number_list))\n"
   ]
  },
  {
   "cell_type": "markdown",
   "metadata": {
    "slideshow": {
     "slide_type": "slide"
    }
   },
   "source": [
    "`min()` and `max()` on a list of strings return the first and last\n",
    "element in alphabetical order:"
   ]
  },
  {
   "cell_type": "code",
   "execution_count": 35,
   "metadata": {},
   "outputs": [
    {
     "data": {
      "text/plain": [
       "'von Ambienteleuchte bis Zyklonenbombe'"
      ]
     },
     "execution_count": 35,
     "metadata": {},
     "output_type": "execute_result"
    }
   ],
   "source": [
    "wortwarte_list = [\"Beautytrick\", \"Ambienteleuchte\"]\n",
    "wortwarte_list += [\"Wellnessgerät\",  \"Jamaikamodus\"]\n",
    "wortwarte_list += [\"Elendscamp\", \"Zyklonenbombe\"]\n",
    "\"von \" + min(wortwarte_list) + \" bis \" + max(wortwarte_list)"
   ]
  },
  {
   "cell_type": "markdown",
   "metadata": {
    "slideshow": {
     "slide_type": "slide"
    }
   },
   "source": [
    "### Multi-variable Iterators\n",
    "\n",
    "Useful more advanced ways of creating iterables:\n",
    "\n",
    "-   `enumerate()` creates a numbered tuple for each element:"
   ]
  },
  {
   "cell_type": "code",
   "execution_count": 36,
   "metadata": {},
   "outputs": [
    {
     "name": "stdout",
     "output_type": "stream",
     "text": [
      "word 0: behold\n",
      "word 1: the\n",
      "word 2: example\n"
     ]
    }
   ],
   "source": [
    "sentence = [\"behold\", \"the\", \"example\"]\n",
    "for i, word in enumerate(sentence):\n",
    "    print(\"word \" + str(i) + \": \" + word)"
   ]
  },
  {
   "cell_type": "markdown",
   "metadata": {},
   "source": [
    "- `zip()` can be used to iterate in parallel:"
   ]
  },
  {
   "cell_type": "code",
   "execution_count": 37,
   "metadata": {},
   "outputs": [
    {
     "name": "stdout",
     "output_type": "stream",
     "text": [
      "je -> ich\n",
      "suis -> bin\n",
      "ici -> hier\n"
     ]
    }
   ],
   "source": [
    "s1 = [\"je\", \"suis\", \"ici\"]\n",
    "s2 = [\"ich\", \"bin\", \"hier\"]\n",
    "for s1_word, s2_word in zip(s1,s2):\n",
    "    print(s1_word + \" -> \" + s2_word)"
   ]
  },
  {
   "cell_type": "markdown",
   "metadata": {
    "slideshow": {
     "slide_type": "slide"
    }
   },
   "source": [
    "### The `itertools` module\n",
    "\n",
    "Some complex iterators are predefined in the `itertools` module:\n",
    "\n",
    "-   all these do not produce lists, but iterator objects\n",
    "    (not all items are pre-generated and stored in memory!)\n",
    "\n",
    "-   Example 1: `product()` generates the Cartesian product:"
   ]
  },
  {
   "cell_type": "code",
   "execution_count": 38,
   "metadata": {},
   "outputs": [
    {
     "name": "stdout",
     "output_type": "stream",
     "text": [
      "('A', 'C')\n",
      "('A', 'D')\n",
      "('B', 'C')\n",
      "('B', 'D')\n"
     ]
    }
   ],
   "source": [
    "import itertools\n",
    "for item in itertools.product(\"AB\",\"CD\"): \n",
    "    print(item)\n"
   ]
  },
  {
   "cell_type": "markdown",
   "metadata": {},
   "source": [
    "- Example 2: `permutations()` generates all permutations:"
   ]
  },
  {
   "cell_type": "code",
   "execution_count": 39,
   "metadata": {},
   "outputs": [
    {
     "name": "stdout",
     "output_type": "stream",
     "text": [
      "(1, 2, 3)  (1, 3, 2)  (2, 1, 3)  (2, 3, 1)  (3, 1, 2)  (3, 2, 1)  \n"
     ]
    }
   ],
   "source": [
    "from itertools import permutations\n",
    "output = \"\"\n",
    "for item in permutations([1,2,3]): \n",
    "    output += str(item) + \"  \"\n",
    "print(output)"
   ]
  }
 ],
 "metadata": {
  "@webio": {
   "lastCommId": null,
   "lastKernelId": null
  },
  "celltoolbar": "Slideshow",
  "kernelspec": {
   "display_name": "Python 3 (ipykernel)",
   "language": "python",
   "name": "python3"
  },
  "language_info": {
   "codemirror_mode": {
    "name": "ipython",
    "version": 3
   },
   "file_extension": ".py",
   "mimetype": "text/x-python",
   "name": "python",
   "nbconvert_exporter": "python",
   "pygments_lexer": "ipython3",
   "version": "3.9.7"
  },
  "latex_envs": {
   "LaTeX_envs_menu_present": true,
   "autoclose": false,
   "autocomplete": true,
   "bibliofile": "biblio.bib",
   "cite_by": "apalike",
   "current_citInitial": 1,
   "eqLabelWithNumbers": true,
   "eqNumInitial": 1,
   "hotkeys": {
    "equation": "Ctrl-E",
    "itemize": "Ctrl-I"
   },
   "labels_anchors": false,
   "latex_user_defs": false,
   "report_style_numbering": false,
   "user_envs_cfg": false
  },
  "rise": {
   "enable_chalkboard": true
  }
 },
 "nbformat": 4,
 "nbformat_minor": 4
}
