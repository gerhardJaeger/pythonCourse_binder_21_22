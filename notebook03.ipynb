{
 "cells": [
  {
   "cell_type": "markdown",
   "metadata": {
    "slideshow": {
     "slide_type": "slide"
    }
   },
   "source": [
    "# Methods I: Programming and Data Analysis\n",
    "\n",
    "## Session 03: Statements, Comments, Functions\n",
    "\n",
    "### Gerhard Jäger\n",
    "\n",
    "#### (based on Johannes Dellert's slides)\n",
    "\n",
    "November 9, 2021"
   ]
  },
  {
   "cell_type": "markdown",
   "metadata": {
    "slideshow": {
     "slide_type": "slide"
    }
   },
   "source": [
    "Expressions and Statements\n",
    "==========================\n",
    "\n",
    "Expressions\n",
    "-----------\n",
    "\n",
    "### Expressions\n",
    "\n",
    "-   an **expression** (*Ausdruck*) is any piece of Python code which\n",
    "    evaluates to an object, and does nothing else but compute this\n",
    "    evaluation\n",
    "\n",
    "-   common types of expressions:\n",
    "\n",
    "    -   literals\n",
    "\n",
    "    -   variables\n",
    "\n",
    "    -   arithmetic operations\n",
    "\n",
    "    -   function calls\n",
    "\n",
    "    -   boolean expressions (Session 04)"
   ]
  },
  {
   "cell_type": "markdown",
   "metadata": {
    "slideshow": {
     "slide_type": "slide"
    }
   },
   "source": [
    "### Expressions: Arithmetic Operations\n",
    "\n",
    "The full set of arithmetic operations, and how they are written:\n",
    "\n",
    "-   **addition** using **`+`**\n",
    "\n",
    "-   **subtraction** using **`-`**\n",
    "\n",
    "-   **multiplication** using **`*`**\n",
    "\n",
    "-   **division** using **`/`**\n",
    "\n",
    "-   **floor division** using **`//`** (floor of quotient)\n",
    "    (*Ganzzahldivision*)\n",
    "\n",
    "-   **modulo** using **`%`** (remainder of division) (*Rest*)\n",
    "\n",
    "-   **power** using `**` (*Potenzierung*)\n",
    "\n"
   ]
  },
  {
   "cell_type": "markdown",
   "metadata": {
    "slideshow": {
     "slide_type": "slide"
    }
   },
   "source": [
    "Examples:\n"
   ]
  },
  {
   "cell_type": "code",
   "execution_count": 1,
   "metadata": {},
   "outputs": [
    {
     "data": {
      "text/plain": [
       "5"
      ]
     },
     "execution_count": 1,
     "metadata": {},
     "output_type": "execute_result"
    }
   ],
   "source": [
    "2 ** 4 // 3"
   ]
  },
  {
   "cell_type": "code",
   "execution_count": 2,
   "metadata": {},
   "outputs": [
    {
     "data": {
      "text/plain": [
       "1.4142135623730951"
      ]
     },
     "execution_count": 2,
     "metadata": {},
     "output_type": "execute_result"
    }
   ],
   "source": [
    "(5 % 3) ** (1/2)"
   ]
  },
  {
   "cell_type": "markdown",
   "metadata": {
    "slideshow": {
     "slide_type": "slide"
    }
   },
   "source": [
    "### Expressions: Parenthesized Forms\n",
    "\n",
    "The role of parentheses `(` and `)` in expressions:\n",
    "\n",
    "- the usual operator precedence rules apply:"
   ]
  },
  {
   "cell_type": "code",
   "execution_count": 3,
   "metadata": {},
   "outputs": [
    {
     "data": {
      "text/plain": [
       "26"
      ]
     },
     "execution_count": 3,
     "metadata": {},
     "output_type": "execute_result"
    }
   ],
   "source": [
    "5 + 3 * 7"
   ]
  },
  {
   "cell_type": "code",
   "execution_count": 4,
   "metadata": {},
   "outputs": [
    {
     "data": {
      "text/plain": [
       "'clip clop clop clop '"
      ]
     },
     "execution_count": 4,
     "metadata": {},
     "output_type": "execute_result"
    }
   ],
   "source": [
    "\"clip \" + \"clop \" * 3"
   ]
  },
  {
   "cell_type": "markdown",
   "metadata": {},
   "source": [
    "- operator precedence can be overridden by parentheses:\n"
   ]
  },
  {
   "cell_type": "code",
   "execution_count": 5,
   "metadata": {},
   "outputs": [
    {
     "data": {
      "text/plain": [
       "56"
      ]
     },
     "execution_count": 5,
     "metadata": {},
     "output_type": "execute_result"
    }
   ],
   "source": [
    "(5 + 3) * 7"
   ]
  },
  {
   "cell_type": "code",
   "execution_count": 6,
   "metadata": {},
   "outputs": [
    {
     "data": {
      "text/plain": [
       "'clip clop clip clop clip clop '"
      ]
     },
     "execution_count": 6,
     "metadata": {},
     "output_type": "execute_result"
    }
   ],
   "source": [
    "(\"clip \" + \"clop \") * 3"
   ]
  },
  {
   "cell_type": "markdown",
   "metadata": {
    "slideshow": {
     "slide_type": "slide"
    }
   },
   "source": [
    "- directly after an identifier, a pair of parentheses is interpreted\n",
    "  as enclosing the arguments of a function call\n"
   ]
  },
  {
   "cell_type": "code",
   "execution_count": 7,
   "metadata": {},
   "outputs": [
    {
     "name": "stderr",
     "output_type": "stream",
     "text": [
      "<>:1: SyntaxWarning: 'int' object is not callable; perhaps you missed a comma?\n",
      "<>:1: SyntaxWarning: 'int' object is not callable; perhaps you missed a comma?\n",
      "/tmp/ipykernel_25087/2518929677.py:1: SyntaxWarning: 'int' object is not callable; perhaps you missed a comma?\n",
      "  3 (\"clip\" + \"clop\")\n"
     ]
    },
    {
     "ename": "TypeError",
     "evalue": "'int' object is not callable",
     "output_type": "error",
     "traceback": [
      "\u001b[0;31m---------------------------------------------------------------------------\u001b[0m",
      "\u001b[0;31mTypeError\u001b[0m                                 Traceback (most recent call last)",
      "\u001b[0;32m/tmp/ipykernel_25087/2518929677.py\u001b[0m in \u001b[0;36m<module>\u001b[0;34m\u001b[0m\n\u001b[0;32m----> 1\u001b[0;31m \u001b[0;36m3\u001b[0m \u001b[0;34m(\u001b[0m\u001b[0;34m\"clip\"\u001b[0m \u001b[0;34m+\u001b[0m \u001b[0;34m\"clop\"\u001b[0m\u001b[0;34m)\u001b[0m\u001b[0;34m\u001b[0m\u001b[0;34m\u001b[0m\u001b[0m\n\u001b[0m",
      "\u001b[0;31mTypeError\u001b[0m: 'int' object is not callable"
     ]
    }
   ],
   "source": [
    "3 (\"clip\" + \"clop\")"
   ]
  },
  {
   "cell_type": "markdown",
   "metadata": {
    "slideshow": {
     "slide_type": "slide"
    }
   },
   "source": [
    "### Expressions: Function Calls\n",
    "\n",
    "A closer look at function calls as expressions:\n",
    "\n",
    "- arguments to a function call must be expressions\n",
    "\n",
    "- call is again an expression evaluating to the result of the call\n",
    "\n",
    "- this allows for nested function calls:\n"
   ]
  },
  {
   "cell_type": "code",
   "execution_count": 8,
   "metadata": {},
   "outputs": [
    {
     "data": {
      "text/plain": [
       "12"
      ]
     },
     "execution_count": 8,
     "metadata": {},
     "output_type": "execute_result"
    }
   ],
   "source": [
    "start = \"Ersatzkaffee\"\n",
    "len(start)"
   ]
  },
  {
   "cell_type": "code",
   "execution_count": 9,
   "metadata": {},
   "outputs": [
    {
     "data": {
      "text/plain": [
       "12.0"
      ]
     },
     "execution_count": 9,
     "metadata": {},
     "output_type": "execute_result"
    }
   ],
   "source": [
    "float(len(start))"
   ]
  },
  {
   "cell_type": "code",
   "execution_count": 10,
   "metadata": {},
   "outputs": [
    {
     "data": {
      "text/plain": [
       "4"
      ]
     },
     "execution_count": 10,
     "metadata": {},
     "output_type": "execute_result"
    }
   ],
   "source": [
    "len(str(float(len(start))))"
   ]
  },
  {
   "cell_type": "markdown",
   "metadata": {
    "slideshow": {
     "slide_type": "slide"
    }
   },
   "source": [
    "### Statements\n",
    "\n",
    "- a **statement** represents an action or command\n",
    "\n",
    "- a statement typically does not evaluate to a value\n",
    "\n",
    "- \"expressions ARE something, statements DO something\"\n",
    "\n",
    "- general rule in Python: one statement per line\n",
    "\n",
    "- examples:\n",
    "\n",
    "  -   assignment\n",
    "\n",
    "  -   calls to the `print()` function\n",
    "\n",
    "  -   **`pass`**: the idle statement which does nothing\\\n",
    "      (sometimes necessary for syntactic reasons)\n",
    "\n",
    "\n"
   ]
  },
  {
   "cell_type": "markdown",
   "metadata": {
    "slideshow": {
     "slide_type": "slide"
    }
   },
   "source": [
    "- the **`eval()`** function evaluates expressions, and can therefore\n",
    "  be used to test whether something is an expression or a statement:"
   ]
  },
  {
   "cell_type": "code",
   "execution_count": 11,
   "metadata": {},
   "outputs": [
    {
     "ename": "SyntaxError",
     "evalue": "invalid syntax (<string>, line 1)",
     "output_type": "error",
     "traceback": [
      "Traceback \u001b[0;36m(most recent call last)\u001b[0m:\n",
      "  File \u001b[1;32m\"/home/gjaeger/miniconda3/envs/pythonCourse/lib/python3.9/site-packages/IPython/core/interactiveshell.py\"\u001b[0m, line \u001b[1;32m3444\u001b[0m, in \u001b[1;35mrun_code\u001b[0m\n    exec(code_obj, self.user_global_ns, self.user_ns)\n",
      "\u001b[0;36m  File \u001b[0;32m\"/tmp/ipykernel_25087/2733361284.py\"\u001b[0;36m, line \u001b[0;32m1\u001b[0;36m, in \u001b[0;35m<module>\u001b[0;36m\u001b[0m\n\u001b[0;31m    eval(\"x = 1\")\u001b[0m\n",
      "\u001b[0;36m  File \u001b[0;32m\"<string>\"\u001b[0;36m, line \u001b[0;32m1\u001b[0m\n\u001b[0;31m    x = 1\u001b[0m\n\u001b[0m      ^\u001b[0m\n\u001b[0;31mSyntaxError\u001b[0m\u001b[0;31m:\u001b[0m invalid syntax\n"
     ]
    }
   ],
   "source": [
    "eval(\"x = 1\")"
   ]
  },
  {
   "cell_type": "markdown",
   "metadata": {
    "slideshow": {
     "slide_type": "slide"
    }
   },
   "source": [
    "\n",
    "### Variables and Objects\n",
    "\n",
    "- variables are created by their first assignment\n",
    "\n",
    "- attempting to evaluate a variable before creation results in an\n",
    "  error:"
   ]
  },
  {
   "cell_type": "code",
   "execution_count": 12,
   "metadata": {},
   "outputs": [
    {
     "ename": "NameError",
     "evalue": "name 'new_word' is not defined",
     "output_type": "error",
     "traceback": [
      "\u001b[0;31m---------------------------------------------------------------------------\u001b[0m",
      "\u001b[0;31mNameError\u001b[0m                                 Traceback (most recent call last)",
      "\u001b[0;32m/tmp/ipykernel_25087/4015117104.py\u001b[0m in \u001b[0;36m<module>\u001b[0;34m\u001b[0m\n\u001b[0;32m----> 1\u001b[0;31m \u001b[0mprint\u001b[0m\u001b[0;34m(\u001b[0m\u001b[0mnew_word\u001b[0m\u001b[0;34m)\u001b[0m\u001b[0;34m\u001b[0m\u001b[0;34m\u001b[0m\u001b[0m\n\u001b[0m",
      "\u001b[0;31mNameError\u001b[0m: name 'new_word' is not defined"
     ]
    }
   ],
   "source": [
    "print(new_word)"
   ]
  },
  {
   "cell_type": "markdown",
   "metadata": {
    "slideshow": {
     "slide_type": "slide"
    }
   },
   "source": [
    "- convention for important objects: meaningful variable names!\n",
    "\n",
    "- single-letter names for throw-away variables that are only of local\n",
    "  use, e.g. when swapping the values of two variables:\n"
   ]
  },
  {
   "cell_type": "code",
   "execution_count": 13,
   "metadata": {},
   "outputs": [
    {
     "name": "stdout",
     "output_type": "stream",
     "text": [
      "Wilhelmstraße, Tübingen\n"
     ]
    }
   ],
   "source": [
    "street_name = \"Tübingen\"\n",
    "city_name = \"Wilhelmstraße\"\n",
    "t = street_name\n",
    "street_name = city_name\n",
    "city_name = t\n",
    "print(street_name + \", \" + city_name)"
   ]
  },
  {
   "cell_type": "markdown",
   "metadata": {
    "slideshow": {
     "slide_type": "slide"
    }
   },
   "source": [
    "### Revisiting Assignment\n",
    "\n",
    "More about assignments:\n",
    "\n",
    "- assigning a new value to a variable causes you to lose access to the\n",
    "  previous value (this is why we needed the temporary `t` in the\n",
    "  example)\n",
    "\n",
    "- **compound assignment operators** for compact manipulation:\n",
    "\n",
    "  - `a += b` means `a = a + b`"
   ]
  },
  {
   "cell_type": "markdown",
   "metadata": {
    "slideshow": {
     "slide_type": "slide"
    }
   },
   "source": [
    "  - this is frequently used for increasing counters:\n"
   ]
  },
  {
   "cell_type": "code",
   "execution_count": 14,
   "metadata": {},
   "outputs": [
    {
     "name": "stdout",
     "output_type": "stream",
     "text": [
      "88\n"
     ]
    }
   ],
   "source": [
    "num_students = 60\n",
    "num_students += 28\n",
    "print(num_students)"
   ]
  },
  {
   "cell_type": "markdown",
   "metadata": {
    "slideshow": {
     "slide_type": "-"
    }
   },
   "source": [
    "  - but it is also useful for building strings step by step:"
   ]
  },
  {
   "cell_type": "code",
   "execution_count": 15,
   "metadata": {},
   "outputs": [
    {
     "data": {
      "text/plain": [
       "'Tübingen, Wilhelmstraße 19'"
      ]
     },
     "execution_count": 15,
     "metadata": {},
     "output_type": "execute_result"
    }
   ],
   "source": [
    "address = \"Tübingen\"\n",
    "address += \", \" + street_name\n",
    "address += \" 19\"\n",
    "address"
   ]
  },
  {
   "cell_type": "markdown",
   "metadata": {},
   "source": [
    "  - analogously: `a -= b`, `a /= b`, `a *= b`"
   ]
  },
  {
   "cell_type": "markdown",
   "metadata": {
    "slideshow": {
     "slide_type": "slide"
    }
   },
   "source": [
    "### Function as Objects\n",
    "\n",
    "- what happens if we forget the arguments in a function call?"
   ]
  },
  {
   "cell_type": "code",
   "execution_count": 16,
   "metadata": {
    "slideshow": {
     "slide_type": "-"
    }
   },
   "outputs": [
    {
     "data": {
      "text/plain": [
       "<function len(obj, /)>"
      ]
     },
     "execution_count": 16,
     "metadata": {},
     "output_type": "execute_result"
    }
   ],
   "source": [
    "length = len\n",
    "length"
   ]
  },
  {
   "cell_type": "markdown",
   "metadata": {
    "slideshow": {
     "slide_type": "-"
    }
   },
   "source": [
    "- we have assigned a function to a variable, giving it an additional\n",
    "  name!"
   ]
  },
  {
   "cell_type": "code",
   "execution_count": 17,
   "metadata": {
    "slideshow": {
     "slide_type": "-"
    }
   },
   "outputs": [
    {
     "data": {
      "text/plain": [
       "11"
      ]
     },
     "execution_count": 17,
     "metadata": {},
     "output_type": "execute_result"
    }
   ],
   "source": [
    "length(\"test string\")"
   ]
  },
  {
   "cell_type": "markdown",
   "metadata": {
    "slideshow": {
     "slide_type": "slide"
    }
   },
   "source": [
    "- this even applies to methods from a given object:\n"
   ]
  },
  {
   "cell_type": "code",
   "execution_count": 18,
   "metadata": {},
   "outputs": [
    {
     "data": {
      "text/plain": [
       "'German: Kairo'"
      ]
     },
     "execution_count": 18,
     "metadata": {},
     "output_type": "execute_result"
    }
   ],
   "source": [
    "cairo_variant = \"Cairo\".replace\n",
    "\"German: \" + cairo_variant(\"C\",\"K\")"
   ]
  },
  {
   "cell_type": "code",
   "execution_count": 19,
   "metadata": {},
   "outputs": [
    {
     "data": {
      "text/plain": [
       "'Latin: Cairus'"
      ]
     },
     "execution_count": 19,
     "metadata": {},
     "output_type": "execute_result"
    }
   ],
   "source": [
    "\"Latin: \" + cairo_variant(\"o\",\"us\")"
   ]
  },
  {
   "cell_type": "code",
   "execution_count": 20,
   "metadata": {},
   "outputs": [
    {
     "data": {
      "text/plain": [
       "'Lithuanian: Kairas'"
      ]
     },
     "execution_count": 20,
     "metadata": {},
     "output_type": "execute_result"
    }
   ],
   "source": [
    "\"Lithuanian: \" + cairo_variant(\"C\",\"K\").replace(\"o\",\"as\")"
   ]
  },
  {
   "cell_type": "markdown",
   "metadata": {
    "slideshow": {
     "slide_type": "-"
    }
   },
   "source": [
    "- lesson: **functions are just callable objects!**"
   ]
  },
  {
   "cell_type": "markdown",
   "metadata": {
    "slideshow": {
     "slide_type": "slide"
    }
   },
   "source": [
    "Comments\n",
    "========\n",
    "\n",
    "### Comments: Basics\n",
    "\n",
    "-   **comments** are parts of the code that are ignored by the\n",
    "    interpreter\n",
    "\n",
    "-   they are typically used to\n",
    "\n",
    "    -   explain in natural language what a segment of code does\n",
    "\n",
    "    -   describe what can be done with a user-defined function\n",
    "\n",
    "    -   add authorship and version information to the beginning of a\n",
    "        file\n",
    "\n",
    "    -   temporarily \"de-activate\" lines to test other parts of the code\n",
    "\n",
    "-   Why should you use comments?\n",
    "\n",
    "    -   verbalizing what you do often helps you structure your code\n",
    "\n",
    "    -   good comments make code easier to follow for other programmers\n",
    "\n",
    "    -   good documentation of functions makes code more reusable"
   ]
  },
  {
   "cell_type": "markdown",
   "metadata": {
    "slideshow": {
     "slide_type": "slide"
    }
   },
   "source": [
    "### Comments: Single-Line Comments\n",
    "\n",
    "- **single-line comments** start with a hash (`#`) character\n",
    "\n",
    "- the Python interpreter will ignore the rest of the line after the\n",
    "  hash\n",
    "\n",
    "- example of a script with single-line comments:\n"
   ]
  },
  {
   "cell_type": "code",
   "execution_count": 21,
   "metadata": {},
   "outputs": [
    {
     "name": "stdout",
     "output_type": "stream",
     "text": [
      "s tset a si sihT.ecnetne\n"
     ]
    }
   ],
   "source": [
    "string = \"This is a test sentence.\"\n",
    "string = string[::-1] #inverts the string\n",
    "#attempt to obfuscate the string further\n",
    "t = len(string)//3 # one third of the length\n",
    "string = string[t:2*t] + string[2*t:] + string[:t]\n",
    "#finally, we can print the result!\n",
    "print(string)"
   ]
  },
  {
   "cell_type": "markdown",
   "metadata": {
    "slideshow": {
     "slide_type": "slide"
    }
   },
   "source": [
    "### Comments: Multiline Comments\n",
    "\n",
    "-   **multiline comments** start and end with either `'''` or `\"\"\"`:"
   ]
  },
  {
   "cell_type": "code",
   "execution_count": 22,
   "metadata": {},
   "outputs": [
    {
     "name": "stdout",
     "output_type": "stream",
     "text": [
      "s tset a si sihT.ecnetne\n"
     ]
    }
   ],
   "source": [
    "'''\n",
    "This program tests a simple naive algorithm\n",
    "for making a string quite unreadable.\n",
    "It is based on first inverting the string , then splitting\n",
    "it into thirds , and rearranging their order.\n",
    "\n",
    "Author : jdellert\n",
    "Last change : 2018-04-30\n",
    "'''\n",
    "string = \"This is a test sentence.\"\n",
    "string = string [::-1] # inverts the string\n",
    "# attempt to obfuscate the string further\n",
    "t = len(string)//3 # one third of the length\n",
    "string = string[t:2*t] + string[2*t:] + string[:t]\n",
    "#finally, we can print the result!\n",
    "print(string)"
   ]
  },
  {
   "cell_type": "markdown",
   "metadata": {
    "slideshow": {
     "slide_type": "slide"
    }
   },
   "source": [
    "### Functions: Fundamentals\n",
    "\n",
    "Some basic terminology for talking about functions:\n",
    "\n",
    "-   **function**: reusable named block of code which computes a value\n",
    "    and/or perform actions (we have seen in-built functions before)\n",
    "\n",
    "-   **function call**: statement which executes a function\n",
    "\n",
    "-   **parameters**: variables that serve to transmit information to the\n",
    "    function when it is called\n",
    "\n",
    "-   **return value**: what the function call evaluates to"
   ]
  },
  {
   "cell_type": "markdown",
   "metadata": {
    "slideshow": {
     "slide_type": "slide"
    }
   },
   "source": [
    "### Functions: Motivation\n",
    "\n",
    "Six important reasons for user-defined functions:\n",
    "\n",
    "-   **manageability**: splitting code into easy-to-use chunks\n",
    "\n",
    "-   **generalization**: making code useful for new purposes by controlling its execution through parameters\n",
    "\n",
    "-   **maintainability**: meaningful names and logical substructuring\n",
    "    make code more readable and understandable\n",
    "\n",
    "-   **reusability**: transfer of functionality between programs\n",
    "\n",
    "-   **encapsulation**: provide functionality to other programmers\n",
    "    without requiring knowledge of the implementation\n",
    "\n",
    "-   **advanced techniques**:\n",
    "    allows advanced programming techniques like recursion\n",
    "    (for situations where subtasks are similar in structure to the main\n",
    "    task)"
   ]
  },
  {
   "cell_type": "markdown",
   "metadata": {
    "slideshow": {
     "slide_type": "slide"
    }
   },
   "source": [
    "### Example: Suboptimal Code"
   ]
  },
  {
   "cell_type": "code",
   "execution_count": 23,
   "metadata": {},
   "outputs": [
    {
     "name": "stdout",
     "output_type": "stream",
     "text": [
      "before (43%) the (21%) flood (36%)\n"
     ]
    }
   ],
   "source": [
    "word1, word2, word3 = \"before\", \"the\", \"flood\"\n",
    "\n",
    "overall_length = len(word1) + len(word2) + len(word3)\n",
    "word1_ratio = len(word1) / overall_length\n",
    "word1_percentage = round(word1_ratio * 100)\n",
    "word1_string = word1 + \" \"\n",
    "word1_string += \"(\" + str(word1_percentage) + \"%)\"\n",
    "word2_ratio = len(word2) / overall_length\n",
    "word2_percentage = round(word2_ratio * 100)\n",
    "word2_string = word2 + \" \"\n",
    "word2_string += \"(\" + str(word2_percentage) + \"%)\"\n",
    "word3_ratio = len(word3) / overall_length\n",
    "word3_percentage = round(word3_ratio * 100)\n",
    "word3_string = word3 + \" \"\n",
    "word3_string += \"(\" + str(word3_percentage) + \"%)\"\n",
    "print(word1_string + \" \" + word2_string + \" \" + word3_string)"
   ]
  },
  {
   "cell_type": "markdown",
   "metadata": {},
   "source": [
    "Code that looks like copied and pasted is **never** a good idea!"
   ]
  },
  {
   "cell_type": "markdown",
   "metadata": {
    "slideshow": {
     "slide_type": "slide"
    }
   },
   "source": [
    "\n",
    "\n",
    "### Defining Functions\n",
    "\n",
    "- basic syntax for **defining a function** (don't forget the\n",
    "  brackets!):\n",
    "\n",
    "  ``` {language=\"python\"}\n",
    "  def my_function():\n",
    "    <statement1>\n",
    "    <statement2>\n",
    "    ...\n",
    "  ```\n",
    "\n",
    "- Example: a function which prints a block of program information\n"
   ]
  },
  {
   "cell_type": "code",
   "execution_count": 24,
   "metadata": {},
   "outputs": [],
   "source": [
    "def print_program_info():\n",
    "    print(\"SlightlyUselessProgram v. 1.0.2\")\n",
    "    print(\"© Johannes Dellert, 2018\")\n",
    "    print(\"Type \\\"help\\\" for more information.\")"
   ]
  },
  {
   "cell_type": "markdown",
   "metadata": {
    "slideshow": {
     "slide_type": "slide"
    }
   },
   "source": [
    "\n",
    "### Calling Functions\n",
    "\n",
    "-   a function definition is a (multiline) statement, and can be seen as\n",
    "    a variant of variable assignment as it also assigns an object to a\n",
    "    name\n",
    "\n",
    "-   the code inside the function will not be executed after the\n",
    "    definition, not even on the interactive console\n",
    "\n",
    "-   to execute the inner code of a function, one needs to **call** it\n",
    "\n",
    "-   user-defined functions are called like any other, using **`()`**:"
   ]
  },
  {
   "cell_type": "code",
   "execution_count": 25,
   "metadata": {},
   "outputs": [
    {
     "name": "stdout",
     "output_type": "stream",
     "text": [
      "SlightlyUselessProgram v. 1.0.2\n",
      "© Johannes Dellert, 2018\n",
      "Type \"help\" for more information.\n"
     ]
    }
   ],
   "source": [
    "print_program_info()"
   ]
  }
 ],
 "metadata": {
  "@webio": {
   "lastCommId": null,
   "lastKernelId": null
  },
  "celltoolbar": "Slideshow",
  "kernelspec": {
   "display_name": "Python 3 (ipykernel)",
   "language": "python",
   "name": "python3"
  },
  "language_info": {
   "codemirror_mode": {
    "name": "ipython",
    "version": 3
   },
   "file_extension": ".py",
   "mimetype": "text/x-python",
   "name": "python",
   "nbconvert_exporter": "python",
   "pygments_lexer": "ipython3",
   "version": "3.9.7"
  },
  "latex_envs": {
   "LaTeX_envs_menu_present": true,
   "autoclose": false,
   "autocomplete": true,
   "bibliofile": "biblio.bib",
   "cite_by": "apalike",
   "current_citInitial": 1,
   "eqLabelWithNumbers": true,
   "eqNumInitial": 1,
   "hotkeys": {
    "equation": "Ctrl-E",
    "itemize": "Ctrl-I"
   },
   "labels_anchors": false,
   "latex_user_defs": false,
   "report_style_numbering": false,
   "user_envs_cfg": false
  },
  "rise": {
   "enable_chalkboard": true
  }
 },
 "nbformat": 4,
 "nbformat_minor": 4
}
