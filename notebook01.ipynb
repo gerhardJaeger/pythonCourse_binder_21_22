{
 "cells": [
  {
   "cell_type": "markdown",
   "metadata": {
    "slideshow": {
     "slide_type": "slide"
    }
   },
   "source": [
    "# Methods I: Programming and Data Analysis\n",
    "\n",
    "## Session 01: Programs, Variables and Strings\n",
    "\n",
    "### Gerhard Jäger\n",
    "\n",
    "#### (based on Johannes Dellert's slides)\n",
    "\n",
    "October 26, 2021"
   ]
  },
  {
   "cell_type": "markdown",
   "metadata": {
    "slideshow": {
     "slide_type": "slide"
    }
   },
   "source": [
    "\n",
    "This course is independent from the Logic course on Mondays.\n",
    "\n",
    "\n",
    "### Course organization:\n",
    "\n",
    "  - course sessions are Tue 14.15-15.45 in Zoom (https://zoom.us/j/91710390323, Meeting ID: 917 1039 0323 Passcode: 815386) (like today)\n",
    "  - the lecture will be recorded and the video will be made available via Moodle\n",
    "  - there will be a total of **14 course sessions**\n",
    "  - all the materials will be available via **Moodle**: https://moodle.zdv.uni-tuebingen.de/course/view.php?id=2152\n",
    " \n",
    "  - registration: enroll via Moodle (no password needed)\n"
   ]
  },
  {
   "cell_type": "markdown",
   "metadata": {
    "slideshow": {
     "slide_type": "slide"
    }
   },
   "source": [
    "## Organization of assignments:\n",
    "\n",
    "   - there will be a total of **12 assignments** (starting next week)\n",
    "   - typically **one week** for completing each assignment\n",
    "   - course requirement: reach **60% of point total in assignments**\n",
    "   - it will be made possible to **test your own code**\n",
    "   - submission of your solutions via the Moodle system\n",
    "   \n",
    "## Rules for the assignments:\n",
    " \n",
    "  - you are required to **work on your own**\n",
    "  - **discussion about possible solutions** is allowed and even encouraged (you will learn a lot this way)\n",
    "  - **sharing code**, or typing in partial solutions for someone else, is **forbidden** and will result in 0 points on the respective assignment\n",
    "\n"
   ]
  },
  {
   "cell_type": "markdown",
   "metadata": {
    "slideshow": {
     "slide_type": "slide"
    }
   },
   "source": [
    "## Organization: Tutorials\n",
    "\n",
    "Four tutorials are being offered:\n",
    "- Greta Hristozova (hr_greta@abv.bg): Monday, 14:00 - 16:00 ct, room 1.13 at SfS \n",
    "\n",
    "- Greta Hristozova: Thursday, 14:00 - 16:00 ct, Zoom\n",
    "\n",
    "- Masoumeh Tari (masoumeh.moradipour-tari@student.uni-tuebingen.de): Tuesday 16:30 - 17.30\n",
    "Zoom:\n",
    "\n",
    "    https://zoom.us/j/92105274721?pwd=SzZNbUo1NW9yQnJYaTYyRktlaDMrQT09\n",
    "    Meeting ID: 921 0527 4721\n",
    "    Passcode: 1053 \n",
    "\n",
    "\n",
    "- Raffael Veser (raffael.veser@student.uni-tuebingen.de): Wednesday 16.00-18:00 \n",
    "\n",
    "\n",
    "Main purpose of tutorials: advice and help for the exercises!"
   ]
  },
  {
   "cell_type": "markdown",
   "metadata": {
    "slideshow": {
     "slide_type": "slide"
    }
   },
   "source": [
    "Motivation: Why Programming?\n",
    "============================\n",
    "\n",
    "Why does every linguist need to know some basics of programming?\n",
    "\n",
    "-   for **efficiency**: automating simple tasks\n",
    "    -   counting word forms is tedious for humans, trivial for computers\n",
    "    -   instant sorting of datasets according to non-trivial criteria\n",
    "    -   creating visualizations of your data to understand them better\n",
    "\n",
    "-   for **scale**: processing large amounts of data\n",
    "    -   a computer can \"read\" an entire library in minutes\n",
    "    -   a program can help you find examples of rare patterns\n",
    "    -   need frequency information? take the entire Wikipedia!\n",
    "\n",
    "-   for **precision**: testing whether definitions and theories work\n",
    "    -   where does my grammar make wrong predictions?\n",
    "    -   does my theory of word structure capture all cases?\n",
    "    -   does my formula always produce the desired reading?\n",
    "\n"
   ]
  },
  {
   "cell_type": "markdown",
   "metadata": {
    "slideshow": {
     "slide_type": "slide"
    }
   },
   "source": [
    "Motivation: What You Will Learn Here\n",
    "=================\n",
    "\n",
    "By the end of the course in\n",
    "February, you will have learnt to\n",
    "\n",
    "-   process textual data in a multitude of ways\n",
    "\n",
    "-   recognize whether some task can easily be solved by a program\n",
    "\n",
    "-   shape your data in a way that is easy to process by software\n",
    "\n",
    "-   work with helpful Python modules written by other people\n",
    "\n",
    "You will not (yet) know how to\n",
    "\n",
    "-   build complex software, e.g. with graphical interfaces\n",
    "\n",
    "-   develop your own algorithms\n",
    "\n",
    "-   interface Python with other programming languages\n",
    "\n",
    "-   optimize your code for speed"
   ]
  },
  {
   "cell_type": "markdown",
   "metadata": {
    "slideshow": {
     "slide_type": "slide"
    }
   },
   "source": [
    "Setup: Installing Miniconda\n",
    "======\n",
    "\n",
    "The best way to install Python is via\n",
    "**Miniconda**:\n",
    "\n",
    "-   go to <https://conda.io/miniconda.html>\n",
    "\n",
    "-   download the installer for **Python 3.9** and your operating system (not sure whether 32-bit or 64-bit? very likely 64-bit)\n",
    "\n",
    "-   execute the installer and follow the instructions\n",
    "\n",
    "-   if you know how to run command-line commands, run `conda list` to\n",
    "    check whether everything works as intended (this can be ignored if\n",
    "    you are unsure what this means)\n"
   ]
  },
  {
   "cell_type": "markdown",
   "metadata": {
    "slideshow": {
     "slide_type": "slide"
    }
   },
   "source": [
    "Setup: Installing Spyder\n",
    "===\n",
    "\n",
    "We are going to use **Spyder** as our\n",
    "environment:\n",
    "\n",
    "-   open a conda shell\n",
    "    - Windows: from the start menu\n",
    "    - Linux: open shell and type `conda activate`\n",
    "- type `conda install -c anaconda spyder`\n",
    "- the tutorials will also help you with first steps\n",
    "- `pip install spyder`"
   ]
  },
  {
   "cell_type": "markdown",
   "metadata": {
    "slideshow": {
     "slide_type": "slide"
    }
   },
   "source": [
    "# Software and Programs\n",
    "\n",
    "## What is a program?\n",
    "\n",
    "Computer **programming** is the term used for any process where\n",
    "\n",
    "-   we start with a problem that has computable solutions\n",
    "-   we analyse the problem and break it down into steps\n",
    "-   we implement the solution in a **programming language**\n",
    "-   we arrive at an executable program which solves the problem\n",
    "\n",
    "Programming is commonly used for **data analysis**:\n",
    "-   we start with a question about a dataset\n",
    "-   we think about how we can formalize our question\n",
    "-   we express the formalization in a programming language\n",
    "-   we end up with a program that computes the answer to our question"
   ]
  },
  {
   "cell_type": "markdown",
   "metadata": {
    "slideshow": {
     "slide_type": "slide"
    }
   },
   "source": [
    "## What is a program?\n",
    "\n",
    "A **program** can be seen in a multitude of ways:\n",
    "\n",
    "-   User (your current perspective):\\\n",
    "    an executable file on a computer which opens a user interface that\n",
    "    can be used to manipulate or transfer data\n",
    "\n",
    "-   Imperative Programmer (your future perspective):\\\n",
    "    a sequence of commands to be executed in the given order, possibly\n",
    "    taking one of several alternative paths according to user input\n",
    "\n",
    "-   Declarative Programmer:\\\n",
    "    a formal way of expressing a problem to be solved by the computer\n",
    "\n",
    "-   Theoretical Computer Scientist:\\\n",
    "    any computable function that transforms input from some domain (the\n",
    "    task) into output (the desired result)"
   ]
  },
  {
   "cell_type": "markdown",
   "metadata": {
    "slideshow": {
     "slide_type": "slide"
    }
   },
   "source": [
    "# The Python Language \n",
    "\n",
    "## Important facts about Python:\n",
    "\n",
    "-   it is currently the most popular programming language\n",
    "\n",
    "-   by default, it is an **interpreted** language, i.e. the commands are\n",
    "    interpreted and executed bit by bit, there is no need to compile the\n",
    "    entire program into machine code    \n",
    "    ($\\Rightarrow$ easier to play around with, but less stable)\n",
    "\n",
    "-   all computations in Python are defined in terms of **creating and\n",
    "    manipulating objects** in the computer's memory\n",
    "\n",
    "-   while it runs, Python maintains an environment in which objects can\n",
    "    be stored (like on a physical workbench)"
   ]
  },
  {
   "cell_type": "markdown",
   "metadata": {
    "slideshow": {
     "slide_type": "slide"
    }
   },
   "source": [
    "### The Interactive Console\n",
    "\n",
    "Important tool for Python programmers: the **interactive console**\n",
    "\n",
    "-   in Spyder, it is part of the development environment (per default in the lower right tile)\n",
    "\n",
    "-   allows you to enter expressions which are evaluated immediately:"
   ]
  },
  {
   "cell_type": "code",
   "execution_count": 1,
   "metadata": {},
   "outputs": [
    {
     "data": {
      "text/plain": [
       "38"
      ]
     },
     "execution_count": 1,
     "metadata": {},
     "output_type": "execute_result"
    }
   ],
   "source": [
    "(12 * 4) - 10"
   ]
  },
  {
   "cell_type": "markdown",
   "metadata": {},
   "source": [
    "- allows you to execute and test fragments of Python code\n",
    "\n",
    "- allows you to access previously entered commands (arrow-up key) for\n",
    "  easier experimenting\n",
    "\n",
    "- is exited by\n",
    "\n",
    "  ``` {style=\"console\"}\n",
    "  >>> quit()\n",
    "  ```"
   ]
  },
  {
   "cell_type": "markdown",
   "metadata": {
    "slideshow": {
     "slide_type": "slide"
    }
   },
   "source": [
    "### Structure of a Python Program\n",
    "\n",
    "Basic knowledge for building your first program:\n",
    "\n",
    "- Python modules are text files ending in `.py`\n",
    "- important: all commands must be indented identically!\n",
    "- script can be started via \"Run\" in Spyder"
   ]
  }
 ],
 "metadata": {
  "@webio": {
   "lastCommId": null,
   "lastKernelId": null
  },
  "celltoolbar": "Slideshow",
  "kernelspec": {
   "display_name": "Python 3 (ipykernel)",
   "language": "python",
   "name": "python3"
  },
  "language_info": {
   "codemirror_mode": {
    "name": "ipython",
    "version": 3
   },
   "file_extension": ".py",
   "mimetype": "text/x-python",
   "name": "python",
   "nbconvert_exporter": "python",
   "pygments_lexer": "ipython3",
   "version": "3.9.7"
  }
 },
 "nbformat": 4,
 "nbformat_minor": 4
}
