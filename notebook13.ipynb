{
 "cells": [
  {
   "cell_type": "markdown",
   "metadata": {
    "slideshow": {
     "slide_type": "slide"
    }
   },
   "source": [
    "# Methods I: Programming and Data Analysis\n",
    "\n",
    "## Session 13: Recursion; Jupyter notebooks; NumPy\n",
    "\n",
    "### Gerhard Jäger\n",
    "\n",
    "#### (based on Johannes Dellert's slides)\n",
    "\n",
    "February 1, 2022"
   ]
  },
  {
   "cell_type": "markdown",
   "metadata": {
    "slideshow": {
     "slide_type": "slide"
    }
   },
   "source": [
    "# Recursion\n",
    "\n",
    "A central concept of programming: **recursion**\n",
    "\n",
    "-   informally: a definition or function which refers to itself\n",
    "\n",
    "-   can be used whenever a problem (e.g. finding all sources of a river)\n",
    "    can be reduced to subproblems of the same type\\\n",
    "    (e.g. finding the sources of a tributary)\n",
    "\n",
    "-   all loops can be implemented using recursion!\n",
    "\n",
    "-   every recursive function can be implemented using iteration!\n",
    "\n",
    "-   BUT: there are many problems for which either iteration or recursion\n",
    "    is more efficient, or easier to implement"
   ]
  },
  {
   "cell_type": "markdown",
   "metadata": {
    "slideshow": {
     "slide_type": "slide"
    }
   },
   "source": [
    "### Base Case and Recursive Cases\n",
    "\n",
    "In computing, recursive definitions need to consist of two parts:\n",
    "\n",
    "-   the **base case** covers the simplest instances of a problem, and\n",
    "    does not refer to the concept being defined (ensures termination)\n",
    "\n",
    "-   the **recursive case** refers to the concept being defined when\n",
    "    describing substructures (expansion to structures of arbitrary size)\n",
    "\n",
    "There is a close relationship between recursion and mathematical\n",
    "induction!\n",
    "\n",
    "-   In induction, you prove that a theorem holds e.g. for $n = 1$ (the\n",
    "    base case), and that it holds for $n = k + 1$ if it already holds\n",
    "    for $n = k$ (recursive case).\n",
    "\n",
    "-   If you want to prove that a recursive algorithm gives the correct\n",
    "    result, you need induction as a proof technique!"
   ]
  },
  {
   "cell_type": "markdown",
   "metadata": {
    "slideshow": {
     "slide_type": "slide"
    }
   },
   "source": [
    "### Recursive Definitions\n",
    "\n",
    "Using recursion in definitions:\n",
    "\n",
    "-   **recursive definition**: a definition which uses the term it\n",
    "    defines\n",
    "\n",
    "-   Example: defining (a subset of) boolean expressions in Python\n",
    "\n",
    "    -   the expressions `True` and `False` are boolean expressions (base\n",
    "        case)\n",
    "\n",
    "    -   an expression of the form `a == b` is a boolean expression (base\n",
    "        case)\n",
    "\n",
    "    -   two boolean expressions conjoined by `and` form a boolean\n",
    "        expression (recursive case)\n",
    "\n",
    "    -   two boolean expressions conjoined by `or` form a boolean\n",
    "        expression (recursive case)\n",
    "\n",
    "    -   a boolean expression preceded by `not` is a boolean expression\\\n",
    "        (recursive case)\n",
    "\n",
    "-   you have probably seen recursive definitions in logic!"
   ]
  },
  {
   "cell_type": "markdown",
   "metadata": {
    "slideshow": {
     "slide_type": "slide"
    }
   },
   "source": [
    "### Recursive Functions\n",
    "\n",
    "Using recursion in function definitions:\n",
    "\n",
    "-   **recursive function**: a function which calls itself\n",
    "\n",
    "-   if the function calls itself on every input, we get **infinite\n",
    "    recursion**\n",
    "\n",
    "-   in all useful recursive functions, each nested call differs in its\n",
    "    arguments (e.g. execution on subproblems)\n",
    "\n",
    "-   for recursive functions to terminate, we need base cases!"
   ]
  },
  {
   "cell_type": "markdown",
   "metadata": {
    "slideshow": {
     "slide_type": "slide"
    }
   },
   "source": [
    "### Recursion vs. Iteration\n",
    "\n",
    "-   in principle, recursion and iteration are equally powerful\\\n",
    "    (one can be used to emulate the other)\n",
    "\n",
    "-   however, there are many definitions and algorithms which are much\n",
    "    easier to write using recursion\n",
    "\n",
    "-   this is especially the case for processing data structures which\n",
    "    contain substructures of varying size (i.e. data that is not tabular\n",
    "    in shape)\n",
    "\n",
    "-   Examples:\n",
    "\n",
    "    -   processing syntax trees for programming languages (in a\n",
    "        compiler) and natural languages (in a parser)\n",
    "\n",
    "    -   processing more general graph structures like networks\n",
    "\n",
    "    -   sorting and searching in structures that are more complex than\n",
    "        lists or dictionaries (e.g. 3-D models)\n",
    "\n",
    "-   We are going to use navigation through trees as our main example!"
   ]
  },
  {
   "cell_type": "markdown",
   "metadata": {
    "slideshow": {
     "slide_type": "slide"
    }
   },
   "source": [
    "# Implementing Trees\n",
    "---------------\n",
    "\n",
    "### Tree Structures in Linguistics\n",
    "\n",
    "Trees are ubiquitous in linguistics:\n",
    "\n",
    "-   syllable structure trees\n",
    "\n",
    "-   word structure trees\n",
    "\n",
    "-   phrase structure trees\n",
    "\n",
    "-   dependency trees\n",
    "\n",
    "-   derivation trees\n",
    "\n",
    "-   formula structure trees"
   ]
  },
  {
   "cell_type": "markdown",
   "metadata": {
    "slideshow": {
     "slide_type": "slide"
    }
   },
   "source": [
    "### Tree Structures in Programming\n",
    "\n",
    "Trees are one of the most important data structures in computer science:\n",
    "\n",
    "-   the best way to maintain sorted records\n",
    "\n",
    "-   efficient retrieval and insertion of elements\n",
    "\n",
    "Important application areas where trees arise:\n",
    "\n",
    "-   directory structure on a file system\n",
    "\n",
    "-   program execution gives rise to call trees\n",
    "\n",
    "-   software packages depend on each other in a tree shape\n",
    "\n",
    "-   the search space of many algorithms is tree-shaped"
   ]
  },
  {
   "cell_type": "markdown",
   "metadata": {
    "slideshow": {
     "slide_type": "slide"
    }
   },
   "source": [
    "### Modeling Nodes\n",
    "\n",
    "Developing a simple tree class:\n",
    "\n",
    "-   each tree node should be the instance of a class `Node`\n",
    "\n",
    "-   the contents of a node (e.g. the category label in a syntax tree)\n",
    "    should be stored as an instance variable\n",
    "\n",
    "-   references to the children of the current node are stored in an\n",
    "    additional instance variable as a list (order matters!)\n",
    "\n",
    "-   a leaf node is modeled by empty children list\n",
    "\n",
    "-   the result is an example of a **recursive data structure**\n",
    "\n",
    "Actually, each `Node` corresponds to the `Tree` of which it forms the\n",
    "root!"
   ]
  },
  {
   "cell_type": "markdown",
   "metadata": {
    "slideshow": {
     "slide_type": "slide"
    }
   },
   "source": [
    "###  Modeling A Tree"
   ]
  },
  {
   "cell_type": "code",
   "execution_count": 1,
   "metadata": {},
   "outputs": [],
   "source": [
    "class Tree(object):\n",
    "    def __init__(self, name='root', children=None):\n",
    "        self.name = name\n",
    "        self.children = []\n",
    "        self.parent = None\n",
    "        if children is not None:\n",
    "            for child in children:\n",
    "                self.add_child(child)\n",
    "                child.parent = sel\n",
    "\n",
    "    def add_child(self, node):\n",
    "        assert isinstance(node, Tree)#        self.children.append(node)"
   ]
  },
  {
   "cell_type": "markdown",
   "metadata": {},
   "source": [
    "Notes:\n",
    "\n",
    "-   additional parent pointer makes upward navigation easier\n",
    "\n",
    "-   the trivial `Tree` does not have children,\\\n",
    "    representing a single node with the label `\"root\"`"
   ]
  },
  {
   "cell_type": "markdown",
   "metadata": {
    "slideshow": {
     "slide_type": "slide"
    }
   },
   "source": [
    "### Tree Traversal\n",
    "\n",
    "Traversals are an important part of processing trees:\n",
    "\n",
    "-   a **traversal** defines the order in which the nodes of a tree are\n",
    "    processed\n",
    "\n",
    "-   three logical possibilities:\n",
    "\n",
    "    -   **in-order** traversal (left child first, parent, then other\n",
    "        children)\n",
    "\n",
    "    -   **pre-order** traversal (parent first, then children from left\n",
    "        to right)\n",
    "\n",
    "    -   **post-order** traversal (children from left to right, then\n",
    "        parent)\n",
    "\n",
    "-   all three variants are easiest to implement as recursive functions\n",
    "\n",
    "\n"
   ]
  },
  {
   "cell_type": "markdown",
   "metadata": {
    "slideshow": {
     "slide_type": "slide"
    }
   },
   "source": [
    "### In-Order Traversal\n",
    "\n",
    "![image.png](_img/tree1.svg)\n",
    "\n",
    "In which order are nodes visited by an in-order traversal?"
   ]
  },
  {
   "cell_type": "markdown",
   "metadata": {
    "slideshow": {
     "slide_type": "slide"
    }
   },
   "source": [
    "### In-Order Traversal: Solution\n",
    "\n",
    "![image.png](_img/tree1.svg)\n",
    "\n",
    "\n",
    "Solution: B, A, F, D, G, H, C, E"
   ]
  },
  {
   "cell_type": "markdown",
   "metadata": {
    "slideshow": {
     "slide_type": "slide"
    }
   },
   "source": [
    "### In-Order Traversal: Code\n",
    "\n",
    "Implementation within the `Tree` class:"
   ]
  },
  {
   "cell_type": "code",
   "execution_count": 2,
   "metadata": {},
   "outputs": [],
   "source": [
    "def inorder(self):\n",
    "    \"\"\"In-order traversal:\n",
    "    First recurse into left child, then visit the node itself, \n",
    "    then recurse into other children in order.\n",
    "    \n",
    "    :return: A list of tree nodes in in-order.\"\"\"\n",
    "    result = []\n",
    "    if len(self.children) > 0:\n",
    "        result += self.children[0].inorder()\n",
    "    result.append(self)\n",
    "    for i in range(1,len(self.children)):\n",
    "        result += self.children[i].inorder()\n",
    "    return result"
   ]
  },
  {
   "cell_type": "markdown",
   "metadata": {
    "slideshow": {
     "slide_type": "slide"
    }
   },
   "source": [
    "### Pre-Order Traversal\n",
    "\n",
    "![image.png](_img/tree1.svg)\n",
    "\n",
    "In which order are nodes visited by a pre-order traversal?"
   ]
  },
  {
   "cell_type": "markdown",
   "metadata": {
    "slideshow": {
     "slide_type": "slide"
    }
   },
   "source": [
    "### Pre-Order Traversal: Solution\n",
    "![image.png](_img/tree1.svg)\n",
    "\n",
    "Solution: A, B, C, D, F, G, H, E\n"
   ]
  },
  {
   "cell_type": "markdown",
   "metadata": {
    "slideshow": {
     "slide_type": "slide"
    }
   },
   "source": [
    "### Post-Order Traversal\n",
    "\n",
    "![image.png](_img/tree1.svg)\n",
    "\n",
    "In which order are nodes visited by a pre-order traversal?"
   ]
  },
  {
   "cell_type": "markdown",
   "metadata": {
    "slideshow": {
     "slide_type": "slide"
    }
   },
   "source": [
    "### Post-Order Traversal: Solution\n",
    "\n",
    "![image.png](_img/tree1.svg)\n",
    "\n",
    "Solution: B, F, G, H, D, E, C, A"
   ]
  },
  {
   "cell_type": "markdown",
   "metadata": {
    "slideshow": {
     "slide_type": "slide"
    }
   },
   "source": [
    "### Jupyter notebooks\n",
    "\n",
    "-   browser-based environment for interactive computation\n",
    "\n",
    "-   relies on a *kernel* for the programming language you want to use\n",
    "\n",
    "-   there are kernels for Python, R, Julia etc.\n",
    "\n"
   ]
  },
  {
   "cell_type": "markdown",
   "metadata": {
    "slideshow": {
     "slide_type": "slide"
    }
   },
   "source": [
    "-   at the command prompt, type `jupyter notebook`\n",
    "\n",
    "-   a browser window will open\n",
    "\n",
    "-   select **new**, and then **Python 3**\n",
    "\n",
    "-   the text window acts like a Python console, but you can enter\n",
    "    multiple lines"
   ]
  },
  {
   "cell_type": "markdown",
   "metadata": {
    "slideshow": {
     "slide_type": "slide"
    }
   },
   "source": [
    "-   Jupyter notebooks are great for data analysis\n",
    "\n",
    "-   for actual programming, it is better to use PyCharm or something\n",
    "    similar"
   ]
  },
  {
   "cell_type": "markdown",
   "metadata": {
    "slideshow": {
     "slide_type": "slide"
    }
   },
   "source": [
    "# The NumPy library\n",
    "\n",
    "(see http://cs231n.github.io/python-numpy-tutorial/ and https://docs.scipy.org/doc/numpy/user/quickstart.html)\n",
    "\n",
    "<sub>Numpy is the core library for scientific computing in Python. It provides a high-performance multidimensional array object, and tools for working with these arrays. \n",
    "\n",
    "## Arrays\n",
    "\n",
    "<sub>A numpy array is a grid of values, all of the same type, and is indexed by a tuple of nonnegative integers. The number of dimensions is the rank of the array; the shape of an array is a tuple of integers giving the size of the array along each dimension."
   ]
  },
  {
   "cell_type": "markdown",
   "metadata": {
    "slideshow": {
     "slide_type": "slide"
    }
   },
   "source": [
    "We can initialize numpy arrays from nested Python lists, and access elements using square brackets:"
   ]
  },
  {
   "cell_type": "code",
   "execution_count": 3,
   "metadata": {},
   "outputs": [],
   "source": [
    "import numpy as np"
   ]
  },
  {
   "cell_type": "code",
   "execution_count": 4,
   "metadata": {},
   "outputs": [
    {
     "name": "stdout",
     "output_type": "stream",
     "text": [
      "(3,)\n",
      "1 2 3\n",
      "[5 2 3]\n",
      "(2, 3)\n",
      "1 2 4\n"
     ]
    }
   ],
   "source": [
    "a = np.array([1, 2, 3])   # Create a rank 1 array\n",
    "print(a.shape)            # Prints \"(3,)\"\n",
    "print(a[0], a[1], a[2])   # Prints \"1 2 3\"\n",
    "a[0] = 5                  # Change an element of the array\n",
    "print(a)                  # Prints \"[5, 2, 3]\"\n",
    "\n",
    "b = np.array([[1,2,3],[4,5,6]])    # Create a rank 2 array\n",
    "print(b.shape)                     # Prints \"(2, 3)\"\n",
    "print(b[0, 0], b[0, 1], b[1, 0])   # Prints \"1 2 4\""
   ]
  },
  {
   "cell_type": "markdown",
   "metadata": {
    "slideshow": {
     "slide_type": "slide"
    }
   },
   "source": [
    "## An example"
   ]
  },
  {
   "cell_type": "code",
   "execution_count": 5,
   "metadata": {},
   "outputs": [
    {
     "data": {
      "text/plain": [
       "array([[ 0,  1,  2,  3,  4],\n",
       "       [ 5,  6,  7,  8,  9],\n",
       "       [10, 11, 12, 13, 14]])"
      ]
     },
     "execution_count": 5,
     "metadata": {},
     "output_type": "execute_result"
    }
   ],
   "source": [
    "a = np.arange(15).reshape(3, 5)\n",
    "a"
   ]
  },
  {
   "cell_type": "code",
   "execution_count": 6,
   "metadata": {},
   "outputs": [
    {
     "data": {
      "text/plain": [
       "(3, 5)"
      ]
     },
     "execution_count": 6,
     "metadata": {},
     "output_type": "execute_result"
    }
   ],
   "source": [
    "a.shape"
   ]
  },
  {
   "cell_type": "code",
   "execution_count": 7,
   "metadata": {},
   "outputs": [
    {
     "data": {
      "text/plain": [
       "2"
      ]
     },
     "execution_count": 7,
     "metadata": {},
     "output_type": "execute_result"
    }
   ],
   "source": [
    "a.ndim"
   ]
  },
  {
   "cell_type": "code",
   "execution_count": 8,
   "metadata": {},
   "outputs": [
    {
     "data": {
      "text/plain": [
       "'int64'"
      ]
     },
     "execution_count": 8,
     "metadata": {},
     "output_type": "execute_result"
    }
   ],
   "source": [
    "a.dtype.name"
   ]
  },
  {
   "cell_type": "code",
   "execution_count": 9,
   "metadata": {},
   "outputs": [
    {
     "data": {
      "text/plain": [
       "8"
      ]
     },
     "execution_count": 9,
     "metadata": {},
     "output_type": "execute_result"
    }
   ],
   "source": [
    "a.itemsize"
   ]
  },
  {
   "cell_type": "code",
   "execution_count": 10,
   "metadata": {
    "slideshow": {
     "slide_type": "slide"
    }
   },
   "outputs": [
    {
     "data": {
      "text/plain": [
       "15"
      ]
     },
     "execution_count": 10,
     "metadata": {},
     "output_type": "execute_result"
    }
   ],
   "source": [
    "a.size"
   ]
  },
  {
   "cell_type": "code",
   "execution_count": 11,
   "metadata": {},
   "outputs": [
    {
     "data": {
      "text/plain": [
       "numpy.ndarray"
      ]
     },
     "execution_count": 11,
     "metadata": {},
     "output_type": "execute_result"
    }
   ],
   "source": [
    "type(a)"
   ]
  },
  {
   "cell_type": "code",
   "execution_count": 12,
   "metadata": {},
   "outputs": [
    {
     "data": {
      "text/plain": [
       "array([6, 7, 8])"
      ]
     },
     "execution_count": 12,
     "metadata": {},
     "output_type": "execute_result"
    }
   ],
   "source": [
    "b = np.array([6, 7, 8])\n",
    "b"
   ]
  },
  {
   "cell_type": "code",
   "execution_count": 13,
   "metadata": {},
   "outputs": [
    {
     "data": {
      "text/plain": [
       "numpy.ndarray"
      ]
     },
     "execution_count": 13,
     "metadata": {},
     "output_type": "execute_result"
    }
   ],
   "source": [
    "type(b)"
   ]
  },
  {
   "cell_type": "markdown",
   "metadata": {
    "slideshow": {
     "slide_type": "slide"
    }
   },
   "source": [
    "## Creating arrays\n",
    "\n",
    "There are several ways to create arrays.\n",
    "\n",
    "For example, you can create an array from a regular Python list or tuple using the array function. The type of the resulting array is deduced from the type of the elements in the sequences."
   ]
  },
  {
   "cell_type": "code",
   "execution_count": 14,
   "metadata": {},
   "outputs": [
    {
     "name": "stdout",
     "output_type": "stream",
     "text": [
      "[2 3 4]\n"
     ]
    }
   ],
   "source": [
    "a = np.array([2, 3, 4])\n",
    "print(a)"
   ]
  },
  {
   "cell_type": "code",
   "execution_count": 15,
   "metadata": {},
   "outputs": [
    {
     "data": {
      "text/plain": [
       "dtype('int64')"
      ]
     },
     "execution_count": 15,
     "metadata": {},
     "output_type": "execute_result"
    }
   ],
   "source": [
    "a.dtype"
   ]
  },
  {
   "cell_type": "code",
   "execution_count": 16,
   "metadata": {},
   "outputs": [
    {
     "data": {
      "text/plain": [
       "dtype('float64')"
      ]
     },
     "execution_count": 16,
     "metadata": {},
     "output_type": "execute_result"
    }
   ],
   "source": [
    "b = np.array([1.2, 3.5, 5.1])\n",
    "b.dtype"
   ]
  },
  {
   "cell_type": "markdown",
   "metadata": {
    "slideshow": {
     "slide_type": "slide"
    }
   },
   "source": [
    "`array` transforms sequences of sequences into two-dimensional arrays, sequences of sequences of sequences into three-dimensional arrays, and so on."
   ]
  },
  {
   "cell_type": "code",
   "execution_count": 17,
   "metadata": {},
   "outputs": [
    {
     "name": "stdout",
     "output_type": "stream",
     "text": [
      "[[1.5 2.  3. ]\n",
      " [4.  5.  6. ]]\n"
     ]
    }
   ],
   "source": [
    "b = np.array([(1.5, 2, 3), (4, 5, 6)])\n",
    "print(b)"
   ]
  },
  {
   "cell_type": "markdown",
   "metadata": {},
   "source": [
    "The type of the array can also be explicitly specified at creation time:"
   ]
  },
  {
   "cell_type": "code",
   "execution_count": 18,
   "metadata": {},
   "outputs": [
    {
     "name": "stdout",
     "output_type": "stream",
     "text": [
      "[[1.+0.j 2.+0.j]\n",
      " [3.+0.j 4.+0.j]]\n"
     ]
    }
   ],
   "source": [
    "c = np.array( [ [1,2], [3,4] ], dtype=complex )\n",
    "print(c)"
   ]
  },
  {
   "cell_type": "markdown",
   "metadata": {
    "slideshow": {
     "slide_type": "slide"
    }
   },
   "source": [
    "Often, the elements of an array are originally unknown, but its size is known. Hence, NumPy offers several functions to create arrays with initial placeholder content. These minimize the necessity of growing arrays, an expensive operation.\n",
    "\n",
    "The function `zeros` creates an array full of zeros, the function `ones` creates an array full of ones, and the function empty creates an array whose initial content is random and depends on the state of the memory. By default, the dtype of the created array is `float64`."
   ]
  },
  {
   "cell_type": "code",
   "execution_count": 19,
   "metadata": {},
   "outputs": [
    {
     "data": {
      "text/plain": [
       "array([[0., 0., 0., 0.],\n",
       "       [0., 0., 0., 0.],\n",
       "       [0., 0., 0., 0.]])"
      ]
     },
     "execution_count": 19,
     "metadata": {},
     "output_type": "execute_result"
    }
   ],
   "source": [
    "np.zeros((3,4))"
   ]
  },
  {
   "cell_type": "code",
   "execution_count": 20,
   "metadata": {
    "slideshow": {
     "slide_type": "slide"
    }
   },
   "outputs": [
    {
     "data": {
      "text/plain": [
       "array([[[1, 1, 1, 1],\n",
       "        [1, 1, 1, 1],\n",
       "        [1, 1, 1, 1]],\n",
       "\n",
       "       [[1, 1, 1, 1],\n",
       "        [1, 1, 1, 1],\n",
       "        [1, 1, 1, 1]]], dtype=int16)"
      ]
     },
     "execution_count": 20,
     "metadata": {},
     "output_type": "execute_result"
    }
   ],
   "source": [
    "np.ones((2,3,4), dtype=np.int16)"
   ]
  },
  {
   "cell_type": "code",
   "execution_count": 21,
   "metadata": {},
   "outputs": [
    {
     "data": {
      "text/plain": [
       "array([[1.5, 2. , 3. ],\n",
       "       [4. , 5. , 6. ]])"
      ]
     },
     "execution_count": 21,
     "metadata": {},
     "output_type": "execute_result"
    }
   ],
   "source": [
    "np.empty((2,3))"
   ]
  },
  {
   "cell_type": "markdown",
   "metadata": {},
   "source": [
    "To create sequences of numbers, NumPy provides a function analogous to `range` that returns arrays instead of lists."
   ]
  },
  {
   "cell_type": "code",
   "execution_count": 22,
   "metadata": {},
   "outputs": [
    {
     "data": {
      "text/plain": [
       "array([10, 15, 20, 25])"
      ]
     },
     "execution_count": 22,
     "metadata": {},
     "output_type": "execute_result"
    }
   ],
   "source": [
    "np.arange( 10, 30, 5 )"
   ]
  },
  {
   "cell_type": "code",
   "execution_count": 23,
   "metadata": {
    "slideshow": {
     "slide_type": "slide"
    }
   },
   "outputs": [
    {
     "data": {
      "text/plain": [
       "array([0. , 0.3, 0.6, 0.9, 1.2, 1.5, 1.8])"
      ]
     },
     "execution_count": 23,
     "metadata": {},
     "output_type": "execute_result"
    }
   ],
   "source": [
    "np.arange( 0, 2, 0.3 )  "
   ]
  },
  {
   "cell_type": "markdown",
   "metadata": {},
   "source": [
    "When `arange` is used with floating point arguments, it is generally not possible to predict the number of elements obtained, due to the finite floating point precision. For this reason, it is usually better to use the function `linspace` that receives as an argument the number of elements that we want, instead of the step:"
   ]
  },
  {
   "cell_type": "code",
   "execution_count": 24,
   "metadata": {},
   "outputs": [
    {
     "data": {
      "text/plain": [
       "array([0.  , 0.25, 0.5 , 0.75, 1.  , 1.25, 1.5 , 1.75, 2.  ])"
      ]
     },
     "execution_count": 24,
     "metadata": {},
     "output_type": "execute_result"
    }
   ],
   "source": [
    "np.linspace( 0, 2, 9 )                 # 9 numbers from 0 to 2"
   ]
  },
  {
   "cell_type": "code",
   "execution_count": 25,
   "metadata": {
    "slideshow": {
     "slide_type": "slide"
    }
   },
   "outputs": [
    {
     "data": {
      "text/plain": [
       "[<matplotlib.lines.Line2D at 0x7f3f4ccf1610>]"
      ]
     },
     "execution_count": 25,
     "metadata": {},
     "output_type": "execute_result"
    },
    {
     "data": {
      "image/png": "[encoded data removed]",
      "text/plain": [
       "<Figure size 432x288 with 1 Axes>"
      ]
     },
     "metadata": {
      "needs_background": "light"
     },
     "output_type": "display_data"
    }
   ],
   "source": [
    "from numpy import pi\n",
    "from matplotlib import pyplot as plt\n",
    "\n",
    "x = np.linspace( 0, 2*pi, 100 )        # useful to evaluate function at lots of points\n",
    "f = np.sin(x)\n",
    "plt.plot(x, f)"
   ]
  },
  {
   "cell_type": "code",
   "execution_count": 26,
   "metadata": {},
   "outputs": [
    {
     "data": {
      "text/plain": [
       "array([[[[1, 2],\n",
       "         [3, 4],\n",
       "         [5, 6]],\n",
       "\n",
       "        [[1, 2],\n",
       "         [3, 4],\n",
       "         [5, 6]]],\n",
       "\n",
       "\n",
       "       [[[1, 2],\n",
       "         [3, 4],\n",
       "         [5, 6]],\n",
       "\n",
       "        [[1, 2],\n",
       "         [3, 4],\n",
       "         [5, 6]]]])"
      ]
     },
     "execution_count": 26,
     "metadata": {},
     "output_type": "execute_result"
    }
   ],
   "source": [
    "np.array([[[[1,2], [3,4], [5,6]], \n",
    "          [[1,2], [3,4], [5,6]]],\n",
    "         [[[1,2], [3,4], [5,6]], \n",
    "          [[1,2], [3,4], [5,6]]]\n",
    "         ])"
   ]
  },
  {
   "cell_type": "markdown",
   "metadata": {
    "slideshow": {
     "slide_type": "slide"
    }
   },
   "source": [
    "## Printing Arrays\n",
    "\n",
    "When you print an array, NumPy displays it in a similar way to nested lists, but with the following layout:\n",
    "- the last axis is printed from left to right,\n",
    "- the second-to-last is printed from top to bottom,\n",
    "- the rest are also printed from top to bottom, with each slice separated from the next by an empty line.\n",
    "\n",
    "One-dimensional arrays are then printed as rows, bidimensionals as matrices and tridimensionals as lists of matrices"
   ]
  },
  {
   "cell_type": "code",
   "execution_count": 27,
   "metadata": {
    "slideshow": {
     "slide_type": "slide"
    }
   },
   "outputs": [
    {
     "name": "stdout",
     "output_type": "stream",
     "text": [
      "[0 1 2 3 4 5]\n"
     ]
    }
   ],
   "source": [
    "import numpy as np\n",
    "a = np.arange(6)\n",
    "print(a)"
   ]
  },
  {
   "cell_type": "code",
   "execution_count": 28,
   "metadata": {},
   "outputs": [
    {
     "name": "stdout",
     "output_type": "stream",
     "text": [
      "[[ 0  1  2]\n",
      " [ 3  4  5]\n",
      " [ 6  7  8]\n",
      " [ 9 10 11]]\n"
     ]
    }
   ],
   "source": [
    "b = np.arange(12).reshape(4,3)\n",
    "print(b)"
   ]
  },
  {
   "cell_type": "code",
   "execution_count": 29,
   "metadata": {},
   "outputs": [
    {
     "name": "stdout",
     "output_type": "stream",
     "text": [
      "[[[ 0  1  2  3]\n",
      "  [ 4  5  6  7]\n",
      "  [ 8  9 10 11]]\n",
      "\n",
      " [[12 13 14 15]\n",
      "  [16 17 18 19]\n",
      "  [20 21 22 23]]]\n"
     ]
    }
   ],
   "source": [
    "c = np.arange(24).reshape(2,3,4)\n",
    "print(c)"
   ]
  },
  {
   "cell_type": "markdown",
   "metadata": {
    "slideshow": {
     "slide_type": "slide"
    }
   },
   "source": [
    "If an array is too large to be printed, NumPy automatically skips the central part of the array and only prints the corners:"
   ]
  },
  {
   "cell_type": "code",
   "execution_count": 30,
   "metadata": {},
   "outputs": [
    {
     "name": "stdout",
     "output_type": "stream",
     "text": [
      "[   0    1    2 ... 9997 9998 9999]\n"
     ]
    }
   ],
   "source": [
    "print(np.arange(10000))"
   ]
  },
  {
   "cell_type": "code",
   "execution_count": 31,
   "metadata": {},
   "outputs": [
    {
     "name": "stdout",
     "output_type": "stream",
     "text": [
      "[[   0    1    2 ...   97   98   99]\n",
      " [ 100  101  102 ...  197  198  199]\n",
      " [ 200  201  202 ...  297  298  299]\n",
      " ...\n",
      " [9700 9701 9702 ... 9797 9798 9799]\n",
      " [9800 9801 9802 ... 9897 9898 9899]\n",
      " [9900 9901 9902 ... 9997 9998 9999]]\n"
     ]
    }
   ],
   "source": [
    "print(np.arange(10000).reshape(100, 100))"
   ]
  },
  {
   "cell_type": "markdown",
   "metadata": {
    "slideshow": {
     "slide_type": "slide"
    }
   },
   "source": [
    "## Basic operations\n",
    "\n",
    "Arithmetic operators on arrays apply *elementwise*. A new array is created and filled with the result."
   ]
  },
  {
   "cell_type": "code",
   "execution_count": 33,
   "metadata": {},
   "outputs": [
    {
     "name": "stdout",
     "output_type": "stream",
     "text": [
      "[  0  30  80 150]\n"
     ]
    }
   ],
   "source": [
    "a = np.array([20,30,40,50], dtype=int)\n",
    "b = np.arange(4)\n",
    "c = a*b\n",
    "print(c)"
   ]
  },
  {
   "cell_type": "code",
   "execution_count": 34,
   "metadata": {},
   "outputs": [
    {
     "name": "stdout",
     "output_type": "stream",
     "text": [
      "[0 1 4 9]\n"
     ]
    }
   ],
   "source": [
    "print(b**2)"
   ]
  },
  {
   "cell_type": "code",
   "execution_count": 35,
   "metadata": {},
   "outputs": [
    {
     "name": "stdout",
     "output_type": "stream",
     "text": [
      "[ 9.12945251 -9.88031624  7.4511316  -2.62374854]\n"
     ]
    }
   ],
   "source": [
    "print(10*np.sin(a))"
   ]
  },
  {
   "cell_type": "code",
   "execution_count": 36,
   "metadata": {
    "slideshow": {
     "slide_type": "slide"
    }
   },
   "outputs": [
    {
     "name": "stdout",
     "output_type": "stream",
     "text": [
      "[ True  True False False]\n"
     ]
    }
   ],
   "source": [
    "print(a<35)"
   ]
  },
  {
   "cell_type": "markdown",
   "metadata": {},
   "source": [
    "Some operations, such as `+=` and `*=`, act in place to modify an existing array rather than create a new one."
   ]
  },
  {
   "cell_type": "code",
   "execution_count": 37,
   "metadata": {},
   "outputs": [
    {
     "name": "stdout",
     "output_type": "stream",
     "text": [
      "[[3. 3. 3.]\n",
      " [3. 3. 3.]]\n"
     ]
    }
   ],
   "source": [
    "a = np.ones((2,3))\n",
    "b = np.random.random((2,3))\n",
    "a *= 3\n",
    "print(a)"
   ]
  },
  {
   "cell_type": "code",
   "execution_count": 38,
   "metadata": {},
   "outputs": [
    {
     "name": "stdout",
     "output_type": "stream",
     "text": [
      "[[3.70459733 3.3528022  3.76786521]\n",
      " [3.95425461 3.58611385 3.95951058]]\n"
     ]
    }
   ],
   "source": [
    "b += a\n",
    "print(b)"
   ]
  },
  {
   "cell_type": "markdown",
   "metadata": {
    "slideshow": {
     "slide_type": "slide"
    }
   },
   "source": [
    "When operating with arrays of different types, the type of the resulting array corresponds to the more general or precise one (a behavior known as upcasting)."
   ]
  },
  {
   "cell_type": "code",
   "execution_count": 40,
   "metadata": {},
   "outputs": [
    {
     "data": {
      "text/plain": [
       "'float64'"
      ]
     },
     "execution_count": 40,
     "metadata": {},
     "output_type": "execute_result"
    }
   ],
   "source": [
    "from math import pi\n",
    "a = np.ones(3, dtype=np.int32)\n",
    "b = np.linspace(0, pi, 3)\n",
    "b.dtype.name"
   ]
  },
  {
   "cell_type": "code",
   "execution_count": 41,
   "metadata": {},
   "outputs": [
    {
     "data": {
      "text/plain": [
       "dtype('int32')"
      ]
     },
     "execution_count": 41,
     "metadata": {},
     "output_type": "execute_result"
    }
   ],
   "source": [
    "a.dtype"
   ]
  },
  {
   "cell_type": "code",
   "execution_count": 42,
   "metadata": {},
   "outputs": [
    {
     "data": {
      "text/plain": [
       "array([1.        , 2.57079633, 4.14159265])"
      ]
     },
     "execution_count": 42,
     "metadata": {},
     "output_type": "execute_result"
    }
   ],
   "source": [
    "c = a+b\n",
    "c"
   ]
  },
  {
   "cell_type": "code",
   "execution_count": 43,
   "metadata": {},
   "outputs": [
    {
     "data": {
      "text/plain": [
       "'float64'"
      ]
     },
     "execution_count": 43,
     "metadata": {},
     "output_type": "execute_result"
    }
   ],
   "source": [
    "c.dtype.name"
   ]
  },
  {
   "cell_type": "code",
   "execution_count": 44,
   "metadata": {},
   "outputs": [],
   "source": [
    "d = np.exp(c*1j)"
   ]
  },
  {
   "cell_type": "code",
   "execution_count": 45,
   "metadata": {},
   "outputs": [
    {
     "data": {
      "text/plain": [
       "'complex128'"
      ]
     },
     "execution_count": 45,
     "metadata": {},
     "output_type": "execute_result"
    }
   ],
   "source": [
    "d.dtype.name"
   ]
  },
  {
   "cell_type": "markdown",
   "metadata": {
    "slideshow": {
     "slide_type": "slide"
    }
   },
   "source": [
    "Many unary operations, such as computing the sum of all the elements in the array, are implemented as methods of the `ndarray` class."
   ]
  },
  {
   "cell_type": "code",
   "execution_count": 46,
   "metadata": {},
   "outputs": [
    {
     "data": {
      "text/plain": [
       "array([[0.3243932 , 0.09482076, 0.02030006],\n",
       "       [0.60275048, 0.54043824, 0.91164518]])"
      ]
     },
     "execution_count": 46,
     "metadata": {},
     "output_type": "execute_result"
    }
   ],
   "source": [
    "a = np.random.random((2,3))\n",
    "a"
   ]
  },
  {
   "cell_type": "code",
   "execution_count": 47,
   "metadata": {},
   "outputs": [
    {
     "data": {
      "text/plain": [
       "2.494347913918455"
      ]
     },
     "execution_count": 47,
     "metadata": {},
     "output_type": "execute_result"
    }
   ],
   "source": [
    "a.sum()"
   ]
  },
  {
   "cell_type": "code",
   "execution_count": 48,
   "metadata": {},
   "outputs": [
    {
     "data": {
      "text/plain": [
       "0.020300057915424552"
      ]
     },
     "execution_count": 48,
     "metadata": {},
     "output_type": "execute_result"
    }
   ],
   "source": [
    "a.min()"
   ]
  },
  {
   "cell_type": "code",
   "execution_count": 49,
   "metadata": {},
   "outputs": [
    {
     "data": {
      "text/plain": [
       "0.9116451789128676"
      ]
     },
     "execution_count": 49,
     "metadata": {},
     "output_type": "execute_result"
    }
   ],
   "source": [
    "a.max()"
   ]
  },
  {
   "cell_type": "markdown",
   "metadata": {
    "slideshow": {
     "slide_type": "slide"
    }
   },
   "source": [
    "By default, these operations apply to the array as though it were a list of numbers, regardless of its shape. However, by specifying the `axis` parameter you can apply an operation along the specified axis of an array:"
   ]
  },
  {
   "cell_type": "code",
   "execution_count": 50,
   "metadata": {},
   "outputs": [
    {
     "data": {
      "text/plain": [
       "array([[ 0,  1,  2,  3],\n",
       "       [ 4,  5,  6,  7],\n",
       "       [ 8,  9, 10, 11]])"
      ]
     },
     "execution_count": 50,
     "metadata": {},
     "output_type": "execute_result"
    }
   ],
   "source": [
    "b = np.arange(12).reshape(3,4)\n",
    "b"
   ]
  },
  {
   "cell_type": "code",
   "execution_count": 51,
   "metadata": {},
   "outputs": [
    {
     "data": {
      "text/plain": [
       "array([12, 15, 18, 21])"
      ]
     },
     "execution_count": 51,
     "metadata": {},
     "output_type": "execute_result"
    }
   ],
   "source": [
    "b.sum(axis=0)"
   ]
  },
  {
   "cell_type": "code",
   "execution_count": 52,
   "metadata": {},
   "outputs": [
    {
     "data": {
      "text/plain": [
       "array([0, 4, 8])"
      ]
     },
     "execution_count": 52,
     "metadata": {},
     "output_type": "execute_result"
    }
   ],
   "source": [
    "b.min(axis=1)"
   ]
  },
  {
   "cell_type": "code",
   "execution_count": 53,
   "metadata": {},
   "outputs": [
    {
     "data": {
      "text/plain": [
       "array([ 0,  1,  3,  6, 10])"
      ]
     },
     "execution_count": 53,
     "metadata": {},
     "output_type": "execute_result"
    }
   ],
   "source": [
    "np.arange(5).cumsum()"
   ]
  },
  {
   "cell_type": "code",
   "execution_count": 54,
   "metadata": {
    "slideshow": {
     "slide_type": "-"
    }
   },
   "outputs": [
    {
     "data": {
      "text/plain": [
       "array([[ 0,  1,  3,  6],\n",
       "       [ 4,  9, 15, 22],\n",
       "       [ 8, 17, 27, 38]])"
      ]
     },
     "execution_count": 54,
     "metadata": {},
     "output_type": "execute_result"
    }
   ],
   "source": [
    "b.cumsum(axis=1)"
   ]
  },
  {
   "cell_type": "markdown",
   "metadata": {
    "slideshow": {
     "slide_type": "slide"
    }
   },
   "source": [
    "## Universal Functions\n",
    "\n",
    "NumPy provides familiar mathematical functions such as sin, cos, and exp. In NumPy, these are called “universal functions”(`ufunc`). Within NumPy, these functions operate elementwise on an array, producing an array as output."
   ]
  },
  {
   "cell_type": "code",
   "execution_count": 55,
   "metadata": {},
   "outputs": [
    {
     "data": {
      "text/plain": [
       "array([0, 1, 2])"
      ]
     },
     "execution_count": 55,
     "metadata": {},
     "output_type": "execute_result"
    }
   ],
   "source": [
    "B = np.arange(3)\n",
    "B"
   ]
  },
  {
   "cell_type": "code",
   "execution_count": 56,
   "metadata": {},
   "outputs": [
    {
     "data": {
      "text/plain": [
       "array([1.        , 2.71828183, 7.3890561 ])"
      ]
     },
     "execution_count": 56,
     "metadata": {},
     "output_type": "execute_result"
    }
   ],
   "source": [
    "np.exp(B)"
   ]
  },
  {
   "cell_type": "code",
   "execution_count": 57,
   "metadata": {},
   "outputs": [
    {
     "data": {
      "text/plain": [
       "array([0.        , 1.        , 1.41421356])"
      ]
     },
     "execution_count": 57,
     "metadata": {},
     "output_type": "execute_result"
    }
   ],
   "source": [
    "np.sqrt(B)"
   ]
  },
  {
   "cell_type": "code",
   "execution_count": 58,
   "metadata": {},
   "outputs": [
    {
     "data": {
      "text/plain": [
       "array([2., 0., 6.])"
      ]
     },
     "execution_count": 58,
     "metadata": {},
     "output_type": "execute_result"
    }
   ],
   "source": [
    "C = np.array([2., -1., 4.])\n",
    "np.add(B, C)"
   ]
  },
  {
   "cell_type": "markdown",
   "metadata": {
    "slideshow": {
     "slide_type": "slide"
    }
   },
   "source": [
    "## Indexing, Slicing and Iterating\n",
    "\n",
    "**One-dimensional** arrays can be indexed, sliced and iterated over, much like lists and other Python sequences."
   ]
  },
  {
   "cell_type": "code",
   "execution_count": 59,
   "metadata": {},
   "outputs": [
    {
     "data": {
      "text/plain": [
       "array([  0,   1,   8,  27,  64, 125, 216, 343, 512, 729])"
      ]
     },
     "execution_count": 59,
     "metadata": {},
     "output_type": "execute_result"
    }
   ],
   "source": [
    "a = np.arange(10)**3\n",
    "a"
   ]
  },
  {
   "cell_type": "code",
   "execution_count": 60,
   "metadata": {},
   "outputs": [
    {
     "data": {
      "text/plain": [
       "8"
      ]
     },
     "execution_count": 60,
     "metadata": {},
     "output_type": "execute_result"
    }
   ],
   "source": [
    "a[2]"
   ]
  },
  {
   "cell_type": "code",
   "execution_count": 61,
   "metadata": {},
   "outputs": [
    {
     "data": {
      "text/plain": [
       "array([ 8, 27, 64])"
      ]
     },
     "execution_count": 61,
     "metadata": {},
     "output_type": "execute_result"
    }
   ],
   "source": [
    "a[2:5]"
   ]
  },
  {
   "cell_type": "code",
   "execution_count": 62,
   "metadata": {},
   "outputs": [
    {
     "data": {
      "text/plain": [
       "array([-1000,     1, -1000,    27, -1000,   125,   216,   343,   512,\n",
       "         729])"
      ]
     },
     "execution_count": 62,
     "metadata": {},
     "output_type": "execute_result"
    }
   ],
   "source": [
    "a[:6:2] = -1000\n",
    "a"
   ]
  },
  {
   "cell_type": "code",
   "execution_count": 63,
   "metadata": {
    "slideshow": {
     "slide_type": "slide"
    }
   },
   "outputs": [
    {
     "data": {
      "text/plain": [
       "array([  729,   512,   343,   216,   125, -1000,    27, -1000,     1,\n",
       "       -1000])"
      ]
     },
     "execution_count": 63,
     "metadata": {},
     "output_type": "execute_result"
    }
   ],
   "source": [
    "a[: :-1]"
   ]
  },
  {
   "cell_type": "code",
   "execution_count": 64,
   "metadata": {
    "slideshow": {
     "slide_type": "-"
    }
   },
   "outputs": [
    {
     "name": "stdout",
     "output_type": "stream",
     "text": [
      "nan\n",
      "1.0\n",
      "nan\n",
      "3.0\n",
      "nan\n",
      "4.999999999999999\n",
      "5.999999999999999\n",
      "6.999999999999999\n",
      "7.999999999999999\n",
      "8.999999999999998\n"
     ]
    },
    {
     "name": "stderr",
     "output_type": "stream",
     "text": [
      "/tmp/ipykernel_9410/2421933163.py:2: RuntimeWarning: invalid value encountered in power\n",
      "  print(i**(1/3.))\n"
     ]
    }
   ],
   "source": [
    "for i in a:\n",
    "    print(i**(1/3.))"
   ]
  },
  {
   "cell_type": "markdown",
   "metadata": {
    "slideshow": {
     "slide_type": "slide"
    }
   },
   "source": [
    "**Multidimensional** arrays can have one index per axis. These indices are given in a tuple separated by commas:"
   ]
  },
  {
   "cell_type": "code",
   "execution_count": 65,
   "metadata": {},
   "outputs": [
    {
     "data": {
      "text/plain": [
       "array([[ 0,  1,  2,  3],\n",
       "       [10, 11, 12, 13],\n",
       "       [20, 21, 22, 23],\n",
       "       [30, 31, 32, 33],\n",
       "       [40, 41, 42, 43]])"
      ]
     },
     "execution_count": 65,
     "metadata": {},
     "output_type": "execute_result"
    }
   ],
   "source": [
    "def f(x,y):\n",
    "    return 10*x+y\n",
    "\n",
    "b = np.fromfunction(f,(5,4),dtype=int)\n",
    "b"
   ]
  },
  {
   "cell_type": "code",
   "execution_count": 66,
   "metadata": {
    "slideshow": {
     "slide_type": "slide"
    }
   },
   "outputs": [
    {
     "data": {
      "text/plain": [
       "21"
      ]
     },
     "execution_count": 66,
     "metadata": {},
     "output_type": "execute_result"
    }
   ],
   "source": [
    "b[2,1]"
   ]
  },
  {
   "cell_type": "code",
   "execution_count": 67,
   "metadata": {},
   "outputs": [
    {
     "data": {
      "text/plain": [
       "array([ 1, 11, 21, 31, 41])"
      ]
     },
     "execution_count": 67,
     "metadata": {},
     "output_type": "execute_result"
    }
   ],
   "source": [
    "b[0:5,1]"
   ]
  },
  {
   "cell_type": "code",
   "execution_count": 68,
   "metadata": {},
   "outputs": [
    {
     "data": {
      "text/plain": [
       "array([ 1, 11, 21, 31, 41])"
      ]
     },
     "execution_count": 68,
     "metadata": {},
     "output_type": "execute_result"
    }
   ],
   "source": [
    "b[:,1]"
   ]
  },
  {
   "cell_type": "code",
   "execution_count": 69,
   "metadata": {},
   "outputs": [
    {
     "data": {
      "text/plain": [
       "array([[10, 11, 12, 13],\n",
       "       [20, 21, 22, 23]])"
      ]
     },
     "execution_count": 69,
     "metadata": {},
     "output_type": "execute_result"
    }
   ],
   "source": [
    "b[1:3, :]"
   ]
  },
  {
   "cell_type": "markdown",
   "metadata": {
    "slideshow": {
     "slide_type": "slide"
    }
   },
   "source": [
    "When fewer indices are provided than the number of axes, the missing indices are considered complete slices:"
   ]
  },
  {
   "cell_type": "code",
   "execution_count": 70,
   "metadata": {},
   "outputs": [
    {
     "data": {
      "text/plain": [
       "array([40, 41, 42, 43])"
      ]
     },
     "execution_count": 70,
     "metadata": {},
     "output_type": "execute_result"
    }
   ],
   "source": [
    "b[-1]"
   ]
  },
  {
   "cell_type": "markdown",
   "metadata": {},
   "source": [
    "**Iterating** over multidimensional arrays is done with respect to the first axis:"
   ]
  },
  {
   "cell_type": "code",
   "execution_count": 71,
   "metadata": {},
   "outputs": [
    {
     "name": "stdout",
     "output_type": "stream",
     "text": [
      "[0 1 2 3]\n",
      "[10 11 12 13]\n",
      "[20 21 22 23]\n",
      "[30 31 32 33]\n",
      "[40 41 42 43]\n"
     ]
    }
   ],
   "source": [
    "for row in b:\n",
    "    print(row)"
   ]
  },
  {
   "cell_type": "markdown",
   "metadata": {
    "slideshow": {
     "slide_type": "slide"
    }
   },
   "source": [
    "# Pandas\n",
    "\n",
    "Pandas is a package that offers an improved interface for numpy arrays. You can add names for rows and column, easily compute summary statistics, plot them etc.\n",
    "\n",
    "Pandas defines a datatype *dataframe*, which is similar in functionality to R's data frames.\n",
    "\n",
    "(Some of the following material is taken from https://www.learndatasci.com/tutorials/python-pandas-tutorial-complete-introduction-for-beginners/)"
   ]
  },
  {
   "cell_type": "code",
   "execution_count": 72,
   "metadata": {},
   "outputs": [],
   "source": [
    "import pandas as pd"
   ]
  },
  {
   "cell_type": "code",
   "execution_count": 73,
   "metadata": {},
   "outputs": [],
   "source": [
    "data = {\n",
    "    'apples': [3, 2, 0, 1], \n",
    "    'oranges': [0, 3, 7, 2]\n",
    "}"
   ]
  },
  {
   "cell_type": "markdown",
   "metadata": {},
   "source": [
    "Data frames can be created from lists, numpy arrays or dictionaries. In the latter case, the keys of the dictionary are re-used as column names."
   ]
  },
  {
   "cell_type": "code",
   "execution_count": 74,
   "metadata": {
    "slideshow": {
     "slide_type": "slide"
    }
   },
   "outputs": [
    {
     "data": {
      "text/html": [
       "<div>\n",
       "<style scoped>\n",
       "    .dataframe tbody tr th:only-of-type {\n",
       "        vertical-align: middle;\n",
       "    }\n",
       "\n",
       "    .dataframe tbody tr th {\n",
       "        vertical-align: top;\n",
       "    }\n",
       "\n",
       "    .dataframe thead th {\n",
       "        text-align: right;\n",
       "    }\n",
       "</style>\n",
       "<table border=\"1\" class=\"dataframe\">\n",
       "  <thead>\n",
       "    <tr style=\"text-align: right;\">\n",
       "      <th></th>\n",
       "      <th>apples</th>\n",
       "      <th>oranges</th>\n",
       "    </tr>\n",
       "  </thead>\n",
       "  <tbody>\n",
       "    <tr>\n",
       "      <th>0</th>\n",
       "      <td>3</td>\n",
       "      <td>0</td>\n",
       "    </tr>\n",
       "    <tr>\n",
       "      <th>1</th>\n",
       "      <td>2</td>\n",
       "      <td>3</td>\n",
       "    </tr>\n",
       "    <tr>\n",
       "      <th>2</th>\n",
       "      <td>0</td>\n",
       "      <td>7</td>\n",
       "    </tr>\n",
       "    <tr>\n",
       "      <th>3</th>\n",
       "      <td>1</td>\n",
       "      <td>2</td>\n",
       "    </tr>\n",
       "  </tbody>\n",
       "</table>\n",
       "</div>"
      ],
      "text/plain": [
       "   apples  oranges\n",
       "0       3        0\n",
       "1       2        3\n",
       "2       0        7\n",
       "3       1        2"
      ]
     },
     "execution_count": 74,
     "metadata": {},
     "output_type": "execute_result"
    }
   ],
   "source": [
    "purchases = pd.DataFrame(data)\n",
    "\n",
    "purchases"
   ]
  },
  {
   "cell_type": "markdown",
   "metadata": {},
   "source": [
    "Using the `index` keyword, you can add row names."
   ]
  },
  {
   "cell_type": "code",
   "execution_count": 75,
   "metadata": {},
   "outputs": [
    {
     "data": {
      "text/html": [
       "<div>\n",
       "<style scoped>\n",
       "    .dataframe tbody tr th:only-of-type {\n",
       "        vertical-align: middle;\n",
       "    }\n",
       "\n",
       "    .dataframe tbody tr th {\n",
       "        vertical-align: top;\n",
       "    }\n",
       "\n",
       "    .dataframe thead th {\n",
       "        text-align: right;\n",
       "    }\n",
       "</style>\n",
       "<table border=\"1\" class=\"dataframe\">\n",
       "  <thead>\n",
       "    <tr style=\"text-align: right;\">\n",
       "      <th></th>\n",
       "      <th>apples</th>\n",
       "      <th>oranges</th>\n",
       "    </tr>\n",
       "  </thead>\n",
       "  <tbody>\n",
       "    <tr>\n",
       "      <th>June</th>\n",
       "      <td>3</td>\n",
       "      <td>0</td>\n",
       "    </tr>\n",
       "    <tr>\n",
       "      <th>Robert</th>\n",
       "      <td>2</td>\n",
       "      <td>3</td>\n",
       "    </tr>\n",
       "    <tr>\n",
       "      <th>Lily</th>\n",
       "      <td>0</td>\n",
       "      <td>7</td>\n",
       "    </tr>\n",
       "    <tr>\n",
       "      <th>David</th>\n",
       "      <td>1</td>\n",
       "      <td>2</td>\n",
       "    </tr>\n",
       "  </tbody>\n",
       "</table>\n",
       "</div>"
      ],
      "text/plain": [
       "        apples  oranges\n",
       "June         3        0\n",
       "Robert       2        3\n",
       "Lily         0        7\n",
       "David        1        2"
      ]
     },
     "execution_count": 75,
     "metadata": {},
     "output_type": "execute_result"
    }
   ],
   "source": [
    "purchases = pd.DataFrame(data, index=['June', 'Robert', 'Lily', 'David'])\n",
    "\n",
    "purchases"
   ]
  },
  {
   "cell_type": "markdown",
   "metadata": {
    "slideshow": {
     "slide_type": "slide"
    }
   },
   "source": [
    "Individual rows or columns can be accessed using the corresponding names."
   ]
  },
  {
   "cell_type": "code",
   "execution_count": 76,
   "metadata": {
    "scrolled": true
   },
   "outputs": [
    {
     "data": {
      "text/plain": [
       "June      3\n",
       "Robert    2\n",
       "Lily      0\n",
       "David     1\n",
       "Name: apples, dtype: int64"
      ]
     },
     "execution_count": 76,
     "metadata": {},
     "output_type": "execute_result"
    }
   ],
   "source": [
    "purchases['apples']"
   ]
  },
  {
   "cell_type": "code",
   "execution_count": 77,
   "metadata": {},
   "outputs": [
    {
     "data": {
      "text/plain": [
       "apples     2\n",
       "oranges    3\n",
       "Name: Robert, dtype: int64"
      ]
     },
     "execution_count": 77,
     "metadata": {},
     "output_type": "execute_result"
    }
   ],
   "source": [
    "purchases.loc['Robert']"
   ]
  },
  {
   "cell_type": "markdown",
   "metadata": {},
   "source": [
    "Pandas data frames can be easily wrote into and read from csv files (besides a host of other file types)."
   ]
  },
  {
   "cell_type": "code",
   "execution_count": 78,
   "metadata": {},
   "outputs": [],
   "source": [
    "purchases.to_csv(\"purchases.csv\")"
   ]
  },
  {
   "cell_type": "code",
   "execution_count": 79,
   "metadata": {},
   "outputs": [
    {
     "data": {
      "text/html": [
       "<div>\n",
       "<style scoped>\n",
       "    .dataframe tbody tr th:only-of-type {\n",
       "        vertical-align: middle;\n",
       "    }\n",
       "\n",
       "    .dataframe tbody tr th {\n",
       "        vertical-align: top;\n",
       "    }\n",
       "\n",
       "    .dataframe thead th {\n",
       "        text-align: right;\n",
       "    }\n",
       "</style>\n",
       "<table border=\"1\" class=\"dataframe\">\n",
       "  <thead>\n",
       "    <tr style=\"text-align: right;\">\n",
       "      <th></th>\n",
       "      <th>apples</th>\n",
       "      <th>oranges</th>\n",
       "    </tr>\n",
       "  </thead>\n",
       "  <tbody>\n",
       "    <tr>\n",
       "      <th>June</th>\n",
       "      <td>3</td>\n",
       "      <td>0</td>\n",
       "    </tr>\n",
       "    <tr>\n",
       "      <th>Robert</th>\n",
       "      <td>2</td>\n",
       "      <td>3</td>\n",
       "    </tr>\n",
       "    <tr>\n",
       "      <th>Lily</th>\n",
       "      <td>0</td>\n",
       "      <td>7</td>\n",
       "    </tr>\n",
       "    <tr>\n",
       "      <th>David</th>\n",
       "      <td>1</td>\n",
       "      <td>2</td>\n",
       "    </tr>\n",
       "  </tbody>\n",
       "</table>\n",
       "</div>"
      ],
      "text/plain": [
       "        apples  oranges\n",
       "June         3        0\n",
       "Robert       2        3\n",
       "Lily         0        7\n",
       "David        1        2"
      ]
     },
     "execution_count": 79,
     "metadata": {},
     "output_type": "execute_result"
    }
   ],
   "source": [
    "pd.read_csv(\"purchases.csv\", index_col=0)"
   ]
  },
  {
   "cell_type": "code",
   "execution_count": 81,
   "metadata": {
    "slideshow": {
     "slide_type": "slide"
    }
   },
   "outputs": [
    {
     "name": "stdout",
     "output_type": "stream",
     "text": [
      "--2022-01-29 09:15:34--  http://www.sfs.uni-tuebingen.de/~jdellert/northeuralex/0.9/northeuralex-0.9-forms.tsv\n",
      "Resolving www.sfs.uni-tuebingen.de (www.sfs.uni-tuebingen.de)... 134.2.129.121\n",
      "Connecting to www.sfs.uni-tuebingen.de (www.sfs.uni-tuebingen.de)|134.2.129.121|:80... connected.\n",
      "HTTP request sent, awaiting response... 200 OK\n",
      "Length: 10790091 (10M) [text/tab-separated-values]\n",
      "Saving to: ‘northeuralex-0.9-forms.tsv’\n",
      "\n",
      "northeuralex-0.9-fo 100%[===================>]  10.29M  18.5MB/s    in 0.6s    \n",
      "\n",
      "2022-01-29 09:15:34 (18.5 MB/s) - ‘northeuralex-0.9-forms.tsv’ saved [10790091/10790091]\n",
      "\n"
     ]
    }
   ],
   "source": [
    "#! wget http://www.sfs.uni-tuebingen.de/~jdellert/northeuralex/0.9/northeuralex-0.9-forms.tsv"
   ]
  },
  {
   "cell_type": "code",
   "execution_count": 82,
   "metadata": {
    "slideshow": {
     "slide_type": "slide"
    }
   },
   "outputs": [
    {
     "name": "stderr",
     "output_type": "stream",
     "text": [
      "/home/gjaeger/anaconda3/envs/pythonCourse/lib/python3.9/site-packages/IPython/core/interactiveshell.py:3441: FutureWarning: The error_bad_lines argument has been deprecated and will be removed in a future version.\n",
      "\n",
      "\n",
      "  exec(code_obj, self.user_global_ns, self.user_ns)\n",
      "b'Skipping line 85358: expected 10 fields, saw 11\\n'\n"
     ]
    },
    {
     "data": {
      "text/html": [
       "<div>\n",
       "<style scoped>\n",
       "    .dataframe tbody tr th:only-of-type {\n",
       "        vertical-align: middle;\n",
       "    }\n",
       "\n",
       "    .dataframe tbody tr th {\n",
       "        vertical-align: top;\n",
       "    }\n",
       "\n",
       "    .dataframe thead th {\n",
       "        text-align: right;\n",
       "    }\n",
       "</style>\n",
       "<table border=\"1\" class=\"dataframe\">\n",
       "  <thead>\n",
       "    <tr style=\"text-align: right;\">\n",
       "      <th></th>\n",
       "      <th>Language_ID</th>\n",
       "      <th>Glottocode</th>\n",
       "      <th>Concept_ID</th>\n",
       "      <th>Word_Form</th>\n",
       "      <th>rawIPA</th>\n",
       "      <th>IPA</th>\n",
       "      <th>ASJP</th>\n",
       "      <th>List</th>\n",
       "      <th>Dolgo</th>\n",
       "      <th>Next_Step</th>\n",
       "    </tr>\n",
       "  </thead>\n",
       "  <tbody>\n",
       "    <tr>\n",
       "      <th>0</th>\n",
       "      <td>fin</td>\n",
       "      <td>finn1318</td>\n",
       "      <td>Auge::N</td>\n",
       "      <td>silmä</td>\n",
       "      <td>silmæ</td>\n",
       "      <td>s i l m æ</td>\n",
       "      <td>silmE</td>\n",
       "      <td>SILME</td>\n",
       "      <td>SVRMV</td>\n",
       "      <td>validate</td>\n",
       "    </tr>\n",
       "    <tr>\n",
       "      <th>1</th>\n",
       "      <td>fin</td>\n",
       "      <td>finn1318</td>\n",
       "      <td>Ohr::N</td>\n",
       "      <td>korva</td>\n",
       "      <td>kɔrʋɑ</td>\n",
       "      <td>k ɔ r ʋ ɑ</td>\n",
       "      <td>korwa</td>\n",
       "      <td>KURWA</td>\n",
       "      <td>KVRWV</td>\n",
       "      <td>validate</td>\n",
       "    </tr>\n",
       "    <tr>\n",
       "      <th>2</th>\n",
       "      <td>fin</td>\n",
       "      <td>finn1318</td>\n",
       "      <td>Nase::N</td>\n",
       "      <td>nenä</td>\n",
       "      <td>nɛnæ</td>\n",
       "      <td>n ɛ n æ</td>\n",
       "      <td>nEnE</td>\n",
       "      <td>NENE</td>\n",
       "      <td>NVNV</td>\n",
       "      <td>validate</td>\n",
       "    </tr>\n",
       "    <tr>\n",
       "      <th>3</th>\n",
       "      <td>fin</td>\n",
       "      <td>finn1318</td>\n",
       "      <td>Mund::N</td>\n",
       "      <td>suu</td>\n",
       "      <td>suː</td>\n",
       "      <td>s u u</td>\n",
       "      <td>su</td>\n",
       "      <td>SY</td>\n",
       "      <td>SV</td>\n",
       "      <td>validate</td>\n",
       "    </tr>\n",
       "    <tr>\n",
       "      <th>4</th>\n",
       "      <td>fin</td>\n",
       "      <td>finn1318</td>\n",
       "      <td>Zahn::N</td>\n",
       "      <td>hammas</td>\n",
       "      <td>hɑmːɑs</td>\n",
       "      <td>h ɑ m m ɑ s</td>\n",
       "      <td>hamas</td>\n",
       "      <td>HAMAS</td>\n",
       "      <td>HVMVS</td>\n",
       "      <td>validate</td>\n",
       "    </tr>\n",
       "    <tr>\n",
       "      <th>...</th>\n",
       "      <td>...</td>\n",
       "      <td>...</td>\n",
       "      <td>...</td>\n",
       "      <td>...</td>\n",
       "      <td>...</td>\n",
       "      <td>...</td>\n",
       "      <td>...</td>\n",
       "      <td>...</td>\n",
       "      <td>...</td>\n",
       "      <td>...</td>\n",
       "    </tr>\n",
       "    <tr>\n",
       "      <th>121608</th>\n",
       "      <td>cmn</td>\n",
       "      <td>mand1415</td>\n",
       "      <td>verkaufen::V</td>\n",
       "      <td>卖</td>\n",
       "      <td>mâɪ̯</td>\n",
       "      <td>m a ɪ</td>\n",
       "      <td>mai</td>\n",
       "      <td>MAI</td>\n",
       "      <td>MV</td>\n",
       "      <td>validate</td>\n",
       "    </tr>\n",
       "    <tr>\n",
       "      <th>121609</th>\n",
       "      <td>cmn</td>\n",
       "      <td>mand1415</td>\n",
       "      <td>bezahlen::V</td>\n",
       "      <td>付钱</td>\n",
       "      <td>fû t͡ɕʰjɛ̌n</td>\n",
       "      <td>f u _ t͡ɕ ʰ j ɛ n</td>\n",
       "      <td>fuCyEn</td>\n",
       "      <td>BY_CJE2N</td>\n",
       "      <td>PV_KJV1N</td>\n",
       "      <td>validate</td>\n",
       "    </tr>\n",
       "    <tr>\n",
       "      <th>121610</th>\n",
       "      <td>cmn</td>\n",
       "      <td>mand1415</td>\n",
       "      <td>zahlen::V</td>\n",
       "      <td>支付</td>\n",
       "      <td>t͡ʂɨ˦fû</td>\n",
       "      <td>t ʂ ɨ f u</td>\n",
       "      <td>C3fu</td>\n",
       "      <td>CI1BY</td>\n",
       "      <td>KV1PV</td>\n",
       "      <td>validate</td>\n",
       "    </tr>\n",
       "    <tr>\n",
       "      <th>121611</th>\n",
       "      <td>cmn</td>\n",
       "      <td>mand1415</td>\n",
       "      <td>beherrschen::V</td>\n",
       "      <td>统治</td>\n",
       "      <td>tʰʊ̂̌ŋt͡ʂɨ̂</td>\n",
       "      <td>tʰ ʊ ŋ t ʂ ɨ</td>\n",
       "      <td>tuNC3</td>\n",
       "      <td>TY2NCI</td>\n",
       "      <td>TV1NKV</td>\n",
       "      <td>validate</td>\n",
       "    </tr>\n",
       "    <tr>\n",
       "      <th>121612</th>\n",
       "      <td>cmn</td>\n",
       "      <td>mand1415</td>\n",
       "      <td>ertragen::V</td>\n",
       "      <td>忍耐</td>\n",
       "      <td>ɻə̂̌nnâɪ̯</td>\n",
       "      <td>ɻ ə n n a ɪ</td>\n",
       "      <td>L3nai</td>\n",
       "      <td>RE2NNAI</td>\n",
       "      <td>RV1NNV</td>\n",
       "      <td>validate</td>\n",
       "    </tr>\n",
       "  </tbody>\n",
       "</table>\n",
       "<p>121613 rows × 10 columns</p>\n",
       "</div>"
      ],
      "text/plain": [
       "       Language_ID Glottocode      Concept_ID Word_Form        rawIPA  \\\n",
       "0              fin   finn1318         Auge::N     silmä         silmæ   \n",
       "1              fin   finn1318          Ohr::N     korva         kɔrʋɑ   \n",
       "2              fin   finn1318         Nase::N      nenä          nɛnæ   \n",
       "3              fin   finn1318         Mund::N       suu           suː   \n",
       "4              fin   finn1318         Zahn::N    hammas        hɑmːɑs   \n",
       "...            ...        ...             ...       ...           ...   \n",
       "121608         cmn   mand1415    verkaufen::V         卖         mâɪ̯   \n",
       "121609         cmn   mand1415     bezahlen::V        付钱  fû t͡ɕʰjɛ̌n   \n",
       "121610         cmn   mand1415       zahlen::V        支付      t͡ʂɨ˦fû   \n",
       "121611         cmn   mand1415  beherrschen::V        统治   tʰʊ̂̌ŋt͡ʂɨ̂   \n",
       "121612         cmn   mand1415     ertragen::V        忍耐    ɻə̂̌nnâɪ̯   \n",
       "\n",
       "                      IPA    ASJP      List     Dolgo Next_Step  \n",
       "0               s i l m æ   silmE     SILME     SVRMV  validate  \n",
       "1               k ɔ r ʋ ɑ   korwa     KURWA     KVRWV  validate  \n",
       "2                 n ɛ n æ    nEnE      NENE      NVNV  validate  \n",
       "3                   s u u      su        SY        SV  validate  \n",
       "4             h ɑ m m ɑ s   hamas     HAMAS     HVMVS  validate  \n",
       "...                   ...     ...       ...       ...       ...  \n",
       "121608              m a ɪ     mai       MAI        MV  validate  \n",
       "121609  f u _ t͡ɕ ʰ j ɛ n  fuCyEn  BY_CJE2N  PV_KJV1N  validate  \n",
       "121610          t ʂ ɨ f u    C3fu     CI1BY     KV1PV  validate  \n",
       "121611       tʰ ʊ ŋ t ʂ ɨ   tuNC3    TY2NCI    TV1NKV  validate  \n",
       "121612        ɻ ə n n a ɪ   L3nai   RE2NNAI    RV1NNV  validate  \n",
       "\n",
       "[121613 rows x 10 columns]"
      ]
     },
     "execution_count": 82,
     "metadata": {},
     "output_type": "execute_result"
    }
   ],
   "source": [
    "northeuralex = pd.read_csv(\"northeuralex-0.9-forms.tsv\", sep=\"\\t\", error_bad_lines=False)\n",
    "northeuralex"
   ]
  },
  {
   "cell_type": "code",
   "execution_count": 83,
   "metadata": {
    "slideshow": {
     "slide_type": "slide"
    }
   },
   "outputs": [
    {
     "data": {
      "text/html": [
       "<div>\n",
       "<style scoped>\n",
       "    .dataframe tbody tr th:only-of-type {\n",
       "        vertical-align: middle;\n",
       "    }\n",
       "\n",
       "    .dataframe tbody tr th {\n",
       "        vertical-align: top;\n",
       "    }\n",
       "\n",
       "    .dataframe thead th {\n",
       "        text-align: right;\n",
       "    }\n",
       "</style>\n",
       "<table border=\"1\" class=\"dataframe\">\n",
       "  <thead>\n",
       "    <tr style=\"text-align: right;\">\n",
       "      <th></th>\n",
       "      <th>Language_ID</th>\n",
       "      <th>Glottocode</th>\n",
       "      <th>Concept_ID</th>\n",
       "      <th>Word_Form</th>\n",
       "      <th>rawIPA</th>\n",
       "      <th>IPA</th>\n",
       "      <th>ASJP</th>\n",
       "      <th>List</th>\n",
       "      <th>Dolgo</th>\n",
       "      <th>Next_Step</th>\n",
       "    </tr>\n",
       "  </thead>\n",
       "  <tbody>\n",
       "    <tr>\n",
       "      <th>0</th>\n",
       "      <td>fin</td>\n",
       "      <td>finn1318</td>\n",
       "      <td>Auge::N</td>\n",
       "      <td>silmä</td>\n",
       "      <td>silmæ</td>\n",
       "      <td>s i l m æ</td>\n",
       "      <td>silmE</td>\n",
       "      <td>SILME</td>\n",
       "      <td>SVRMV</td>\n",
       "      <td>validate</td>\n",
       "    </tr>\n",
       "    <tr>\n",
       "      <th>1</th>\n",
       "      <td>fin</td>\n",
       "      <td>finn1318</td>\n",
       "      <td>Ohr::N</td>\n",
       "      <td>korva</td>\n",
       "      <td>kɔrʋɑ</td>\n",
       "      <td>k ɔ r ʋ ɑ</td>\n",
       "      <td>korwa</td>\n",
       "      <td>KURWA</td>\n",
       "      <td>KVRWV</td>\n",
       "      <td>validate</td>\n",
       "    </tr>\n",
       "    <tr>\n",
       "      <th>2</th>\n",
       "      <td>fin</td>\n",
       "      <td>finn1318</td>\n",
       "      <td>Nase::N</td>\n",
       "      <td>nenä</td>\n",
       "      <td>nɛnæ</td>\n",
       "      <td>n ɛ n æ</td>\n",
       "      <td>nEnE</td>\n",
       "      <td>NENE</td>\n",
       "      <td>NVNV</td>\n",
       "      <td>validate</td>\n",
       "    </tr>\n",
       "    <tr>\n",
       "      <th>3</th>\n",
       "      <td>fin</td>\n",
       "      <td>finn1318</td>\n",
       "      <td>Mund::N</td>\n",
       "      <td>suu</td>\n",
       "      <td>suː</td>\n",
       "      <td>s u u</td>\n",
       "      <td>su</td>\n",
       "      <td>SY</td>\n",
       "      <td>SV</td>\n",
       "      <td>validate</td>\n",
       "    </tr>\n",
       "    <tr>\n",
       "      <th>4</th>\n",
       "      <td>fin</td>\n",
       "      <td>finn1318</td>\n",
       "      <td>Zahn::N</td>\n",
       "      <td>hammas</td>\n",
       "      <td>hɑmːɑs</td>\n",
       "      <td>h ɑ m m ɑ s</td>\n",
       "      <td>hamas</td>\n",
       "      <td>HAMAS</td>\n",
       "      <td>HVMVS</td>\n",
       "      <td>validate</td>\n",
       "    </tr>\n",
       "  </tbody>\n",
       "</table>\n",
       "</div>"
      ],
      "text/plain": [
       "  Language_ID Glottocode Concept_ID Word_Form  rawIPA          IPA   ASJP  \\\n",
       "0         fin   finn1318    Auge::N     silmä   silmæ    s i l m æ  silmE   \n",
       "1         fin   finn1318     Ohr::N     korva   kɔrʋɑ    k ɔ r ʋ ɑ  korwa   \n",
       "2         fin   finn1318    Nase::N      nenä    nɛnæ      n ɛ n æ   nEnE   \n",
       "3         fin   finn1318    Mund::N       suu     suː        s u u     su   \n",
       "4         fin   finn1318    Zahn::N    hammas  hɑmːɑs  h ɑ m m ɑ s  hamas   \n",
       "\n",
       "    List  Dolgo Next_Step  \n",
       "0  SILME  SVRMV  validate  \n",
       "1  KURWA  KVRWV  validate  \n",
       "2   NENE   NVNV  validate  \n",
       "3     SY     SV  validate  \n",
       "4  HAMAS  HVMVS  validate  "
      ]
     },
     "execution_count": 83,
     "metadata": {},
     "output_type": "execute_result"
    }
   ],
   "source": [
    "northeuralex.head()"
   ]
  },
  {
   "cell_type": "code",
   "execution_count": 84,
   "metadata": {},
   "outputs": [
    {
     "data": {
      "text/html": [
       "<div>\n",
       "<style scoped>\n",
       "    .dataframe tbody tr th:only-of-type {\n",
       "        vertical-align: middle;\n",
       "    }\n",
       "\n",
       "    .dataframe tbody tr th {\n",
       "        vertical-align: top;\n",
       "    }\n",
       "\n",
       "    .dataframe thead th {\n",
       "        text-align: right;\n",
       "    }\n",
       "</style>\n",
       "<table border=\"1\" class=\"dataframe\">\n",
       "  <thead>\n",
       "    <tr style=\"text-align: right;\">\n",
       "      <th></th>\n",
       "      <th>Language_ID</th>\n",
       "      <th>Glottocode</th>\n",
       "      <th>Concept_ID</th>\n",
       "      <th>Word_Form</th>\n",
       "      <th>rawIPA</th>\n",
       "      <th>IPA</th>\n",
       "      <th>ASJP</th>\n",
       "      <th>List</th>\n",
       "      <th>Dolgo</th>\n",
       "      <th>Next_Step</th>\n",
       "    </tr>\n",
       "  </thead>\n",
       "  <tbody>\n",
       "    <tr>\n",
       "      <th>9990</th>\n",
       "      <td>sme</td>\n",
       "      <td>nort2671</td>\n",
       "      <td>Linie::N</td>\n",
       "      <td>linnjá</td>\n",
       "      <td>liɲːaː</td>\n",
       "      <td>l i ɲ ɲ a a</td>\n",
       "      <td>li5a</td>\n",
       "      <td>LINA</td>\n",
       "      <td>RVNV</td>\n",
       "      <td>validate</td>\n",
       "    </tr>\n",
       "    <tr>\n",
       "      <th>9991</th>\n",
       "      <td>sme</td>\n",
       "      <td>nort2671</td>\n",
       "      <td>Strich::N</td>\n",
       "      <td>sárggis</td>\n",
       "      <td>saːrɡkis</td>\n",
       "      <td>s a a r ɡ k i s</td>\n",
       "      <td>sargkis</td>\n",
       "      <td>SARKKIS</td>\n",
       "      <td>SVRKKVS</td>\n",
       "      <td>validate</td>\n",
       "    </tr>\n",
       "    <tr>\n",
       "      <th>9992</th>\n",
       "      <td>sme</td>\n",
       "      <td>nort2671</td>\n",
       "      <td>Abstand::N</td>\n",
       "      <td>gaska</td>\n",
       "      <td>kɑskɑ</td>\n",
       "      <td>k ɑ s k ɑ</td>\n",
       "      <td>kaska</td>\n",
       "      <td>KASKA</td>\n",
       "      <td>KVSKV</td>\n",
       "      <td>validate</td>\n",
       "    </tr>\n",
       "    <tr>\n",
       "      <th>9993</th>\n",
       "      <td>sme</td>\n",
       "      <td>nort2671</td>\n",
       "      <td>Entfernung::N</td>\n",
       "      <td>gaska</td>\n",
       "      <td>kɑskɑ</td>\n",
       "      <td>k ɑ s k ɑ</td>\n",
       "      <td>kaska</td>\n",
       "      <td>KASKA</td>\n",
       "      <td>KVSKV</td>\n",
       "      <td>validate</td>\n",
       "    </tr>\n",
       "    <tr>\n",
       "      <th>9994</th>\n",
       "      <td>sme</td>\n",
       "      <td>nort2671</td>\n",
       "      <td>Entfernung::N</td>\n",
       "      <td>mátkegaska</td>\n",
       "      <td>maːtkekɑskɑ</td>\n",
       "      <td>m a a t k e k ɑ s k ɑ</td>\n",
       "      <td>matkekaska</td>\n",
       "      <td>MATKEKASKA</td>\n",
       "      <td>MVTKVKVSKV</td>\n",
       "      <td>validate</td>\n",
       "    </tr>\n",
       "    <tr>\n",
       "      <th>9995</th>\n",
       "      <td>sme</td>\n",
       "      <td>nort2671</td>\n",
       "      <td>Gegend::N</td>\n",
       "      <td>guovlu</td>\n",
       "      <td>kʊ̯ɔβlʊ</td>\n",
       "      <td>k ʊ ɔ β l ʊ</td>\n",
       "      <td>kuoblu</td>\n",
       "      <td>KYUBLY</td>\n",
       "      <td>KVPRV</td>\n",
       "      <td>validate</td>\n",
       "    </tr>\n",
       "    <tr>\n",
       "      <th>9996</th>\n",
       "      <td>sme</td>\n",
       "      <td>nort2671</td>\n",
       "      <td>Gegend::N</td>\n",
       "      <td>duovdda</td>\n",
       "      <td>tʊ̯ɔvdtɑ</td>\n",
       "      <td>t ʊ ɔ v d t ɑ</td>\n",
       "      <td>tuovdta</td>\n",
       "      <td>TYUBTTA</td>\n",
       "      <td>TVWTTV</td>\n",
       "      <td>validate</td>\n",
       "    </tr>\n",
       "    <tr>\n",
       "      <th>9997</th>\n",
       "      <td>sme</td>\n",
       "      <td>nort2671</td>\n",
       "      <td>Platz::N</td>\n",
       "      <td>sadji</td>\n",
       "      <td>sɑcːi</td>\n",
       "      <td>s ɑ c c i</td>\n",
       "      <td>saTi</td>\n",
       "      <td>SACI</td>\n",
       "      <td>SVKV</td>\n",
       "      <td>validate</td>\n",
       "    </tr>\n",
       "    <tr>\n",
       "      <th>9998</th>\n",
       "      <td>sme</td>\n",
       "      <td>nort2671</td>\n",
       "      <td>Ort::N</td>\n",
       "      <td>báiki</td>\n",
       "      <td>paːjki</td>\n",
       "      <td>p a a j k i</td>\n",
       "      <td>payki</td>\n",
       "      <td>PAJKI</td>\n",
       "      <td>PVJKV</td>\n",
       "      <td>validate</td>\n",
       "    </tr>\n",
       "    <tr>\n",
       "      <th>9999</th>\n",
       "      <td>sme</td>\n",
       "      <td>nort2671</td>\n",
       "      <td>Seite::N</td>\n",
       "      <td>bealli</td>\n",
       "      <td>pe̯ælːi</td>\n",
       "      <td>p e æ l l i</td>\n",
       "      <td>peEli</td>\n",
       "      <td>PEELI</td>\n",
       "      <td>PVRV</td>\n",
       "      <td>validate</td>\n",
       "    </tr>\n",
       "  </tbody>\n",
       "</table>\n",
       "</div>"
      ],
      "text/plain": [
       "     Language_ID Glottocode     Concept_ID   Word_Form       rawIPA  \\\n",
       "9990         sme   nort2671       Linie::N      linnjá       liɲːaː   \n",
       "9991         sme   nort2671      Strich::N     sárggis     saːrɡkis   \n",
       "9992         sme   nort2671     Abstand::N       gaska        kɑskɑ   \n",
       "9993         sme   nort2671  Entfernung::N       gaska        kɑskɑ   \n",
       "9994         sme   nort2671  Entfernung::N  mátkegaska  maːtkekɑskɑ   \n",
       "9995         sme   nort2671      Gegend::N      guovlu      kʊ̯ɔβlʊ   \n",
       "9996         sme   nort2671      Gegend::N     duovdda     tʊ̯ɔvdtɑ   \n",
       "9997         sme   nort2671       Platz::N       sadji        sɑcːi   \n",
       "9998         sme   nort2671         Ort::N       báiki       paːjki   \n",
       "9999         sme   nort2671       Seite::N      bealli      pe̯ælːi   \n",
       "\n",
       "                        IPA        ASJP        List       Dolgo Next_Step  \n",
       "9990            l i ɲ ɲ a a        li5a        LINA        RVNV  validate  \n",
       "9991        s a a r ɡ k i s     sargkis     SARKKIS     SVRKKVS  validate  \n",
       "9992              k ɑ s k ɑ       kaska       KASKA       KVSKV  validate  \n",
       "9993              k ɑ s k ɑ       kaska       KASKA       KVSKV  validate  \n",
       "9994  m a a t k e k ɑ s k ɑ  matkekaska  MATKEKASKA  MVTKVKVSKV  validate  \n",
       "9995            k ʊ ɔ β l ʊ      kuoblu      KYUBLY       KVPRV  validate  \n",
       "9996          t ʊ ɔ v d t ɑ     tuovdta     TYUBTTA      TVWTTV  validate  \n",
       "9997              s ɑ c c i        saTi        SACI        SVKV  validate  \n",
       "9998            p a a j k i       payki       PAJKI       PVJKV  validate  \n",
       "9999            p e æ l l i       peEli       PEELI        PVRV  validate  "
      ]
     },
     "execution_count": 84,
     "metadata": {},
     "output_type": "execute_result"
    }
   ],
   "source": [
    "northeuralex.head(10000).tail(10)"
   ]
  },
  {
   "cell_type": "code",
   "execution_count": 85,
   "metadata": {
    "slideshow": {
     "slide_type": "slide"
    }
   },
   "outputs": [
    {
     "name": "stdout",
     "output_type": "stream",
     "text": [
      "<class 'pandas.core.frame.DataFrame'>\n",
      "RangeIndex: 121613 entries, 0 to 121612\n",
      "Data columns (total 10 columns):\n",
      " #   Column       Non-Null Count   Dtype \n",
      "---  ------       --------------   ----- \n",
      " 0   Language_ID  121613 non-null  object\n",
      " 1   Glottocode   121613 non-null  object\n",
      " 2   Concept_ID   121613 non-null  object\n",
      " 3   Word_Form    121611 non-null  object\n",
      " 4   rawIPA       121608 non-null  object\n",
      " 5   IPA          121611 non-null  object\n",
      " 6   ASJP         121604 non-null  object\n",
      " 7   List         121588 non-null  object\n",
      " 8   Dolgo        121611 non-null  object\n",
      " 9   Next_Step    121613 non-null  object\n",
      "dtypes: object(10)\n",
      "memory usage: 9.3+ MB\n"
     ]
    }
   ],
   "source": [
    "northeuralex.info()"
   ]
  },
  {
   "cell_type": "code",
   "execution_count": 86,
   "metadata": {},
   "outputs": [
    {
     "data": {
      "text/plain": [
       "(121613, 10)"
      ]
     },
     "execution_count": 86,
     "metadata": {},
     "output_type": "execute_result"
    }
   ],
   "source": [
    "northeuralex.shape"
   ]
  },
  {
   "cell_type": "code",
   "execution_count": 87,
   "metadata": {
    "slideshow": {
     "slide_type": "slide"
    }
   },
   "outputs": [],
   "source": [
    "temp_df = northeuralex.append(northeuralex)\n"
   ]
  },
  {
   "cell_type": "code",
   "execution_count": 88,
   "metadata": {},
   "outputs": [
    {
     "data": {
      "text/plain": [
       "(243226, 10)"
      ]
     },
     "execution_count": 88,
     "metadata": {},
     "output_type": "execute_result"
    }
   ],
   "source": [
    "temp_df.shape\n"
   ]
  },
  {
   "cell_type": "code",
   "execution_count": 89,
   "metadata": {},
   "outputs": [
    {
     "data": {
      "text/plain": [
       "(121613, 10)"
      ]
     },
     "execution_count": 89,
     "metadata": {},
     "output_type": "execute_result"
    }
   ],
   "source": [
    "temp_df = temp_df.drop_duplicates()\n",
    "\n",
    "temp_df.shape\n"
   ]
  },
  {
   "cell_type": "code",
   "execution_count": 90,
   "metadata": {
    "slideshow": {
     "slide_type": "slide"
    }
   },
   "outputs": [
    {
     "data": {
      "text/plain": [
       "Freund::N         107\n",
       "Pilz::N           107\n",
       "Maus::N           107\n",
       "Wolf::N           107\n",
       "linker::A         107\n",
       "                 ... \n",
       "klirren::V         92\n",
       "Figur::N           91\n",
       "rauschen::V        91\n",
       "Geschäft::N        91\n",
       "beherrschen::V     90\n",
       "Name: Concept_ID, Length: 1016, dtype: int64"
      ]
     },
     "execution_count": 90,
     "metadata": {},
     "output_type": "execute_result"
    }
   ],
   "source": [
    "northeuralex[[\"Language_ID\", \"Concept_ID\"]].drop_duplicates().Concept_ID.value_counts()\n"
   ]
  },
  {
   "cell_type": "code",
   "execution_count": 91,
   "metadata": {},
   "outputs": [
    {
     "data": {
      "text/plain": [
       "<AxesSubplot:>"
      ]
     },
     "execution_count": 91,
     "metadata": {},
     "output_type": "execute_result"
    },
    {
     "data": {
      "image/png": "[encoded data removed]",
      "text/plain": [
       "<Figure size 432x288 with 1 Axes>"
      ]
     },
     "metadata": {
      "needs_background": "light"
     },
     "output_type": "display_data"
    }
   ],
   "source": [
    "northeuralex[[\"Language_ID\", \"Concept_ID\"]].drop_duplicates().Concept_ID.value_counts().plot()\n"
   ]
  },
  {
   "cell_type": "code",
   "execution_count": 92,
   "metadata": {
    "slideshow": {
     "slide_type": "slide"
    }
   },
   "outputs": [
    {
     "data": {
      "text/plain": [
       "<AxesSubplot:>"
      ]
     },
     "execution_count": 92,
     "metadata": {},
     "output_type": "execute_result"
    },
    {
     "data": {
      "image/png": "[encoded data removed]",
      "text/plain": [
       "<Figure size 432x288 with 1 Axes>"
      ]
     },
     "metadata": {
      "needs_background": "light"
     },
     "output_type": "display_data"
    }
   ],
   "source": [
    "northeuralex[[\"Language_ID\", \"Concept_ID\"]].drop_duplicates().Concept_ID.value_counts().hist()\n"
   ]
  },
  {
   "cell_type": "code",
   "execution_count": 93,
   "metadata": {},
   "outputs": [
    {
     "data": {
      "text/plain": [
       "<AxesSubplot:>"
      ]
     },
     "execution_count": 93,
     "metadata": {},
     "output_type": "execute_result"
    },
    {
     "data": {
      "image/png": "[encoded data removed]",
      "text/plain": [
       "<Figure size 432x288 with 1 Axes>"
      ]
     },
     "metadata": {
      "needs_background": "light"
     },
     "output_type": "display_data"
    }
   ],
   "source": [
    "northeuralex[[\"Language_ID\", \"Concept_ID\"]].drop_duplicates().Language_ID.value_counts().hist()\n"
   ]
  },
  {
   "cell_type": "markdown",
   "metadata": {
    "slideshow": {
     "slide_type": "slide"
    }
   },
   "source": [
    "It is straightforward to split a data frame according to the values in one column and apply certain operations on each value in parallel."
   ]
  },
  {
   "cell_type": "code",
   "execution_count": 94,
   "metadata": {
    "slideshow": {
     "slide_type": "-"
    }
   },
   "outputs": [
    {
     "data": {
      "text/plain": [
       "Glottocode\n",
       "itel1242     647\n",
       "sout2750     711\n",
       "gily1242     711\n",
       "cent2128     766\n",
       "kett1243     773\n",
       "            ... \n",
       "nort2690    1016\n",
       "nort2697    1016\n",
       "basq1248    1016\n",
       "komi1268    1016\n",
       "yaku1245    1016\n",
       "Length: 107, dtype: int64"
      ]
     },
     "execution_count": 94,
     "metadata": {},
     "output_type": "execute_result"
    }
   ],
   "source": [
    "northeuralex.groupby('Glottocode').apply(lambda x: len(x.Concept_ID.unique())).sort_values()\n"
   ]
  },
  {
   "cell_type": "code",
   "execution_count": 95,
   "metadata": {},
   "outputs": [
    {
     "data": {
      "text/plain": [
       "<AxesSubplot:>"
      ]
     },
     "execution_count": 95,
     "metadata": {},
     "output_type": "execute_result"
    },
    {
     "data": {
      "image/png": "[encoded data removed]",
      "text/plain": [
       "<Figure size 432x288 with 1 Axes>"
      ]
     },
     "metadata": {
      "needs_background": "light"
     },
     "output_type": "display_data"
    }
   ],
   "source": [
    "northeuralex.groupby('Glottocode').apply(lambda x: len(x.Concept_ID.unique())).hist()\n"
   ]
  },
  {
   "cell_type": "code",
   "execution_count": 96,
   "metadata": {
    "slideshow": {
     "slide_type": "slide"
    }
   },
   "outputs": [
    {
     "data": {
      "text/plain": [
       "<AxesSubplot:>"
      ]
     },
     "execution_count": 96,
     "metadata": {},
     "output_type": "execute_result"
    },
    {
     "data": {
      "image/png": "[encoded data removed]",
      "text/plain": [
       "<Figure size 432x288 with 1 Axes>"
      ]
     },
     "metadata": {
      "needs_background": "light"
     },
     "output_type": "display_data"
    }
   ],
   "source": [
    "northeuralex.groupby('Glottocode').apply(lambda x: len(x.Concept_ID.unique())).plot(kind=\"box\")"
   ]
  }
 ],
 "metadata": {
  "@webio": {
   "lastCommId": null,
   "lastKernelId": null
  },
  "celltoolbar": "Slideshow",
  "kernelspec": {
   "display_name": "Python 3 (ipykernel)",
   "language": "python",
   "name": "python3"
  },
  "language_info": {
   "codemirror_mode": {
    "name": "ipython",
    "version": 3
   },
   "file_extension": ".py",
   "mimetype": "text/x-python",
   "name": "python",
   "nbconvert_exporter": "python",
   "pygments_lexer": "ipython3",
   "version": "3.9.7"
  },
  "latex_envs": {
   "LaTeX_envs_menu_present": true,
   "autoclose": false,
   "autocomplete": true,
   "bibliofile": "biblio.bib",
   "cite_by": "apalike",
   "current_citInitial": 1,
   "eqLabelWithNumbers": true,
   "eqNumInitial": 1,
   "hotkeys": {
    "equation": "Ctrl-E",
    "itemize": "Ctrl-I"
   },
   "labels_anchors": false,
   "latex_user_defs": false,
   "report_style_numbering": false,
   "user_envs_cfg": false
  },
  "rise": {
   "enable_chalkboard": true
  }
 },
 "nbformat": 4,
 "nbformat_minor": 4
}
