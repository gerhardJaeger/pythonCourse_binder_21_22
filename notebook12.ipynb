{
 "cells": [
  {
   "cell_type": "markdown",
   "metadata": {
    "slideshow": {
     "slide_type": "slide"
    }
   },
   "source": [
    "# Methods I: Programming and Data Analysis\n",
    "\n",
    "## Session 12: NLTK; Classes; The random module\n",
    "\n",
    "### Gerhard Jäger\n",
    "\n",
    "#### (based on Johannes Dellert's slides)\n",
    "\n",
    "January 25, 2022"
   ]
  },
  {
   "cell_type": "markdown",
   "metadata": {
    "slideshow": {
     "slide_type": "slide"
    }
   },
   "source": [
    "### NLTK: Accessing Text Corpora\n",
    "\n",
    "-   take a look at Chapter 2 of the book\n",
    "    (<http://www.nltk.org/book/ch02.html>)\n",
    "\n",
    "-   browse through it until you find something interesting\n",
    "\n",
    "-   run the examples using an interactive console\n",
    "\n",
    "-   play around with the objects, fiddle with arguments,\\\n",
    "    explore the possibilities!\n",
    "\n",
    "-   suggestions:\n",
    "\n",
    "    -   Inaugural Address Corpus\n",
    "\n",
    "    -   Corpora in Other Languages\n",
    "\n",
    "    -   WordNet\n",
    "\n"
   ]
  },
  {
   "cell_type": "code",
   "execution_count": 1,
   "metadata": {},
   "outputs": [
    {
     "name": "stdout",
     "output_type": "stream",
     "text": [
      "showing info https://raw.githubusercontent.com/nltk/nltk_data/gh-pages/index.xml\n"
     ]
    },
    {
     "data": {
      "text/plain": [
       "True"
      ]
     },
     "execution_count": 1,
     "metadata": {},
     "output_type": "execute_result"
    }
   ],
   "source": [
    "import nltk\n",
    "nltk.download()"
   ]
  },
  {
   "cell_type": "code",
   "execution_count": 2,
   "metadata": {
    "slideshow": {
     "slide_type": "slide"
    }
   },
   "outputs": [
    {
     "data": {
      "text/plain": [
       "['austen-emma.txt',\n",
       " 'austen-persuasion.txt',\n",
       " 'austen-sense.txt',\n",
       " 'bible-kjv.txt',\n",
       " 'blake-poems.txt',\n",
       " 'bryant-stories.txt',\n",
       " 'burgess-busterbrown.txt',\n",
       " 'carroll-alice.txt',\n",
       " 'chesterton-ball.txt',\n",
       " 'chesterton-brown.txt',\n",
       " 'chesterton-thursday.txt',\n",
       " 'edgeworth-parents.txt',\n",
       " 'melville-moby_dick.txt',\n",
       " 'milton-paradise.txt',\n",
       " 'shakespeare-caesar.txt',\n",
       " 'shakespeare-hamlet.txt',\n",
       " 'shakespeare-macbeth.txt',\n",
       " 'whitman-leaves.txt']"
      ]
     },
     "execution_count": 2,
     "metadata": {},
     "output_type": "execute_result"
    }
   ],
   "source": [
    "from nltk.corpus import gutenberg\n",
    "gutenberg.fileids()"
   ]
  },
  {
   "cell_type": "code",
   "execution_count": 3,
   "metadata": {
    "slideshow": {
     "slide_type": "-"
    }
   },
   "outputs": [
    {
     "data": {
      "text/plain": [
       "192427"
      ]
     },
     "execution_count": 3,
     "metadata": {},
     "output_type": "execute_result"
    }
   ],
   "source": [
    "emma = nltk.corpus.gutenberg.words('austen-emma.txt')\n",
    "len(emma)"
   ]
  },
  {
   "cell_type": "code",
   "execution_count": 4,
   "metadata": {},
   "outputs": [
    {
     "data": {
      "text/plain": [
       "['[', 'Emma', 'by', 'Jane', 'Austen', '1816', ']', ...]"
      ]
     },
     "execution_count": 4,
     "metadata": {},
     "output_type": "execute_result"
    }
   ],
   "source": [
    "emma = gutenberg.words('austen-emma.txt')\n",
    "emma"
   ]
  },
  {
   "cell_type": "code",
   "execution_count": 5,
   "metadata": {
    "slideshow": {
     "slide_type": "slide"
    }
   },
   "outputs": [
    {
     "name": "stdout",
     "output_type": "stream",
     "text": [
      "5 25 26 austen-emma.txt\n",
      "5 26 17 austen-persuasion.txt\n",
      "5 28 22 austen-sense.txt\n",
      "4 34 79 bible-kjv.txt\n",
      "5 19 5 blake-poems.txt\n",
      "4 19 14 bryant-stories.txt\n",
      "4 18 12 burgess-busterbrown.txt\n",
      "4 20 13 carroll-alice.txt\n",
      "5 20 12 chesterton-ball.txt\n",
      "5 23 11 chesterton-brown.txt\n",
      "5 18 11 chesterton-thursday.txt\n",
      "4 21 25 edgeworth-parents.txt\n",
      "5 26 15 melville-moby_dick.txt\n",
      "5 52 11 milton-paradise.txt\n",
      "4 12 9 shakespeare-caesar.txt\n",
      "4 12 8 shakespeare-hamlet.txt\n",
      "4 12 7 shakespeare-macbeth.txt\n",
      "5 36 12 whitman-leaves.txt\n"
     ]
    }
   ],
   "source": [
    "for fileid in gutenberg.fileids():\n",
    "    num_chars = len(gutenberg.raw(fileid))\n",
    "    num_words = len(gutenberg.words(fileid))\n",
    "    num_sents = len(gutenberg.sents(fileid))\n",
    "    num_vocab = len(set(w.lower() for w in gutenberg.words(fileid)))\n",
    "    print(round(num_chars/num_words), round(num_words/num_sents), round(num_words/num_vocab), fileid)"
   ]
  },
  {
   "cell_type": "code",
   "execution_count": 6,
   "metadata": {
    "slideshow": {
     "slide_type": "slide"
    }
   },
   "outputs": [
    {
     "data": {
      "text/plain": [
       "[['[', 'The', 'Tragedie', 'of', 'Macbeth', 'by', 'William', 'Shakespeare', '1603', ']'], ['Actus', 'Primus', '.'], ...]"
      ]
     },
     "execution_count": 6,
     "metadata": {},
     "output_type": "execute_result"
    }
   ],
   "source": [
    "macbeth_sentences = gutenberg.sents('shakespeare-macbeth.txt')\n",
    "macbeth_sentences"
   ]
  },
  {
   "cell_type": "code",
   "execution_count": 7,
   "metadata": {},
   "outputs": [
    {
     "data": {
      "text/plain": [
       "['Double',\n",
       " ',',\n",
       " 'double',\n",
       " ',',\n",
       " 'toile',\n",
       " 'and',\n",
       " 'trouble',\n",
       " ';',\n",
       " 'Fire',\n",
       " 'burne',\n",
       " ',',\n",
       " 'and',\n",
       " 'Cauldron',\n",
       " 'bubble']"
      ]
     },
     "execution_count": 7,
     "metadata": {},
     "output_type": "execute_result"
    }
   ],
   "source": [
    "macbeth_sentences[1116]\n"
   ]
  },
  {
   "cell_type": "code",
   "execution_count": 8,
   "metadata": {
    "slideshow": {
     "slide_type": "slide"
    }
   },
   "outputs": [
    {
     "data": {
      "text/plain": [
       "[['Doubtfull',\n",
       "  'it',\n",
       "  'stood',\n",
       "  ',',\n",
       "  'As',\n",
       "  'two',\n",
       "  'spent',\n",
       "  'Swimmers',\n",
       "  ',',\n",
       "  'that',\n",
       "  'doe',\n",
       "  'cling',\n",
       "  'together',\n",
       "  ',',\n",
       "  'And',\n",
       "  'choake',\n",
       "  'their',\n",
       "  'Art',\n",
       "  ':',\n",
       "  'The',\n",
       "  'mercilesse',\n",
       "  'Macdonwald',\n",
       "  '(',\n",
       "  'Worthie',\n",
       "  'to',\n",
       "  'be',\n",
       "  'a',\n",
       "  'Rebell',\n",
       "  ',',\n",
       "  'for',\n",
       "  'to',\n",
       "  'that',\n",
       "  'The',\n",
       "  'multiplying',\n",
       "  'Villanies',\n",
       "  'of',\n",
       "  'Nature',\n",
       "  'Doe',\n",
       "  'swarme',\n",
       "  'vpon',\n",
       "  'him',\n",
       "  ')',\n",
       "  'from',\n",
       "  'the',\n",
       "  'Westerne',\n",
       "  'Isles',\n",
       "  'Of',\n",
       "  'Kernes',\n",
       "  'and',\n",
       "  'Gallowgrosses',\n",
       "  'is',\n",
       "  'supply',\n",
       "  \"'\",\n",
       "  'd',\n",
       "  ',',\n",
       "  'And',\n",
       "  'Fortune',\n",
       "  'on',\n",
       "  'his',\n",
       "  'damned',\n",
       "  'Quarry',\n",
       "  'smiling',\n",
       "  ',',\n",
       "  'Shew',\n",
       "  \"'\",\n",
       "  'd',\n",
       "  'like',\n",
       "  'a',\n",
       "  'Rebells',\n",
       "  'Whore',\n",
       "  ':',\n",
       "  'but',\n",
       "  'all',\n",
       "  \"'\",\n",
       "  's',\n",
       "  'too',\n",
       "  'weake',\n",
       "  ':',\n",
       "  'For',\n",
       "  'braue',\n",
       "  'Macbeth',\n",
       "  '(',\n",
       "  'well',\n",
       "  'hee',\n",
       "  'deserues',\n",
       "  'that',\n",
       "  'Name',\n",
       "  ')',\n",
       "  'Disdayning',\n",
       "  'Fortune',\n",
       "  ',',\n",
       "  'with',\n",
       "  'his',\n",
       "  'brandisht',\n",
       "  'Steele',\n",
       "  ',',\n",
       "  'Which',\n",
       "  'smoak',\n",
       "  \"'\",\n",
       "  'd',\n",
       "  'with',\n",
       "  'bloody',\n",
       "  'execution',\n",
       "  '(',\n",
       "  'Like',\n",
       "  'Valours',\n",
       "  'Minion',\n",
       "  ')',\n",
       "  'caru',\n",
       "  \"'\",\n",
       "  'd',\n",
       "  'out',\n",
       "  'his',\n",
       "  'passage',\n",
       "  ',',\n",
       "  'Till',\n",
       "  'hee',\n",
       "  'fac',\n",
       "  \"'\",\n",
       "  'd',\n",
       "  'the',\n",
       "  'Slaue',\n",
       "  ':',\n",
       "  'Which',\n",
       "  'neu',\n",
       "  \"'\",\n",
       "  'r',\n",
       "  'shooke',\n",
       "  'hands',\n",
       "  ',',\n",
       "  'nor',\n",
       "  'bad',\n",
       "  'farwell',\n",
       "  'to',\n",
       "  'him',\n",
       "  ',',\n",
       "  'Till',\n",
       "  'he',\n",
       "  'vnseam',\n",
       "  \"'\",\n",
       "  'd',\n",
       "  'him',\n",
       "  'from',\n",
       "  'the',\n",
       "  'Naue',\n",
       "  'toth',\n",
       "  \"'\",\n",
       "  'Chops',\n",
       "  ',',\n",
       "  'And',\n",
       "  'fix',\n",
       "  \"'\",\n",
       "  'd',\n",
       "  'his',\n",
       "  'Head',\n",
       "  'vpon',\n",
       "  'our',\n",
       "  'Battlements']]"
      ]
     },
     "execution_count": 8,
     "metadata": {},
     "output_type": "execute_result"
    }
   ],
   "source": [
    "longest_len = max(len(s) for s in macbeth_sentences)\n",
    "[s for s in macbeth_sentences if len(s) == longest_len]\n"
   ]
  },
  {
   "cell_type": "code",
   "execution_count": 9,
   "metadata": {
    "slideshow": {
     "slide_type": "slide"
    }
   },
   "outputs": [
    {
     "name": "stdout",
     "output_type": "stream",
     "text": [
      "can: 94 could: 87 may: 93 might: 38 must: 53 will: 389 "
     ]
    }
   ],
   "source": [
    "from nltk.corpus import brown\n",
    "news_text = brown.words(categories='news')\n",
    "fdist = nltk.FreqDist(w.lower() for w in news_text)\n",
    "modals = ['can', 'could', 'may', 'might', 'must', 'will']\n",
    "for m in modals:\n",
    "    print(m + ':', fdist[m], end=' ')\n",
    "    "
   ]
  },
  {
   "cell_type": "code",
   "execution_count": 10,
   "metadata": {},
   "outputs": [],
   "source": [
    "cfd = nltk.ConditionalFreqDist(\n",
    "    (genre, word)\n",
    "    for genre in brown.categories()\n",
    "    for word in brown.words(categories=genre))\n"
   ]
  },
  {
   "cell_type": "code",
   "execution_count": 11,
   "metadata": {},
   "outputs": [
    {
     "name": "stdout",
     "output_type": "stream",
     "text": [
      "                  can could   may might  must  will \n",
      "           news    93    86    66    38    50   389 \n",
      "       religion    82    59    78    12    54    71 \n",
      "        hobbies   268    58   131    22    83   264 \n",
      "science_fiction    16    49     4    12     8    16 \n",
      "        romance    74   193    11    51    45    43 \n",
      "          humor    16    30     8     8     9    13 \n"
     ]
    }
   ],
   "source": [
    "genres = ['news', 'religion', 'hobbies', 'science_fiction', 'romance', 'humor']\n",
    "modals = ['can', 'could', 'may', 'might', 'must', 'will']\n",
    "cfd.tabulate(conditions=genres, samples=modals)\n"
   ]
  },
  {
   "cell_type": "code",
   "execution_count": 12,
   "metadata": {
    "scrolled": true,
    "slideshow": {
     "slide_type": "slide"
    }
   },
   "outputs": [
    {
     "data": {
      "text/plain": [
       "['1789-Washington.txt',\n",
       " '1793-Washington.txt',\n",
       " '1797-Adams.txt',\n",
       " '1801-Jefferson.txt',\n",
       " '1805-Jefferson.txt',\n",
       " '1809-Madison.txt',\n",
       " '1813-Madison.txt',\n",
       " '1817-Monroe.txt',\n",
       " '1821-Monroe.txt',\n",
       " '1825-Adams.txt',\n",
       " '1829-Jackson.txt',\n",
       " '1833-Jackson.txt',\n",
       " '1837-VanBuren.txt',\n",
       " '1841-Harrison.txt',\n",
       " '1845-Polk.txt',\n",
       " '1849-Taylor.txt',\n",
       " '1853-Pierce.txt',\n",
       " '1857-Buchanan.txt',\n",
       " '1861-Lincoln.txt',\n",
       " '1865-Lincoln.txt',\n",
       " '1869-Grant.txt',\n",
       " '1873-Grant.txt',\n",
       " '1877-Hayes.txt',\n",
       " '1881-Garfield.txt',\n",
       " '1885-Cleveland.txt',\n",
       " '1889-Harrison.txt',\n",
       " '1893-Cleveland.txt',\n",
       " '1897-McKinley.txt',\n",
       " '1901-McKinley.txt',\n",
       " '1905-Roosevelt.txt',\n",
       " '1909-Taft.txt',\n",
       " '1913-Wilson.txt',\n",
       " '1917-Wilson.txt',\n",
       " '1921-Harding.txt',\n",
       " '1925-Coolidge.txt',\n",
       " '1929-Hoover.txt',\n",
       " '1933-Roosevelt.txt',\n",
       " '1937-Roosevelt.txt',\n",
       " '1941-Roosevelt.txt',\n",
       " '1945-Roosevelt.txt',\n",
       " '1949-Truman.txt',\n",
       " '1953-Eisenhower.txt',\n",
       " '1957-Eisenhower.txt',\n",
       " '1961-Kennedy.txt',\n",
       " '1965-Johnson.txt',\n",
       " '1969-Nixon.txt',\n",
       " '1973-Nixon.txt',\n",
       " '1977-Carter.txt',\n",
       " '1981-Reagan.txt',\n",
       " '1985-Reagan.txt',\n",
       " '1989-Bush.txt',\n",
       " '1993-Clinton.txt',\n",
       " '1997-Clinton.txt',\n",
       " '2001-Bush.txt',\n",
       " '2005-Bush.txt',\n",
       " '2009-Obama.txt',\n",
       " '2013-Obama.txt',\n",
       " '2017-Trump.txt',\n",
       " '2021-Biden.txt']"
      ]
     },
     "execution_count": 12,
     "metadata": {},
     "output_type": "execute_result"
    }
   ],
   "source": [
    "from nltk.corpus import inaugural\n",
    "inaugural.fileids()\n"
   ]
  },
  {
   "cell_type": "code",
   "execution_count": 13,
   "metadata": {
    "scrolled": true,
    "slideshow": {
     "slide_type": "slide"
    }
   },
   "outputs": [
    {
     "data": {
      "text/plain": [
       "['1789',\n",
       " '1793',\n",
       " '1797',\n",
       " '1801',\n",
       " '1805',\n",
       " '1809',\n",
       " '1813',\n",
       " '1817',\n",
       " '1821',\n",
       " '1825',\n",
       " '1829',\n",
       " '1833',\n",
       " '1837',\n",
       " '1841',\n",
       " '1845',\n",
       " '1849',\n",
       " '1853',\n",
       " '1857',\n",
       " '1861',\n",
       " '1865',\n",
       " '1869',\n",
       " '1873',\n",
       " '1877',\n",
       " '1881',\n",
       " '1885',\n",
       " '1889',\n",
       " '1893',\n",
       " '1897',\n",
       " '1901',\n",
       " '1905',\n",
       " '1909',\n",
       " '1913',\n",
       " '1917',\n",
       " '1921',\n",
       " '1925',\n",
       " '1929',\n",
       " '1933',\n",
       " '1937',\n",
       " '1941',\n",
       " '1945',\n",
       " '1949',\n",
       " '1953',\n",
       " '1957',\n",
       " '1961',\n",
       " '1965',\n",
       " '1969',\n",
       " '1973',\n",
       " '1977',\n",
       " '1981',\n",
       " '1985',\n",
       " '1989',\n",
       " '1993',\n",
       " '1997',\n",
       " '2001',\n",
       " '2005',\n",
       " '2009',\n",
       " '2013',\n",
       " '2017',\n",
       " '2021']"
      ]
     },
     "execution_count": 13,
     "metadata": {},
     "output_type": "execute_result"
    }
   ],
   "source": [
    "[fileid[:4] for fileid in inaugural.fileids()]"
   ]
  },
  {
   "cell_type": "code",
   "execution_count": 14,
   "metadata": {
    "slideshow": {
     "slide_type": "slide"
    }
   },
   "outputs": [
    {
     "data": {
      "image/png": "[encoded data removed]",
      "text/plain": [
       "<Figure size 432x288 with 1 Axes>"
      ]
     },
     "metadata": {
      "needs_background": "light"
     },
     "output_type": "display_data"
    },
    {
     "data": {
      "text/plain": [
       "<AxesSubplot:xlabel='Samples', ylabel='Counts'>"
      ]
     },
     "execution_count": 14,
     "metadata": {},
     "output_type": "execute_result"
    }
   ],
   "source": [
    "import matplotlib\n",
    "matplotlib.rcParams['figure.figsize'] = [20, 10]\n",
    "\n",
    "cfd = nltk.ConditionalFreqDist(\n",
    "    (target, fileid[:4])\n",
    "    for fileid in inaugural.fileids()\n",
    "    for w in inaugural.words(fileid)\n",
    "    for target in ['america', 'citizen']\n",
    "    if w.lower().startswith(target))\n",
    "cfd.plot()"
   ]
  },
  {
   "cell_type": "markdown",
   "metadata": {
    "slideshow": {
     "slide_type": "slide"
    }
   },
   "source": [
    "### NLTK: Part-of-speech Tagging\n",
    "\n",
    "-   take a look at Chapter 5 of the book\n",
    "    (<http://www.nltk.org/book/ch05.html>)\n",
    "\n",
    "-   go through the introductory part (5.1)\n",
    "\n",
    "-   find the most common verbs in news text (5.2.5)\n",
    "\n",
    "-   compare the three taggers that come with NLTK (5.4)\n",
    "\n",
    "\n"
   ]
  },
  {
   "cell_type": "markdown",
   "metadata": {
    "slideshow": {
     "slide_type": "slide"
    }
   },
   "source": [
    "### NLTK: Parsing\n",
    "\n",
    "-   take a look at Chapter 8 of the book\n",
    "    (<http://www.nltk.org/book/ch08.html>)\n",
    "\n",
    "-   run the example of an ambiguous sentence (8.1.2)\n",
    "\n",
    "-   load the toy CFG in Section 8.3.1\n",
    "\n",
    "-   expand the toy CFG by some additional words and structures\n",
    "\n",
    "-   start working through Section 8.5 on dependency grammar"
   ]
  },
  {
   "cell_type": "markdown",
   "metadata": {
    "slideshow": {
     "slide_type": "slide"
    }
   },
   "source": [
    "# Classes\n",
    "\n",
    "### Defining Classes\n",
    "\n",
    "- a **class** is a user-defined datatype\n",
    "\n",
    "- you can define which methods instances of that class have\n",
    "\n",
    "- naming convention: start with a capital letter\\\n",
    "  (`City`, `Course`, `Grammar`, `Language`, `Movie`, `Student`,\n",
    "  `Word`)\n",
    "\n",
    "- template for defining a class `YourClass`:\n",
    "\n",
    "  ```python\n",
    "  class YourClass:\n",
    "      variable1 = initial_val1\n",
    "      variable2 = initial_val2\n",
    "    \n",
    "      def method1(self):\n",
    "          statement1\n",
    "    \n",
    "      def method2(self):\n",
    "          statement2\n",
    "  ```\n",
    "\n",
    "\n"
   ]
  },
  {
   "cell_type": "markdown",
   "metadata": {
    "slideshow": {
     "slide_type": "slide"
    }
   },
   "source": [
    "### Instance Variables\n",
    "\n",
    "Data specific to each instance can be stored in **instance variables**:\n",
    "\n",
    "- inside class definitions, you have access to the variable `self`\n",
    "\n",
    "- `self` represents one object of the datatype you are defining\n",
    "\n",
    "- variable declarations in the class body are **class variables**\n",
    "\n",
    "- using `self.variable`, you model data assigned to a specific\n",
    "  instance\n",
    "\n",
    "- inside class methods, `self.variable` works like any variable:\n",
    "\n",
    "  ```python\n",
    "    self.name = \"Uga Blamp\"\n",
    "    self.first_name = self.name.split(\" \")[0]\n",
    "    print(self.first_name)\n",
    "  ```"
   ]
  },
  {
   "cell_type": "markdown",
   "metadata": {
    "slideshow": {
     "slide_type": "slide"
    }
   },
   "source": [
    "### Constructors\n",
    "\n",
    "The **constructor** is a special method of each class:\n",
    "\n",
    "- the default constructor does not create any instance variables\n",
    "\n",
    "- by defining a constructor `__init__(self)`, you can initialize\n",
    "  variables for the instance you are creating:\n",
    "\n",
    "  ```python\n",
    "  class YourClass:\n",
    "      def __init__(self):\n",
    "          self.property1 = \"initial_value\"\n",
    "          self.data_store = dict()\n",
    "  ```\n",
    "\n",
    "- constructors can have additional (also named) arguments:\n",
    "\n",
    "  ```python\n",
    "  class Language:\n",
    "      def __init__(self,name,family=\"Unknown\"):\n",
    "          self.name = name\n",
    "          self.family = family\n",
    "  ```"
   ]
  },
  {
   "cell_type": "code",
   "execution_count": 15,
   "metadata": {
    "slideshow": {
     "slide_type": "-"
    }
   },
   "outputs": [],
   "source": [
    "class Language:\n",
    "    def __init__(self, name, family=\"Unkown\"):\n",
    "        self.name = name\n",
    "        self.family = family"
   ]
  },
  {
   "cell_type": "markdown",
   "metadata": {
    "slideshow": {
     "slide_type": "slide"
    }
   },
   "source": [
    "### Instance Objects\n",
    "\n",
    "Using a class definition to create instance objects:\n",
    "\n",
    "-   instances are created by calling the class name like a function\n",
    "\n",
    "-   instances you created can be assigned to variables like any other\n",
    "    object, and calling `type()` on them will return your class object\n",
    "\n",
    "-   the arguments of the constructor define in which ways you can create\n",
    "    instances of your class (= objects of your type):"
   ]
  },
  {
   "cell_type": "code",
   "execution_count": 16,
   "metadata": {
    "slideshow": {
     "slide_type": "slide"
    }
   },
   "outputs": [],
   "source": [
    "eus = Language(\"Basque\")\n"
   ]
  },
  {
   "cell_type": "code",
   "execution_count": 17,
   "metadata": {},
   "outputs": [
    {
     "data": {
      "text/plain": [
       "'Unkown'"
      ]
     },
     "execution_count": 17,
     "metadata": {},
     "output_type": "execute_result"
    }
   ],
   "source": [
    "eus.family\n"
   ]
  },
  {
   "cell_type": "code",
   "execution_count": 18,
   "metadata": {},
   "outputs": [],
   "source": [
    "hun = Language(\"Hungarian\",family=\"Uralic\")\n"
   ]
  },
  {
   "cell_type": "code",
   "execution_count": 19,
   "metadata": {},
   "outputs": [
    {
     "data": {
      "text/plain": [
       "'Uralic'"
      ]
     },
     "execution_count": 19,
     "metadata": {},
     "output_type": "execute_result"
    }
   ],
   "source": [
    "hun.family\n"
   ]
  },
  {
   "cell_type": "code",
   "execution_count": 20,
   "metadata": {},
   "outputs": [],
   "source": [
    "kbd = Language(\"Kabardian\",\"Northwest Caucasian\")\n"
   ]
  },
  {
   "cell_type": "code",
   "execution_count": 21,
   "metadata": {},
   "outputs": [
    {
     "data": {
      "text/plain": [
       "'Northwest Caucasian'"
      ]
     },
     "execution_count": 21,
     "metadata": {},
     "output_type": "execute_result"
    }
   ],
   "source": [
    "kbd.family\n"
   ]
  },
  {
   "cell_type": "markdown",
   "metadata": {
    "slideshow": {
     "slide_type": "slide"
    }
   },
   "source": [
    "### Defining Methods\n",
    "\n",
    "Methods are functions declared inside a class body:\n",
    "\n",
    "-   they must have `self` as the first argument:"
   ]
  },
  {
   "cell_type": "code",
   "execution_count": 22,
   "metadata": {},
   "outputs": [],
   "source": [
    "class Language:\n",
    "    def __init__(self,name,family=\"Unknown\"):\n",
    "        self.name = name\n",
    "        self.family = family\n",
    "        \n",
    "    def print_information(self):\n",
    "        print(self.name + \" belongs to \" + self.family)\n",
    "        "
   ]
  },
  {
   "cell_type": "markdown",
   "metadata": {},
   "source": [
    "- in method calls, the object before the dot is assigned to `self`:"
   ]
  },
  {
   "cell_type": "code",
   "execution_count": 23,
   "metadata": {},
   "outputs": [
    {
     "name": "stdout",
     "output_type": "stream",
     "text": [
      "Hungarian belongs to Uralic\n"
     ]
    }
   ],
   "source": [
    "hun = Language(\"Hungarian\",family=\"Uralic\")\n",
    "hun.print_information()\n"
   ]
  },
  {
   "cell_type": "code",
   "execution_count": 24,
   "metadata": {},
   "outputs": [
    {
     "name": "stdout",
     "output_type": "stream",
     "text": [
      "Basque belongs to Unknown\n"
     ]
    }
   ],
   "source": [
    "eus = Language(\"Basque\")\n",
    "eus.print_information()\n"
   ]
  },
  {
   "cell_type": "markdown",
   "metadata": {
    "slideshow": {
     "slide_type": "slide"
    }
   },
   "source": [
    "### A Glimpse at Inheritance\n",
    "\n",
    "Some quick info on a more advanced subject:\n",
    "\n",
    "-   `class A(B):` declares A as a **subtype** of B\n",
    "\n",
    "-   all functionality (class variables, methods) are **inherited**, but\n",
    "    can be overridden by redefinition or reassignment in the subclass\n",
    "\n",
    "-   these concepts are only relevant in advanced software engineering\n",
    "    (which is typically not done in Python)\n",
    "\n",
    "-   quite frequently, you see the idiom `class A(object)` in\n",
    "    introductory materials, though"
   ]
  },
  {
   "cell_type": "markdown",
   "metadata": {
    "slideshow": {
     "slide_type": "slide"
    }
   },
   "source": [
    "# Random Sampling\n",
    "\n",
    "Often, we want to use random data in our programs:\n",
    "\n",
    "-   only take a random subset of the input data for tractability\n",
    "\n",
    "-   creating realistic-looking dummy data in order to test a program\n",
    "\n",
    "-   simulating processes like language change, or a walk through the Web\n",
    "\n",
    "-   re-sampling from a dataset to evaluate the stability of results on\n",
    "    varying input (bootstrapping)\n",
    "\n",
    "For all of this, we have the `random` library!"
   ]
  },
  {
   "cell_type": "markdown",
   "metadata": {
    "slideshow": {
     "slide_type": "slide"
    }
   },
   "source": [
    "### The `random` library\n",
    "\n",
    "Basic functionality of the `random` library:\n",
    "\n",
    "-   `random.randint(a,b)` uniformly samples an integer\n",
    "    $a \\leq N \\leq b$:"
   ]
  },
  {
   "cell_type": "code",
   "execution_count": 25,
   "metadata": {},
   "outputs": [
    {
     "data": {
      "text/plain": [
       "[6, 3, 2, 3, 1, 3, 6, 1, 4, 4]"
      ]
     },
     "execution_count": 25,
     "metadata": {},
     "output_type": "execute_result"
    }
   ],
   "source": [
    "import random\n",
    "[random.randint(1,6) for i in range(10)]\n"
   ]
  },
  {
   "cell_type": "markdown",
   "metadata": {},
   "source": [
    "- `random.random()` samples from the uniform distribution over the\n",
    "interval $[0.0,1.0)$:"
   ]
  },
  {
   "cell_type": "code",
   "execution_count": 26,
   "metadata": {},
   "outputs": [
    {
     "data": {
      "text/plain": [
       "[0.24173779950363838, 0.327353475892989, 0.8928170287136732]"
      ]
     },
     "execution_count": 26,
     "metadata": {},
     "output_type": "execute_result"
    }
   ],
   "source": [
    "[random.random() for i in range(3)]\n"
   ]
  },
  {
   "cell_type": "markdown",
   "metadata": {},
   "source": [
    "- `random.gauss(mu,sigma)` samples from a Gaussian with mean `mu` and\n",
    "standard deviation `sigma`:"
   ]
  },
  {
   "cell_type": "code",
   "execution_count": 27,
   "metadata": {},
   "outputs": [
    {
     "data": {
      "text/plain": [
       "[2.4217405875973297, 1.5084881869738465, 1.5915941431665903]"
      ]
     },
     "execution_count": 27,
     "metadata": {},
     "output_type": "execute_result"
    }
   ],
   "source": [
    "[random.gauss(2,0.5) for i in range(3)]\n"
   ]
  },
  {
   "cell_type": "markdown",
   "metadata": {
    "slideshow": {
     "slide_type": "slide"
    }
   },
   "source": [
    "### The `random` library\n",
    "\n",
    "Sequence sampling using the `random` library:\n",
    "\n",
    "-   `random.choice(seq)` samples from a uniform distribution over a\n",
    "    sequence `seq` of possible values:"
   ]
  },
  {
   "cell_type": "code",
   "execution_count": 28,
   "metadata": {},
   "outputs": [
    {
     "data": {
      "text/plain": [
       "['c', 'c', 'c', 'a', 'c', 'a', 'c', 'b', 'c', 'c']"
      ]
     },
     "execution_count": 28,
     "metadata": {},
     "output_type": "execute_result"
    }
   ],
   "source": [
    "[random.choice([\"a\",\"b\",\"c\"]) for i in range(10)]\n"
   ]
  },
  {
   "cell_type": "markdown",
   "metadata": {},
   "source": [
    "- `random.choices(seq,weights)` samples from a distribution over `seq`\n",
    "provided by the `weight` list:"
   ]
  },
  {
   "cell_type": "code",
   "execution_count": 29,
   "metadata": {},
   "outputs": [
    {
     "data": {
      "text/plain": [
       "[['a'], ['a'], ['b'], ['a'], ['a'], ['a'], ['a'], ['a']]"
      ]
     },
     "execution_count": 29,
     "metadata": {},
     "output_type": "execute_result"
    }
   ],
   "source": [
    "[random.choices([\"a\",\"b\"],[0.7,0.3]) for i in range(8)]\n"
   ]
  },
  {
   "cell_type": "markdown",
   "metadata": {
    "slideshow": {
     "slide_type": "slide"
    }
   },
   "source": [
    "- `random.shuffle()` re-orders the sequence in place in a random way:"
   ]
  },
  {
   "cell_type": "code",
   "execution_count": 30,
   "metadata": {},
   "outputs": [],
   "source": [
    "list = [\"r\",\"a\",\"n\",\"d\",\"o\",\"m\"]"
   ]
  },
  {
   "cell_type": "code",
   "execution_count": 31,
   "metadata": {},
   "outputs": [
    {
     "name": "stdout",
     "output_type": "stream",
     "text": [
      "damorn\n",
      "anmodr\n",
      "odarmn\n"
     ]
    }
   ],
   "source": [
    "for i in range(3):\n",
    "    random.shuffle(list); print(\"\".join(list))"
   ]
  },
  {
   "cell_type": "markdown",
   "metadata": {},
   "source": [
    "Much to cover in more advanced course: random seeds, other\n",
    "distributions, ..."
   ]
  },
  {
   "cell_type": "markdown",
   "metadata": {
    "slideshow": {
     "slide_type": "slide"
    }
   },
   "source": [
    "### Example: Generating random names\n",
    "\n",
    "Assume that we have the following frequency statistics:\n",
    "\n",
    "-   onsets: 25% k, 25% p, 15% l, 10% m, 10% n, 10% \\\"\\\", 5% w\n",
    "\n",
    "-   vowels: 40% a, 20% i, 20% u, 10% e, 10% o\n",
    "\n",
    "Here is a function which samples names from these distributions:"
   ]
  },
  {
   "cell_type": "code",
   "execution_count": 32,
   "metadata": {},
   "outputs": [],
   "source": [
    "from random import choices\n",
    "\n",
    "onset_options = [\"k\",\"p\",\"l\",\"m\",\"n\",\"\",\"w\"]\n",
    "onset_weights = [25, 25, 15, 10, 10, 10, 5]\n",
    "vowel_options = [\"a\",\"i\",\"u\",\"e\",\"o\"]\n",
    "vowel_weights = [40, 20, 20, 10, 10]\n",
    " \n",
    "def random_name(num_syllables):\n",
    "    name = \"\"\n",
    "    for i in range(num_syllables):\n",
    "        name += choices(onset_options, onset_weights)[0]\n",
    "        name += choices(vowel_options, vowel_weights)[0]\n",
    "    return name.title()"
   ]
  },
  {
   "cell_type": "code",
   "execution_count": 33,
   "metadata": {},
   "outputs": [
    {
     "data": {
      "text/plain": [
       "'Koaku'"
      ]
     },
     "execution_count": 33,
     "metadata": {},
     "output_type": "execute_result"
    }
   ],
   "source": [
    "random_name(3)"
   ]
  },
  {
   "cell_type": "markdown",
   "metadata": {
    "slideshow": {
     "slide_type": "slide"
    }
   },
   "source": [
    "# Recursion\n",
    "\n",
    "A central concept of programming: **recursion**\n",
    "\n",
    "-   informally: a definition or function which refers to itself\n",
    "\n",
    "-   can be used whenever a problem (e.g. finding all sources of a river)\n",
    "    can be reduced to subproblems of the same type\\\n",
    "    (e.g. finding the sources of a tributary)\n",
    "\n",
    "-   all loops can be implemented using recursion!\n",
    "\n",
    "-   every recursive function can be implemented using iteration!\n",
    "\n",
    "-   BUT: there are many problems for which either iteration or recursion\n",
    "    is more efficient, or easier to implement"
   ]
  },
  {
   "cell_type": "markdown",
   "metadata": {
    "slideshow": {
     "slide_type": "slide"
    }
   },
   "source": [
    "### Base Case and Recursive Cases\n",
    "\n",
    "In computing, recursive definitions need to consist of two parts:\n",
    "\n",
    "-   the **base case** covers the simplest instances of a problem, and\n",
    "    does not refer to the concept being defined (ensures termination)\n",
    "\n",
    "-   the **recursive case** refers to the concept being defined when\n",
    "    describing substructures (expansion to structures of arbitrary size)\n",
    "\n",
    "There is a close relationship between recursion and mathematical\n",
    "induction!\n",
    "\n",
    "-   In induction, you prove that a theorem holds e.g. for $n = 1$ (the\n",
    "    base case), and that it holds for $n = k + 1$ if it already holds\n",
    "    for $n = k$ (recursive case).\n",
    "\n",
    "-   If you want to prove that a recursive algorithm gives the correct\n",
    "    result, you need induction as a proof technique!"
   ]
  },
  {
   "cell_type": "markdown",
   "metadata": {
    "slideshow": {
     "slide_type": "slide"
    }
   },
   "source": [
    "### Recursive Definitions\n",
    "\n",
    "Using recursion in definitions:\n",
    "\n",
    "-   **recursive definition**: a definition which uses the term it\n",
    "    defines\n",
    "\n",
    "-   Example: defining (a subset of) boolean expressions in Python\n",
    "\n",
    "    -   the expressions `True` and `False` are boolean expressions (base\n",
    "        case)\n",
    "\n",
    "    -   an expression of the form `a == b` is a boolean expression (base\n",
    "        case)\n",
    "\n",
    "    -   two boolean expressions conjoined by `and` form a boolean\n",
    "        expression (recursive case)\n",
    "\n",
    "    -   two boolean expressions conjoined by `or` form a boolean\n",
    "        expression (recursive case)\n",
    "\n",
    "    -   a boolean expression preceded by `not` is a boolean expression\\\n",
    "        (recursive case)\n",
    "\n",
    "-   you have probably seen recursive definitions in logic!"
   ]
  },
  {
   "cell_type": "markdown",
   "metadata": {
    "slideshow": {
     "slide_type": "slide"
    }
   },
   "source": [
    "### Recursive Functions\n",
    "\n",
    "Using recursion in function definitions:\n",
    "\n",
    "-   **recursive function**: a function which calls itself\n",
    "\n",
    "-   if the function calls itself on every input, we get **infinite\n",
    "    recursion**\n",
    "\n",
    "-   in all useful recursive functions, each nested call differs in its\n",
    "    arguments (e.g. execution on subproblems)\n",
    "\n",
    "-   for recursive functions to terminate, we need base cases!"
   ]
  },
  {
   "cell_type": "markdown",
   "metadata": {
    "slideshow": {
     "slide_type": "slide"
    }
   },
   "source": [
    "### Recursion vs. Iteration\n",
    "\n",
    "-   in principle, recursion and iteration are equally powerful\\\n",
    "    (one can be used to emulate the other)\n",
    "\n",
    "-   however, there are many definitions and algorithms which are much\n",
    "    easier to write using recursion\n",
    "\n",
    "-   this is especially the case for processing data structures which\n",
    "    contain substructures of varying size (i.e. data that is not tabular\n",
    "    in shape)\n",
    "\n",
    "-   Examples:\n",
    "\n",
    "    -   processing syntax trees for programming languages (in a\n",
    "        compiler) and natural languages (in a parser)\n",
    "\n",
    "    -   processing more general graph structures like networks\n",
    "\n",
    "    -   sorting and searching in structures that are more complex than\n",
    "        lists or dictionaries (e.g. 3-D models)\n",
    "\n",
    "-   We are going to use navigation through trees as our main example!"
   ]
  },
  {
   "cell_type": "markdown",
   "metadata": {
    "slideshow": {
     "slide_type": "slide"
    }
   },
   "source": [
    "# Implementing Trees\n",
    "---------------\n",
    "\n",
    "### Tree Structures in Linguistics\n",
    "\n",
    "Trees are ubiquitous in linguistics:\n",
    "\n",
    "-   syllable structure trees\n",
    "\n",
    "-   word structure trees\n",
    "\n",
    "-   phrase structure trees\n",
    "\n",
    "-   dependency trees\n",
    "\n",
    "-   derivation trees\n",
    "\n",
    "-   formula structure trees"
   ]
  },
  {
   "cell_type": "markdown",
   "metadata": {
    "slideshow": {
     "slide_type": "slide"
    }
   },
   "source": [
    "### Tree Structures in Programming\n",
    "\n",
    "Trees are one of the most important data structures in computer science:\n",
    "\n",
    "-   the best way to maintain sorted records\n",
    "\n",
    "-   efficient retrieval and insertion of elements\n",
    "\n",
    "Important application areas where trees arise:\n",
    "\n",
    "-   directory structure on a file system\n",
    "\n",
    "-   program execution gives rise to call trees\n",
    "\n",
    "-   software packages depend on each other in a tree shape\n",
    "\n",
    "-   the search space of many algorithms is tree-shaped"
   ]
  },
  {
   "cell_type": "markdown",
   "metadata": {
    "slideshow": {
     "slide_type": "slide"
    }
   },
   "source": [
    "### Modeling Nodes\n",
    "\n",
    "Developing a simple tree class:\n",
    "\n",
    "-   each tree node should be the instance of a class `Node`\n",
    "\n",
    "-   the contents of a node (e.g. the category label in a syntax tree)\n",
    "    should be stored as an instance variable\n",
    "\n",
    "-   references to the children of the current node are stored in an\n",
    "    additional instance variable as a list (order matters!)\n",
    "\n",
    "-   a leaf node is modeled by empty children list\n",
    "\n",
    "-   the result is an example of a **recursive data structure**\n",
    "\n",
    "Actually, each `Node` corresponds to the `Tree` of which it forms the\n",
    "root!"
   ]
  },
  {
   "cell_type": "markdown",
   "metadata": {
    "slideshow": {
     "slide_type": "slide"
    }
   },
   "source": [
    "###  Modeling A Tree"
   ]
  },
  {
   "cell_type": "code",
   "execution_count": 34,
   "metadata": {},
   "outputs": [],
   "source": [
    "class Tree(object):\n",
    "    def __init__(self, name='root', children=None):\n",
    "        self.name = name\n",
    "        self.children = []\n",
    "        self.parent = None\n",
    "        if children is not None:\n",
    "            for child in children:\n",
    "                self.add_child(child)\n",
    "                child.parent = sel\n",
    "\n",
    "    def add_child(self, node):\n",
    "        assert isinstance(node, Tree)#        self.children.append(node)"
   ]
  },
  {
   "cell_type": "markdown",
   "metadata": {},
   "source": [
    "Notes:\n",
    "\n",
    "-   additional parent pointer makes upward navigation easier\n",
    "\n",
    "-   the trivial `Tree` does not have children,\\\n",
    "    representing a single node with the label `\"root\"`"
   ]
  },
  {
   "cell_type": "markdown",
   "metadata": {
    "slideshow": {
     "slide_type": "slide"
    }
   },
   "source": [
    "### Tree Traversal\n",
    "\n",
    "Traversals are an important part of processing trees:\n",
    "\n",
    "-   a **traversal** defines the order in which the nodes of a tree are\n",
    "    processed\n",
    "\n",
    "-   three logical possibilities:\n",
    "\n",
    "    -   **in-order** traversal (left child first, parent, then other\n",
    "        children)\n",
    "\n",
    "    -   **pre-order** traversal (parent first, then children from left\n",
    "        to right)\n",
    "\n",
    "    -   **post-order** traversal (children from left to right, then\n",
    "        parent)\n",
    "\n",
    "-   all three variants are easiest to implement as recursive functions\n",
    "\n",
    "\n"
   ]
  },
  {
   "cell_type": "markdown",
   "metadata": {
    "slideshow": {
     "slide_type": "slide"
    }
   },
   "source": [
    "### In-Order Traversal\n",
    "\n",
    "![image.png](_img/tree1.svg)\n",
    "\n",
    "In which order are nodes visited by an in-order traversal?"
   ]
  },
  {
   "cell_type": "markdown",
   "metadata": {
    "slideshow": {
     "slide_type": "slide"
    }
   },
   "source": [
    "### In-Order Traversal: Solution\n",
    "\n",
    "![image.png](_img/tree1.svg)\n",
    "\n",
    "\n",
    "Solution: B, A, F, D, G, H, C, E"
   ]
  },
  {
   "cell_type": "markdown",
   "metadata": {
    "slideshow": {
     "slide_type": "slide"
    }
   },
   "source": [
    "### In-Order Traversal: Code\n",
    "\n",
    "Implementation within the `Tree` class:"
   ]
  },
  {
   "cell_type": "code",
   "execution_count": 35,
   "metadata": {},
   "outputs": [],
   "source": [
    "def inorder(self):\n",
    "    \"\"\"In-order traversal:\n",
    "    First recurse into left child, then visit the node itself, \n",
    "    then recurse into other children in order.\n",
    "    \n",
    "    :return: A list of tree nodes in in-order.\"\"\"\n",
    "    result = []\n",
    "    if len(self.children) > 0:\n",
    "        result += self.children[0].inorder()\n",
    "    result.append(self)\n",
    "    for i in range(1,len(self.children)):\n",
    "        result += self.children[i].inorder()\n",
    "    return result"
   ]
  },
  {
   "cell_type": "markdown",
   "metadata": {
    "slideshow": {
     "slide_type": "slide"
    }
   },
   "source": [
    "### Pre-Order Traversal\n",
    "\n",
    "![image.png](_img/tree1.svg)\n",
    "\n",
    "In which order are nodes visited by a pre-order traversal?"
   ]
  },
  {
   "cell_type": "markdown",
   "metadata": {
    "slideshow": {
     "slide_type": "slide"
    }
   },
   "source": [
    "### Pre-Order Traversal: Solution\n",
    "![image.png](_img/tree1.svg)\n",
    "\n",
    "Solution: A, B, C, D, F, G, H, E\n"
   ]
  },
  {
   "cell_type": "markdown",
   "metadata": {
    "slideshow": {
     "slide_type": "slide"
    }
   },
   "source": [
    "### Post-Order Traversal\n",
    "\n",
    "![image.png](_img/tree1.svg)\n",
    "\n",
    "In which order are nodes visited by a pre-order traversal?"
   ]
  },
  {
   "cell_type": "markdown",
   "metadata": {
    "slideshow": {
     "slide_type": "slide"
    }
   },
   "source": [
    "### Post-Order Traversal: Solution\n",
    "\n",
    "![image.png](_img/tree1.svg)\n",
    "\n",
    "Solution: B, F, G, H, D, E, C, A"
   ]
  }
 ],
 "metadata": {
  "@webio": {
   "lastCommId": null,
   "lastKernelId": null
  },
  "celltoolbar": "Slideshow",
  "kernelspec": {
   "display_name": "Python 3 (ipykernel)",
   "language": "python",
   "name": "python3"
  },
  "language_info": {
   "codemirror_mode": {
    "name": "ipython",
    "version": 3
   },
   "file_extension": ".py",
   "mimetype": "text/x-python",
   "name": "python",
   "nbconvert_exporter": "python",
   "pygments_lexer": "ipython3",
   "version": "3.9.7"
  },
  "latex_envs": {
   "LaTeX_envs_menu_present": true,
   "autoclose": false,
   "autocomplete": true,
   "bibliofile": "biblio.bib",
   "cite_by": "apalike",
   "current_citInitial": 1,
   "eqLabelWithNumbers": true,
   "eqNumInitial": 1,
   "hotkeys": {
    "equation": "Ctrl-E",
    "itemize": "Ctrl-I"
   },
   "labels_anchors": false,
   "latex_user_defs": false,
   "report_style_numbering": false,
   "user_envs_cfg": false
  },
  "rise": {
   "enable_chalkboard": true
  }
 },
 "nbformat": 4,
 "nbformat_minor": 4
}
