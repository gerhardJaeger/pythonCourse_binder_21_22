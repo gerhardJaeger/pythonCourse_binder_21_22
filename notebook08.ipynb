{
 "cells": [
  {
   "cell_type": "markdown",
   "metadata": {},
   "source": [
    "# Methods I: Programming and Data Analysis\n",
    "\n",
    "## Session 08: Advanced Formatting; File Formats; Finishing the Basics\n",
    "\n",
    "### Gerhard Jäger\n",
    "\n",
    "#### (based on Johannes Dellert's slides)\n",
    "\n",
    "December 14, 2021"
   ]
  },
  {
   "cell_type": "markdown",
   "metadata": {
    "slideshow": {
     "slide_type": "slide"
    }
   },
   "source": [
    "Advanced formatting using `format()`:\n",
    "\n",
    "-   **formatting templates** are stored in a specialized string format\n",
    "\n",
    "-   basic principles:\n",
    "\n",
    "    -   every object to be rendered is repesented by a block in curly\n",
    "        brackets\n",
    "\n",
    "    -   symbols outside curly brackets are copied into the output\n",
    "\n",
    "-   useful basic features:\n",
    "\n",
    "    -   **padding** to a desired length $k$ using\n",
    "        `:k` (left alignment), `:^k` (center alignment), or `:>k` (right\n",
    "        alignment)\n",
    "\n",
    "    -   **truncating** to a desired length $k$ using `.k` (combines with\n",
    "        padding)\n",
    "\n",
    "    -   **integer format** `:d` which allows padding\n",
    "\n",
    "    -   **float format** `:f` which allows padding and specifying a\n",
    "        precision,\n",
    "        e.g. `{:06.2f}` to output 3.245 as `\"003.42\"`\n",
    "\n",
    "-   more information on `https://pyformat.info`"
   ]
  },
  {
   "cell_type": "markdown",
   "metadata": {
    "slideshow": {
     "slide_type": "slide"
    }
   },
   "source": [
    "### Advanced Formatting\n",
    "\n",
    "Example of `format()` usage:\n",
    "\n",
    "- to format a sequence of objects, apply the `format()` method on the\n",
    "template string with the objects as arguments:"
   ]
  },
  {
   "cell_type": "markdown",
   "metadata": {},
   "source": [
    "## base case"
   ]
  },
  {
   "cell_type": "code",
   "execution_count": 1,
   "metadata": {},
   "outputs": [
    {
     "data": {
      "text/plain": [
       "'one two'"
      ]
     },
     "execution_count": 1,
     "metadata": {},
     "output_type": "execute_result"
    }
   ],
   "source": [
    "'{} {}'.format('one', 'two')\n"
   ]
  },
  {
   "cell_type": "code",
   "execution_count": 2,
   "metadata": {},
   "outputs": [
    {
     "data": {
      "text/plain": [
       "'1 2'"
      ]
     },
     "execution_count": 2,
     "metadata": {},
     "output_type": "execute_result"
    }
   ],
   "source": [
    "'{} {}'.format(1, 2)\n"
   ]
  },
  {
   "cell_type": "markdown",
   "metadata": {},
   "source": [
    "## numbered placeholders"
   ]
  },
  {
   "cell_type": "code",
   "execution_count": 3,
   "metadata": {},
   "outputs": [
    {
     "data": {
      "text/plain": [
       "'two one'"
      ]
     },
     "execution_count": 3,
     "metadata": {},
     "output_type": "execute_result"
    }
   ],
   "source": [
    "'{1} {0}'.format('one', 'two')"
   ]
  },
  {
   "cell_type": "markdown",
   "metadata": {
    "slideshow": {
     "slide_type": "slide"
    }
   },
   "source": [
    "## padding"
   ]
  },
  {
   "cell_type": "code",
   "execution_count": 4,
   "metadata": {},
   "outputs": [
    {
     "data": {
      "text/plain": [
       "'test      '"
      ]
     },
     "execution_count": 4,
     "metadata": {},
     "output_type": "execute_result"
    }
   ],
   "source": [
    "'{:10}'.format('test')\n"
   ]
  },
  {
   "cell_type": "code",
   "execution_count": 5,
   "metadata": {},
   "outputs": [
    {
     "data": {
      "text/plain": [
       "'   test   '"
      ]
     },
     "execution_count": 5,
     "metadata": {},
     "output_type": "execute_result"
    }
   ],
   "source": [
    "'{:^10}'.format('test')\n"
   ]
  },
  {
   "cell_type": "code",
   "execution_count": 6,
   "metadata": {},
   "outputs": [
    {
     "data": {
      "text/plain": [
       "'      test'"
      ]
     },
     "execution_count": 6,
     "metadata": {},
     "output_type": "execute_result"
    }
   ],
   "source": [
    "'{:>10}'.format('test')\n"
   ]
  },
  {
   "cell_type": "code",
   "execution_count": 7,
   "metadata": {},
   "outputs": [
    {
     "data": {
      "text/plain": [
       "'test______'"
      ]
     },
     "execution_count": 7,
     "metadata": {},
     "output_type": "execute_result"
    }
   ],
   "source": [
    "'{:_<10}'.format('test')\n"
   ]
  },
  {
   "cell_type": "markdown",
   "metadata": {
    "slideshow": {
     "slide_type": "slide"
    }
   },
   "source": [
    "## specifying data type"
   ]
  },
  {
   "cell_type": "code",
   "execution_count": 8,
   "metadata": {},
   "outputs": [
    {
     "data": {
      "text/plain": [
       "'42'"
      ]
     },
     "execution_count": 8,
     "metadata": {},
     "output_type": "execute_result"
    }
   ],
   "source": [
    "'{:d}'.format(42)"
   ]
  },
  {
   "cell_type": "code",
   "execution_count": 9,
   "metadata": {},
   "outputs": [
    {
     "data": {
      "text/plain": [
       "'42.000000'"
      ]
     },
     "execution_count": 9,
     "metadata": {},
     "output_type": "execute_result"
    }
   ],
   "source": [
    "'{:f}'.format(42)"
   ]
  },
  {
   "cell_type": "code",
   "execution_count": 10,
   "metadata": {},
   "outputs": [
    {
     "ename": "ValueError",
     "evalue": "Unknown format code 'd' for object of type 'str'",
     "output_type": "error",
     "traceback": [
      "\u001b[0;31m---------------------------------------------------------------------------\u001b[0m",
      "\u001b[0;31mValueError\u001b[0m                                Traceback (most recent call last)",
      "\u001b[0;32m/tmp/ipykernel_20810/2948143914.py\u001b[0m in \u001b[0;36m<module>\u001b[0;34m\u001b[0m\n\u001b[0;32m----> 1\u001b[0;31m \u001b[0;34m'{:d}'\u001b[0m\u001b[0;34m.\u001b[0m\u001b[0mformat\u001b[0m\u001b[0;34m(\u001b[0m\u001b[0;34m\"test\"\u001b[0m\u001b[0;34m)\u001b[0m\u001b[0;34m\u001b[0m\u001b[0;34m\u001b[0m\u001b[0m\n\u001b[0m",
      "\u001b[0;31mValueError\u001b[0m: Unknown format code 'd' for object of type 'str'"
     ]
    }
   ],
   "source": [
    "'{:d}'.format(\"test\")"
   ]
  },
  {
   "cell_type": "code",
   "execution_count": 11,
   "metadata": {},
   "outputs": [
    {
     "data": {
      "text/plain": [
       "'test'"
      ]
     },
     "execution_count": 11,
     "metadata": {},
     "output_type": "execute_result"
    }
   ],
   "source": [
    "'{:s}'.format(\"test\")"
   ]
  },
  {
   "cell_type": "markdown",
   "metadata": {
    "slideshow": {
     "slide_type": "slide"
    }
   },
   "source": [
    "## precision for floats"
   ]
  },
  {
   "cell_type": "code",
   "execution_count": 12,
   "metadata": {},
   "outputs": [
    {
     "data": {
      "text/plain": [
       "'  3.14'"
      ]
     },
     "execution_count": 12,
     "metadata": {},
     "output_type": "execute_result"
    }
   ],
   "source": [
    "'{:6.2f}'.format(3.141592653589793)\n"
   ]
  },
  {
   "cell_type": "code",
   "execution_count": 13,
   "metadata": {},
   "outputs": [
    {
     "data": {
      "text/plain": [
       "'003.14'"
      ]
     },
     "execution_count": 13,
     "metadata": {},
     "output_type": "execute_result"
    }
   ],
   "source": [
    "'{:06.2f}'.format(3.141592653589793)\n"
   ]
  },
  {
   "cell_type": "markdown",
   "metadata": {
    "slideshow": {
     "slide_type": "slide"
    }
   },
   "source": [
    "- templates can be stored in a variable\n"
   ]
  },
  {
   "cell_type": "code",
   "execution_count": 14,
   "metadata": {},
   "outputs": [],
   "source": [
    "result_template = \"{:20s}: {:6.2f} {:6.2f}\""
   ]
  },
  {
   "cell_type": "code",
   "execution_count": 15,
   "metadata": {},
   "outputs": [
    {
     "data": {
      "text/plain": [
       "'Pruta Govvom        :   2.50   4.70'"
      ]
     },
     "execution_count": 15,
     "metadata": {},
     "output_type": "execute_result"
    }
   ],
   "source": [
    "result_template.format(\"Pruta Govvom\", 2.5, 4.7)"
   ]
  },
  {
   "cell_type": "markdown",
   "metadata": {
    "slideshow": {
     "slide_type": "-"
    }
   },
   "source": [
    "- format() expects parts as separate arguments, which requires **unpacking** using `*` when applied to sequence objects:"
   ]
  },
  {
   "cell_type": "code",
   "execution_count": 16,
   "metadata": {},
   "outputs": [],
   "source": [
    "results = [(\"Pruta Govvom\", 2.5, 4.7), (\"Prokanayardan Tum\", 0.4, 3), (\"Mara Tsirpalandani\", 1.15, 0.01)]"
   ]
  },
  {
   "cell_type": "code",
   "execution_count": 17,
   "metadata": {},
   "outputs": [
    {
     "name": "stdout",
     "output_type": "stream",
     "text": [
      "Pruta Govvom        :   2.50   4.70\n",
      "Prokanayardan Tum   :   0.40   3.00\n",
      "Mara Tsirpalandani  :   1.15   0.01\n"
     ]
    }
   ],
   "source": [
    "for result in results:\n",
    "    print(result_template.format(*result))"
   ]
  },
  {
   "cell_type": "markdown",
   "metadata": {
    "slideshow": {
     "slide_type": "slide"
    }
   },
   "source": [
    "### File Input and Output: Motivation\n",
    "\n",
    "Why we need to deal with files:\n",
    "\n",
    "-   processing large amounts of data is the main application of\n",
    "    programming, and the true source of its usefulness\n",
    "\n",
    "-   permanent data storage in files (byte sequences on a storage medium)\n",
    "\n",
    "-   for processing, we need to get the data from files into memory\n",
    "    (Python objects), and write the results back into a different file\n",
    "\n",
    "-   to work with a file, we need to open and navigate inside it\n",
    "\n",
    "-   opening a file creates a **file handle**\n",
    "\n",
    "-   a file handle contains a pointer that indicates a particular place\n",
    "    in the file (it \"remembers\" where in the file we are)\n",
    "\n",
    "-   initial placement of the pointer depends on the mode in which the\n",
    "    file is opened (e.g. at the start or the end of the file)"
   ]
  },
  {
   "cell_type": "markdown",
   "metadata": {
    "slideshow": {
     "slide_type": "slide"
    }
   },
   "source": [
    "### File I/O: Structure of Text Files\n",
    "\n",
    "Basic facts about text files:\n",
    "\n",
    "-   text files consist of lines of text\n",
    "\n",
    "-   at the end of each line there is a **newline** symbol\n",
    "\n",
    "-   in Python strings, a newline is represented by `\"\\n\"`\n",
    "\n",
    "-   different operating systems use slightly different ways of\n",
    "    representing linebreaks:\n",
    "\n",
    "    -   Windows: 00001101 00001010 (\"carriage return\" + \"linefeed\")\n",
    "\n",
    "    -   Unix derivates (includes Mac OS and Linux): 00001010\n",
    "\n",
    "-   within Python, the difference is abstracted away (the implementation\n",
    "    of the functions for reading from and writing to a file will handle\n",
    "    this)"
   ]
  },
  {
   "cell_type": "markdown",
   "metadata": {
    "slideshow": {
     "slide_type": "slide"
    }
   },
   "source": [
    "### File Input: Syntax\n",
    "\n",
    "Basic elements of file input:\n",
    "-   the function `open()` creates and returns a file handle\n",
    "    -   obligatory argument: a file name (or a complete path)\n",
    "    -   optional: a string representing the **mode** in which the file is opened\n",
    "    -   default mode if none is specified: `\"r\"` (\"reading\")\n",
    "-   core functionality of a file handle in reading mode:\n",
    "    -   the `read()` method returns the whole document in a single string\n",
    "    -   the `readline()` method returns the next unprocessed line of the file opened by the handle (or `None`) if the end of the file was reached\n",
    "    -   the `readlines()` method returns a list of strings, containing each line of the file as a string in the original order\n",
    "    -   the `close()` method cancels or finishes the processing of the file, ensuring that the file is closed correctly, and returning control to the operating system"
   ]
  },
  {
   "cell_type": "markdown",
   "metadata": {
    "slideshow": {
     "slide_type": "slide"
    }
   },
   "source": [
    "### File Input: Example\n",
    "\n"
   ]
  },
  {
   "cell_type": "code",
   "execution_count": 18,
   "metadata": {},
   "outputs": [
    {
     "name": "stdout",
     "output_type": "stream",
     "text": [
      "Loading text \"more text\"...\n",
      "Done.\n"
     ]
    }
   ],
   "source": [
    "fr = open(\"some_text.txt\", \"r\")\n",
    "header = fr.readline().strip()\n",
    "print(\"Loading text \\\"\" + header + \"\\\"...\")\n",
    "the_text = fr.read()\n",
    "fr.close()\n",
    "print(\"Done.\")\n"
   ]
  },
  {
   "cell_type": "markdown",
   "metadata": {
    "slideshow": {
     "slide_type": "slide"
    }
   },
   "source": [
    "### File Output: Syntax\n",
    "\n",
    "Basic elements of file output:\n",
    "\n",
    "-   use `open(file_name,\"w\")` to create file handle in writing mode\n",
    "\n",
    "-   core functionality of a file handle in writing mode:\n",
    "\n",
    "    -   the `write()` method writes a string to the file, and returns\n",
    "        the number of characters written\n",
    "\n",
    "    -   the `writelines()` method takes a list of strings, and writes\n",
    "        each of them into a new line of the file\n",
    "\n",
    "    -   the `flush()` forces the buffer to be flushed (see next slide)\n",
    "\n",
    "    -   the `close()` method finishes the creation of the file, and\n",
    "        ensures that the file is closed correctly"
   ]
  },
  {
   "cell_type": "markdown",
   "metadata": {
    "slideshow": {
     "slide_type": "slide"
    }
   },
   "source": [
    "### File Output: Buffering\n",
    "\n",
    "Basic facts about buffering and flushing:\n",
    "\n",
    "-   changes made to a file a not stored immediately\n",
    "\n",
    "-   the operating system **buffers** the changes in order to make file\n",
    "    operations more efficient (important because hard drive access is\n",
    "    much more limited in bandwidth)\n",
    "\n",
    "-   by default, buffers are only **flushed** to the file when needed\n",
    "\n",
    "-   both `flush()` and `close()` cause a flush\n",
    "\n",
    "-   buffers are always flushed when a Python program ends normally\n",
    "\n",
    "-   but if the program crashes, buffers might not be flushed\\\n",
    "    ($\\Rightarrow$ not all the output up to the crash will end up in the\n",
    "    file)"
   ]
  },
  {
   "cell_type": "markdown",
   "metadata": {
    "slideshow": {
     "slide_type": "slide"
    }
   },
   "source": [
    "### File Input and Output: Example\n"
   ]
  },
  {
   "cell_type": "code",
   "execution_count": 19,
   "metadata": {},
   "outputs": [
    {
     "name": "stdout",
     "output_type": "stream",
     "text": [
      "Enter a line to write to the file, or press ENTER to quit! \n",
      "Here is what was written into the file:\n",
      "---------------------------------------\n",
      "\n"
     ]
    }
   ],
   "source": [
    "fp = open(\"pc_writetest.txt\", \"w\")\n",
    "while True:\n",
    "    text = input(\"Enter a line to write to the file, or press ENTER to quit! \")\n",
    "    if text == \"\":\n",
    "        break\n",
    "    fp.write(text+\"\\n\")\n",
    "fp.close()\n",
    "\n",
    "print(\"Here is what was written into the file:\")\n",
    "print(\"---------------------------------------\")\n",
    "fp = open(\"pc_writetest.txt\")\n",
    "content = fp.read()\n",
    "fp.close()\n",
    "print(content)\n"
   ]
  },
  {
   "cell_type": "markdown",
   "metadata": {
    "slideshow": {
     "slide_type": "slide"
    }
   },
   "source": [
    "### File Input and Output: Modes\n",
    "\n",
    "List of all possibilities for the second argument of `open()`,\n",
    "configuring the mode in which a file is opened:\n",
    "\n",
    "-   `\"r\"` for reading (default in absence of second argument)\n",
    "\n",
    "-   `\"w\"` for writing (will replace the content of the file if it\n",
    "    exists!)\n",
    "\n",
    "-   `\"a\"` for appending at the end of an existing file\n",
    "\n",
    "-   `\"x\"` for creating a new file with that name\n",
    "\n",
    "-   `\"r+\"` for updating (reading and writing, difficult!)\n",
    "\n",
    "The default mode assumes you are writing and reading text, the letter\n",
    "`\"b\"` is used for binary files, e.g. `\"wb\"` mode to write to a binary\n",
    "file (beyond scope of this course)."
   ]
  },
  {
   "cell_type": "markdown",
   "metadata": {
    "slideshow": {
     "slide_type": "slide"
    }
   },
   "source": [
    "### Exception Handling\n",
    "\n",
    "File I/O is where **exception handling** becomes important:\n",
    "\n",
    "-   files might not exist (`FileNotFoundError`)\n",
    "\n",
    "-   files might not have the correct permissions (`PermissionError`)\n",
    "\n",
    "-   the storage device might run out of space (`IOError`)\n",
    "\n",
    "A good program will catch all of these **exceptions**, and fail\n",
    "graciously!"
   ]
  },
  {
   "cell_type": "markdown",
   "metadata": {
    "slideshow": {
     "slide_type": "slide"
    }
   },
   "source": [
    "### Exception Handling: The `try` construct\n",
    "\n",
    "Syntax of the `try` construct:\n",
    "\n",
    "-   all the statements which could raise exceptions are wrapped in a\n",
    "    `try` block, which prevents crashes when an exception occurs\n",
    "\n",
    "-   following `except` blocks can catch different pre-defined error\n",
    "    types, and define how each type of error is handled\n",
    "\n",
    "-   a `finally` block contains the statements which will be executed in\n",
    "    any case, whether the `try` block was exited via an exception or not\n"
   ]
  },
  {
   "cell_type": "markdown",
   "metadata": {
    "slideshow": {
     "slide_type": "slide"
    }
   },
   "source": [
    "-   Example: (from https://www.geeksforgeeks.org/try-except-else-and-finally-in-python/)"
   ]
  },
  {
   "cell_type": "code",
   "execution_count": 20,
   "metadata": {},
   "outputs": [],
   "source": [
    "def divide(x, y):  \n",
    "    try:  \n",
    "        # Floor Division : Gives only Fractional  \n",
    "        # Part as Answer  \n",
    "        result = x // y  \n",
    "    except ZeroDivisionError:  \n",
    "        print(\"Sorry! You are dividing by zero\")  \n",
    "    else: \n",
    "        print(\"Yeah! Your answer is:\", result)  \n",
    "    finally:   \n",
    "        # this block is always executed    \n",
    "        # regardless of exception generation.   \n",
    "        print('This is always executed')    "
   ]
  },
  {
   "cell_type": "code",
   "execution_count": 21,
   "metadata": {},
   "outputs": [
    {
     "name": "stdout",
     "output_type": "stream",
     "text": [
      "Yeah! Your answer is: 0\n",
      "This is always executed\n"
     ]
    }
   ],
   "source": [
    "divide(1,10)"
   ]
  },
  {
   "cell_type": "code",
   "execution_count": 22,
   "metadata": {},
   "outputs": [
    {
     "name": "stdout",
     "output_type": "stream",
     "text": [
      "Sorry! You are dividing by zero\n",
      "This is always executed\n"
     ]
    }
   ],
   "source": [
    "divide(1, 0)"
   ]
  },
  {
   "cell_type": "markdown",
   "metadata": {
    "slideshow": {
     "slide_type": "slide"
    }
   },
   "source": [
    "- Exception handling is important in connection with file operations. \n",
    "- Whenever you open a file, you need to close it no matter what!\n",
    "- a `try`-`except`-`finally` construction with unspecified exception type can guarantee that"
   ]
  },
  {
   "cell_type": "code",
   "execution_count": 23,
   "metadata": {},
   "outputs": [
    {
     "name": "stdout",
     "output_type": "stream",
     "text": [
      "something bad happened\n",
      "this is executed regardless\n"
     ]
    }
   ],
   "source": [
    "try:\n",
    "    f = open(\"some_text.txt\")\n",
    "    text = f.write(\"whatever\")\n",
    "except:\n",
    "    print(\"something bad happened\")\n",
    "#    1/0\n",
    "finally:\n",
    "    print(\"this is executed regardless\")\n",
    "    f.close()\n"
   ]
  },
  {
   "cell_type": "markdown",
   "metadata": {
    "slideshow": {
     "slide_type": "slide"
    }
   },
   "source": [
    "### Exception Handling: The `with` construct\n",
    "\n",
    "Another option is to open files in a `with` block:\n",
    "\n",
    "-   the clean-up procedure of the object (e.g. a file handle) will be\n",
    "    executed whether an exception is raised or not\n",
    "\n",
    "-   in the case of a file handle, the clean-up procedure includes\n",
    "    `close()`\n",
    "\n",
    "-   exceptions will not be handled, but percolated up to any surrounding\n",
    "    `try` blocks (terminating the program in absence of matching\n",
    "    `except`)\n",
    "\n",
    "-   example:"
   ]
  },
  {
   "cell_type": "code",
   "execution_count": 24,
   "metadata": {},
   "outputs": [
    {
     "ename": "UnsupportedOperation",
     "evalue": "not writable",
     "output_type": "error",
     "traceback": [
      "\u001b[0;31m---------------------------------------------------------------------------\u001b[0m",
      "\u001b[0;31mUnsupportedOperation\u001b[0m                      Traceback (most recent call last)",
      "\u001b[0;32m/tmp/ipykernel_20810/1985312322.py\u001b[0m in \u001b[0;36m<module>\u001b[0;34m\u001b[0m\n\u001b[1;32m      1\u001b[0m \u001b[0;32mwith\u001b[0m \u001b[0mopen\u001b[0m\u001b[0;34m(\u001b[0m\u001b[0;34m\"some_text.txt\"\u001b[0m\u001b[0;34m)\u001b[0m \u001b[0;32mas\u001b[0m \u001b[0mf\u001b[0m\u001b[0;34m:\u001b[0m\u001b[0;34m\u001b[0m\u001b[0;34m\u001b[0m\u001b[0m\n\u001b[0;32m----> 2\u001b[0;31m     \u001b[0mf\u001b[0m\u001b[0;34m.\u001b[0m\u001b[0mwrite\u001b[0m\u001b[0;34m(\u001b[0m\u001b[0;34m\"more text\"\u001b[0m\u001b[0;34m)\u001b[0m\u001b[0;34m\u001b[0m\u001b[0;34m\u001b[0m\u001b[0m\n\u001b[0m\u001b[1;32m      3\u001b[0m \u001b[0mprint\u001b[0m\u001b[0;34m(\u001b[0m\u001b[0mfile_contents\u001b[0m\u001b[0;34m)\u001b[0m\u001b[0;34m\u001b[0m\u001b[0;34m\u001b[0m\u001b[0m\n",
      "\u001b[0;31mUnsupportedOperation\u001b[0m: not writable"
     ]
    }
   ],
   "source": [
    "with open(\"some_text.txt\") as f:\n",
    "    f.write(\"more text\")\n",
    "print(file_contents)\n"
   ]
  }
 ],
 "metadata": {
  "@webio": {
   "lastCommId": null,
   "lastKernelId": null
  },
  "celltoolbar": "Slideshow",
  "kernelspec": {
   "display_name": "Python 3 (ipykernel)",
   "language": "python",
   "name": "python3"
  },
  "language_info": {
   "codemirror_mode": {
    "name": "ipython",
    "version": 3
   },
   "file_extension": ".py",
   "mimetype": "text/x-python",
   "name": "python",
   "nbconvert_exporter": "python",
   "pygments_lexer": "ipython3",
   "version": "3.9.7"
  },
  "latex_envs": {
   "LaTeX_envs_menu_present": true,
   "autoclose": false,
   "autocomplete": true,
   "bibliofile": "biblio.bib",
   "cite_by": "apalike",
   "current_citInitial": 1,
   "eqLabelWithNumbers": true,
   "eqNumInitial": 1,
   "hotkeys": {
    "equation": "Ctrl-E",
    "itemize": "Ctrl-I"
   },
   "labels_anchors": false,
   "latex_user_defs": false,
   "report_style_numbering": false,
   "user_envs_cfg": false
  },
  "rise": {
   "enable_chalkboard": true
  }
 },
 "nbformat": 4,
 "nbformat_minor": 4
}
