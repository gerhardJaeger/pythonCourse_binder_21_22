{
 "cells": [
  {
   "cell_type": "markdown",
   "metadata": {
    "slideshow": {
     "slide_type": "slide"
    }
   },
   "source": [
    "# Methods I: Programming and Data Analysis\n",
    "\n",
    "## Session 11: Regular Expressions; NLTK; Classes\n",
    "\n",
    "### Gerhard Jäger\n",
    "\n",
    "#### (based on Johannes Dellert's slides)\n",
    "\n",
    "January 18, 2022"
   ]
  },
  {
   "cell_type": "markdown",
   "metadata": {
    "slideshow": {
     "slide_type": "slide"
    }
   },
   "source": [
    "### Pattern Detection in Strings\n",
    "\n",
    "In many applications, we need to **find strings matching a pattern**:\n",
    "\n",
    "-   find all documents containing a given name\n",
    "\n",
    "-   find example sentences for the usage of some word in a corpus\n",
    "\n",
    "-   find the places in your code where you used some variable\n",
    "\n",
    "Also, we often need to **extract parts of a string** matching a pattern:\n",
    "\n",
    "-   extract addresses from a text\n",
    "\n",
    "-   extract everything that is formatted like a name\\\n",
    "    (e.g. a sequence of several tokens starting with uppercase letters)\n",
    "\n",
    "-   extract the words which can occur as arguments to a specific verb\n",
    "    from a corpus (e.g. to determine selectional restrictions)"
   ]
  },
  {
   "cell_type": "markdown",
   "metadata": {
    "slideshow": {
     "slide_type": "slide"
    }
   },
   "source": [
    "### Regular Expressions: Basics\n",
    "\n",
    "What are **regular expressions** (short: **regex**)?\n",
    "\n",
    "-   a language of patterns which define sets of strings\n",
    "\n",
    "-   **literal characters** (mostly letters of the alphabet) represent\n",
    "    themselves in a pattern\n",
    "\n",
    "-   **special characters** (mostly punctuation) do not represent\n",
    "    themselves, but modify the meaning of surrounding patterns:\n",
    "\n",
    "-   first examples of special characters:\n",
    "\n",
    "    -   plus `+` designates one or more instances of the previous\n",
    "        character:\\\n",
    "        `\"ba+\"` represents `{\"ba\", \"baa\", \"baaa\", ...}`\n",
    "\n",
    "    -   square brackets `[]` represent character sets:\\\n",
    "        `\"ba[tr]\"` represents `{\"bat\", \"bar\"}`\n",
    "\n",
    "    -   both can be combined: `\"ba[tr]+\"` represents\\\n",
    "        `{\"bat\", \"bar\", \"batt\", \"batr\", \"bart\", \"barr\", \"battt\", \"battr\", \"batrt\", \"batrr\", \"bartt\", \"bartr\", \"barrt\", \"barrr\", \"batttt\", \"batttr\", \"battrt\", \"battrr\", ...}`\n"
   ]
  },
  {
   "cell_type": "markdown",
   "metadata": {
    "slideshow": {
     "slide_type": "slide"
    }
   },
   "source": [
    "### Regular Expressions: Quantifiers\n",
    "\n",
    "**Quantifiers** range over the preceding item and decide how many times\n",
    "it can or must be repeated to be matched:\n",
    "\n",
    "-   `*` for zero or more repetitions\n",
    "\n",
    "-   `+` for at least one repetition\n",
    "\n",
    "-   `?` for optional items (zero repetitions or one repetition)\n",
    "\n",
    "More general quantification can be achieved by `{min, max}`, where `min`\n",
    "and `max` must be positive integers:\n",
    "\n",
    "-   `\"a{4,6}\"` matches the strings `\"aaaa\"`, `\"aaaaa\"`, and `\"aaaaaa\"`\n",
    "\n",
    "-   `\"[01]{8}\"` matches bitstrings of length 8 (byte representations)\n",
    "\n",
    "-   `\"0{2,}\"` matches sequences of at least 2 zeroes"
   ]
  },
  {
   "cell_type": "markdown",
   "metadata": {
    "slideshow": {
     "slide_type": "slide"
    }
   },
   "source": [
    "### Regular Expressions: The Wildcard\n",
    "\n",
    "The **wildcard symbol** `.` (the dot) matches any character except the\n",
    "new-line character, e.g.\n",
    "\n",
    "-   `\"h.t\"` matches `hat`, `hot`, and `hit`, but not `heat`\n",
    "\n",
    "-   `\".a.a.a\"` matches `banana` and `papaya`, but not `kaaba`\n",
    "\n",
    "-   `\"9.00\"` matches `9a00`, `9100`, `9y00`, and `9c00`, not only\n",
    "    `9.00`\\\n",
    "    (you need to **escape** the dot for that: `\"9\\.00\"`)\n",
    "\n",
    "-   `\" .{3} \"` matches any three-character word\n",
    "\n",
    "Special symbols match the beginning and the end of the line:\n",
    "\n",
    "-   `\"^\"` matches the beginning of the line\n",
    "\n",
    "-   `\"$\"` matches the end of the line"
   ]
  },
  {
   "cell_type": "markdown",
   "metadata": {
    "slideshow": {
     "slide_type": "slide"
    }
   },
   "source": [
    "### Regular Expressions: Character Sets and Ranges\n",
    "\n",
    "Brackets `[ ]` define **character sets** matching a single character,\n",
    "and can be **negated** using a caret (`^`) after the opening bracket:\n",
    "\n",
    "-   `[aeiou]` matches one (Latin) vowel\n",
    "\n",
    "-   `[^aeiou]` matches everything except Latin vowels\n",
    "\n",
    "Some character sets can conveniently be defined using **character\n",
    "ranges**:\n",
    "\n",
    "-   `[A-Z]` is the same as `[ABCDEFGHIJKLMNOPQRSTUVWXYZ]`\n",
    "\n",
    "-   `[0-9]` is the same as `[0123456789]`\n",
    "\n",
    "Several escaped characters serve as convenient shorthands:\n",
    "\n",
    "-   `\\d` for digits (= `[0-9]`)\n",
    "\n",
    "-   `\\w` for word characters (= `[a-zA-Z0-9_]`)\n",
    "\n",
    "-   `\\s` for whitespace (= `[ \\t\\r\\n]`)"
   ]
  },
  {
   "cell_type": "markdown",
   "metadata": {
    "slideshow": {
     "slide_type": "slide"
    }
   },
   "source": [
    "### Regular Expressions: Grouping\n",
    "\n",
    "The **grouping metacharacters** `( )` serve to\n",
    "\n",
    "-   apply repetition operators to a sequence of literal characters\n",
    "\n",
    "-   make expressions easier to read\n",
    "\n",
    "-   define groups for use in matching and replacing\n",
    "\n",
    "Examples:\n",
    "\n",
    "-   `\"(abc)+\"` matches e.g. `\"abc\"` and `\"abcababc\"`\n",
    "\n",
    "-   `\"(in)?dependent\"` matches `\"independent\"` and `\"dependent\"`"
   ]
  },
  {
   "cell_type": "markdown",
   "metadata": {
    "slideshow": {
     "slide_type": "slide"
    }
   },
   "source": [
    "### Regular Expressions: Referencing Groups\n",
    "\n",
    "-   a group can be *referenced* later in the same string\n",
    "-   \"`\\\\1`\" matches *exactly the same string* that matched the first preceding group\n",
    "-   \"`\\\\2`\" matches the second preceding group etc.\n",
    "-   \"`A (rose|tulip) is a \\\\1 is a \\\\1`\":\n",
    "    - \"A rose is a rose is a rose\" ✔\n",
    "    - \"A tulip is a tulip is a tulip\" ✔\n",
    "    - \"A rose is a rose is a tulip\" ❌\n",
    "    - \"A tulip is a rose is a rose\" ❌\n",
    "-   \"`(.).*\\\\1`\" matches any string where the first and the last character are identical and non-overlapping:\n",
    "    -   \"aa\" ✔\n",
    "    -   \"axyzdefa\" ✔\n",
    "    -   \"axyzdefb\" ❌\n",
    "    -   \"a\" ❌"
   ]
  },
  {
   "cell_type": "markdown",
   "metadata": {
    "slideshow": {
     "slide_type": "slide"
    }
   },
   "source": [
    "### Regular Expressions: Alternation\n",
    "\n",
    "The **alternation metacharacter** `|` matches either the previous or the\n",
    "next expression:\n",
    "\n",
    "-   `\"apple|orange\"` matches `\"apple\"` and `\"orange\"`\n",
    "\n",
    "-   Q: what does `\"apple(juice|sauce)\"` match?\n",
    "\n",
    "-   Q: what does `\"w(ei|ie)rd\"` match?\n",
    "\n",
    "Multiple alternatives can be used as well:\n",
    "\n",
    "-   `\"apple|orange|banana\"`\n",
    "\n",
    "-   `\"(AA|BB|CC){6}\"` matches e.g. `\"AABBAACCAABB\"`"
   ]
  },
  {
   "cell_type": "markdown",
   "metadata": {
    "slideshow": {
     "slide_type": "slide"
    }
   },
   "source": [
    "### Regular Expressions: The `re` module\n",
    "\n",
    "Basic usage of the built-in `re` module:\n",
    "\n",
    "- import the module to make the namespace available:"
   ]
  },
  {
   "cell_type": "code",
   "execution_count": null,
   "metadata": {},
   "outputs": [],
   "source": [
    "import re"
   ]
  },
  {
   "cell_type": "markdown",
   "metadata": {},
   "source": [
    "- compile your regular expression string into a **regular expression\n",
    "object** which can be used to very efficiently match against the\n",
    "regex"
   ]
  },
  {
   "cell_type": "code",
   "execution_count": null,
   "metadata": {},
   "outputs": [],
   "source": [
    "matcher = re.compile(\"(.)([aeiou]{2}n)\")"
   ]
  },
  {
   "cell_type": "markdown",
   "metadata": {},
   "source": [
    "- use the `match()` method to test the entire string:"
   ]
  },
  {
   "cell_type": "code",
   "execution_count": null,
   "metadata": {},
   "outputs": [],
   "source": [
    "matcher.match(\"moon\")"
   ]
  },
  {
   "cell_type": "code",
   "execution_count": null,
   "metadata": {},
   "outputs": [],
   "source": [
    "matcher.match(\"I have been to the moon.\")"
   ]
  },
  {
   "cell_type": "markdown",
   "metadata": {
    "slideshow": {
     "slide_type": "slide"
    }
   },
   "source": [
    "### Regular Expressions: The `re` module\n",
    "\n",
    "-   `search()` looks for matching substrings instead:"
   ]
  },
  {
   "cell_type": "code",
   "execution_count": null,
   "metadata": {},
   "outputs": [],
   "source": [
    "matcher.search(\"I have been to the moon.\")"
   ]
  },
  {
   "cell_type": "markdown",
   "metadata": {},
   "source": [
    "- using a match result object:"
   ]
  },
  {
   "cell_type": "code",
   "execution_count": null,
   "metadata": {},
   "outputs": [],
   "source": [
    "match = matcher.search(\"I have been to the moon.\")"
   ]
  },
  {
   "cell_type": "code",
   "execution_count": null,
   "metadata": {},
   "outputs": [],
   "source": [
    "match.start(), match.end(), match.groups()"
   ]
  },
  {
   "cell_type": "code",
   "execution_count": null,
   "metadata": {},
   "outputs": [],
   "source": [
    "matcher.search(\"I have been to the moon.\", 8).groups()"
   ]
  },
  {
   "cell_type": "markdown",
   "metadata": {},
   "source": [
    "`findall()` lists all groupings in matched substrings:"
   ]
  },
  {
   "cell_type": "code",
   "execution_count": null,
   "metadata": {},
   "outputs": [],
   "source": [
    "matcher.findall(\"I have been to the moon.\")"
   ]
  },
  {
   "cell_type": "markdown",
   "metadata": {
    "slideshow": {
     "slide_type": "slide"
    }
   },
   "source": [
    "### Regular Expressions: The `re` module\n",
    "\n",
    "-   `sub(repl, string)` replaces each each matching substring in\n",
    "    `string` with `repl`\n",
    "\n",
    "-   `repl` can contain references to groups"
   ]
  },
  {
   "cell_type": "code",
   "execution_count": null,
   "metadata": {},
   "outputs": [],
   "source": [
    "matcher = re.compile(\"[0-9]\")"
   ]
  },
  {
   "cell_type": "code",
   "execution_count": null,
   "metadata": {},
   "outputs": [],
   "source": [
    "matcher.sub(\"?\", \"UFKc17X\")"
   ]
  },
  {
   "cell_type": "code",
   "execution_count": null,
   "metadata": {},
   "outputs": [],
   "source": [
    "matcher = re.compile(\"(.+)\")\n",
    "matcher.sub(\"A \\\\1 is a \\\\1 is a \\\\1\", \"rose\")"
   ]
  },
  {
   "cell_type": "code",
   "execution_count": null,
   "metadata": {},
   "outputs": [],
   "source": [
    "matcher = re.compile(\"(.+)\")\n",
    "matcher.sub(\"A \\\\1 is a \\\\1 is a \\\\1\", \"tulip\")"
   ]
  },
  {
   "cell_type": "markdown",
   "metadata": {
    "slideshow": {
     "slide_type": "slide"
    }
   },
   "source": [
    "Natural Language Toolkit (NLTK)\n",
    "===============================\n",
    "\n",
    "### NLTK\n",
    "\n",
    "The rest of the session covers the **Natural Language Toolkit (NLTK)**:\n",
    "\n",
    "-   example of a good Python package\n",
    "\n",
    "-   includes implementations of many common algorithms\n",
    "\n",
    "-   sample of the entire Natural Language Processing (NLP) toolchain\n",
    "\n",
    "-   solves many common tasks in satisfactory quality (for English)\n",
    "\n",
    "-   very interesting for linguists interested in computing\n",
    "\n",
    "-   good documentation (an entire book)"
   ]
  },
  {
   "cell_type": "markdown",
   "metadata": {
    "slideshow": {
     "slide_type": "slide"
    }
   },
   "source": [
    "### NLTK: Installation\n",
    "\n",
    "Installing NLTK and the relevant data:\n",
    "\n",
    "-   in a terminal, execute the following command:\n",
    "\n",
    "  ``` {style=\"console\"}\n",
    "     $ conda install nltk\n",
    "  ```\n",
    "\n",
    "- after installation, fire up a Python console (e.g. inside PyCharm)\n",
    "\n",
    "- run the following:"
   ]
  },
  {
   "cell_type": "code",
   "execution_count": null,
   "metadata": {},
   "outputs": [],
   "source": [
    "import nltk\n",
    "nltk.download()"
   ]
  },
  {
   "cell_type": "markdown",
   "metadata": {},
   "source": [
    "-   in the window that appears, double-click on `book` and `popular` to\n",
    "    download and install the relevant packages and data\n",
    "\n",
    "-   wait until everything is installed, and close the window"
   ]
  },
  {
   "cell_type": "markdown",
   "metadata": {
    "slideshow": {
     "slide_type": "slide"
    }
   },
   "source": [
    "### NLTK: First Steps\n",
    "\n",
    "First steps in getting to know NLTK:\n",
    "\n",
    "-   go to <https://www.nltk.org/>\n",
    "\n",
    "-   run the examples listed under\\\n",
    "    \"Some simple things you can do with NLTK\":\n",
    "\n",
    "    -   tokenizing and tagging\n",
    "\n",
    "    -   named entity recognition\n",
    "\n",
    "    -   exploring a treebank"
   ]
  },
  {
   "cell_type": "markdown",
   "metadata": {
    "slideshow": {
     "slide_type": "slide"
    }
   },
   "source": [
    "- Tokenize and tag some text"
   ]
  },
  {
   "cell_type": "code",
   "execution_count": null,
   "metadata": {
    "slideshow": {
     "slide_type": "-"
    }
   },
   "outputs": [],
   "source": [
    "sentence = \"\"\"At eight o'clock on Thursday morning Arthur didn't feel very good.\"\"\""
   ]
  },
  {
   "cell_type": "code",
   "execution_count": null,
   "metadata": {},
   "outputs": [],
   "source": [
    "tokens = nltk.word_tokenize(sentence)\n",
    "tokens"
   ]
  },
  {
   "cell_type": "code",
   "execution_count": null,
   "metadata": {
    "slideshow": {
     "slide_type": "slide"
    }
   },
   "outputs": [],
   "source": [
    "tagged = nltk.pos_tag(tokens)\n",
    "tagged[0:6]"
   ]
  },
  {
   "cell_type": "markdown",
   "metadata": {
    "slideshow": {
     "slide_type": "slide"
    }
   },
   "source": [
    "- Identify named entitites:"
   ]
  },
  {
   "cell_type": "code",
   "execution_count": null,
   "metadata": {},
   "outputs": [],
   "source": [
    "import numpy\n",
    "entities = nltk.chunk.ne_chunk(tagged)\n",
    "print(entities)"
   ]
  },
  {
   "cell_type": "markdown",
   "metadata": {
    "slideshow": {
     "slide_type": "slide"
    }
   },
   "source": [
    "- Display a parse tree:"
   ]
  },
  {
   "cell_type": "code",
   "execution_count": null,
   "metadata": {},
   "outputs": [],
   "source": [
    "from nltk.corpus import treebank\n",
    "t = treebank.parsed_sents('wsj_0001.mrg')[0]\n",
    "t"
   ]
  },
  {
   "cell_type": "markdown",
   "metadata": {
    "slideshow": {
     "slide_type": "slide"
    }
   },
   "source": [
    "### NLTK: Documentation\n",
    "\n",
    "How to find out more:\n",
    "\n",
    "-   open the book at <http://www.nltk.org/book/>\n",
    "\n",
    "-   start reading the chapter you want to learn about\n",
    "\n",
    "-   make sure to try out the examples\\\n",
    "    (interactivity helps you to understand things better)\n",
    "\n",
    "-   take a look at the exercises and try your hand at the ones which\n",
    "    involve skills you might need\n",
    "\n",
    "-   BTW: the book also doubles as an introduction to Python, consider\n",
    "    working through the examples and exercises if you want to brush up\n",
    "    on programming later on!\n"
   ]
  },
  {
   "cell_type": "markdown",
   "metadata": {
    "slideshow": {
     "slide_type": "slide"
    }
   },
   "source": [
    "### NLTK: Accessing Text Corpora\n",
    "\n",
    "-   take a look at Chapter 2 of the book\n",
    "    (<http://www.nltk.org/book/ch02.html>)\n",
    "\n",
    "-   browse through it until you find something interesting\n",
    "\n",
    "-   run the examples using an interactive console\n",
    "\n",
    "-   play around with the objects, fiddle with arguments,\\\n",
    "    explore the possibilities!\n",
    "\n",
    "-   suggestions:\n",
    "\n",
    "    -   Inaugural Address Corpus\n",
    "\n",
    "    -   Corpora in Other Languages\n",
    "\n",
    "    -   WordNet\n",
    "\n"
   ]
  },
  {
   "cell_type": "code",
   "execution_count": null,
   "metadata": {
    "slideshow": {
     "slide_type": "slide"
    }
   },
   "outputs": [],
   "source": [
    "nltk.corpus.gutenberg.fileids()"
   ]
  },
  {
   "cell_type": "code",
   "execution_count": null,
   "metadata": {
    "slideshow": {
     "slide_type": "slide"
    }
   },
   "outputs": [],
   "source": [
    "emma = nltk.corpus.gutenberg.words('austen-emma.txt')\n",
    "len(emma)"
   ]
  },
  {
   "cell_type": "code",
   "execution_count": null,
   "metadata": {},
   "outputs": [],
   "source": [
    "from nltk.corpus import gutenberg\n",
    "gutenberg.fileids()"
   ]
  },
  {
   "cell_type": "code",
   "execution_count": null,
   "metadata": {},
   "outputs": [],
   "source": [
    "emma = gutenberg.words('austen-emma.txt')"
   ]
  },
  {
   "cell_type": "code",
   "execution_count": null,
   "metadata": {
    "slideshow": {
     "slide_type": "slide"
    }
   },
   "outputs": [],
   "source": [
    "for fileid in gutenberg.fileids():\n",
    "    num_chars = len(gutenberg.raw(fileid))\n",
    "    num_words = len(gutenberg.words(fileid))\n",
    "    num_sents = len(gutenberg.sents(fileid))\n",
    "    num_vocab = len(set(w.lower() for w in gutenberg.words(fileid)))\n",
    "    print(round(num_chars/num_words), round(num_words/num_sents), round(num_words/num_vocab), fileid)"
   ]
  },
  {
   "cell_type": "code",
   "execution_count": null,
   "metadata": {
    "slideshow": {
     "slide_type": "slide"
    }
   },
   "outputs": [],
   "source": [
    "macbeth_sentences = gutenberg.sents('shakespeare-macbeth.txt')\n",
    "macbeth_sentences"
   ]
  },
  {
   "cell_type": "code",
   "execution_count": null,
   "metadata": {},
   "outputs": [],
   "source": [
    "macbeth_sentences[1116]"
   ]
  },
  {
   "cell_type": "code",
   "execution_count": null,
   "metadata": {
    "scrolled": true,
    "slideshow": {
     "slide_type": "slide"
    }
   },
   "outputs": [],
   "source": [
    "longest_len = max(len(s) for s in macbeth_sentences)\n",
    "[s for s in macbeth_sentences if len(s) == longest_len]"
   ]
  },
  {
   "cell_type": "code",
   "execution_count": null,
   "metadata": {
    "slideshow": {
     "slide_type": "slide"
    }
   },
   "outputs": [],
   "source": [
    "from nltk.corpus import brown\n",
    "news_text = brown.words(categories='news')\n",
    "fdist = nltk.FreqDist(w.lower() for w in news_text)\n",
    "modals = ['can', 'could', 'may', 'might', 'must', 'will']\n",
    "for m in modals:\n",
    "    print(m + ':', fdist[m], end=' ')"
   ]
  },
  {
   "cell_type": "code",
   "execution_count": null,
   "metadata": {},
   "outputs": [],
   "source": [
    "cfd = nltk.ConditionalFreqDist(\n",
    "    (genre, word)\n",
    "    for genre in brown.categories()\n",
    "    for word in brown.words(categories=genre))"
   ]
  },
  {
   "cell_type": "code",
   "execution_count": null,
   "metadata": {},
   "outputs": [],
   "source": [
    "genres = ['news', 'religion', 'hobbies', 'science_fiction', 'romance', 'humor']\n",
    "modals = ['can', 'could', 'may', 'might', 'must', 'will']\n",
    "cfd.tabulate(conditions=genres, samples=modals)"
   ]
  },
  {
   "cell_type": "code",
   "execution_count": null,
   "metadata": {
    "scrolled": true,
    "slideshow": {
     "slide_type": "slide"
    }
   },
   "outputs": [],
   "source": [
    "from nltk.corpus import inaugural\n",
    "inaugural.fileids()"
   ]
  },
  {
   "cell_type": "code",
   "execution_count": null,
   "metadata": {
    "scrolled": true,
    "slideshow": {
     "slide_type": "slide"
    }
   },
   "outputs": [],
   "source": [
    "[fileid[:4] for fileid in inaugural.fileids()]"
   ]
  },
  {
   "cell_type": "code",
   "execution_count": null,
   "metadata": {
    "slideshow": {
     "slide_type": "slide"
    }
   },
   "outputs": [],
   "source": [
    "import matplotlib\n",
    "matplotlib.rcParams['figure.figsize'] = [15, 10]\n",
    "\n",
    "cfd = nltk.ConditionalFreqDist(\n",
    "    (target, fileid[:4])\n",
    "    for fileid in inaugural.fileids()\n",
    "    for w in inaugural.words(fileid)\n",
    "    for target in ['america', 'citizen']\n",
    "    if w.lower().startswith(target))\n",
    "cfd.plot()"
   ]
  },
  {
   "cell_type": "markdown",
   "metadata": {
    "slideshow": {
     "slide_type": "slide"
    }
   },
   "source": [
    "### NLTK: Part-of-speech Tagging\n",
    "\n",
    "-   take a look at Chapter 5 of the book\n",
    "    (<http://www.nltk.org/book/ch05.html>)\n",
    "\n",
    "-   go through the introductory part (5.1)\n",
    "\n",
    "-   find the most common verbs in news text (5.2.5)\n",
    "\n",
    "-   compare the three taggers that come with NLTK (5.4)\n",
    "\n",
    "\n"
   ]
  },
  {
   "cell_type": "markdown",
   "metadata": {
    "slideshow": {
     "slide_type": "slide"
    }
   },
   "source": [
    "### NLTK: Parsing\n",
    "\n",
    "-   take a look at Chapter 8 of the book\n",
    "    (<http://www.nltk.org/book/ch08.html>)\n",
    "\n",
    "-   run the example of an ambiguous sentence (8.1.2)\n",
    "\n",
    "-   load the toy CFG in Section 8.3.1\n",
    "\n",
    "-   expand the toy CFG by some additional words and structures\n",
    "\n",
    "-   start working through Section 8.5 on dependency grammar"
   ]
  },
  {
   "cell_type": "markdown",
   "metadata": {
    "slideshow": {
     "slide_type": "slide"
    }
   },
   "source": [
    "# Classes\n",
    "\n",
    "### Defining Classes\n",
    "\n",
    "- a **class** is a user-defined datatype\n",
    "\n",
    "- you can define which methods instances of that class have\n",
    "\n",
    "- naming convention: start with a capital letter\\\n",
    "  (`City`, `Course`, `Grammar`, `Language`, `Movie`, `Student`,\n",
    "  `Word`)\n",
    "\n",
    "- template for defining a class `YourClass`:\n",
    "\n",
    "  ``` {language=\"python\"}\n",
    "  class YourClass:\n",
    "    variable1 = initial_val1\n",
    "    variable2 = initial_val2\n",
    "    \n",
    "    def method1(self):\n",
    "      statement1\n",
    "    \n",
    "    def method2(self):\n",
    "      statement2\n",
    "    \n",
    "  ```\n",
    "\n",
    "\n"
   ]
  },
  {
   "cell_type": "markdown",
   "metadata": {
    "slideshow": {
     "slide_type": "slide"
    }
   },
   "source": [
    "### Instance Variables\n",
    "\n",
    "Data specific to each instance can be stored in **instance variables**:\n",
    "\n",
    "- inside class definitions, you have access to the variable `self`\n",
    "\n",
    "- `self` represents one object of the datatype you are defining\n",
    "\n",
    "- variable declarations in the class body are **class variables**\n",
    "\n",
    "- using `self.variable`, you model data assigned to a specific\n",
    "  instance\n",
    "\n",
    "- inside class methods, `self.variable` works like any variable:\n",
    "\n",
    "  ``` {language=\"python\"}\n",
    "    self.name = \"Uga Blamp\"\n",
    "    self.first_name = self.name.split(\" \")[0]\n",
    "    print(self.first_name)\n",
    "  ```"
   ]
  },
  {
   "cell_type": "markdown",
   "metadata": {
    "slideshow": {
     "slide_type": "slide"
    }
   },
   "source": [
    "### Constructors\n",
    "\n",
    "The **constructor** is a special method of each class:\n",
    "\n",
    "- the default constructor does not create any instance variables\n",
    "\n",
    "- by defining a constructor `__init__(self)`, you can initialize\n",
    "  variables for the instance you are creating:\n",
    "\n",
    "  ``` {language=\"python\"}\n",
    "  class YourClass:\n",
    "    def __init__(self):\n",
    "      self.property1 = \"initial_value\"\n",
    "      self.data_store = dict()\n",
    "  ```\n",
    "\n",
    "- constructors can have additional (also named) arguments:\n",
    "\n",
    "  ``` {language=\"python\"}\n",
    "  class Language:\n",
    "    def __init__(self,name,family=\"Unknown\"):\n",
    "      self.name = name\n",
    "      self.family = family\n",
    "  ```"
   ]
  },
  {
   "cell_type": "code",
   "execution_count": null,
   "metadata": {
    "slideshow": {
     "slide_type": "-"
    }
   },
   "outputs": [],
   "source": [
    "class Language:\n",
    "    def __init__(self, name, family=\"Unkown\"):\n",
    "        self.name = name\n",
    "        self.family = family"
   ]
  },
  {
   "cell_type": "markdown",
   "metadata": {
    "slideshow": {
     "slide_type": "slide"
    }
   },
   "source": [
    "### Instance Objects\n",
    "\n",
    "Using a class definition to create instance objects:\n",
    "\n",
    "-   instances are created by calling the class name like a function\n",
    "\n",
    "-   instances you created can be assigned to variables like any other\n",
    "    object, and calling `type()` on them will return your class object\n",
    "\n",
    "-   the arguments of the constructor define in which ways you can create\n",
    "    instances of your class (= objects of your type):"
   ]
  },
  {
   "cell_type": "code",
   "execution_count": null,
   "metadata": {
    "slideshow": {
     "slide_type": "slide"
    }
   },
   "outputs": [],
   "source": [
    "eus = Language(\"Basque\")"
   ]
  },
  {
   "cell_type": "code",
   "execution_count": null,
   "metadata": {},
   "outputs": [],
   "source": [
    "eus.family"
   ]
  },
  {
   "cell_type": "code",
   "execution_count": null,
   "metadata": {},
   "outputs": [],
   "source": [
    "hun = Language(\"Hungarian\",family=\"Uralic\")"
   ]
  },
  {
   "cell_type": "code",
   "execution_count": null,
   "metadata": {},
   "outputs": [],
   "source": [
    "hun.family"
   ]
  },
  {
   "cell_type": "code",
   "execution_count": null,
   "metadata": {},
   "outputs": [],
   "source": [
    "kbd = Language(\"Kabardian\",\"Northwest Caucasian\")"
   ]
  },
  {
   "cell_type": "code",
   "execution_count": null,
   "metadata": {},
   "outputs": [],
   "source": [
    "kbd.family"
   ]
  },
  {
   "cell_type": "markdown",
   "metadata": {
    "slideshow": {
     "slide_type": "slide"
    }
   },
   "source": [
    "### Defining Methods\n",
    "\n",
    "Methods are functions declared inside a class body:\n",
    "\n",
    "-   they must have `self` as the first argument:"
   ]
  },
  {
   "cell_type": "code",
   "execution_count": null,
   "metadata": {},
   "outputs": [],
   "source": [
    "class Language:\n",
    "    def __init__(self,name,family=\"Unknown\"):\n",
    "        self.name = name\n",
    "        self.family = family\n",
    "        \n",
    "    def print_information(self):\n",
    "        print(self.name + \" belongs to \" + self.family)"
   ]
  },
  {
   "cell_type": "markdown",
   "metadata": {},
   "source": [
    "- in method calls, the object before the dot is assigned to `self`:"
   ]
  },
  {
   "cell_type": "code",
   "execution_count": null,
   "metadata": {},
   "outputs": [],
   "source": [
    "hun = Language(\"Hungarian\",family=\"Uralic\")\n",
    "hun.print_information()"
   ]
  },
  {
   "cell_type": "code",
   "execution_count": null,
   "metadata": {},
   "outputs": [],
   "source": [
    "eus = Language(\"Basque\")\n",
    "eus.print_information()"
   ]
  },
  {
   "cell_type": "markdown",
   "metadata": {
    "slideshow": {
     "slide_type": "slide"
    }
   },
   "source": [
    "### A Glimpse at Inheritance\n",
    "\n",
    "Some quick info on a more advanced subject:\n",
    "\n",
    "-   `class A(B):` declares A as a **subtype** of B\n",
    "\n",
    "-   all functionality (class variables, methods) are **inherited**, but\n",
    "    can be overridden by redefinition or reassignment in the subclass\n",
    "\n",
    "-   these concepts are only relevant in advanced software engineering\n",
    "    (which is typically not done in Python)\n",
    "\n",
    "-   quite frequently, you see the idiom `class A(object)` in\n",
    "    introductory materials, though"
   ]
  },
  {
   "cell_type": "markdown",
   "metadata": {
    "slideshow": {
     "slide_type": "slide"
    }
   },
   "source": [
    "Random Sampling\n",
    "===============\n",
    "\n",
    "### Random Sampling\n",
    "\n",
    "Often, we want to use random data in our programs:\n",
    "\n",
    "-   only take a random subset of the input data for tractability\n",
    "\n",
    "-   creating realistic-looking dummy data in order to test a program\n",
    "\n",
    "-   simulating processes like language change, or a walk through the Web\n",
    "\n",
    "-   re-sampling from a dataset to evaluate the stability of results on\n",
    "    varying input (bootstrapping)\n",
    "\n",
    "For all of this, we have the `random` library!"
   ]
  },
  {
   "cell_type": "markdown",
   "metadata": {
    "slideshow": {
     "slide_type": "slide"
    }
   },
   "source": [
    "### The `random` library\n",
    "\n",
    "Basic functionality of the `random` library:\n",
    "\n",
    "-   `random.randint(a,b)` uniformly samples an integer\n",
    "    $a \\leq N \\leq b$:"
   ]
  },
  {
   "cell_type": "code",
   "execution_count": null,
   "metadata": {},
   "outputs": [],
   "source": [
    "import random\n",
    "[random.randint(1,6) for i in range(10)]"
   ]
  },
  {
   "cell_type": "markdown",
   "metadata": {},
   "source": [
    "- `random.random()` samples from the uniform distribution over the\n",
    "interval $[0.0,1.0)$:"
   ]
  },
  {
   "cell_type": "code",
   "execution_count": null,
   "metadata": {},
   "outputs": [],
   "source": [
    "[random.random() for i in range(3)]"
   ]
  },
  {
   "cell_type": "markdown",
   "metadata": {},
   "source": [
    "- `random.gauss(mu,sigma)` samples from a Gaussian with mean `mu` and\n",
    "standard deviation `sigma`:"
   ]
  },
  {
   "cell_type": "code",
   "execution_count": null,
   "metadata": {},
   "outputs": [],
   "source": [
    "[random.gauss(2,0.5) for i in range(3)]"
   ]
  },
  {
   "cell_type": "markdown",
   "metadata": {
    "slideshow": {
     "slide_type": "slide"
    }
   },
   "source": [
    "### The `random` library\n",
    "\n",
    "Sequence sampling using the `random` library:\n",
    "\n",
    "-   `random.choice(seq)` samples from a uniform distribution over a\n",
    "    sequence `seq` of possible values:"
   ]
  },
  {
   "cell_type": "code",
   "execution_count": null,
   "metadata": {},
   "outputs": [],
   "source": [
    "[random.choice([\"a\",\"b\",\"c\"]) for i in range(10)]"
   ]
  },
  {
   "cell_type": "markdown",
   "metadata": {},
   "source": [
    "- `random.choices(seq,weights)` samples from a distribution over `seq`\n",
    "provided by the `weight` list:"
   ]
  },
  {
   "cell_type": "code",
   "execution_count": null,
   "metadata": {},
   "outputs": [],
   "source": [
    "[random.choices([\"a\",\"b\"],[0.7,0.3]) for i in range(8)]"
   ]
  },
  {
   "cell_type": "markdown",
   "metadata": {
    "slideshow": {
     "slide_type": "slide"
    }
   },
   "source": [
    "- `random.shuffle()` re-orders the sequence in place in a random way:"
   ]
  },
  {
   "cell_type": "code",
   "execution_count": null,
   "metadata": {},
   "outputs": [],
   "source": [
    "list = [\"r\",\"a\",\"n\",\"d\",\"o\",\"m\"]"
   ]
  },
  {
   "cell_type": "code",
   "execution_count": null,
   "metadata": {},
   "outputs": [],
   "source": [
    "for i in range(3):\n",
    "    random.shuffle(list); print(\"\".join(list))"
   ]
  },
  {
   "cell_type": "markdown",
   "metadata": {},
   "source": [
    "Much to cover in more advanced course: random seeds, other\n",
    "distributions, ..."
   ]
  },
  {
   "cell_type": "markdown",
   "metadata": {
    "slideshow": {
     "slide_type": "slide"
    }
   },
   "source": [
    "### Example: Generating random names\n",
    "\n",
    "Assume that we have the following frequency statistics:\n",
    "\n",
    "-   onsets: 25% k, 25% p, 15% l, 10% m, 10% n, 10% \\\"\\\", 5% w\n",
    "\n",
    "-   vowels: 40% a, 20% i, 20% u, 10% e, 10% o\n",
    "\n",
    "Here is a function which samples names from these distributions:"
   ]
  },
  {
   "cell_type": "code",
   "execution_count": null,
   "metadata": {},
   "outputs": [],
   "source": [
    "from random import choices\n",
    "\n",
    "onset_options = [\"k\",\"p\",\"l\",\"m\",\"n\",\"\",\"w\"]\n",
    "onset_weights = [25, 25, 15, 10, 10, 10, 5]\n",
    "vowel_options = [\"a\",\"i\",\"u\",\"e\",\"o\"]\n",
    "vowel_weights = [40, 20, 20, 10, 10]\n",
    " \n",
    "def random_name(num_syllables):\n",
    "    name = \"\"\n",
    "    for i in range(num_syllables):\n",
    "        name += choices(onset_options, onset_weights)[0]\n",
    "        name += choices(vowel_options, vowel_weights)[0]\n",
    "    return name.title()"
   ]
  },
  {
   "cell_type": "code",
   "execution_count": null,
   "metadata": {},
   "outputs": [],
   "source": [
    "random_name(3)"
   ]
  },
  {
   "cell_type": "markdown",
   "metadata": {
    "slideshow": {
     "slide_type": "slide"
    }
   },
   "source": [
    "### Recursion\n",
    "\n",
    "A central concept of programming: **recursion**\n",
    "\n",
    "-   informally: a definition or function which refers to itself\n",
    "\n",
    "-   can be used whenever a problem (e.g. finding all sources of a river)\n",
    "    can be reduced to subproblems of the same type\\\n",
    "    (e.g. finding the sources of a tributary)\n",
    "\n",
    "-   all loops can be implemented using recursion!\n",
    "\n",
    "-   every recursive function can be implemented using iteration!\n",
    "\n",
    "-   BUT: there are many problems for which either iteration or recursion\n",
    "    is more efficient, or easier to implement"
   ]
  },
  {
   "cell_type": "markdown",
   "metadata": {
    "slideshow": {
     "slide_type": "slide"
    }
   },
   "source": [
    "### Base Case and Recursive Cases\n",
    "\n",
    "In computing, recursive definitions need to consist of two parts:\n",
    "\n",
    "-   the **base case** covers the simplest instances of a problem, and\n",
    "    does not refer to the concept being defined (ensures termination)\n",
    "\n",
    "-   the **recursive case** refers to the concept being defined when\n",
    "    describing substructures (expansion to structures of arbitrary size)\n",
    "\n",
    "There is a close relationship between recursion and mathematical\n",
    "induction!\n",
    "\n",
    "-   In induction, you prove that a theorem holds e.g. for $n = 1$ (the\n",
    "    base case), and that it holds for $n = k + 1$ if it already holds\n",
    "    for $n = k$ (recursive case).\n",
    "\n",
    "-   If you want to prove that a recursive algorithm gives the correct\n",
    "    result, you need induction as a proof technique!"
   ]
  },
  {
   "cell_type": "markdown",
   "metadata": {
    "slideshow": {
     "slide_type": "slide"
    }
   },
   "source": [
    "### Recursive Definitions\n",
    "\n",
    "Using recursion in definitions:\n",
    "\n",
    "-   **recursive definition**: a definition which uses the term it\n",
    "    defines\n",
    "\n",
    "-   Example: defining (a subset of) boolean expressions in Python\n",
    "\n",
    "    -   the expressions `True` and `False` are boolean expressions (base\n",
    "        case)\n",
    "\n",
    "    -   an expression of the form `a == b` is a boolean expression (base\n",
    "        case)\n",
    "\n",
    "    -   two boolean expressions conjoined by `and` form a boolean\n",
    "        expression (recursive case)\n",
    "\n",
    "    -   two boolean expressions conjoined by `or` form a boolean\n",
    "        expression (recursive case)\n",
    "\n",
    "    -   a boolean expression preceded by `not` is a boolean expression\\\n",
    "        (recursive case)\n",
    "\n",
    "-   you have probably seen recursive definitions in logic!"
   ]
  },
  {
   "cell_type": "markdown",
   "metadata": {
    "slideshow": {
     "slide_type": "slide"
    }
   },
   "source": [
    "### Recursive Functions\n",
    "\n",
    "Using recursion in function definitions:\n",
    "\n",
    "-   **recursive function**: a function which calls itself\n",
    "\n",
    "-   if the function calls itself on every input, we get **infinite\n",
    "    recursion**\n",
    "\n",
    "-   in all useful recursive functions, each nested call differs in its\n",
    "    arguments (e.g. execution on subproblems)\n",
    "\n",
    "-   for recursive functions to terminate, we need base cases!"
   ]
  },
  {
   "cell_type": "markdown",
   "metadata": {
    "slideshow": {
     "slide_type": "slide"
    }
   },
   "source": [
    "### Recursion vs. Iteration\n",
    "\n",
    "-   in principle, recursion and iteration are equally powerful\\\n",
    "    (one can be used to emulate the other)\n",
    "\n",
    "-   however, there are many definitions and algorithms which are much\n",
    "    easier to write using recursion\n",
    "\n",
    "-   this is especially the case for processing data structures which\n",
    "    contain substructures of varying size (i.e. data that is not tabular\n",
    "    in shape)\n",
    "\n",
    "-   Examples:\n",
    "\n",
    "    -   processing syntax trees for programming languages (in a\n",
    "        compiler) and natural languages (in a parser)\n",
    "\n",
    "    -   processing more general graph structures like networks\n",
    "\n",
    "    -   sorting and searching in structures that are more complex than\n",
    "        lists or dictionaries (e.g. 3-D models)\n",
    "\n",
    "-   We are going to use navigation through trees as our main example!"
   ]
  }
 ],
 "metadata": {
  "@webio": {
   "lastCommId": null,
   "lastKernelId": null
  },
  "celltoolbar": "Slideshow",
  "kernelspec": {
   "display_name": "Python 3 (ipykernel)",
   "language": "python",
   "name": "python3"
  },
  "language_info": {
   "codemirror_mode": {
    "name": "ipython",
    "version": 3
   },
   "file_extension": ".py",
   "mimetype": "text/x-python",
   "name": "python",
   "nbconvert_exporter": "python",
   "pygments_lexer": "ipython3",
   "version": "3.9.7"
  },
  "latex_envs": {
   "LaTeX_envs_menu_present": true,
   "autoclose": false,
   "autocomplete": true,
   "bibliofile": "biblio.bib",
   "cite_by": "apalike",
   "current_citInitial": 1,
   "eqLabelWithNumbers": true,
   "eqNumInitial": 1,
   "hotkeys": {
    "equation": "Ctrl-E",
    "itemize": "Ctrl-I"
   },
   "labels_anchors": false,
   "latex_user_defs": false,
   "report_style_numbering": false,
   "user_envs_cfg": false
  },
  "rise": {
   "enable_chalkboard": true
  }
 },
 "nbformat": 4,
 "nbformat_minor": 4
}
