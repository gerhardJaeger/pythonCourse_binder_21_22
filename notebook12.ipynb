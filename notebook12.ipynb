{
 "cells": [
  {
   "cell_type": "markdown",
   "metadata": {
    "slideshow": {
     "slide_type": "slide"
    }
   },
   "source": [
    "# Methods I: Programming and Data Analysis\n",
    "\n",
    "## Session 12: NLTK; Classes; The random module\n",
    "\n",
    "### Gerhard Jäger\n",
    "\n",
    "#### (based on Johannes Dellert's slides)\n",
    "\n",
    "January 25, 2022"
   ]
  },
  {
   "cell_type": "markdown",
   "metadata": {
    "slideshow": {
     "slide_type": "slide"
    }
   },
   "source": [
    "### NLTK: Accessing Text Corpora\n",
    "\n",
    "-   take a look at Chapter 2 of the book\n",
    "    (<http://www.nltk.org/book/ch02.html>)\n",
    "\n",
    "-   browse through it until you find something interesting\n",
    "\n",
    "-   run the examples using an interactive console\n",
    "\n",
    "-   play around with the objects, fiddle with arguments,\\\n",
    "    explore the possibilities!\n",
    "\n",
    "-   suggestions:\n",
    "\n",
    "    -   Inaugural Address Corpus\n",
    "\n",
    "    -   Corpora in Other Languages\n",
    "\n",
    "    -   WordNet\n",
    "\n"
   ]
  },
  {
   "cell_type": "code",
   "execution_count": null,
   "metadata": {},
   "outputs": [],
   "source": [
    "import nltk\n",
    "nltk.download()"
   ]
  },
  {
   "cell_type": "code",
   "execution_count": null,
   "metadata": {
    "slideshow": {
     "slide_type": "slide"
    }
   },
   "outputs": [],
   "source": [
    "from nltk.corpus import gutenberg\n",
    "gutenberg.fileids()"
   ]
  },
  {
   "cell_type": "code",
   "execution_count": null,
   "metadata": {
    "slideshow": {
     "slide_type": "-"
    }
   },
   "outputs": [],
   "source": [
    "emma = nltk.corpus.gutenberg.words('austen-emma.txt')\n",
    "len(emma)"
   ]
  },
  {
   "cell_type": "code",
   "execution_count": null,
   "metadata": {},
   "outputs": [],
   "source": [
    "emma = gutenberg.words('austen-emma.txt')\n",
    "emma"
   ]
  },
  {
   "cell_type": "code",
   "execution_count": null,
   "metadata": {
    "slideshow": {
     "slide_type": "slide"
    }
   },
   "outputs": [],
   "source": [
    "for fileid in gutenberg.fileids():\n",
    "    num_chars = len(gutenberg.raw(fileid))\n",
    "    num_words = len(gutenberg.words(fileid))\n",
    "    num_sents = len(gutenberg.sents(fileid))\n",
    "    num_vocab = len(set(w.lower() for w in gutenberg.words(fileid)))\n",
    "    print(round(num_chars/num_words), round(num_words/num_sents), round(num_words/num_vocab), fileid)"
   ]
  },
  {
   "cell_type": "code",
   "execution_count": null,
   "metadata": {
    "slideshow": {
     "slide_type": "slide"
    }
   },
   "outputs": [],
   "source": [
    "macbeth_sentences = gutenberg.sents('shakespeare-macbeth.txt')\n",
    "macbeth_sentences"
   ]
  },
  {
   "cell_type": "code",
   "execution_count": null,
   "metadata": {},
   "outputs": [],
   "source": [
    "macbeth_sentences[1116]\n"
   ]
  },
  {
   "cell_type": "code",
   "execution_count": null,
   "metadata": {
    "slideshow": {
     "slide_type": "slide"
    }
   },
   "outputs": [],
   "source": [
    "longest_len = max(len(s) for s in macbeth_sentences)\n",
    "[s for s in macbeth_sentences if len(s) == longest_len]\n"
   ]
  },
  {
   "cell_type": "code",
   "execution_count": null,
   "metadata": {
    "slideshow": {
     "slide_type": "slide"
    }
   },
   "outputs": [],
   "source": [
    "from nltk.corpus import brown\n",
    "news_text = brown.words(categories='news')\n",
    "fdist = nltk.FreqDist(w.lower() for w in news_text)\n",
    "modals = ['can', 'could', 'may', 'might', 'must', 'will']\n",
    "for m in modals:\n",
    "    print(m + ':', fdist[m], end=' ')\n",
    "    "
   ]
  },
  {
   "cell_type": "code",
   "execution_count": null,
   "metadata": {},
   "outputs": [],
   "source": [
    "cfd = nltk.ConditionalFreqDist(\n",
    "    (genre, word)\n",
    "    for genre in brown.categories()\n",
    "    for word in brown.words(categories=genre))\n"
   ]
  },
  {
   "cell_type": "code",
   "execution_count": null,
   "metadata": {},
   "outputs": [],
   "source": [
    "genres = ['news', 'religion', 'hobbies', 'science_fiction', 'romance', 'humor']\n",
    "modals = ['can', 'could', 'may', 'might', 'must', 'will']\n",
    "cfd.tabulate(conditions=genres, samples=modals)\n"
   ]
  },
  {
   "cell_type": "code",
   "execution_count": null,
   "metadata": {
    "scrolled": true,
    "slideshow": {
     "slide_type": "slide"
    }
   },
   "outputs": [],
   "source": [
    "from nltk.corpus import inaugural\n",
    "inaugural.fileids()\n"
   ]
  },
  {
   "cell_type": "code",
   "execution_count": null,
   "metadata": {
    "scrolled": true,
    "slideshow": {
     "slide_type": "slide"
    }
   },
   "outputs": [],
   "source": [
    "[fileid[:4] for fileid in inaugural.fileids()]"
   ]
  },
  {
   "cell_type": "code",
   "execution_count": null,
   "metadata": {
    "slideshow": {
     "slide_type": "slide"
    }
   },
   "outputs": [],
   "source": [
    "import matplotlib\n",
    "matplotlib.rcParams['figure.figsize'] = [20, 10]\n",
    "\n",
    "cfd = nltk.ConditionalFreqDist(\n",
    "    (target, fileid[:4])\n",
    "    for fileid in inaugural.fileids()\n",
    "    for w in inaugural.words(fileid)\n",
    "    for target in ['america', 'citizen']\n",
    "    if w.lower().startswith(target))\n",
    "cfd.plot()"
   ]
  },
  {
   "cell_type": "markdown",
   "metadata": {
    "slideshow": {
     "slide_type": "slide"
    }
   },
   "source": [
    "### NLTK: Part-of-speech Tagging\n",
    "\n",
    "-   take a look at Chapter 5 of the book\n",
    "    (<http://www.nltk.org/book/ch05.html>)\n",
    "\n",
    "-   go through the introductory part (5.1)\n",
    "\n",
    "-   find the most common verbs in news text (5.2.5)\n",
    "\n",
    "-   compare the three taggers that come with NLTK (5.4)\n",
    "\n",
    "\n"
   ]
  },
  {
   "cell_type": "markdown",
   "metadata": {
    "slideshow": {
     "slide_type": "slide"
    }
   },
   "source": [
    "### NLTK: Parsing\n",
    "\n",
    "-   take a look at Chapter 8 of the book\n",
    "    (<http://www.nltk.org/book/ch08.html>)\n",
    "\n",
    "-   run the example of an ambiguous sentence (8.1.2)\n",
    "\n",
    "-   load the toy CFG in Section 8.3.1\n",
    "\n",
    "-   expand the toy CFG by some additional words and structures\n",
    "\n",
    "-   start working through Section 8.5 on dependency grammar"
   ]
  },
  {
   "cell_type": "markdown",
   "metadata": {
    "slideshow": {
     "slide_type": "slide"
    }
   },
   "source": [
    "# Classes\n",
    "\n",
    "### Defining Classes\n",
    "\n",
    "- a **class** is a user-defined datatype\n",
    "\n",
    "- you can define which methods instances of that class have\n",
    "\n",
    "- naming convention: start with a capital letter\\\n",
    "  (`City`, `Course`, `Grammar`, `Language`, `Movie`, `Student`,\n",
    "  `Word`)\n",
    "\n",
    "- template for defining a class `YourClass`:\n",
    "\n",
    "  ```python\n",
    "  class YourClass:\n",
    "      variable1 = initial_val1\n",
    "      variable2 = initial_val2\n",
    "    \n",
    "      def method1(self):\n",
    "          statement1\n",
    "    \n",
    "      def method2(self):\n",
    "          statement2\n",
    "  ```\n",
    "\n",
    "\n"
   ]
  },
  {
   "cell_type": "markdown",
   "metadata": {
    "slideshow": {
     "slide_type": "slide"
    }
   },
   "source": [
    "### Instance Variables\n",
    "\n",
    "Data specific to each instance can be stored in **instance variables**:\n",
    "\n",
    "- inside class definitions, you have access to the variable `self`\n",
    "\n",
    "- `self` represents one object of the datatype you are defining\n",
    "\n",
    "- variable declarations in the class body are **class variables**\n",
    "\n",
    "- using `self.variable`, you model data assigned to a specific\n",
    "  instance\n",
    "\n",
    "- inside class methods, `self.variable` works like any variable:\n",
    "\n",
    "  ```python\n",
    "    self.name = \"Uga Blamp\"\n",
    "    self.first_name = self.name.split(\" \")[0]\n",
    "    print(self.first_name)\n",
    "  ```"
   ]
  },
  {
   "cell_type": "markdown",
   "metadata": {
    "slideshow": {
     "slide_type": "slide"
    }
   },
   "source": [
    "### Constructors\n",
    "\n",
    "The **constructor** is a special method of each class:\n",
    "\n",
    "- the default constructor does not create any instance variables\n",
    "\n",
    "- by defining a constructor `__init__(self)`, you can initialize\n",
    "  variables for the instance you are creating:\n",
    "\n",
    "  ```python\n",
    "  class YourClass:\n",
    "      def __init__(self):\n",
    "          self.property1 = \"initial_value\"\n",
    "          self.data_store = dict()\n",
    "  ```\n",
    "\n",
    "- constructors can have additional (also named) arguments:\n",
    "\n",
    "  ```python\n",
    "  class Language:\n",
    "      def __init__(self,name,family=\"Unknown\"):\n",
    "          self.name = name\n",
    "          self.family = family\n",
    "  ```"
   ]
  },
  {
   "cell_type": "code",
   "execution_count": null,
   "metadata": {
    "slideshow": {
     "slide_type": "-"
    }
   },
   "outputs": [],
   "source": [
    "class Language:\n",
    "    def __init__(self, name, family=\"Unkown\"):\n",
    "        self.name = name\n",
    "        self.family = family"
   ]
  },
  {
   "cell_type": "markdown",
   "metadata": {
    "slideshow": {
     "slide_type": "slide"
    }
   },
   "source": [
    "### Instance Objects\n",
    "\n",
    "Using a class definition to create instance objects:\n",
    "\n",
    "-   instances are created by calling the class name like a function\n",
    "\n",
    "-   instances you created can be assigned to variables like any other\n",
    "    object, and calling `type()` on them will return your class object\n",
    "\n",
    "-   the arguments of the constructor define in which ways you can create\n",
    "    instances of your class (= objects of your type):"
   ]
  },
  {
   "cell_type": "code",
   "execution_count": null,
   "metadata": {
    "slideshow": {
     "slide_type": "slide"
    }
   },
   "outputs": [],
   "source": [
    "eus = Language(\"Basque\")\n"
   ]
  },
  {
   "cell_type": "code",
   "execution_count": null,
   "metadata": {},
   "outputs": [],
   "source": [
    "eus.family\n"
   ]
  },
  {
   "cell_type": "code",
   "execution_count": null,
   "metadata": {},
   "outputs": [],
   "source": [
    "hun = Language(\"Hungarian\",family=\"Uralic\")\n"
   ]
  },
  {
   "cell_type": "code",
   "execution_count": null,
   "metadata": {},
   "outputs": [],
   "source": [
    "hun.family\n"
   ]
  },
  {
   "cell_type": "code",
   "execution_count": null,
   "metadata": {},
   "outputs": [],
   "source": [
    "kbd = Language(\"Kabardian\",\"Northwest Caucasian\")\n"
   ]
  },
  {
   "cell_type": "code",
   "execution_count": null,
   "metadata": {},
   "outputs": [],
   "source": [
    "kbd.family\n"
   ]
  },
  {
   "cell_type": "markdown",
   "metadata": {
    "slideshow": {
     "slide_type": "slide"
    }
   },
   "source": [
    "### Defining Methods\n",
    "\n",
    "Methods are functions declared inside a class body:\n",
    "\n",
    "-   they must have `self` as the first argument:"
   ]
  },
  {
   "cell_type": "code",
   "execution_count": null,
   "metadata": {},
   "outputs": [],
   "source": [
    "class Language:\n",
    "    def __init__(self,name,family=\"Unknown\"):\n",
    "        self.name = name\n",
    "        self.family = family\n",
    "        \n",
    "    def print_information(self):\n",
    "        print(self.name + \" belongs to \" + self.family)\n",
    "        "
   ]
  },
  {
   "cell_type": "markdown",
   "metadata": {},
   "source": [
    "- in method calls, the object before the dot is assigned to `self`:"
   ]
  },
  {
   "cell_type": "code",
   "execution_count": null,
   "metadata": {},
   "outputs": [],
   "source": [
    "hun = Language(\"Hungarian\",family=\"Uralic\")\n",
    "hun.print_information()\n"
   ]
  },
  {
   "cell_type": "code",
   "execution_count": null,
   "metadata": {},
   "outputs": [],
   "source": [
    "eus = Language(\"Basque\")\n",
    "eus.print_information()\n"
   ]
  },
  {
   "cell_type": "markdown",
   "metadata": {
    "slideshow": {
     "slide_type": "slide"
    }
   },
   "source": [
    "### A Glimpse at Inheritance\n",
    "\n",
    "Some quick info on a more advanced subject:\n",
    "\n",
    "-   `class A(B):` declares A as a **subtype** of B\n",
    "\n",
    "-   all functionality (class variables, methods) are **inherited**, but\n",
    "    can be overridden by redefinition or reassignment in the subclass\n",
    "\n",
    "-   these concepts are only relevant in advanced software engineering\n",
    "    (which is typically not done in Python)\n",
    "\n",
    "-   quite frequently, you see the idiom `class A(object)` in\n",
    "    introductory materials, though"
   ]
  },
  {
   "cell_type": "markdown",
   "metadata": {
    "slideshow": {
     "slide_type": "slide"
    }
   },
   "source": [
    "# Random Sampling\n",
    "\n",
    "Often, we want to use random data in our programs:\n",
    "\n",
    "-   only take a random subset of the input data for tractability\n",
    "\n",
    "-   creating realistic-looking dummy data in order to test a program\n",
    "\n",
    "-   simulating processes like language change, or a walk through the Web\n",
    "\n",
    "-   re-sampling from a dataset to evaluate the stability of results on\n",
    "    varying input (bootstrapping)\n",
    "\n",
    "For all of this, we have the `random` library!"
   ]
  },
  {
   "cell_type": "markdown",
   "metadata": {
    "slideshow": {
     "slide_type": "slide"
    }
   },
   "source": [
    "### The `random` library\n",
    "\n",
    "Basic functionality of the `random` library:\n",
    "\n",
    "-   `random.randint(a,b)` uniformly samples an integer\n",
    "    $a \\leq N \\leq b$:"
   ]
  },
  {
   "cell_type": "code",
   "execution_count": null,
   "metadata": {},
   "outputs": [],
   "source": [
    "import random\n",
    "[random.randint(1,6) for i in range(10)]\n"
   ]
  },
  {
   "cell_type": "markdown",
   "metadata": {},
   "source": [
    "- `random.random()` samples from the uniform distribution over the\n",
    "interval $[0.0,1.0)$:"
   ]
  },
  {
   "cell_type": "code",
   "execution_count": null,
   "metadata": {},
   "outputs": [],
   "source": [
    "[random.random() for i in range(3)]\n"
   ]
  },
  {
   "cell_type": "markdown",
   "metadata": {},
   "source": [
    "- `random.gauss(mu,sigma)` samples from a Gaussian with mean `mu` and\n",
    "standard deviation `sigma`:"
   ]
  },
  {
   "cell_type": "code",
   "execution_count": null,
   "metadata": {},
   "outputs": [],
   "source": [
    "[random.gauss(2,0.5) for i in range(3)]\n"
   ]
  },
  {
   "cell_type": "markdown",
   "metadata": {
    "slideshow": {
     "slide_type": "slide"
    }
   },
   "source": [
    "### The `random` library\n",
    "\n",
    "Sequence sampling using the `random` library:\n",
    "\n",
    "-   `random.choice(seq)` samples from a uniform distribution over a\n",
    "    sequence `seq` of possible values:"
   ]
  },
  {
   "cell_type": "code",
   "execution_count": null,
   "metadata": {},
   "outputs": [],
   "source": [
    "[random.choice([\"a\",\"b\",\"c\"]) for i in range(10)]\n"
   ]
  },
  {
   "cell_type": "markdown",
   "metadata": {},
   "source": [
    "- `random.choices(seq,weights)` samples from a distribution over `seq`\n",
    "provided by the `weight` list:"
   ]
  },
  {
   "cell_type": "code",
   "execution_count": null,
   "metadata": {},
   "outputs": [],
   "source": [
    "[random.choices([\"a\",\"b\"],[0.7,0.3]) for i in range(8)]\n"
   ]
  },
  {
   "cell_type": "markdown",
   "metadata": {
    "slideshow": {
     "slide_type": "slide"
    }
   },
   "source": [
    "- `random.shuffle()` re-orders the sequence in place in a random way:"
   ]
  },
  {
   "cell_type": "code",
   "execution_count": null,
   "metadata": {},
   "outputs": [],
   "source": [
    "list = [\"r\",\"a\",\"n\",\"d\",\"o\",\"m\"]"
   ]
  },
  {
   "cell_type": "code",
   "execution_count": null,
   "metadata": {},
   "outputs": [],
   "source": [
    "for i in range(3):\n",
    "    random.shuffle(list); print(\"\".join(list))"
   ]
  },
  {
   "cell_type": "markdown",
   "metadata": {},
   "source": [
    "Much to cover in more advanced course: random seeds, other\n",
    "distributions, ..."
   ]
  },
  {
   "cell_type": "markdown",
   "metadata": {
    "slideshow": {
     "slide_type": "slide"
    }
   },
   "source": [
    "### Example: Generating random names\n",
    "\n",
    "Assume that we have the following frequency statistics:\n",
    "\n",
    "-   onsets: 25% k, 25% p, 15% l, 10% m, 10% n, 10% \\\"\\\", 5% w\n",
    "\n",
    "-   vowels: 40% a, 20% i, 20% u, 10% e, 10% o\n",
    "\n",
    "Here is a function which samples names from these distributions:"
   ]
  },
  {
   "cell_type": "code",
   "execution_count": null,
   "metadata": {},
   "outputs": [],
   "source": [
    "from random import choices\n",
    "\n",
    "onset_options = [\"k\",\"p\",\"l\",\"m\",\"n\",\"\",\"w\"]\n",
    "onset_weights = [25, 25, 15, 10, 10, 10, 5]\n",
    "vowel_options = [\"a\",\"i\",\"u\",\"e\",\"o\"]\n",
    "vowel_weights = [40, 20, 20, 10, 10]\n",
    " \n",
    "def random_name(num_syllables):\n",
    "    name = \"\"\n",
    "    for i in range(num_syllables):\n",
    "        name += choices(onset_options, onset_weights)[0]\n",
    "        name += choices(vowel_options, vowel_weights)[0]\n",
    "    return name.title()"
   ]
  },
  {
   "cell_type": "code",
   "execution_count": null,
   "metadata": {},
   "outputs": [],
   "source": [
    "random_name(3)"
   ]
  },
  {
   "cell_type": "markdown",
   "metadata": {
    "slideshow": {
     "slide_type": "slide"
    }
   },
   "source": [
    "# Recursion\n",
    "\n",
    "A central concept of programming: **recursion**\n",
    "\n",
    "-   informally: a definition or function which refers to itself\n",
    "\n",
    "-   can be used whenever a problem (e.g. finding all sources of a river)\n",
    "    can be reduced to subproblems of the same type\\\n",
    "    (e.g. finding the sources of a tributary)\n",
    "\n",
    "-   all loops can be implemented using recursion!\n",
    "\n",
    "-   every recursive function can be implemented using iteration!\n",
    "\n",
    "-   BUT: there are many problems for which either iteration or recursion\n",
    "    is more efficient, or easier to implement"
   ]
  },
  {
   "cell_type": "markdown",
   "metadata": {
    "slideshow": {
     "slide_type": "slide"
    }
   },
   "source": [
    "### Base Case and Recursive Cases\n",
    "\n",
    "In computing, recursive definitions need to consist of two parts:\n",
    "\n",
    "-   the **base case** covers the simplest instances of a problem, and\n",
    "    does not refer to the concept being defined (ensures termination)\n",
    "\n",
    "-   the **recursive case** refers to the concept being defined when\n",
    "    describing substructures (expansion to structures of arbitrary size)\n",
    "\n",
    "There is a close relationship between recursion and mathematical\n",
    "induction!\n",
    "\n",
    "-   In induction, you prove that a theorem holds e.g. for $n = 1$ (the\n",
    "    base case), and that it holds for $n = k + 1$ if it already holds\n",
    "    for $n = k$ (recursive case).\n",
    "\n",
    "-   If you want to prove that a recursive algorithm gives the correct\n",
    "    result, you need induction as a proof technique!"
   ]
  },
  {
   "cell_type": "markdown",
   "metadata": {
    "slideshow": {
     "slide_type": "slide"
    }
   },
   "source": [
    "### Recursive Definitions\n",
    "\n",
    "Using recursion in definitions:\n",
    "\n",
    "-   **recursive definition**: a definition which uses the term it\n",
    "    defines\n",
    "\n",
    "-   Example: defining (a subset of) boolean expressions in Python\n",
    "\n",
    "    -   the expressions `True` and `False` are boolean expressions (base\n",
    "        case)\n",
    "\n",
    "    -   an expression of the form `a == b` is a boolean expression (base\n",
    "        case)\n",
    "\n",
    "    -   two boolean expressions conjoined by `and` form a boolean\n",
    "        expression (recursive case)\n",
    "\n",
    "    -   two boolean expressions conjoined by `or` form a boolean\n",
    "        expression (recursive case)\n",
    "\n",
    "    -   a boolean expression preceded by `not` is a boolean expression\\\n",
    "        (recursive case)\n",
    "\n",
    "-   you have probably seen recursive definitions in logic!"
   ]
  },
  {
   "cell_type": "markdown",
   "metadata": {
    "slideshow": {
     "slide_type": "slide"
    }
   },
   "source": [
    "### Recursive Functions\n",
    "\n",
    "Using recursion in function definitions:\n",
    "\n",
    "-   **recursive function**: a function which calls itself\n",
    "\n",
    "-   if the function calls itself on every input, we get **infinite\n",
    "    recursion**\n",
    "\n",
    "-   in all useful recursive functions, each nested call differs in its\n",
    "    arguments (e.g. execution on subproblems)\n",
    "\n",
    "-   for recursive functions to terminate, we need base cases!"
   ]
  },
  {
   "cell_type": "markdown",
   "metadata": {
    "slideshow": {
     "slide_type": "slide"
    }
   },
   "source": [
    "### Recursion vs. Iteration\n",
    "\n",
    "-   in principle, recursion and iteration are equally powerful\\\n",
    "    (one can be used to emulate the other)\n",
    "\n",
    "-   however, there are many definitions and algorithms which are much\n",
    "    easier to write using recursion\n",
    "\n",
    "-   this is especially the case for processing data structures which\n",
    "    contain substructures of varying size (i.e. data that is not tabular\n",
    "    in shape)\n",
    "\n",
    "-   Examples:\n",
    "\n",
    "    -   processing syntax trees for programming languages (in a\n",
    "        compiler) and natural languages (in a parser)\n",
    "\n",
    "    -   processing more general graph structures like networks\n",
    "\n",
    "    -   sorting and searching in structures that are more complex than\n",
    "        lists or dictionaries (e.g. 3-D models)\n",
    "\n",
    "-   We are going to use navigation through trees as our main example!"
   ]
  },
  {
   "cell_type": "markdown",
   "metadata": {
    "slideshow": {
     "slide_type": "slide"
    }
   },
   "source": [
    "# Implementing Trees\n",
    "---------------\n",
    "\n",
    "### Tree Structures in Linguistics\n",
    "\n",
    "Trees are ubiquitous in linguistics:\n",
    "\n",
    "-   syllable structure trees\n",
    "\n",
    "-   word structure trees\n",
    "\n",
    "-   phrase structure trees\n",
    "\n",
    "-   dependency trees\n",
    "\n",
    "-   derivation trees\n",
    "\n",
    "-   formula structure trees"
   ]
  },
  {
   "cell_type": "markdown",
   "metadata": {
    "slideshow": {
     "slide_type": "slide"
    }
   },
   "source": [
    "### Tree Structures in Programming\n",
    "\n",
    "Trees are one of the most important data structures in computer science:\n",
    "\n",
    "-   the best way to maintain sorted records\n",
    "\n",
    "-   efficient retrieval and insertion of elements\n",
    "\n",
    "Important application areas where trees arise:\n",
    "\n",
    "-   directory structure on a file system\n",
    "\n",
    "-   program execution gives rise to call trees\n",
    "\n",
    "-   software packages depend on each other in a tree shape\n",
    "\n",
    "-   the search space of many algorithms is tree-shaped"
   ]
  },
  {
   "cell_type": "markdown",
   "metadata": {
    "slideshow": {
     "slide_type": "slide"
    }
   },
   "source": [
    "### Modeling Nodes\n",
    "\n",
    "Developing a simple tree class:\n",
    "\n",
    "-   each tree node should be the instance of a class `Node`\n",
    "\n",
    "-   the contents of a node (e.g. the category label in a syntax tree)\n",
    "    should be stored as an instance variable\n",
    "\n",
    "-   references to the children of the current node are stored in an\n",
    "    additional instance variable as a list (order matters!)\n",
    "\n",
    "-   a leaf node is modeled by empty children list\n",
    "\n",
    "-   the result is an example of a **recursive data structure**\n",
    "\n",
    "Actually, each `Node` corresponds to the `Tree` of which it forms the\n",
    "root!"
   ]
  },
  {
   "cell_type": "markdown",
   "metadata": {
    "slideshow": {
     "slide_type": "slide"
    }
   },
   "source": [
    "###  Modeling A Tree"
   ]
  },
  {
   "cell_type": "code",
   "execution_count": null,
   "metadata": {},
   "outputs": [],
   "source": [
    "class Tree(object):\n",
    "    def __init__(self, name='root', children=None):\n",
    "        self.name = name\n",
    "        self.children = []\n",
    "        self.parent = None\n",
    "        if children is not None:\n",
    "            for child in children:\n",
    "                self.add_child(child)\n",
    "                child.parent = sel\n",
    "\n",
    "    def add_child(self, node):\n",
    "        assert isinstance(node, Tree)#        self.children.append(node)"
   ]
  },
  {
   "cell_type": "markdown",
   "metadata": {},
   "source": [
    "Notes:\n",
    "\n",
    "-   additional parent pointer makes upward navigation easier\n",
    "\n",
    "-   the trivial `Tree` does not have children,\\\n",
    "    representing a single node with the label `\"root\"`"
   ]
  },
  {
   "cell_type": "markdown",
   "metadata": {
    "slideshow": {
     "slide_type": "slide"
    }
   },
   "source": [
    "### Tree Traversal\n",
    "\n",
    "Traversals are an important part of processing trees:\n",
    "\n",
    "-   a **traversal** defines the order in which the nodes of a tree are\n",
    "    processed\n",
    "\n",
    "-   three logical possibilities:\n",
    "\n",
    "    -   **in-order** traversal (left child first, parent, then other\n",
    "        children)\n",
    "\n",
    "    -   **pre-order** traversal (parent first, then children from left\n",
    "        to right)\n",
    "\n",
    "    -   **post-order** traversal (children from left to right, then\n",
    "        parent)\n",
    "\n",
    "-   all three variants are easiest to implement as recursive functions\n",
    "\n",
    "\n"
   ]
  },
  {
   "cell_type": "markdown",
   "metadata": {
    "slideshow": {
     "slide_type": "slide"
    }
   },
   "source": [
    "### In-Order Traversal\n",
    "\n",
    "![image.png](_img/tree1.svg)\n",
    "\n",
    "In which order are nodes visited by an in-order traversal?"
   ]
  },
  {
   "cell_type": "markdown",
   "metadata": {
    "slideshow": {
     "slide_type": "slide"
    }
   },
   "source": [
    "### In-Order Traversal: Solution\n",
    "\n",
    "![image.png](_img/tree1.svg)\n",
    "\n",
    "\n",
    "Solution: B, A, F, D, G, H, C, E"
   ]
  },
  {
   "cell_type": "markdown",
   "metadata": {
    "slideshow": {
     "slide_type": "slide"
    }
   },
   "source": [
    "### In-Order Traversal: Code\n",
    "\n",
    "Implementation within the `Tree` class:"
   ]
  },
  {
   "cell_type": "code",
   "execution_count": null,
   "metadata": {},
   "outputs": [],
   "source": [
    "def inorder(self):\n",
    "    \"\"\"In-order traversal:\n",
    "    First recurse into left child, then visit the node itself, \n",
    "    then recurse into other children in order.\n",
    "    \n",
    "    :return: A list of tree nodes in in-order.\"\"\"\n",
    "    result = []\n",
    "    if len(self.children) > 0:\n",
    "        result += self.children[0].inorder()\n",
    "    result.append(self)\n",
    "    for i in range(1,len(self.children)):\n",
    "        result += self.children[i].inorder()\n",
    "    return result"
   ]
  },
  {
   "cell_type": "markdown",
   "metadata": {
    "slideshow": {
     "slide_type": "slide"
    }
   },
   "source": [
    "### Pre-Order Traversal\n",
    "\n",
    "![image.png](_img/tree1.svg)\n",
    "\n",
    "In which order are nodes visited by a pre-order traversal?"
   ]
  },
  {
   "cell_type": "markdown",
   "metadata": {
    "slideshow": {
     "slide_type": "slide"
    }
   },
   "source": [
    "### Pre-Order Traversal: Solution\n",
    "![image.png](_img/tree1.svg)\n",
    "\n",
    "Solution: A, B, C, D, F, G, H, E\n"
   ]
  },
  {
   "cell_type": "markdown",
   "metadata": {
    "slideshow": {
     "slide_type": "slide"
    }
   },
   "source": [
    "### Post-Order Traversal\n",
    "\n",
    "![image.png](_img/tree1.svg)\n",
    "\n",
    "In which order are nodes visited by a pre-order traversal?"
   ]
  },
  {
   "cell_type": "markdown",
   "metadata": {
    "slideshow": {
     "slide_type": "slide"
    }
   },
   "source": [
    "### Post-Order Traversal: Solution\n",
    "\n",
    "![image.png](_img/tree1.svg)\n",
    "\n",
    "Solution: B, F, G, H, D, E, C, A"
   ]
  }
 ],
 "metadata": {
  "@webio": {
   "lastCommId": null,
   "lastKernelId": null
  },
  "celltoolbar": "Slideshow",
  "kernelspec": {
   "display_name": "Python 3 (ipykernel)",
   "language": "python",
   "name": "python3"
  },
  "language_info": {
   "codemirror_mode": {
    "name": "ipython",
    "version": 3
   },
   "file_extension": ".py",
   "mimetype": "text/x-python",
   "name": "python",
   "nbconvert_exporter": "python",
   "pygments_lexer": "ipython3",
   "version": "3.9.7"
  },
  "latex_envs": {
   "LaTeX_envs_menu_present": true,
   "autoclose": false,
   "autocomplete": true,
   "bibliofile": "biblio.bib",
   "cite_by": "apalike",
   "current_citInitial": 1,
   "eqLabelWithNumbers": true,
   "eqNumInitial": 1,
   "hotkeys": {
    "equation": "Ctrl-E",
    "itemize": "Ctrl-I"
   },
   "labels_anchors": false,
   "latex_user_defs": false,
   "report_style_numbering": false,
   "user_envs_cfg": false
  },
  "rise": {
   "enable_chalkboard": true
  }
 },
 "nbformat": 4,
 "nbformat_minor": 4
}
