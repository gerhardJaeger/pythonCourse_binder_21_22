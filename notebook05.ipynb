{
 "cells": [
  {
   "cell_type": "markdown",
   "metadata": {
    "slideshow": {
     "slide_type": "slide"
    }
   },
   "source": [
    "# Methods I: Programming and Data Analysis\n",
    "\n",
    "## Session 05: Conditional Execution, Loops\n",
    "\n",
    "### Gerhard Jäger\n",
    "\n",
    "#### (based on Johannes Dellert's slides)\n",
    "\n",
    "November 23, 2021"
   ]
  },
  {
   "cell_type": "markdown",
   "metadata": {
    "slideshow": {
     "slide_type": "slide"
    }
   },
   "source": [
    "### Indentation and Block Structure\n",
    "\n",
    "In Python, block structure is expressed by **indentation**:\n",
    "\n",
    "-   by convention, one level of indentation is created by the tab key\n",
    "\n",
    "-   a block of statements is defined by\n",
    "    **a sequence of lines with identical indentation**\n",
    "\n",
    "-   if you move one indentation layer to the left, you are leaving the\n",
    "    block!\n",
    "\n",
    "-   Question: What is the output of this program?"
   ]
  },
  {
   "cell_type": "code",
   "execution_count": 1,
   "metadata": {
    "slideshow": {
     "slide_type": "slide"
    }
   },
   "outputs": [
    {
     "name": "stdout",
     "output_type": "stream",
     "text": [
      "outside block!\n",
      "in block!\n",
      "in block!\n",
      "still in block!\n"
     ]
    }
   ],
   "source": [
    "def a_function():\n",
    "    print(\"in block!\")\n",
    "    print(\"in block!\")\n",
    "    print(\"still in block!\")\n",
    "\n",
    "print(\"outside block!\")\n",
    "\n",
    "a_function()"
   ]
  },
  {
   "cell_type": "markdown",
   "metadata": {
    "slideshow": {
     "slide_type": "-"
    }
   },
   "source": [
    "Spyder will assist you in maintaining consistent indentation within\n",
    "blocks (this explains many of the small hints you receive)"
   ]
  },
  {
   "cell_type": "markdown",
   "metadata": {
    "slideshow": {
     "slide_type": "slide"
    }
   },
   "source": [
    "### Conditional Execution\n",
    "\n",
    "An extremely important construct is **conditional execution**:\n",
    "\n",
    "-   allows execution of a block of statements to only occur under some\n",
    "    Boolean condition (a test whether something is true or false)\n",
    "\n",
    "-   in language: \"if this is the case, do this\"\n",
    "\n",
    "-   syntax of the basic **if statement** in Python:\n",
    "\n",
    "\n",
    ">if *condition*: \\\n",
    ">   *statement 1* \\\n",
    ">   *statement 2*"
   ]
  },
  {
   "cell_type": "markdown",
   "metadata": {
    "slideshow": {
     "slide_type": "slide"
    }
   },
   "source": [
    "- Example:"
   ]
  },
  {
   "cell_type": "code",
   "execution_count": 2,
   "metadata": {},
   "outputs": [
    {
     "name": "stdout",
     "output_type": "stream",
     "text": [
      "WARNING: lowercase name, normalizing!\n",
      "Name: Python\n"
     ]
    }
   ],
   "source": [
    "name = \"python\"\n",
    "if name.islower():\n",
    "    print(\"WARNING: lowercase name, normalizing!\")\n",
    "    name = name.title()\n",
    "print(\"Name: \" + name)\n"
   ]
  },
  {
   "cell_type": "markdown",
   "metadata": {
    "slideshow": {
     "slide_type": "slide"
    }
   },
   "source": [
    "### Conditional Execution: Example\n",
    "\n",
    "-   the `==` operator checks for equality:"
   ]
  },
  {
   "cell_type": "code",
   "execution_count": 3,
   "metadata": {},
   "outputs": [
    {
     "name": "stdout",
     "output_type": "stream",
     "text": [
      "den Mann\n",
      "die Frau\n",
      "das Kind\n"
     ]
    }
   ],
   "source": [
    "def accusative_article(gender):\n",
    "    if gender == \"m\":\n",
    "        return \"den\"\n",
    "    if gender == \"f\":\n",
    "        return \"die\"\n",
    "    if gender == \"n\":\n",
    "        return \"das\"\n",
    "\n",
    "\n",
    "print(accusative_article(\"m\") + \" Mann\")\n",
    "print(accusative_article(\"f\") + \" Frau\")\n",
    "print(accusative_article(\"n\") + \" Kind\")\n"
   ]
  },
  {
   "cell_type": "markdown",
   "metadata": {
    "slideshow": {
     "slide_type": "slide"
    }
   },
   "source": [
    "### Conditional Execution: The `else` statement\n",
    "\n",
    "In many cases, you want to define some alternative behavior:\n",
    "\n",
    "-   \"If this is the case, do this. Otherwise, do that.\"\n",
    "\n",
    "-   this is expressed by an additional **`else`** statement\n",
    "\n",
    "-   the else statement always refers to the preceding if statement\n",
    "\n",
    "-   Example:"
   ]
  },
  {
   "cell_type": "code",
   "execution_count": 4,
   "metadata": {},
   "outputs": [],
   "source": [
    "stored_password = \"abc123\"\n",
    "def open_database():\n",
    "    pass\n"
   ]
  },
  {
   "cell_type": "code",
   "execution_count": 5,
   "metadata": {},
   "outputs": [
    {
     "name": "stdout",
     "output_type": "stream",
     "text": [
      "Enter your password: abc123\n",
      "Access granted!\n"
     ]
    }
   ],
   "source": [
    "user_password = input(\"Enter your password: \")\n",
    "\n",
    "if user_password == stored_password:\n",
    "    print(\"Access granted!\")\n",
    "    open_database()\n",
    "else:\n",
    "    print(\"Access denied!\")\n",
    "    "
   ]
  },
  {
   "cell_type": "markdown",
   "metadata": {
    "slideshow": {
     "slide_type": "slide"
    }
   },
   "source": [
    "### Conditional Execution: The `elif` statement\n",
    "\n",
    "Multiple conditions can be checked using **`elif`** statements\n",
    "\n",
    "-   `elif` is a contraction of `else` and `if`\n",
    "\n",
    "-   a complex if statement consists of one `if`, one or more `elif`\n",
    "    statements, and optionally one final `else`"
   ]
  },
  {
   "cell_type": "code",
   "execution_count": 6,
   "metadata": {},
   "outputs": [
    {
     "name": "stdout",
     "output_type": "stream",
     "text": [
      "ich lache\n",
      "du lachst\n",
      "er lacht\n"
     ]
    }
   ],
   "source": [
    "def conjugate(verb, person):\n",
    "    stem = verb[:-2] # delete infinitive ending -en\n",
    "    if person == \"1sg\":\n",
    "        return \"ich \" + stem + \"e\"\n",
    "    elif person == \"2sg\":\n",
    "        return \"du \" + stem + \"st\"\n",
    "    elif person == \"3sg\":\n",
    "        return \"er \" + stem + \"t\"\n",
    "\n",
    "print(conjugate(\"lachen\",\"1sg\"))\n",
    "print(conjugate(\"lachen\",\"2sg\"))\n",
    "print(conjugate(\"lachen\",\"3sg\"))\n"
   ]
  },
  {
   "cell_type": "markdown",
   "metadata": {
    "slideshow": {
     "slide_type": "slide"
    }
   },
   "source": [
    "### Conditional Execution: Nested `if` statements"
   ]
  },
  {
   "cell_type": "code",
   "execution_count": 7,
   "metadata": {},
   "outputs": [],
   "source": [
    "def definite_article(case, gender):\n",
    "    if gender == \"f\":\n",
    "        if case == \"nom\" or case == \"acc\":\n",
    "            return \"die\"\n",
    "        else:\n",
    "            return \"der\"\n",
    "    else:\n",
    "        if case == \"gen\":\n",
    "            return \"des\"\n",
    "        elif case == \"dat\":\n",
    "            return \"dem\"\n",
    "        else:\n",
    "            if gender == \"m\":\n",
    "                if case == \"nom\":\n",
    "                    return \"der\"\n",
    "                else:\n",
    "                    return \"den\"\n",
    "            else:\n",
    "                return \"das\"\n",
    "            "
   ]
  },
  {
   "cell_type": "code",
   "execution_count": 8,
   "metadata": {},
   "outputs": [
    {
     "data": {
      "text/plain": [
       "'die'"
      ]
     },
     "execution_count": 8,
     "metadata": {},
     "output_type": "execute_result"
    }
   ],
   "source": [
    "definite_article(\"nom\", \"f\")\n"
   ]
  },
  {
   "cell_type": "markdown",
   "metadata": {
    "slideshow": {
     "slide_type": "slide"
    }
   },
   "source": [
    "Comparisons and Tests\n",
    "=====================\n",
    "\n",
    "### Comparison Operators\n",
    "\n",
    "The condition in an `if` statement\n",
    "\n",
    "-   must be an expression which evaluates to a boolean value\\\n",
    "    (i.e. either `True` or `False` object)\n",
    "\n",
    "-   can be any such expression:\n",
    "\n",
    "    -   a function or method call evaluating to a boolean\\\n",
    "        (example: `str.islower()`, but you can define your own)\n",
    "\n",
    "    -   a comparison using one of the standard comparison operators like\n",
    "        `==`\n",
    "\n",
    "    -   a combination of boolean expressions by means of boolean\n",
    "        operators"
   ]
  },
  {
   "cell_type": "markdown",
   "metadata": {
    "slideshow": {
     "slide_type": "slide"
    }
   },
   "source": [
    "Equality is not the only **built-in comparison operator**:\n",
    "\n",
    "-   **`==`** tests whether two objects are equal ($=$ in math)\n",
    "\n",
    "-   **`!=`** tests whether two objects are different ($\\neq$ in math)\n",
    "\n",
    "-   **`<`** tests whether the first object is strictly smaller than the\n",
    "    second\n",
    "\n",
    "-   **`>`** tests whether the first object is strictly larger than the\n",
    "    second\n",
    "\n",
    "-   **`<=`** tests whether the first object is smaller than or equal to\n",
    "    the second\n",
    "\n",
    "-   **`>=`** tests whether the first object is larger than or equal to\n",
    "    the second\n",
    "\n",
    "-   **`is`** tests whether two objects are identical\n",
    "    (i.e. stored at the same memory location) - discouraged since Python 3.8"
   ]
  },
  {
   "cell_type": "markdown",
   "metadata": {
    "slideshow": {
     "slide_type": "slide"
    }
   },
   "source": [
    "### Comparison Operators: Behavior on numbers\n",
    "\n",
    "On numbers, comparison operators work just like you would expect, with\n",
    "some caveats about equality:\n",
    "\n",
    "-   two numbers are equal if they are considered equal in mathematics,\n",
    "    even across types:"
   ]
  },
  {
   "cell_type": "code",
   "execution_count": 9,
   "metadata": {},
   "outputs": [
    {
     "data": {
      "text/plain": [
       "True"
      ]
     },
     "execution_count": 9,
     "metadata": {},
     "output_type": "execute_result"
    }
   ],
   "source": [
    "1.0 == 1\n"
   ]
  },
  {
   "cell_type": "markdown",
   "metadata": {},
   "source": [
    "- however, they are only identical if they are also of the same type:"
   ]
  },
  {
   "cell_type": "code",
   "execution_count": 10,
   "metadata": {},
   "outputs": [
    {
     "name": "stderr",
     "output_type": "stream",
     "text": [
      "<>:1: SyntaxWarning: \"is\" with a literal. Did you mean \"==\"?\n",
      "<>:1: SyntaxWarning: \"is\" with a literal. Did you mean \"==\"?\n",
      "/tmp/ipykernel_177145/2737627980.py:1: SyntaxWarning: \"is\" with a literal. Did you mean \"==\"?\n",
      "  1.0 is 1\n"
     ]
    },
    {
     "data": {
      "text/plain": [
       "False"
      ]
     },
     "execution_count": 10,
     "metadata": {},
     "output_type": "execute_result"
    }
   ],
   "source": [
    "1.0 is 1\n"
   ]
  },
  {
   "cell_type": "markdown",
   "metadata": {
    "slideshow": {
     "slide_type": "slide"
    }
   },
   "source": [
    "- attention with `float` objects: due to imprecisions caused by\n",
    "rounding, some mathematically equal results are not identical as\n",
    "floats!"
   ]
  },
  {
   "cell_type": "code",
   "execution_count": 11,
   "metadata": {},
   "outputs": [
    {
     "data": {
      "text/plain": [
       "0.30000000000000004"
      ]
     },
     "execution_count": 11,
     "metadata": {},
     "output_type": "execute_result"
    }
   ],
   "source": [
    "0.1 + 0.2\n"
   ]
  },
  {
   "cell_type": "code",
   "execution_count": 12,
   "metadata": {},
   "outputs": [
    {
     "data": {
      "text/plain": [
       "False"
      ]
     },
     "execution_count": 12,
     "metadata": {},
     "output_type": "execute_result"
    }
   ],
   "source": [
    "0.1 + 0.2 == 0.3\n"
   ]
  },
  {
   "cell_type": "markdown",
   "metadata": {
    "slideshow": {
     "slide_type": "slide"
    }
   },
   "source": [
    "### Comparison Operators: Behavior on strings\n",
    "\n",
    "Like `+` and `*`, comparison is also defined for strings:\n",
    "\n",
    "-   two string objects are equal (and identical) if they consist of the\n",
    "    same characters in the same order\n",
    "\n",
    "-   a string `a` is smaller than a string `b` if it alphabetically\n",
    "    precedes it (**dictionary order**):"
   ]
  },
  {
   "cell_type": "code",
   "execution_count": 13,
   "metadata": {},
   "outputs": [
    {
     "data": {
      "text/plain": [
       "True"
      ]
     },
     "execution_count": 13,
     "metadata": {},
     "output_type": "execute_result"
    }
   ],
   "source": [
    "\"braten\" < \"bratz\"\n"
   ]
  },
  {
   "cell_type": "markdown",
   "metadata": {},
   "source": [
    "- for special characters, the order will not be intuitive, however"
   ]
  },
  {
   "cell_type": "code",
   "execution_count": 14,
   "metadata": {},
   "outputs": [
    {
     "data": {
      "text/plain": [
       "True"
      ]
     },
     "execution_count": 14,
     "metadata": {},
     "output_type": "execute_result"
    }
   ],
   "source": [
    "\"fuhren\" < \"führe\"\n"
   ]
  },
  {
   "cell_type": "markdown",
   "metadata": {},
   "source": [
    "- reason: different countries have different standards, neutral\n",
    "definition in terms of encodings"
   ]
  },
  {
   "cell_type": "markdown",
   "metadata": {
    "slideshow": {
     "slide_type": "slide"
    }
   },
   "source": [
    "### Complex Boolean Expressions\n",
    "\n",
    "Boolean expressions can be combined by means of **boolean operators**:\n",
    "\n",
    "- **`and`** to express conjunction:\n",
    "\n",
    "  ``` {language=\"python\"}\n",
    "  if case == \"dat\" and number == \"pl\":\n",
    "      definite_article = \"den\"\n",
    "  ```\n",
    "\n",
    "- **`or`** to express disjunction:\n",
    "\n",
    "  ``` {language=\"python\"}\n",
    "  if v[-2:] == \"ss\" or v[-1:] == \"x\" or v[-2:] == \"ch\":\n",
    "      third_person_singular = v + \"es\"\n",
    "  else:\n",
    "      third_person_singular = v + \"s\"\n",
    "  ```\n",
    "\n",
    "- **`not`** to express negation:\n",
    "\n",
    "  ``` {language=\"python\"}\n",
    "  if not user_password == stored_password:\n",
    "      print(\"Access denied! Aborting.\")\n",
    "      quit()\n",
    "  ```"
   ]
  },
  {
   "cell_type": "markdown",
   "metadata": {
    "slideshow": {
     "slide_type": "slide"
    }
   },
   "source": [
    "### Complex Boolean Expressions\n",
    "\n",
    "As for arithmetic operations, there are **precedence rules**:\n",
    "\n",
    "-   `not` precedes `and`, which in turn precedes `or`:"
   ]
  },
  {
   "cell_type": "code",
   "execution_count": 15,
   "metadata": {},
   "outputs": [
    {
     "data": {
      "text/plain": [
       "True"
      ]
     },
     "execution_count": 15,
     "metadata": {},
     "output_type": "execute_result"
    }
   ],
   "source": [
    "name = \"Bonn\"\n",
    "not name.startswith(\"B\") or name.endswith(\"n\")\n"
   ]
  },
  {
   "cell_type": "markdown",
   "metadata": {},
   "source": [
    "- precedence can again be overruled by brackets:"
   ]
  },
  {
   "cell_type": "code",
   "execution_count": 16,
   "metadata": {},
   "outputs": [
    {
     "data": {
      "text/plain": [
       "False"
      ]
     },
     "execution_count": 16,
     "metadata": {},
     "output_type": "execute_result"
    }
   ],
   "source": [
    "not(name.startswith(\"B\") or name.endswith(\"n\"))\n"
   ]
  },
  {
   "cell_type": "markdown",
   "metadata": {
    "slideshow": {
     "slide_type": "slide"
    }
   },
   "source": [
    "### Clarifications: Testing\n",
    "\n",
    "This is how you should test your own code before submitting it:\n",
    "\n",
    "-   create a **new Spyder project for each assignment** (this makes it\n",
    "    easier to ensure that the test program will find your solution)\n",
    "\n",
    "-   copy the files `ex_0k.py` and `test_ex_0k.py` into the project\n",
    "\n",
    "-   to run the unit tests, **run `test_ex_0k.py` as a program** (for\n",
    "    this, you might need to create a new run configuration via the Run\n",
    "    menu)\n",
    "\n",
    "-   continue improving your code until all tests are successful\n",
    "\n",
    "-   this will allow you to avoid many trivial mistakes in your\n",
    "    submission!"
   ]
  },
  {
   "cell_type": "markdown",
   "metadata": {
    "slideshow": {
     "slide_type": "slide"
    }
   },
   "source": [
    "### Clarifications: Returning Expressions\n",
    "\n",
    "You can return the result of any expression, not just a variable:\n",
    "\n",
    "-   example student implementation of `pig_latin()`:"
   ]
  },
  {
   "cell_type": "code",
   "execution_count": 17,
   "metadata": {},
   "outputs": [],
   "source": [
    "def pig_latin(word):\n",
    "    pig_latin_variant = word[1:] + word[0] + \"ay\"\n",
    "    return pig_latin_variant\n"
   ]
  },
  {
   "cell_type": "markdown",
   "metadata": {},
   "source": [
    "- more straightforward implementation without a variable:"
   ]
  },
  {
   "cell_type": "code",
   "execution_count": 18,
   "metadata": {},
   "outputs": [],
   "source": [
    "def pig_latin(word):\n",
    "    return word[1:] + word[0] + \"ay\"\n"
   ]
  },
  {
   "cell_type": "markdown",
   "metadata": {},
   "source": [
    "- this also applies to boolean values:"
   ]
  },
  {
   "cell_type": "code",
   "execution_count": 19,
   "metadata": {},
   "outputs": [],
   "source": [
    "def is_vowel(letter):\n",
    "    l = letter.lower()\n",
    "    return l == 'a' or l == 'e' or l == 'i' or ...\n"
   ]
  },
  {
   "cell_type": "markdown",
   "metadata": {
    "slideshow": {
     "slide_type": "slide"
    }
   },
   "source": [
    "### Clarifications: The Uses of `elif`\n",
    "\n",
    "There are good reasons for using the `elif` statement:\n",
    "\n",
    "- `elif` is a compact equivalent of the following nested structure\n",
    "\n",
    "  ``` {language=\"python\"}\n",
    "    else:\n",
    "      if condition:\n",
    "        statement\n",
    "  ```\n",
    "\n",
    "- if you have many `if` statements in a block, all checks will be\n",
    "  performed (question: how could this be simplified by `elif`\n",
    "  statements?)"
   ]
  },
  {
   "cell_type": "code",
   "execution_count": 20,
   "metadata": {},
   "outputs": [
    {
     "name": "stdout",
     "output_type": "stream",
     "text": [
      "You probably can read this.\n"
     ]
    }
   ],
   "source": [
    "age = 10\n",
    "if age <= 6:\n",
    "    print(\"You probably can't read this!\")\n",
    "if age > 6 and age <= 12:\n",
    "    print(\"You probably can read this.\")\n",
    "if age > 12 and age < 18:\n",
    "    print(\"Ask you parents for a subscription!\")\n",
    "if age >= 18:\n",
    "    print(\"Can I interest you in a subscription?\")\n",
    "    "
   ]
  },
  {
   "cell_type": "markdown",
   "metadata": {
    "slideshow": {
     "slide_type": "slide"
    }
   },
   "source": [
    "### Clarifications: The Uses of `elif`\n",
    "\n",
    "-   an `else` statement will cover all cases not covered by the previous\n",
    "    `if` and all intervening `elif` statements, leading to an error\n",
    "    here:"
   ]
  },
  {
   "cell_type": "code",
   "execution_count": 21,
   "metadata": {},
   "outputs": [
    {
     "name": "stdout",
     "output_type": "stream",
     "text": [
      "You probably can read this.\n",
      "Can I interest you in a subscription?\n"
     ]
    }
   ],
   "source": [
    "age = 10\n",
    "if age <= 6:\n",
    "    print(\"You probably can't read this!\")\n",
    "if age > 6 and age <= 12:\n",
    "    print(\"You probably can read this.\")\n",
    "if age > 12 and age < 18:\n",
    "      print(\"Ask you parents for a subscription!\")\n",
    "else:\n",
    "    print(\"Can I interest you in a subscription?\")\n",
    "    "
   ]
  },
  {
   "cell_type": "markdown",
   "metadata": {
    "slideshow": {
     "slide_type": "slide"
    }
   },
   "source": [
    "### Clarifications: The Uses of `elif`\n",
    "\n",
    "-   with `elif` statements, we get the intended semantics:"
   ]
  },
  {
   "cell_type": "code",
   "execution_count": 22,
   "metadata": {},
   "outputs": [
    {
     "name": "stdout",
     "output_type": "stream",
     "text": [
      "You probably can read this.\n"
     ]
    }
   ],
   "source": [
    "age = 10\n",
    "if age <= 6:\n",
    "    print(\"You probably can 't read this!\")\n",
    "elif age <= 12:\n",
    "    print(\"You probably can read this.\")\n",
    "elif age < 18:\n",
    "    print(\"Ask you parents for a subscription !\")\n",
    "else:\n",
    "    print(\"Can I interest you in a subscription ?\")\n",
    "    "
   ]
  },
  {
   "cell_type": "markdown",
   "metadata": {
    "slideshow": {
     "slide_type": "slide"
    }
   },
   "source": [
    "Loops\n",
    "=====\n",
    "\n",
    "### Loops: Basics\n",
    "\n",
    "With **loops**, we introduce a central feature of any programming\n",
    "language:\n",
    "\n",
    "-   the essential mechanism for **executing the same sequence of\n",
    "    statements multiple times** (e.g. to a sequence of objects)\n",
    "\n",
    "-   advantage 1: further reduction of need to create almost identical\n",
    "    copies of code (in addition to the advantages of functions)\n",
    "\n",
    "-   advantage 2: the number of iterations can be determined at runtime\n",
    "    (allowing us to handle e.g. strings and sentences of any length)\n",
    "\n",
    "-   disadvantage: loops imply a risk that a program might not terminate,\n",
    "    causing it to not crash, but to continue computing forever"
   ]
  },
  {
   "cell_type": "markdown",
   "metadata": {
    "slideshow": {
     "slide_type": "slide"
    }
   },
   "source": [
    "### The `while` loop\n",
    "\n",
    "The **while loop** is the most general loop construct:\n",
    "\n",
    "- repeats execution of a block of code as long as a condition is met\n",
    "\n",
    "- in natural language: \"while this is the case, repeat this\"\n",
    "\n",
    "- syntax in Python:\n",
    "\n",
    "  ``` {language=\"python\"}\n",
    "     while condition:\n",
    "       statement1\n",
    "       statement2\n",
    "  ```\n",
    "\n",
    "- the condition is a boolean expression, as in an if statement"
   ]
  },
  {
   "cell_type": "markdown",
   "metadata": {
    "slideshow": {
     "slide_type": "slide"
    }
   },
   "source": [
    "### The `while` loop: Examples\n",
    "\n",
    "-   creating a multiplication table:"
   ]
  },
  {
   "cell_type": "code",
   "execution_count": 23,
   "metadata": {},
   "outputs": [
    {
     "name": "stdout",
     "output_type": "stream",
     "text": [
      "1\t2\t3\t4\t5\t6\t7\t8\t9\t10\t\n",
      "2\t4\t6\t8\t10\t12\t14\t16\t18\t20\t\n",
      "3\t6\t9\t12\t15\t18\t21\t24\t27\t30\t\n",
      "4\t8\t12\t16\t20\t24\t28\t32\t36\t40\t\n",
      "5\t10\t15\t20\t25\t30\t35\t40\t45\t50\t\n",
      "6\t12\t18\t24\t30\t36\t42\t48\t54\t60\t\n",
      "7\t14\t21\t28\t35\t42\t49\t56\t63\t70\t\n",
      "8\t16\t24\t32\t40\t48\t56\t64\t72\t80\t\n",
      "9\t18\t27\t36\t45\t54\t63\t72\t81\t90\t\n",
      "10\t20\t30\t40\t50\t60\t70\t80\t90\t100\t\n"
     ]
    }
   ],
   "source": [
    "x, y, line = 1, 1, \"\"\n",
    "while x <= 10 and y <= 10:\n",
    "    line += str(x * y) + \"\\t\"\n",
    "    y += 1\n",
    "    if y > 10:\n",
    "        print(line)\n",
    "        x += 1\n",
    "        y, line = 1, \"\"\n"
   ]
  },
  {
   "cell_type": "markdown",
   "metadata": {
    "slideshow": {
     "slide_type": "slide"
    }
   },
   "source": [
    "- behind every interactive program, there is a main loop:"
   ]
  },
  {
   "cell_type": "code",
   "execution_count": 24,
   "metadata": {
    "collapsed": true
   },
   "outputs": [
    {
     "name": "stdout",
     "output_type": "stream",
     "text": [
      "\n",
      "What do you want to do next?12\n",
      "This feature is not yet implemented\n",
      "\n",
      "What do you want to do next?sleep\n",
      "Sweet dreams!\n"
     ]
    },
    {
     "ename": "KeyboardInterrupt",
     "evalue": "Interrupted by user",
     "output_type": "error",
     "traceback": [
      "\u001b[0;31m---------------------------------------------------------------------------\u001b[0m",
      "\u001b[0;31mKeyboardInterrupt\u001b[0m                         Traceback (most recent call last)",
      "\u001b[0;32m/tmp/ipykernel_177145/192677088.py\u001b[0m in \u001b[0;36m<module>\u001b[0;34m\u001b[0m\n\u001b[1;32m      1\u001b[0m \u001b[0;32mwhile\u001b[0m \u001b[0;32mTrue\u001b[0m\u001b[0;34m:\u001b[0m\u001b[0;34m\u001b[0m\u001b[0;34m\u001b[0m\u001b[0m\n\u001b[0;32m----> 2\u001b[0;31m     \u001b[0mcommand\u001b[0m \u001b[0;34m=\u001b[0m \u001b[0minput\u001b[0m\u001b[0;34m(\u001b[0m\u001b[0;34m\"\\nWhat do you want to do next?\"\u001b[0m\u001b[0;34m)\u001b[0m\u001b[0;34m\u001b[0m\u001b[0;34m\u001b[0m\u001b[0m\n\u001b[0m\u001b[1;32m      3\u001b[0m     \u001b[0;32mif\u001b[0m \u001b[0mcommand\u001b[0m \u001b[0;34m==\u001b[0m \u001b[0;34m\"count\"\u001b[0m\u001b[0;34m:\u001b[0m\u001b[0;34m\u001b[0m\u001b[0;34m\u001b[0m\u001b[0m\n\u001b[1;32m      4\u001b[0m         \u001b[0mprint\u001b[0m\u001b[0;34m(\u001b[0m\u001b[0;34m\"One, two, three, four!\"\u001b[0m\u001b[0;34m)\u001b[0m\u001b[0;34m\u001b[0m\u001b[0;34m\u001b[0m\u001b[0m\n\u001b[1;32m      5\u001b[0m     \u001b[0;32melif\u001b[0m \u001b[0mcommand\u001b[0m \u001b[0;34m==\u001b[0m \u001b[0;34m\"sleep\"\u001b[0m\u001b[0;34m:\u001b[0m\u001b[0;34m\u001b[0m\u001b[0;34m\u001b[0m\u001b[0m\n",
      "\u001b[0;32m~/anaconda3/envs/pythonCourse/lib/python3.9/site-packages/ipykernel/kernelbase.py\u001b[0m in \u001b[0;36mraw_input\u001b[0;34m(self, prompt)\u001b[0m\n\u001b[1;32m   1004\u001b[0m                 \u001b[0;34m\"raw_input was called, but this frontend does not support input requests.\"\u001b[0m\u001b[0;34m\u001b[0m\u001b[0;34m\u001b[0m\u001b[0m\n\u001b[1;32m   1005\u001b[0m             )\n\u001b[0;32m-> 1006\u001b[0;31m         return self._input_request(\n\u001b[0m\u001b[1;32m   1007\u001b[0m             \u001b[0mstr\u001b[0m\u001b[0;34m(\u001b[0m\u001b[0mprompt\u001b[0m\u001b[0;34m)\u001b[0m\u001b[0;34m,\u001b[0m\u001b[0;34m\u001b[0m\u001b[0;34m\u001b[0m\u001b[0m\n\u001b[1;32m   1008\u001b[0m             \u001b[0mself\u001b[0m\u001b[0;34m.\u001b[0m\u001b[0m_parent_ident\u001b[0m\u001b[0;34m[\u001b[0m\u001b[0;34m\"shell\"\u001b[0m\u001b[0;34m]\u001b[0m\u001b[0;34m,\u001b[0m\u001b[0;34m\u001b[0m\u001b[0;34m\u001b[0m\u001b[0m\n",
      "\u001b[0;32m~/anaconda3/envs/pythonCourse/lib/python3.9/site-packages/ipykernel/kernelbase.py\u001b[0m in \u001b[0;36m_input_request\u001b[0;34m(self, prompt, ident, parent, password)\u001b[0m\n\u001b[1;32m   1049\u001b[0m             \u001b[0;32mexcept\u001b[0m \u001b[0mKeyboardInterrupt\u001b[0m\u001b[0;34m:\u001b[0m\u001b[0;34m\u001b[0m\u001b[0;34m\u001b[0m\u001b[0m\n\u001b[1;32m   1050\u001b[0m                 \u001b[0;31m# re-raise KeyboardInterrupt, to truncate traceback\u001b[0m\u001b[0;34m\u001b[0m\u001b[0;34m\u001b[0m\u001b[0m\n\u001b[0;32m-> 1051\u001b[0;31m                 \u001b[0;32mraise\u001b[0m \u001b[0mKeyboardInterrupt\u001b[0m\u001b[0;34m(\u001b[0m\u001b[0;34m\"Interrupted by user\"\u001b[0m\u001b[0;34m)\u001b[0m \u001b[0;32mfrom\u001b[0m \u001b[0;32mNone\u001b[0m\u001b[0;34m\u001b[0m\u001b[0;34m\u001b[0m\u001b[0m\n\u001b[0m\u001b[1;32m   1052\u001b[0m             \u001b[0;32mexcept\u001b[0m \u001b[0mException\u001b[0m\u001b[0;34m:\u001b[0m\u001b[0;34m\u001b[0m\u001b[0;34m\u001b[0m\u001b[0m\n\u001b[1;32m   1053\u001b[0m                 \u001b[0mself\u001b[0m\u001b[0;34m.\u001b[0m\u001b[0mlog\u001b[0m\u001b[0;34m.\u001b[0m\u001b[0mwarning\u001b[0m\u001b[0;34m(\u001b[0m\u001b[0;34m\"Invalid Message:\"\u001b[0m\u001b[0;34m,\u001b[0m \u001b[0mexc_info\u001b[0m\u001b[0;34m=\u001b[0m\u001b[0;32mTrue\u001b[0m\u001b[0;34m)\u001b[0m\u001b[0;34m\u001b[0m\u001b[0;34m\u001b[0m\u001b[0m\n",
      "\u001b[0;31mKeyboardInterrupt\u001b[0m: Interrupted by user"
     ]
    }
   ],
   "source": [
    "while True:\n",
    "    command = input(\"\\nWhat do you want to do next?\")\n",
    "    if command == \"count\":\n",
    "        print(\"One, two, three, four!\")\n",
    "    elif command == \"sleep\":\n",
    "        print(\"Sweet dreams!\")\n",
    "    else:\n",
    "        print(\"This feature is not yet implemented\")\n",
    "        "
   ]
  },
  {
   "cell_type": "markdown",
   "metadata": {
    "slideshow": {
     "slide_type": "slide"
    }
   },
   "source": [
    "### The `while` loop: An Infinite Loop\n",
    "\n",
    "-   **infinite loops** (i.e. non-terminating loops) are one way of\n",
    "    causing a process to hang forever, and they happen easily due to\n",
    "    sloppy thinking:"
   ]
  },
  {
   "cell_type": "code",
   "execution_count": 25,
   "metadata": {},
   "outputs": [
    {
     "ename": "NameError",
     "evalue": "name 'get_next_word' is not defined",
     "output_type": "error",
     "traceback": [
      "\u001b[0;31m---------------------------------------------------------------------------\u001b[0m",
      "\u001b[0;31mNameError\u001b[0m                                 Traceback (most recent call last)",
      "\u001b[0;32m/tmp/ipykernel_177145/3322580297.py\u001b[0m in \u001b[0;36m<module>\u001b[0;34m\u001b[0m\n\u001b[1;32m      1\u001b[0m \u001b[0moutput\u001b[0m \u001b[0;34m=\u001b[0m \u001b[0;34m\"\"\u001b[0m\u001b[0;34m\u001b[0m\u001b[0;34m\u001b[0m\u001b[0m\n\u001b[1;32m      2\u001b[0m \u001b[0;32mwhile\u001b[0m \u001b[0mlen\u001b[0m\u001b[0;34m(\u001b[0m\u001b[0moutput\u001b[0m\u001b[0;34m)\u001b[0m \u001b[0;34m<\u001b[0m \u001b[0;36m80\u001b[0m\u001b[0;34m:\u001b[0m\u001b[0;34m\u001b[0m\u001b[0;34m\u001b[0m\u001b[0m\n\u001b[0;32m----> 3\u001b[0;31m     \u001b[0mword\u001b[0m \u001b[0;34m=\u001b[0m \u001b[0mget_next_word\u001b[0m\u001b[0;34m(\u001b[0m\u001b[0;34m)\u001b[0m\u001b[0;34m\u001b[0m\u001b[0;34m\u001b[0m\u001b[0m\n\u001b[0m\u001b[1;32m      4\u001b[0m     \u001b[0;32mif\u001b[0m \u001b[0mword\u001b[0m \u001b[0;34m!=\u001b[0m \u001b[0;32mNone\u001b[0m\u001b[0;34m:\u001b[0m\u001b[0;34m\u001b[0m\u001b[0;34m\u001b[0m\u001b[0m\n\u001b[1;32m      5\u001b[0m         \u001b[0moutput\u001b[0m \u001b[0;34m+=\u001b[0m \u001b[0mword\u001b[0m \u001b[0;34m+\u001b[0m \u001b[0;34m\" \"\u001b[0m\u001b[0;34m\u001b[0m\u001b[0;34m\u001b[0m\u001b[0m\n",
      "\u001b[0;31mNameError\u001b[0m: name 'get_next_word' is not defined"
     ]
    }
   ],
   "source": [
    "output = \"\"\n",
    "while len(output) < 80:\n",
    "    word = get_next_word()\n",
    "    if word != None:\n",
    "        output += word + \" \"\n",
    "print(output)\n"
   ]
  },
  {
   "cell_type": "markdown",
   "metadata": {
    "slideshow": {
     "slide_type": "slide"
    }
   },
   "source": [
    "several strategies exist to avoid these:\n",
    "\n",
    "-   be very careful to cover each boundary case\n",
    "\n",
    "-   define additional exit points using `break` statements (next\n",
    "    slide)\n",
    "\n",
    "-   ensure that the test changes in each iteration (not always\n",
    "    possible)\n",
    "\n",
    "-   to avoid non-termination due to forgetting an important part of\n",
    "    the loop, use a more restricted loop construct (the `for` loop)"
   ]
  },
  {
   "cell_type": "markdown",
   "metadata": {
    "slideshow": {
     "slide_type": "slide"
    }
   },
   "source": [
    "### The `while` loop: Exiting the Loop\n",
    "\n",
    "There are two basic statements for exiting a loop:\n",
    "\n",
    "-   `break` exits the loop without completing the current iteration:"
   ]
  },
  {
   "cell_type": "code",
   "execution_count": null,
   "metadata": {},
   "outputs": [],
   "source": [
    "while len(output) < 80:\n",
    "    word = get_next_word()\n",
    "    if word != None:\n",
    "        output += word + \" \"\n",
    "    else:\n",
    "        break\n"
   ]
  },
  {
   "cell_type": "markdown",
   "metadata": {
    "slideshow": {
     "slide_type": "slide"
    }
   },
   "source": [
    "- `continue` cancels the current iteration of the loop and causes it\n",
    "to repeat from the top; this is useful to e.g. ignore comment lines:"
   ]
  },
  {
   "cell_type": "code",
   "execution_count": null,
   "metadata": {},
   "outputs": [],
   "source": [
    "while line != None:\n",
    "    if line.startswith(\"#\"):\n",
    "        continue\n",
    "    num_lines += 1\n",
    "    print(str(num_lines) + \": \" + line)\n",
    "    line = get_next_line()\n",
    "\n",
    "    "
   ]
  }
 ],
 "metadata": {
  "@webio": {
   "lastCommId": null,
   "lastKernelId": null
  },
  "celltoolbar": "Slideshow",
  "kernelspec": {
   "display_name": "Python 3 (ipykernel)",
   "language": "python",
   "name": "python3"
  },
  "language_info": {
   "codemirror_mode": {
    "name": "ipython",
    "version": 3
   },
   "file_extension": ".py",
   "mimetype": "text/x-python",
   "name": "python",
   "nbconvert_exporter": "python",
   "pygments_lexer": "ipython3",
   "version": "3.9.7"
  },
  "latex_envs": {
   "LaTeX_envs_menu_present": true,
   "autoclose": false,
   "autocomplete": true,
   "bibliofile": "biblio.bib",
   "cite_by": "apalike",
   "current_citInitial": 1,
   "eqLabelWithNumbers": true,
   "eqNumInitial": 1,
   "hotkeys": {
    "equation": "Ctrl-E",
    "itemize": "Ctrl-I"
   },
   "labels_anchors": false,
   "latex_user_defs": false,
   "report_style_numbering": false,
   "user_envs_cfg": false
  },
  "rise": {
   "enable_chalkboard": true
  }
 },
 "nbformat": 4,
 "nbformat_minor": 4
}
